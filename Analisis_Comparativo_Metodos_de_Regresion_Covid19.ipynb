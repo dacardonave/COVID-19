{
  "nbformat": 4,
  "nbformat_minor": 0,
  "metadata": {
    "colab": {
      "name": "Analisis Comparativo Metodos de Regresion - Covid19.ipynb",
      "provenance": [],
      "include_colab_link": true
    },
    "kernelspec": {
      "name": "python3",
      "display_name": "Python 3"
    }
  },
  "cells": [
    {
      "cell_type": "markdown",
      "metadata": {
        "id": "view-in-github",
        "colab_type": "text"
      },
      "source": [
        "<a href=\"https://colab.research.google.com/github/dacardonave/COVID-19/blob/master/Analisis_Comparativo_Metodos_de_Regresion_Covid19.ipynb\" target=\"_parent\"><img src=\"https://colab.research.google.com/assets/colab-badge.svg\" alt=\"Open In Colab\"/></a>"
      ]
    },
    {
      "cell_type": "markdown",
      "metadata": {
        "id": "FzAo8ekYtNk3",
        "colab_type": "text"
      },
      "source": [
        "# Analisis comparativo de los metodos de regresion \n",
        "## Analitica de datos\n",
        "#### Daniel Cardona Velasquez\n",
        "#### Universidad Nacional De Colombia\n",
        "\n"
      ]
    },
    {
      "cell_type": "markdown",
      "metadata": {
        "id": "W_epDSt3tbEe",
        "colab_type": "text"
      },
      "source": [
        "A continuacion presentaremos un analisis comparativo de algunos metodos de regresion ya implementados por algunas librerias en python para el entrenamiento de un modelo predictivo. En este caso en particualar, trabajaremos en una base de datos sobre el Covd-19, previamente filtrada y depurada para su entrenamiento y analisis en colombia."
      ]
    },
    {
      "cell_type": "code",
      "metadata": {
        "id": "NAO5lAOeODXt",
        "colab_type": "code",
        "outputId": "6c8545ef-8626-4401-ba80-1cc6991365ce",
        "colab": {
          "base_uri": "https://localhost:8080/",
          "height": 253
        }
      },
      "source": [
        "#Importando algunas librerias de tratamiento y representacion\n",
        "#Cargando el dataset sobre el que vamos a trabajar\n",
        "#!pip install wget\n",
        "#import wget\n",
        "import pandas as pd\n",
        "import numpy as np\n",
        "import matplotlib.pyplot as plt\n",
        "\n",
        "#datos covid19 - mundo\n",
        "url = \"https://data.humdata.org/hxlproxy/api/data-preview.csv?url=https%3A%2F%2Fraw.githubusercontent.com%2FCSSEGISandData%2FCOVID-19%2Fmaster%2Fcsse_covid_19_data%2Fcsse_covid_19_time_series%2Ftime_series_covid19_confirmed_global.csv&filename=time_series_covid19_confirmed_global.csv\"\n",
        "\n",
        "#datos Colombia\n",
        "#url = \"https://www.datos.gov.co/api/views/gt2j-8ykr/rows.csv?accessType=DOWNLOAD\"\n",
        "\n",
        "#wget.download(url, 'covid.csv')\n",
        "Xd = pd.read_csv(url)\n",
        "Xd.head()"
      ],
      "execution_count": 1,
      "outputs": [
        {
          "output_type": "execute_result",
          "data": {
            "text/html": [
              "<div>\n",
              "<style scoped>\n",
              "    .dataframe tbody tr th:only-of-type {\n",
              "        vertical-align: middle;\n",
              "    }\n",
              "\n",
              "    .dataframe tbody tr th {\n",
              "        vertical-align: top;\n",
              "    }\n",
              "\n",
              "    .dataframe thead th {\n",
              "        text-align: right;\n",
              "    }\n",
              "</style>\n",
              "<table border=\"1\" class=\"dataframe\">\n",
              "  <thead>\n",
              "    <tr style=\"text-align: right;\">\n",
              "      <th></th>\n",
              "      <th>Province/State</th>\n",
              "      <th>Country/Region</th>\n",
              "      <th>Lat</th>\n",
              "      <th>Long</th>\n",
              "      <th>1/22/20</th>\n",
              "      <th>1/23/20</th>\n",
              "      <th>1/24/20</th>\n",
              "      <th>1/25/20</th>\n",
              "      <th>1/26/20</th>\n",
              "      <th>1/27/20</th>\n",
              "      <th>1/28/20</th>\n",
              "      <th>1/29/20</th>\n",
              "      <th>1/30/20</th>\n",
              "      <th>1/31/20</th>\n",
              "      <th>2/1/20</th>\n",
              "      <th>2/2/20</th>\n",
              "      <th>2/3/20</th>\n",
              "      <th>2/4/20</th>\n",
              "      <th>2/5/20</th>\n",
              "      <th>2/6/20</th>\n",
              "      <th>2/7/20</th>\n",
              "      <th>2/8/20</th>\n",
              "      <th>2/9/20</th>\n",
              "      <th>2/10/20</th>\n",
              "      <th>2/11/20</th>\n",
              "      <th>2/12/20</th>\n",
              "      <th>2/13/20</th>\n",
              "      <th>2/14/20</th>\n",
              "      <th>2/15/20</th>\n",
              "      <th>2/16/20</th>\n",
              "      <th>2/17/20</th>\n",
              "      <th>2/18/20</th>\n",
              "      <th>2/19/20</th>\n",
              "      <th>2/20/20</th>\n",
              "      <th>2/21/20</th>\n",
              "      <th>2/22/20</th>\n",
              "      <th>2/23/20</th>\n",
              "      <th>2/24/20</th>\n",
              "      <th>2/25/20</th>\n",
              "      <th>2/26/20</th>\n",
              "      <th>...</th>\n",
              "      <th>3/19/20</th>\n",
              "      <th>3/20/20</th>\n",
              "      <th>3/21/20</th>\n",
              "      <th>3/22/20</th>\n",
              "      <th>3/23/20</th>\n",
              "      <th>3/24/20</th>\n",
              "      <th>3/25/20</th>\n",
              "      <th>3/26/20</th>\n",
              "      <th>3/27/20</th>\n",
              "      <th>3/28/20</th>\n",
              "      <th>3/29/20</th>\n",
              "      <th>3/30/20</th>\n",
              "      <th>3/31/20</th>\n",
              "      <th>4/1/20</th>\n",
              "      <th>4/2/20</th>\n",
              "      <th>4/3/20</th>\n",
              "      <th>4/4/20</th>\n",
              "      <th>4/5/20</th>\n",
              "      <th>4/6/20</th>\n",
              "      <th>4/7/20</th>\n",
              "      <th>4/8/20</th>\n",
              "      <th>4/9/20</th>\n",
              "      <th>4/10/20</th>\n",
              "      <th>4/11/20</th>\n",
              "      <th>4/12/20</th>\n",
              "      <th>4/13/20</th>\n",
              "      <th>4/14/20</th>\n",
              "      <th>4/15/20</th>\n",
              "      <th>4/16/20</th>\n",
              "      <th>4/17/20</th>\n",
              "      <th>4/18/20</th>\n",
              "      <th>4/19/20</th>\n",
              "      <th>4/20/20</th>\n",
              "      <th>4/21/20</th>\n",
              "      <th>4/22/20</th>\n",
              "      <th>4/23/20</th>\n",
              "      <th>4/24/20</th>\n",
              "      <th>4/25/20</th>\n",
              "      <th>4/26/20</th>\n",
              "      <th>4/27/20</th>\n",
              "    </tr>\n",
              "  </thead>\n",
              "  <tbody>\n",
              "    <tr>\n",
              "      <th>0</th>\n",
              "      <td>NaN</td>\n",
              "      <td>Afghanistan</td>\n",
              "      <td>33.0000</td>\n",
              "      <td>65.0000</td>\n",
              "      <td>0</td>\n",
              "      <td>0</td>\n",
              "      <td>0</td>\n",
              "      <td>0</td>\n",
              "      <td>0</td>\n",
              "      <td>0</td>\n",
              "      <td>0</td>\n",
              "      <td>0</td>\n",
              "      <td>0</td>\n",
              "      <td>0</td>\n",
              "      <td>0</td>\n",
              "      <td>0</td>\n",
              "      <td>0</td>\n",
              "      <td>0</td>\n",
              "      <td>0</td>\n",
              "      <td>0</td>\n",
              "      <td>0</td>\n",
              "      <td>0</td>\n",
              "      <td>0</td>\n",
              "      <td>0</td>\n",
              "      <td>0</td>\n",
              "      <td>0</td>\n",
              "      <td>0</td>\n",
              "      <td>0</td>\n",
              "      <td>0</td>\n",
              "      <td>0</td>\n",
              "      <td>0</td>\n",
              "      <td>0</td>\n",
              "      <td>0</td>\n",
              "      <td>0</td>\n",
              "      <td>0</td>\n",
              "      <td>0</td>\n",
              "      <td>0</td>\n",
              "      <td>1</td>\n",
              "      <td>1</td>\n",
              "      <td>1</td>\n",
              "      <td>...</td>\n",
              "      <td>22</td>\n",
              "      <td>24</td>\n",
              "      <td>24</td>\n",
              "      <td>40</td>\n",
              "      <td>40</td>\n",
              "      <td>74</td>\n",
              "      <td>84</td>\n",
              "      <td>94</td>\n",
              "      <td>110</td>\n",
              "      <td>110</td>\n",
              "      <td>120</td>\n",
              "      <td>170</td>\n",
              "      <td>174</td>\n",
              "      <td>237</td>\n",
              "      <td>273</td>\n",
              "      <td>281</td>\n",
              "      <td>299</td>\n",
              "      <td>349</td>\n",
              "      <td>367</td>\n",
              "      <td>423</td>\n",
              "      <td>444</td>\n",
              "      <td>484</td>\n",
              "      <td>521</td>\n",
              "      <td>555</td>\n",
              "      <td>607</td>\n",
              "      <td>665</td>\n",
              "      <td>714</td>\n",
              "      <td>784</td>\n",
              "      <td>840</td>\n",
              "      <td>906</td>\n",
              "      <td>933</td>\n",
              "      <td>996</td>\n",
              "      <td>1026</td>\n",
              "      <td>1092</td>\n",
              "      <td>1176</td>\n",
              "      <td>1279</td>\n",
              "      <td>1351</td>\n",
              "      <td>1463</td>\n",
              "      <td>1531</td>\n",
              "      <td>1703</td>\n",
              "    </tr>\n",
              "    <tr>\n",
              "      <th>1</th>\n",
              "      <td>NaN</td>\n",
              "      <td>Albania</td>\n",
              "      <td>41.1533</td>\n",
              "      <td>20.1683</td>\n",
              "      <td>0</td>\n",
              "      <td>0</td>\n",
              "      <td>0</td>\n",
              "      <td>0</td>\n",
              "      <td>0</td>\n",
              "      <td>0</td>\n",
              "      <td>0</td>\n",
              "      <td>0</td>\n",
              "      <td>0</td>\n",
              "      <td>0</td>\n",
              "      <td>0</td>\n",
              "      <td>0</td>\n",
              "      <td>0</td>\n",
              "      <td>0</td>\n",
              "      <td>0</td>\n",
              "      <td>0</td>\n",
              "      <td>0</td>\n",
              "      <td>0</td>\n",
              "      <td>0</td>\n",
              "      <td>0</td>\n",
              "      <td>0</td>\n",
              "      <td>0</td>\n",
              "      <td>0</td>\n",
              "      <td>0</td>\n",
              "      <td>0</td>\n",
              "      <td>0</td>\n",
              "      <td>0</td>\n",
              "      <td>0</td>\n",
              "      <td>0</td>\n",
              "      <td>0</td>\n",
              "      <td>0</td>\n",
              "      <td>0</td>\n",
              "      <td>0</td>\n",
              "      <td>0</td>\n",
              "      <td>0</td>\n",
              "      <td>0</td>\n",
              "      <td>...</td>\n",
              "      <td>64</td>\n",
              "      <td>70</td>\n",
              "      <td>76</td>\n",
              "      <td>89</td>\n",
              "      <td>104</td>\n",
              "      <td>123</td>\n",
              "      <td>146</td>\n",
              "      <td>174</td>\n",
              "      <td>186</td>\n",
              "      <td>197</td>\n",
              "      <td>212</td>\n",
              "      <td>223</td>\n",
              "      <td>243</td>\n",
              "      <td>259</td>\n",
              "      <td>277</td>\n",
              "      <td>304</td>\n",
              "      <td>333</td>\n",
              "      <td>361</td>\n",
              "      <td>377</td>\n",
              "      <td>383</td>\n",
              "      <td>400</td>\n",
              "      <td>409</td>\n",
              "      <td>416</td>\n",
              "      <td>433</td>\n",
              "      <td>446</td>\n",
              "      <td>467</td>\n",
              "      <td>475</td>\n",
              "      <td>494</td>\n",
              "      <td>518</td>\n",
              "      <td>539</td>\n",
              "      <td>548</td>\n",
              "      <td>562</td>\n",
              "      <td>584</td>\n",
              "      <td>609</td>\n",
              "      <td>634</td>\n",
              "      <td>663</td>\n",
              "      <td>678</td>\n",
              "      <td>712</td>\n",
              "      <td>726</td>\n",
              "      <td>736</td>\n",
              "    </tr>\n",
              "    <tr>\n",
              "      <th>2</th>\n",
              "      <td>NaN</td>\n",
              "      <td>Algeria</td>\n",
              "      <td>28.0339</td>\n",
              "      <td>1.6596</td>\n",
              "      <td>0</td>\n",
              "      <td>0</td>\n",
              "      <td>0</td>\n",
              "      <td>0</td>\n",
              "      <td>0</td>\n",
              "      <td>0</td>\n",
              "      <td>0</td>\n",
              "      <td>0</td>\n",
              "      <td>0</td>\n",
              "      <td>0</td>\n",
              "      <td>0</td>\n",
              "      <td>0</td>\n",
              "      <td>0</td>\n",
              "      <td>0</td>\n",
              "      <td>0</td>\n",
              "      <td>0</td>\n",
              "      <td>0</td>\n",
              "      <td>0</td>\n",
              "      <td>0</td>\n",
              "      <td>0</td>\n",
              "      <td>0</td>\n",
              "      <td>0</td>\n",
              "      <td>0</td>\n",
              "      <td>0</td>\n",
              "      <td>0</td>\n",
              "      <td>0</td>\n",
              "      <td>0</td>\n",
              "      <td>0</td>\n",
              "      <td>0</td>\n",
              "      <td>0</td>\n",
              "      <td>0</td>\n",
              "      <td>0</td>\n",
              "      <td>0</td>\n",
              "      <td>0</td>\n",
              "      <td>1</td>\n",
              "      <td>1</td>\n",
              "      <td>...</td>\n",
              "      <td>87</td>\n",
              "      <td>90</td>\n",
              "      <td>139</td>\n",
              "      <td>201</td>\n",
              "      <td>230</td>\n",
              "      <td>264</td>\n",
              "      <td>302</td>\n",
              "      <td>367</td>\n",
              "      <td>409</td>\n",
              "      <td>454</td>\n",
              "      <td>511</td>\n",
              "      <td>584</td>\n",
              "      <td>716</td>\n",
              "      <td>847</td>\n",
              "      <td>986</td>\n",
              "      <td>1171</td>\n",
              "      <td>1251</td>\n",
              "      <td>1320</td>\n",
              "      <td>1423</td>\n",
              "      <td>1468</td>\n",
              "      <td>1572</td>\n",
              "      <td>1666</td>\n",
              "      <td>1761</td>\n",
              "      <td>1825</td>\n",
              "      <td>1914</td>\n",
              "      <td>1983</td>\n",
              "      <td>2070</td>\n",
              "      <td>2160</td>\n",
              "      <td>2268</td>\n",
              "      <td>2418</td>\n",
              "      <td>2534</td>\n",
              "      <td>2629</td>\n",
              "      <td>2718</td>\n",
              "      <td>2811</td>\n",
              "      <td>2910</td>\n",
              "      <td>3007</td>\n",
              "      <td>3127</td>\n",
              "      <td>3256</td>\n",
              "      <td>3382</td>\n",
              "      <td>3517</td>\n",
              "    </tr>\n",
              "    <tr>\n",
              "      <th>3</th>\n",
              "      <td>NaN</td>\n",
              "      <td>Andorra</td>\n",
              "      <td>42.5063</td>\n",
              "      <td>1.5218</td>\n",
              "      <td>0</td>\n",
              "      <td>0</td>\n",
              "      <td>0</td>\n",
              "      <td>0</td>\n",
              "      <td>0</td>\n",
              "      <td>0</td>\n",
              "      <td>0</td>\n",
              "      <td>0</td>\n",
              "      <td>0</td>\n",
              "      <td>0</td>\n",
              "      <td>0</td>\n",
              "      <td>0</td>\n",
              "      <td>0</td>\n",
              "      <td>0</td>\n",
              "      <td>0</td>\n",
              "      <td>0</td>\n",
              "      <td>0</td>\n",
              "      <td>0</td>\n",
              "      <td>0</td>\n",
              "      <td>0</td>\n",
              "      <td>0</td>\n",
              "      <td>0</td>\n",
              "      <td>0</td>\n",
              "      <td>0</td>\n",
              "      <td>0</td>\n",
              "      <td>0</td>\n",
              "      <td>0</td>\n",
              "      <td>0</td>\n",
              "      <td>0</td>\n",
              "      <td>0</td>\n",
              "      <td>0</td>\n",
              "      <td>0</td>\n",
              "      <td>0</td>\n",
              "      <td>0</td>\n",
              "      <td>0</td>\n",
              "      <td>0</td>\n",
              "      <td>...</td>\n",
              "      <td>53</td>\n",
              "      <td>75</td>\n",
              "      <td>88</td>\n",
              "      <td>113</td>\n",
              "      <td>133</td>\n",
              "      <td>164</td>\n",
              "      <td>188</td>\n",
              "      <td>224</td>\n",
              "      <td>267</td>\n",
              "      <td>308</td>\n",
              "      <td>334</td>\n",
              "      <td>370</td>\n",
              "      <td>376</td>\n",
              "      <td>390</td>\n",
              "      <td>428</td>\n",
              "      <td>439</td>\n",
              "      <td>466</td>\n",
              "      <td>501</td>\n",
              "      <td>525</td>\n",
              "      <td>545</td>\n",
              "      <td>564</td>\n",
              "      <td>583</td>\n",
              "      <td>601</td>\n",
              "      <td>601</td>\n",
              "      <td>638</td>\n",
              "      <td>646</td>\n",
              "      <td>659</td>\n",
              "      <td>673</td>\n",
              "      <td>673</td>\n",
              "      <td>696</td>\n",
              "      <td>704</td>\n",
              "      <td>713</td>\n",
              "      <td>717</td>\n",
              "      <td>717</td>\n",
              "      <td>723</td>\n",
              "      <td>723</td>\n",
              "      <td>731</td>\n",
              "      <td>738</td>\n",
              "      <td>738</td>\n",
              "      <td>743</td>\n",
              "    </tr>\n",
              "    <tr>\n",
              "      <th>4</th>\n",
              "      <td>NaN</td>\n",
              "      <td>Angola</td>\n",
              "      <td>-11.2027</td>\n",
              "      <td>17.8739</td>\n",
              "      <td>0</td>\n",
              "      <td>0</td>\n",
              "      <td>0</td>\n",
              "      <td>0</td>\n",
              "      <td>0</td>\n",
              "      <td>0</td>\n",
              "      <td>0</td>\n",
              "      <td>0</td>\n",
              "      <td>0</td>\n",
              "      <td>0</td>\n",
              "      <td>0</td>\n",
              "      <td>0</td>\n",
              "      <td>0</td>\n",
              "      <td>0</td>\n",
              "      <td>0</td>\n",
              "      <td>0</td>\n",
              "      <td>0</td>\n",
              "      <td>0</td>\n",
              "      <td>0</td>\n",
              "      <td>0</td>\n",
              "      <td>0</td>\n",
              "      <td>0</td>\n",
              "      <td>0</td>\n",
              "      <td>0</td>\n",
              "      <td>0</td>\n",
              "      <td>0</td>\n",
              "      <td>0</td>\n",
              "      <td>0</td>\n",
              "      <td>0</td>\n",
              "      <td>0</td>\n",
              "      <td>0</td>\n",
              "      <td>0</td>\n",
              "      <td>0</td>\n",
              "      <td>0</td>\n",
              "      <td>0</td>\n",
              "      <td>0</td>\n",
              "      <td>...</td>\n",
              "      <td>0</td>\n",
              "      <td>1</td>\n",
              "      <td>2</td>\n",
              "      <td>2</td>\n",
              "      <td>3</td>\n",
              "      <td>3</td>\n",
              "      <td>3</td>\n",
              "      <td>4</td>\n",
              "      <td>4</td>\n",
              "      <td>5</td>\n",
              "      <td>7</td>\n",
              "      <td>7</td>\n",
              "      <td>7</td>\n",
              "      <td>8</td>\n",
              "      <td>8</td>\n",
              "      <td>8</td>\n",
              "      <td>10</td>\n",
              "      <td>14</td>\n",
              "      <td>16</td>\n",
              "      <td>17</td>\n",
              "      <td>19</td>\n",
              "      <td>19</td>\n",
              "      <td>19</td>\n",
              "      <td>19</td>\n",
              "      <td>19</td>\n",
              "      <td>19</td>\n",
              "      <td>19</td>\n",
              "      <td>19</td>\n",
              "      <td>19</td>\n",
              "      <td>19</td>\n",
              "      <td>24</td>\n",
              "      <td>24</td>\n",
              "      <td>24</td>\n",
              "      <td>24</td>\n",
              "      <td>25</td>\n",
              "      <td>25</td>\n",
              "      <td>25</td>\n",
              "      <td>25</td>\n",
              "      <td>26</td>\n",
              "      <td>27</td>\n",
              "    </tr>\n",
              "  </tbody>\n",
              "</table>\n",
              "<p>5 rows × 101 columns</p>\n",
              "</div>"
            ],
            "text/plain": [
              "  Province/State Country/Region      Lat  ...  4/25/20  4/26/20  4/27/20\n",
              "0            NaN    Afghanistan  33.0000  ...     1463     1531     1703\n",
              "1            NaN        Albania  41.1533  ...      712      726      736\n",
              "2            NaN        Algeria  28.0339  ...     3256     3382     3517\n",
              "3            NaN        Andorra  42.5063  ...      738      738      743\n",
              "4            NaN         Angola -11.2027  ...       25       26       27\n",
              "\n",
              "[5 rows x 101 columns]"
            ]
          },
          "metadata": {
            "tags": []
          },
          "execution_count": 1
        }
      ]
    },
    {
      "cell_type": "code",
      "metadata": {
        "id": "6x7-Il4AN43_",
        "colab_type": "code",
        "outputId": "0f955153-9e89-40eb-e2ba-e82a621066f4",
        "colab": {
          "base_uri": "https://localhost:8080/",
          "height": 282
        }
      },
      "source": [
        "#Distribucion de los datos\n",
        "plt.scatter(Xd['Lat'],Xd['Long'])"
      ],
      "execution_count": 2,
      "outputs": [
        {
          "output_type": "execute_result",
          "data": {
            "text/plain": [
              "<matplotlib.collections.PathCollection at 0x7f1cd0df6f98>"
            ]
          },
          "metadata": {
            "tags": []
          },
          "execution_count": 2
        },
        {
          "output_type": "display_data",
          "data": {
            "image/png": "[encoded data removed]",
            "text/plain": [
              "<Figure size 432x288 with 1 Axes>"
            ]
          },
          "metadata": {
            "tags": [],
            "needs_background": "light"
          }
        }
      ]
    },
    {
      "cell_type": "code",
      "metadata": {
        "id": "FIHfwh9EZHHc",
        "colab_type": "code",
        "outputId": "a22909c5-5733-4667-a096-0d9011bfe01e",
        "colab": {
          "base_uri": "https://localhost:8080/",
          "height": 573
        }
      },
      "source": [
        "#funcion ventaneo --> esta funcion crea una ventana de w dias\n",
        "def covid_win(serie,w=5):\n",
        "    pi =0\n",
        "    pf = w\n",
        "    X = serie[pi:pf].reshape(1,-1)\n",
        "    y = serie[pf+1].reshape(1,-1)\n",
        "    pi += 1\n",
        "    pf+= 1\n",
        "    while pf+1 < serie.shape[0]:\n",
        "      X = np.append(X,serie[pi:pf].reshape(1,-1),axis=0)\n",
        "      y = np.append(y,serie[pf+1].reshape(1,-1),axis=0)\n",
        "      pi += 1\n",
        "      pf+=1\n",
        "    return X, y # X \\in Real^{N x P = w}, y \\in Real^N\n",
        "\n",
        "\n",
        "ii = Xd[Xd.columns[1]] == 'Colombia'\n",
        "#print(np.where(ii)[0][0])\n",
        "#contagios  acumulados\n",
        "serie = np.array(Xd.iloc[np.where(ii)[0][0],4:])\n",
        "#numero contagiados por dia\n",
        "serie_d = np.append(0,np.diff(serie))\n",
        "#serie_d = np.append(0,np.cumsum(np.diff(serie)))\n",
        "X,y = covid_win(serie,w=5)\n",
        "X_d,y_d = covid_win(serie_d,w=5)\n",
        "\n",
        "plt.plot(serie,'r')\n",
        "plt.plot(y,'b')\n",
        "plt.xlabel(\"Numero de dias\")\n",
        "plt.ylabel(\"Numero de contagiados totales\")\n",
        "plt.title(\"Contagiados totales VS Dias en Colombia\")\n",
        "plt.grid()\n",
        "plt.show()\n",
        "plt.plot(y_d,'g')\n",
        "plt.title(\"Contagiados nuevos por dia\")\n",
        "plt.xlabel(\"Numero de dias\")\n",
        "plt.ylabel(\"Numero de contagiados NUEVOS\")\n",
        "plt.grid()\n",
        "\n"
      ],
      "execution_count": 3,
      "outputs": [
        {
          "output_type": "display_data",
          "data": {
            "image/png": "[encoded data removed]",
            "text/plain": [
              "<Figure size 432x288 with 1 Axes>"
            ]
          },
          "metadata": {
            "tags": [],
            "needs_background": "light"
          }
        },
        {
          "output_type": "display_data",
          "data": {
            "image/png": "[encoded data removed]",
            "text/plain": [
              "<Figure size 432x288 with 1 Axes>"
            ]
          },
          "metadata": {
            "tags": [],
            "needs_background": "light"
          }
        }
      ]
    },
    {
      "cell_type": "markdown",
      "metadata": {
        "id": "iYcWRp6dpg7h",
        "colab_type": "text"
      },
      "source": [
        "A continuacion haremos todo el proceso de entrenamiento y validacion de 5 regresores para determinar cual de ellos sigue de forma mas apropiada los datos (Linea azul y roja de los graficos anteriores)"
      ]
    },
    {
      "cell_type": "markdown",
      "metadata": {
        "id": "P6_6kNRubj0z",
        "colab_type": "text"
      },
      "source": [
        "# Entrenamiento de regresor para covid 19 - Colombia\n",
        "# Análisis exploratorio - visualización en 2D PCA\n",
        "# Validación cruzada y anidada (pocos datos)"
      ]
    },
    {
      "cell_type": "code",
      "metadata": {
        "id": "5pO4PAqKQMYX",
        "colab_type": "code",
        "outputId": "19d4a813-9a7a-4350-9731-e61afdcd8fdc",
        "colab": {
          "base_uri": "https://localhost:8080/",
          "height": 515
        }
      },
      "source": [
        "from sklearn.decomposition import PCA\n",
        "from sklearn.manifold import TSNE\n",
        "\n",
        "red = PCA(n_components = 3)\n",
        "red_d = PCA(n_components = 3)\n",
        "\n",
        "z = red.fit_transform(X)\n",
        "z_d = red.fit_transform(X_d)\n",
        "\n",
        "plt.scatter(z[:,0],z[:,1],c=y)\n",
        "plt.colorbar()\n",
        "plt.show()\n",
        "\n",
        "\n",
        "plt.scatter(z_d[:,0],z_d[:,1],c=y_d)\n",
        "plt.colorbar()\n",
        "plt.show()\n"
      ],
      "execution_count": 4,
      "outputs": [
        {
          "output_type": "display_data",
          "data": {
            "image/png": "[encoded data removed]",
            "text/plain": [
              "<Figure size 432x288 with 2 Axes>"
            ]
          },
          "metadata": {
            "tags": [],
            "needs_background": "light"
          }
        },
        {
          "output_type": "display_data",
          "data": {
            "image/png": "[encoded data removed]",
            "text/plain": [
              "<Figure size 432x288 with 2 Axes>"
            ]
          },
          "metadata": {
            "tags": [],
            "needs_background": "light"
          }
        }
      ]
    },
    {
      "cell_type": "markdown",
      "metadata": {
        "id": "PGlOw024drKB",
        "colab_type": "text"
      },
      "source": [
        "$$w^* = (\\Phi^\\top \\Phi + \\lambda I)^{-1}\\Phi^\\top y $$\n",
        "\n",
        "$$y_n = \\phi_n w^*$$\n",
        "\n",
        "\n",
        "$\\lambda$: hyperparameter\n",
        "\n",
        "$\\Phi(x)=\\mathcal{N}(x|\\mu,\\sigma^2)$\n",
        "\n",
        "$\\mu,\\sigma$ hyperparameters\n",
        "\n",
        "$w$: model's parameter"
      ]
    },
    {
      "cell_type": "code",
      "metadata": {
        "id": "1TDx1UvzHNdZ",
        "colab_type": "code",
        "outputId": "ebc42bdf-8dc0-4174-bc8f-a3325969b236",
        "colab": {
          "base_uri": "https://localhost:8080/",
          "height": 51
        }
      },
      "source": [
        "from sklearn.model_selection import train_test_split,GridSearchCV,cross_val_score, cross_val_predict\n",
        "#pocos datos y mucha incertidumbre, validación cruzada anidada\n",
        "\n",
        "X_train, X_test, y_train, y_test = train_test_split(X,y,test_size=0.3)\n",
        "print(X_train.shape)\n",
        "print(X_test.shape)"
      ],
      "execution_count": 5,
      "outputs": [
        {
          "output_type": "stream",
          "text": [
            "(63, 5)\n",
            "(28, 5)\n"
          ],
          "name": "stdout"
        }
      ]
    },
    {
      "cell_type": "code",
      "metadata": {
        "id": "hju4GbeHmeT7",
        "colab_type": "code",
        "colab": {}
      },
      "source": [
        "from sklearn.kernel_ridge import KernelRidge\n",
        "from sklearn.pipeline import Pipeline\n",
        "from sklearn.discriminant_analysis import LinearDiscriminantAnalysis\n",
        "from sklearn.model_selection import ShuffleSplit, cross_val_score\n",
        "from sklearn.model_selection import train_test_split,GridSearchCV,cross_val_score, cross_val_predict\n",
        "from sklearn.metrics import confusion_matrix, accuracy_score, classification_report, f1_score\n",
        "from joblib import dump, load\n",
        "from sklearn.svm import LinearSVC, SVC\n",
        "from sklearn.neighbors import KNeighborsClassifier\n",
        "from sklearn.naive_bayes import GaussianNB\n",
        "from sklearn.tree import DecisionTreeClassifier\n",
        "from sklearn.preprocessing import StandardScaler\n",
        "from sklearn.decomposition import PCA\n",
        "from sklearn.metrics import mean_squared_error as mse\n",
        "from sklearn.metrics import mean_absolute_error as mae\n",
        "from sklearn.linear_model import LinearRegression\n",
        "from sklearn.linear_model import Ridge\n",
        "from sklearn.linear_model import Lasso\n",
        "from sklearn.linear_model import ElasticNet\n",
        "\n",
        "steps = [\n",
        "         [('scaler', StandardScaler()), #estandarizar cada atriuto columna de xtrain centrada en 0 y var = 1\n",
        "          ('rep', PCA()),\n",
        "          ('reg', LinearRegression())],\n",
        "         \n",
        "         [('scaler', StandardScaler()), #estandarizar cada atriuto columna de xtrain centrada en 0 y var = 1\n",
        "          ('rep', PCA()),\n",
        "          ('reg', Ridge())],\n",
        "         \n",
        "         [('scaler', StandardScaler()), #estandarizar cada atriuto columna de xtrain centrada en 0 y var = 1\n",
        "          ('rep', PCA()),\n",
        "          ('reg', Lasso())],\n",
        "         \n",
        "         [('scaler', StandardScaler()), #estandarizar cada atriuto columna de xtrain centrada en 0 y var = 1\n",
        "          ('rep', PCA()),\n",
        "          ('reg', ElasticNet())], \n",
        "         \n",
        "         [('scaler', StandardScaler()), #estandarizar cada atriuto columna de xtrain centrada en 0 y var = 1\n",
        "          ('rep', PCA()),\n",
        "          ('reg', KernelRidge(kernel = 'rbf'))], #clasificador \n",
        "         \n",
        "         ]        \n",
        "\n",
        "\n",
        "#parametros a buscar por busqueda por grilla\n",
        "parameters =[\n",
        "             {'reg__fit_intercept':[0.5,1,1.5,2,2.5,3],\n",
        "              'rep__n_components':[0.5,0.75,0.9,1,2,3]\n",
        "             },\n",
        "\n",
        "             {'reg__alpha':[1e-3,1e-2,1e-1,1,10,100],\n",
        "              'reg__fit_intercept':[0.5,1,1.5,2,2.5,3],\n",
        "              'rep__n_components':[0.5,0.75,0.9,1,2,3]\n",
        "             },\n",
        "\n",
        "              {'reg__alpha':[1e-3,1e-2,1e-1,1,10,100],\n",
        "              'rep__n_components':[0.5,0.75,0.9,1,2,3]\n",
        "             },\n",
        "\n",
        "             {'reg__alpha':[1e-3,1e-2,1e-1,1,10,100],\n",
        "              'reg__l1_ratio':[5e-3,5e-2,5e-1,5,10,100],\n",
        "              'rep__n_components':[0.5,0.75,0.9,1,2,3]\n",
        "             },\n",
        "\n",
        "             {'reg__gamma':[1e-3,1e-2,1e-1,1,10,100],\n",
        "             'reg__alpha':[1e-3,1e-2,1e-1,1,10,100],\n",
        "              'rep__n_components':[0.5,0.75,0.9,1,2,3]\n",
        "             },\n",
        "              ]\n",
        "\n",
        "label_model = ['NorSC-PCA-LM', 'NorSC-PCA-LMRidge', 'NoSC-PCA-LMLasso', 'NorSC-PCA-LMEN', 'NorSC-PCA-KRRBF']\n"
      ],
      "execution_count": 0,
      "outputs": []
    },
    {
      "cell_type": "code",
      "metadata": {
        "id": "09LUnF76iVBu",
        "colab_type": "code",
        "outputId": "a96cbcc5-7a1a-419e-f628-4abdaa88d153",
        "colab": {
          "base_uri": "https://localhost:8080/",
          "height": 1000
        }
      },
      "source": [
        "#valildacion cruzada anidada\n",
        "Niter = 10 #numero particiones outter loop nested cross-validation\n",
        "maev =np.zeros((Niter,len(steps)))#arreglo para guardar acierto\n",
        "best_estimators = []#mejor metodo por iteracion\n",
        "###clave del funcionamiento\n",
        "best_hyperpar = []#mejor metodo por iteracion \n",
        "#############################\n",
        "          \n",
        "\n",
        "for j in range(Niter): #outter loop\n",
        "      print('it %d/%d'%(j+1,Niter))\n",
        "      #particiono datos outter loop\n",
        "      X_train, X_test, y_train, y_test = train_test_split(X,y,test_size=0.3) # xtrain 60, xtest 26\n",
        "      for r in range(len(steps)): #recorro todos los posibles modelos a probar en iteracion j del outter loop\n",
        "          grid_search = GridSearchCV(Pipeline(steps[r]), parameters[r],cv=5,verbose=10,scoring='neg_mean_absolute_error',n_jobs=5) #cv inner loop\n",
        "          #xtrain gridsearchcv xtrain split en 12 / cv, 60/5 = 12, xtrain 48 datos validar 12\n",
        "          # cv = N -> leave one out N <30\n",
        "          #generar mejor modelo\n",
        "          grid_search.fit(X_train,y_train)\n",
        "          #estimar salida conjunto de test\n",
        "          y_pred = grid_search.best_estimator_.predict(X_test)\n",
        "          #guardar mejor modelo\n",
        "          best_estimators.append(grid_search.best_estimator_)\n",
        "          best_hyperpar.append(grid_search.best_params_)\n",
        "          \n",
        "          #guardar acierto\n",
        "          maev[j,r] = mae(y_test,y_pred)\n",
        "          print('it %d/%d-Modelo %d/%d'%(j+1,Niter,r,len(steps)))\n",
        "          print(best_hyperpar)\n",
        "          print('mae:',maev[j,r])\n",
        "\n",
        "          savedata = {\n",
        "              'acc':maev,\n",
        "              'best_models':best_estimators,\n",
        "              'best_hyperpar':best_hyperpar,\n",
        "                } \n",
        "          dump(savedata,'covid19_1.joblib')\n",
        "\n",
        "print(\"\\nMejor Modelo:\\n\")\n",
        "print(grid_search.best_estimator_)\n",
        "\n",
        "print(\"\\nMejores parámetros:\\n\")\n",
        "print(grid_search.best_params_)"
      ],
      "execution_count": 7,
      "outputs": [
        {
          "output_type": "stream",
          "text": [
            "it 1/10\n",
            "Fitting 5 folds for each of 36 candidates, totalling 180 fits\n"
          ],
          "name": "stdout"
        },
        {
          "output_type": "stream",
          "text": [
            "[Parallel(n_jobs=5)]: Using backend LokyBackend with 5 concurrent workers.\n",
            "[Parallel(n_jobs=5)]: Done   3 tasks      | elapsed:    2.2s\n",
            "[Parallel(n_jobs=5)]: Done   8 tasks      | elapsed:    2.2s\n",
            "[Parallel(n_jobs=5)]: Done  15 tasks      | elapsed:    2.2s\n",
            "[Parallel(n_jobs=5)]: Done  22 tasks      | elapsed:    2.3s\n",
            "[Parallel(n_jobs=5)]: Batch computation too fast (0.1746s.) Setting batch_size=2.\n",
            "[Parallel(n_jobs=5)]: Done  31 tasks      | elapsed:    2.3s\n",
            "[Parallel(n_jobs=5)]: Batch computation too fast (0.0316s.) Setting batch_size=4.\n",
            "[Parallel(n_jobs=5)]: Done  45 tasks      | elapsed:    2.4s\n",
            "[Parallel(n_jobs=5)]: Batch computation too fast (0.0648s.) Setting batch_size=8.\n",
            "[Parallel(n_jobs=5)]: Done  79 tasks      | elapsed:    2.5s\n",
            "[Parallel(n_jobs=5)]: Batch computation too fast (0.0951s.) Setting batch_size=16.\n",
            "[Parallel(n_jobs=5)]: Done 171 out of 180 | elapsed:    2.7s remaining:    0.1s\n",
            "[Parallel(n_jobs=5)]: Done 180 out of 180 | elapsed:    2.7s finished\n",
            "[Parallel(n_jobs=5)]: Using backend LokyBackend with 5 concurrent workers.\n",
            "[Parallel(n_jobs=5)]: Batch computation too fast (0.0096s.) Setting batch_size=2.\n",
            "[Parallel(n_jobs=5)]: Done   3 tasks      | elapsed:    0.0s\n",
            "[Parallel(n_jobs=5)]: Done   8 tasks      | elapsed:    0.0s\n",
            "[Parallel(n_jobs=5)]: Batch computation too fast (0.0385s.) Setting batch_size=4.\n",
            "[Parallel(n_jobs=5)]: Done  20 tasks      | elapsed:    0.1s\n",
            "[Parallel(n_jobs=5)]: Batch computation too fast (0.0741s.) Setting batch_size=8.\n"
          ],
          "name": "stderr"
        },
        {
          "output_type": "stream",
          "text": [
            "it 1/10-Modelo 0/5\n",
            "[{'reg__fit_intercept': 0.5, 'rep__n_components': 3}]\n",
            "mae: 43.22454649187278\n",
            "Fitting 5 folds for each of 216 candidates, totalling 1080 fits\n"
          ],
          "name": "stdout"
        },
        {
          "output_type": "stream",
          "text": [
            "[Parallel(n_jobs=5)]: Done  38 tasks      | elapsed:    0.2s\n",
            "[Parallel(n_jobs=5)]: Done  78 tasks      | elapsed:    0.3s\n",
            "[Parallel(n_jobs=5)]: Batch computation too fast (0.1254s.) Setting batch_size=16.\n",
            "[Parallel(n_jobs=5)]: Done 150 tasks      | elapsed:    0.7s\n",
            "[Parallel(n_jobs=5)]: Batch computation too fast (0.1997s.) Setting batch_size=32.\n",
            "[Parallel(n_jobs=5)]: Done 342 tasks      | elapsed:    1.4s\n",
            "[Parallel(n_jobs=5)]: Done 694 tasks      | elapsed:    2.6s\n",
            "[Parallel(n_jobs=5)]: Done 870 tasks      | elapsed:    2.7s\n",
            "[Parallel(n_jobs=5)]: Done 956 tasks      | elapsed:    2.8s\n",
            "[Parallel(n_jobs=5)]: Done 986 tasks      | elapsed:    2.9s\n",
            "[Parallel(n_jobs=5)]: Done 1046 tasks      | elapsed:    3.0s\n",
            "[Parallel(n_jobs=5)]: Done 1080 out of 1080 | elapsed:    3.1s finished\n",
            "[Parallel(n_jobs=5)]: Using backend LokyBackend with 5 concurrent workers.\n",
            "[Parallel(n_jobs=5)]: Batch computation too fast (0.0113s.) Setting batch_size=2.\n",
            "[Parallel(n_jobs=5)]: Done   3 tasks      | elapsed:    0.0s\n",
            "[Parallel(n_jobs=5)]: Done   8 tasks      | elapsed:    0.0s\n",
            "[Parallel(n_jobs=5)]: Batch computation too fast (0.0441s.) Setting batch_size=4.\n",
            "[Parallel(n_jobs=5)]: Done  20 tasks      | elapsed:    0.1s\n"
          ],
          "name": "stderr"
        },
        {
          "output_type": "stream",
          "text": [
            "it 1/10-Modelo 1/5\n",
            "[{'reg__fit_intercept': 0.5, 'rep__n_components': 3}, {'reg__alpha': 0.001, 'reg__fit_intercept': 0.5, 'rep__n_components': 3}]\n",
            "mae: 43.43212041104497\n",
            "Fitting 5 folds for each of 36 candidates, totalling 180 fits\n"
          ],
          "name": "stdout"
        },
        {
          "output_type": "stream",
          "text": [
            "[Parallel(n_jobs=5)]: Batch computation too fast (0.0791s.) Setting batch_size=8.\n",
            "[Parallel(n_jobs=5)]: Done  38 tasks      | elapsed:    0.2s\n",
            "[Parallel(n_jobs=5)]: Done  78 tasks      | elapsed:    0.4s\n",
            "[Parallel(n_jobs=5)]: Batch computation too fast (0.1449s.) Setting batch_size=16.\n",
            "[Parallel(n_jobs=5)]: Done 129 tasks      | elapsed:    0.5s\n",
            "[Parallel(n_jobs=5)]: Done 154 tasks      | elapsed:    0.6s\n",
            "[Parallel(n_jobs=5)]: Done 180 out of 180 | elapsed:    0.6s finished\n",
            "[Parallel(n_jobs=5)]: Using backend LokyBackend with 5 concurrent workers.\n",
            "[Parallel(n_jobs=5)]: Batch computation too fast (0.0110s.) Setting batch_size=2.\n",
            "[Parallel(n_jobs=5)]: Done   3 tasks      | elapsed:    0.0s\n",
            "[Parallel(n_jobs=5)]: Done   8 tasks      | elapsed:    0.0s\n",
            "[Parallel(n_jobs=5)]: Batch computation too fast (0.0348s.) Setting batch_size=4.\n",
            "[Parallel(n_jobs=5)]: Done  20 tasks      | elapsed:    0.1s\n"
          ],
          "name": "stderr"
        },
        {
          "output_type": "stream",
          "text": [
            "it 1/10-Modelo 2/5\n",
            "[{'reg__fit_intercept': 0.5, 'rep__n_components': 3}, {'reg__alpha': 0.001, 'reg__fit_intercept': 0.5, 'rep__n_components': 3}, {'reg__alpha': 0.001, 'rep__n_components': 3}]\n",
            "mae: 43.234673044503054\n",
            "Fitting 5 folds for each of 216 candidates, totalling 1080 fits\n"
          ],
          "name": "stdout"
        },
        {
          "output_type": "stream",
          "text": [
            "[Parallel(n_jobs=5)]: Batch computation too fast (0.0968s.) Setting batch_size=8.\n",
            "[Parallel(n_jobs=5)]: Done  38 tasks      | elapsed:    0.3s\n",
            "[Parallel(n_jobs=5)]: Done  78 tasks      | elapsed:    0.4s\n",
            "[Parallel(n_jobs=5)]: Batch computation too fast (0.1121s.) Setting batch_size=16.\n",
            "[Parallel(n_jobs=5)]: Done 150 tasks      | elapsed:    0.8s\n",
            "[Parallel(n_jobs=5)]: Done 326 tasks      | elapsed:    1.2s\n",
            "[Parallel(n_jobs=5)]: Done 502 tasks      | elapsed:    1.9s\n",
            "[Parallel(n_jobs=5)]: Done 710 tasks      | elapsed:    2.3s\n",
            "[Parallel(n_jobs=5)]: Done 918 tasks      | elapsed:    3.0s\n",
            "[Parallel(n_jobs=5)]: Done 1008 tasks      | elapsed:    3.1s\n",
            "[Parallel(n_jobs=5)]: Done 1053 tasks      | elapsed:    3.2s\n",
            "[Parallel(n_jobs=5)]: Done 1070 tasks      | elapsed:    3.3s\n",
            "[Parallel(n_jobs=5)]: Done 1080 out of 1080 | elapsed:    3.3s finished\n",
            "[Parallel(n_jobs=5)]: Using backend LokyBackend with 5 concurrent workers.\n",
            "[Parallel(n_jobs=5)]: Batch computation too fast (0.0311s.) Setting batch_size=2.\n",
            "[Parallel(n_jobs=5)]: Done   3 tasks      | elapsed:    0.1s\n",
            "[Parallel(n_jobs=5)]: Done   8 tasks      | elapsed:    0.1s\n",
            "[Parallel(n_jobs=5)]: Batch computation too fast (0.0444s.) Setting batch_size=4.\n"
          ],
          "name": "stderr"
        },
        {
          "output_type": "stream",
          "text": [
            "it 1/10-Modelo 3/5\n",
            "[{'reg__fit_intercept': 0.5, 'rep__n_components': 3}, {'reg__alpha': 0.001, 'reg__fit_intercept': 0.5, 'rep__n_components': 3}, {'reg__alpha': 0.001, 'rep__n_components': 3}, {'reg__alpha': 0.001, 'reg__l1_ratio': 0.5, 'rep__n_components': 3}]\n",
            "mae: 48.27471216894188\n",
            "Fitting 5 folds for each of 216 candidates, totalling 1080 fits\n"
          ],
          "name": "stdout"
        },
        {
          "output_type": "stream",
          "text": [
            "[Parallel(n_jobs=5)]: Done  20 tasks      | elapsed:    0.1s\n",
            "[Parallel(n_jobs=5)]: Batch computation too fast (0.0618s.) Setting batch_size=8.\n",
            "[Parallel(n_jobs=5)]: Done  38 tasks      | elapsed:    0.3s\n",
            "[Parallel(n_jobs=5)]: Done  78 tasks      | elapsed:    0.4s\n",
            "[Parallel(n_jobs=5)]: Batch computation too fast (0.1061s.) Setting batch_size=16.\n",
            "[Parallel(n_jobs=5)]: Done 150 tasks      | elapsed:    0.8s\n",
            "[Parallel(n_jobs=5)]: Done 326 tasks      | elapsed:    1.2s\n",
            "[Parallel(n_jobs=5)]: Done 502 tasks      | elapsed:    1.9s\n",
            "[Parallel(n_jobs=5)]: Done 710 tasks      | elapsed:    2.4s\n",
            "[Parallel(n_jobs=5)]: Done 918 tasks      | elapsed:    3.1s\n",
            "[Parallel(n_jobs=5)]: Done 1038 tasks      | elapsed:    3.3s\n",
            "[Parallel(n_jobs=5)]: Done 1053 tasks      | elapsed:    3.3s\n",
            "[Parallel(n_jobs=5)]: Done 1070 tasks      | elapsed:    3.4s\n",
            "[Parallel(n_jobs=5)]: Done 1080 out of 1080 | elapsed:    3.4s finished\n",
            "[Parallel(n_jobs=5)]: Using backend LokyBackend with 5 concurrent workers.\n"
          ],
          "name": "stderr"
        },
        {
          "output_type": "stream",
          "text": [
            "it 1/10-Modelo 4/5\n",
            "[{'reg__fit_intercept': 0.5, 'rep__n_components': 3}, {'reg__alpha': 0.001, 'reg__fit_intercept': 0.5, 'rep__n_components': 3}, {'reg__alpha': 0.001, 'rep__n_components': 3}, {'reg__alpha': 0.001, 'reg__l1_ratio': 0.5, 'rep__n_components': 3}, {'reg__alpha': 0.001, 'reg__gamma': 0.01, 'rep__n_components': 3}]\n",
            "mae: 40.57493840001799\n",
            "it 2/10\n",
            "Fitting 5 folds for each of 36 candidates, totalling 180 fits\n"
          ],
          "name": "stdout"
        },
        {
          "output_type": "stream",
          "text": [
            "[Parallel(n_jobs=5)]: Done   1 tasks      | elapsed:    0.0s\n",
            "[Parallel(n_jobs=5)]: Batch computation too fast (0.0131s.) Setting batch_size=2.\n",
            "[Parallel(n_jobs=5)]: Batch computation too fast (0.0131s.) Setting batch_size=4.\n",
            "[Parallel(n_jobs=5)]: Done   3 tasks      | elapsed:    0.0s\n",
            "[Parallel(n_jobs=5)]: Done   8 tasks      | elapsed:    0.1s\n",
            "[Parallel(n_jobs=5)]: Batch computation too fast (0.0430s.) Setting batch_size=8.\n",
            "[Parallel(n_jobs=5)]: Done  30 tasks      | elapsed:    0.1s\n",
            "[Parallel(n_jobs=5)]: Batch computation too fast (0.1437s.) Setting batch_size=16.\n",
            "[Parallel(n_jobs=5)]: Done  66 tasks      | elapsed:    0.4s\n",
            "[Parallel(n_jobs=5)]: Done 124 tasks      | elapsed:    0.4s\n",
            "[Parallel(n_jobs=5)]: Done 133 tasks      | elapsed:    0.4s\n",
            "[Parallel(n_jobs=5)]: Done 151 tasks      | elapsed:    0.5s\n",
            "[Parallel(n_jobs=5)]: Done 162 tasks      | elapsed:    0.5s\n",
            "[Parallel(n_jobs=5)]: Done 180 out of 180 | elapsed:    0.6s finished\n",
            "[Parallel(n_jobs=5)]: Using backend LokyBackend with 5 concurrent workers.\n",
            "[Parallel(n_jobs=5)]: Batch computation too fast (0.0093s.) Setting batch_size=2.\n",
            "[Parallel(n_jobs=5)]: Done   3 tasks      | elapsed:    0.0s\n",
            "[Parallel(n_jobs=5)]: Done   8 tasks      | elapsed:    0.1s\n",
            "[Parallel(n_jobs=5)]: Batch computation too fast (0.0470s.) Setting batch_size=4.\n",
            "[Parallel(n_jobs=5)]: Done  20 tasks      | elapsed:    0.1s\n"
          ],
          "name": "stderr"
        },
        {
          "output_type": "stream",
          "text": [
            "it 2/10-Modelo 0/5\n",
            "[{'reg__fit_intercept': 0.5, 'rep__n_components': 3}, {'reg__alpha': 0.001, 'reg__fit_intercept': 0.5, 'rep__n_components': 3}, {'reg__alpha': 0.001, 'rep__n_components': 3}, {'reg__alpha': 0.001, 'reg__l1_ratio': 0.5, 'rep__n_components': 3}, {'reg__alpha': 0.001, 'reg__gamma': 0.01, 'rep__n_components': 3}, {'reg__fit_intercept': 0.5, 'rep__n_components': 3}]\n",
            "mae: 51.807203134392964\n",
            "Fitting 5 folds for each of 216 candidates, totalling 1080 fits\n"
          ],
          "name": "stdout"
        },
        {
          "output_type": "stream",
          "text": [
            "[Parallel(n_jobs=5)]: Batch computation too fast (0.0459s.) Setting batch_size=8.\n",
            "[Parallel(n_jobs=5)]: Done  38 tasks      | elapsed:    0.2s\n",
            "[Parallel(n_jobs=5)]: Done  78 tasks      | elapsed:    0.3s\n",
            "[Parallel(n_jobs=5)]: Batch computation too fast (0.1147s.) Setting batch_size=16.\n",
            "[Parallel(n_jobs=5)]: Done 150 tasks      | elapsed:    0.6s\n",
            "[Parallel(n_jobs=5)]: Batch computation too fast (0.1552s.) Setting batch_size=32.\n",
            "[Parallel(n_jobs=5)]: Done 342 tasks      | elapsed:    1.2s\n",
            "[Parallel(n_jobs=5)]: Done 694 tasks      | elapsed:    2.4s\n",
            "[Parallel(n_jobs=5)]: Done 900 tasks      | elapsed:    2.5s\n",
            "[Parallel(n_jobs=5)]: Done 956 tasks      | elapsed:    2.5s\n",
            "[Parallel(n_jobs=5)]: Done 1016 tasks      | elapsed:    2.6s\n",
            "[Parallel(n_jobs=5)]: Done 1046 tasks      | elapsed:    2.7s\n",
            "[Parallel(n_jobs=5)]: Done 1080 out of 1080 | elapsed:    2.8s finished\n"
          ],
          "name": "stderr"
        },
        {
          "output_type": "stream",
          "text": [
            "it 2/10-Modelo 1/5\n",
            "[{'reg__fit_intercept': 0.5, 'rep__n_components': 3}, {'reg__alpha': 0.001, 'reg__fit_intercept': 0.5, 'rep__n_components': 3}, {'reg__alpha': 0.001, 'rep__n_components': 3}, {'reg__alpha': 0.001, 'reg__l1_ratio': 0.5, 'rep__n_components': 3}, {'reg__alpha': 0.001, 'reg__gamma': 0.01, 'rep__n_components': 3}, {'reg__fit_intercept': 0.5, 'rep__n_components': 3}, {'reg__alpha': 0.001, 'reg__fit_intercept': 0.5, 'rep__n_components': 3}]\n",
            "mae: 51.75317755977324\n",
            "Fitting 5 folds for each of 36 candidates, totalling 180 fits\n"
          ],
          "name": "stdout"
        },
        {
          "output_type": "stream",
          "text": [
            "[Parallel(n_jobs=5)]: Using backend LokyBackend with 5 concurrent workers.\n",
            "[Parallel(n_jobs=5)]: Batch computation too fast (0.0106s.) Setting batch_size=2.\n",
            "[Parallel(n_jobs=5)]: Done   3 tasks      | elapsed:    0.0s\n",
            "[Parallel(n_jobs=5)]: Done   8 tasks      | elapsed:    0.1s\n",
            "[Parallel(n_jobs=5)]: Batch computation too fast (0.0539s.) Setting batch_size=4.\n",
            "[Parallel(n_jobs=5)]: Done  20 tasks      | elapsed:    0.1s\n",
            "[Parallel(n_jobs=5)]: Batch computation too fast (0.0329s.) Setting batch_size=8.\n",
            "[Parallel(n_jobs=5)]: Done  38 tasks      | elapsed:    0.3s\n",
            "[Parallel(n_jobs=5)]: Done  78 tasks      | elapsed:    0.4s\n",
            "[Parallel(n_jobs=5)]: Batch computation too fast (0.1371s.) Setting batch_size=16.\n",
            "[Parallel(n_jobs=5)]: Done 136 tasks      | elapsed:    0.5s\n",
            "[Parallel(n_jobs=5)]: Done 161 tasks      | elapsed:    0.5s\n",
            "[Parallel(n_jobs=5)]: Done 180 out of 180 | elapsed:    0.6s finished\n",
            "[Parallel(n_jobs=5)]: Using backend LokyBackend with 5 concurrent workers.\n",
            "[Parallel(n_jobs=5)]: Batch computation too fast (0.0160s.) Setting batch_size=2.\n",
            "[Parallel(n_jobs=5)]: Done   3 tasks      | elapsed:    0.1s\n",
            "[Parallel(n_jobs=5)]: Done   8 tasks      | elapsed:    0.1s\n",
            "[Parallel(n_jobs=5)]: Batch computation too fast (0.0389s.) Setting batch_size=4.\n"
          ],
          "name": "stderr"
        },
        {
          "output_type": "stream",
          "text": [
            "it 2/10-Modelo 2/5\n",
            "[{'reg__fit_intercept': 0.5, 'rep__n_components': 3}, {'reg__alpha': 0.001, 'reg__fit_intercept': 0.5, 'rep__n_components': 3}, {'reg__alpha': 0.001, 'rep__n_components': 3}, {'reg__alpha': 0.001, 'reg__l1_ratio': 0.5, 'rep__n_components': 3}, {'reg__alpha': 0.001, 'reg__gamma': 0.01, 'rep__n_components': 3}, {'reg__fit_intercept': 0.5, 'rep__n_components': 3}, {'reg__alpha': 0.001, 'reg__fit_intercept': 0.5, 'rep__n_components': 3}, {'reg__alpha': 0.001, 'rep__n_components': 3}]\n",
            "mae: 51.80386806154865\n",
            "Fitting 5 folds for each of 216 candidates, totalling 1080 fits\n"
          ],
          "name": "stdout"
        },
        {
          "output_type": "stream",
          "text": [
            "[Parallel(n_jobs=5)]: Done  20 tasks      | elapsed:    0.1s\n",
            "[Parallel(n_jobs=5)]: Batch computation too fast (0.0708s.) Setting batch_size=8.\n",
            "[Parallel(n_jobs=5)]: Done  38 tasks      | elapsed:    0.2s\n",
            "[Parallel(n_jobs=5)]: Done  78 tasks      | elapsed:    0.3s\n",
            "[Parallel(n_jobs=5)]: Batch computation too fast (0.1083s.) Setting batch_size=16.\n",
            "[Parallel(n_jobs=5)]: Done 150 tasks      | elapsed:    0.7s\n",
            "[Parallel(n_jobs=5)]: Done 326 tasks      | elapsed:    1.1s\n",
            "[Parallel(n_jobs=5)]: Done 502 tasks      | elapsed:    1.8s\n",
            "[Parallel(n_jobs=5)]: Done 710 tasks      | elapsed:    2.3s\n",
            "[Parallel(n_jobs=5)]: Done 918 tasks      | elapsed:    3.0s\n",
            "[Parallel(n_jobs=5)]: Done 1008 tasks      | elapsed:    3.1s\n",
            "[Parallel(n_jobs=5)]: Done 1053 tasks      | elapsed:    3.2s\n",
            "[Parallel(n_jobs=5)]: Done 1070 tasks      | elapsed:    3.3s\n",
            "[Parallel(n_jobs=5)]: Done 1080 out of 1080 | elapsed:    3.3s finished\n",
            "[Parallel(n_jobs=5)]: Using backend LokyBackend with 5 concurrent workers.\n",
            "[Parallel(n_jobs=5)]: Batch computation too fast (0.0118s.) Setting batch_size=2.\n",
            "[Parallel(n_jobs=5)]: Batch computation too fast (0.0118s.) Setting batch_size=4.\n",
            "[Parallel(n_jobs=5)]: Done   3 tasks      | elapsed:    0.0s\n",
            "[Parallel(n_jobs=5)]: Done   7 tasks      | elapsed:    0.0s\n",
            "[Parallel(n_jobs=5)]: Batch computation too fast (0.0455s.) Setting batch_size=8.\n",
            "[Parallel(n_jobs=5)]: Done  18 tasks      | elapsed:    0.1s\n"
          ],
          "name": "stderr"
        },
        {
          "output_type": "stream",
          "text": [
            "it 2/10-Modelo 3/5\n",
            "[{'reg__fit_intercept': 0.5, 'rep__n_components': 3}, {'reg__alpha': 0.001, 'reg__fit_intercept': 0.5, 'rep__n_components': 3}, {'reg__alpha': 0.001, 'rep__n_components': 3}, {'reg__alpha': 0.001, 'reg__l1_ratio': 0.5, 'rep__n_components': 3}, {'reg__alpha': 0.001, 'reg__gamma': 0.01, 'rep__n_components': 3}, {'reg__fit_intercept': 0.5, 'rep__n_components': 3}, {'reg__alpha': 0.001, 'reg__fit_intercept': 0.5, 'rep__n_components': 3}, {'reg__alpha': 0.001, 'rep__n_components': 3}, {'reg__alpha': 0.001, 'reg__l1_ratio': 0.5, 'rep__n_components': 2}]\n",
            "mae: 52.55747461234896\n",
            "Fitting 5 folds for each of 216 candidates, totalling 1080 fits\n"
          ],
          "name": "stdout"
        },
        {
          "output_type": "stream",
          "text": [
            "[Parallel(n_jobs=5)]: Done  46 tasks      | elapsed:    0.2s\n",
            "[Parallel(n_jobs=5)]: Batch computation too fast (0.1100s.) Setting batch_size=16.\n",
            "[Parallel(n_jobs=5)]: Done  98 tasks      | elapsed:    0.5s\n",
            "[Parallel(n_jobs=5)]: Batch computation too fast (0.1194s.) Setting batch_size=32.\n",
            "[Parallel(n_jobs=5)]: Done 210 tasks      | elapsed:    0.8s\n",
            "[Parallel(n_jobs=5)]: Done 418 tasks      | elapsed:    1.6s\n",
            "[Parallel(n_jobs=5)]: Done 770 tasks      | elapsed:    2.5s\n",
            "[Parallel(n_jobs=5)]: Done 919 tasks      | elapsed:    2.9s\n",
            "[Parallel(n_jobs=5)]: Done 987 tasks      | elapsed:    3.0s\n",
            "[Parallel(n_jobs=5)]: Done 1026 tasks      | elapsed:    3.2s\n",
            "[Parallel(n_jobs=5)]: Done 1071 out of 1080 | elapsed:    3.3s remaining:    0.0s\n",
            "[Parallel(n_jobs=5)]: Done 1080 out of 1080 | elapsed:    3.3s finished\n",
            "[Parallel(n_jobs=5)]: Using backend LokyBackend with 5 concurrent workers.\n",
            "[Parallel(n_jobs=5)]: Batch computation too fast (0.0065s.) Setting batch_size=2.\n",
            "[Parallel(n_jobs=5)]: Batch computation too fast (0.0065s.) Setting batch_size=4.\n"
          ],
          "name": "stderr"
        },
        {
          "output_type": "stream",
          "text": [
            "it 2/10-Modelo 4/5\n",
            "[{'reg__fit_intercept': 0.5, 'rep__n_components': 3}, {'reg__alpha': 0.001, 'reg__fit_intercept': 0.5, 'rep__n_components': 3}, {'reg__alpha': 0.001, 'rep__n_components': 3}, {'reg__alpha': 0.001, 'reg__l1_ratio': 0.5, 'rep__n_components': 3}, {'reg__alpha': 0.001, 'reg__gamma': 0.01, 'rep__n_components': 3}, {'reg__fit_intercept': 0.5, 'rep__n_components': 3}, {'reg__alpha': 0.001, 'reg__fit_intercept': 0.5, 'rep__n_components': 3}, {'reg__alpha': 0.001, 'rep__n_components': 3}, {'reg__alpha': 0.001, 'reg__l1_ratio': 0.5, 'rep__n_components': 2}, {'reg__alpha': 0.001, 'reg__gamma': 0.01, 'rep__n_components': 3}]\n",
            "mae: 38.034533552103575\n",
            "it 3/10\n",
            "Fitting 5 folds for each of 36 candidates, totalling 180 fits\n"
          ],
          "name": "stdout"
        },
        {
          "output_type": "stream",
          "text": [
            "[Parallel(n_jobs=5)]: Done   4 tasks      | elapsed:    0.1s\n",
            "[Parallel(n_jobs=5)]: Done   7 tasks      | elapsed:    0.1s\n",
            "[Parallel(n_jobs=5)]: Batch computation too fast (0.0474s.) Setting batch_size=8.\n",
            "[Parallel(n_jobs=5)]: Done  18 tasks      | elapsed:    0.2s\n",
            "[Parallel(n_jobs=5)]: Done  46 tasks      | elapsed:    0.2s\n",
            "[Parallel(n_jobs=5)]: Batch computation too fast (0.1011s.) Setting batch_size=16.\n",
            "[Parallel(n_jobs=5)]: Done  98 tasks      | elapsed:    0.4s\n",
            "[Parallel(n_jobs=5)]: Done 135 tasks      | elapsed:    0.5s\n",
            "[Parallel(n_jobs=5)]: Done 144 tasks      | elapsed:    0.5s\n",
            "[Parallel(n_jobs=5)]: Done 155 tasks      | elapsed:    0.6s\n",
            "[Parallel(n_jobs=5)]: Done 166 tasks      | elapsed:    0.6s\n",
            "[Parallel(n_jobs=5)]: Done 180 out of 180 | elapsed:    0.7s finished\n",
            "[Parallel(n_jobs=5)]: Using backend LokyBackend with 5 concurrent workers.\n",
            "[Parallel(n_jobs=5)]: Batch computation too fast (0.0084s.) Setting batch_size=2.\n",
            "[Parallel(n_jobs=5)]: Done   3 tasks      | elapsed:    0.0s\n",
            "[Parallel(n_jobs=5)]: Done   8 tasks      | elapsed:    0.0s\n",
            "[Parallel(n_jobs=5)]: Batch computation too fast (0.0416s.) Setting batch_size=4.\n"
          ],
          "name": "stderr"
        },
        {
          "output_type": "stream",
          "text": [
            "it 3/10-Modelo 0/5\n",
            "[{'reg__fit_intercept': 0.5, 'rep__n_components': 3}, {'reg__alpha': 0.001, 'reg__fit_intercept': 0.5, 'rep__n_components': 3}, {'reg__alpha': 0.001, 'rep__n_components': 3}, {'reg__alpha': 0.001, 'reg__l1_ratio': 0.5, 'rep__n_components': 3}, {'reg__alpha': 0.001, 'reg__gamma': 0.01, 'rep__n_components': 3}, {'reg__fit_intercept': 0.5, 'rep__n_components': 3}, {'reg__alpha': 0.001, 'reg__fit_intercept': 0.5, 'rep__n_components': 3}, {'reg__alpha': 0.001, 'rep__n_components': 3}, {'reg__alpha': 0.001, 'reg__l1_ratio': 0.5, 'rep__n_components': 2}, {'reg__alpha': 0.001, 'reg__gamma': 0.01, 'rep__n_components': 3}, {'reg__fit_intercept': 0.5, 'rep__n_components': 2}]\n",
            "mae: 48.692427603068964\n",
            "Fitting 5 folds for each of 216 candidates, totalling 1080 fits\n"
          ],
          "name": "stdout"
        },
        {
          "output_type": "stream",
          "text": [
            "[Parallel(n_jobs=5)]: Done  20 tasks      | elapsed:    0.1s\n",
            "[Parallel(n_jobs=5)]: Batch computation too fast (0.0546s.) Setting batch_size=8.\n",
            "[Parallel(n_jobs=5)]: Done  38 tasks      | elapsed:    0.2s\n",
            "[Parallel(n_jobs=5)]: Done  78 tasks      | elapsed:    0.3s\n",
            "[Parallel(n_jobs=5)]: Batch computation too fast (0.1404s.) Setting batch_size=16.\n",
            "[Parallel(n_jobs=5)]: Done 150 tasks      | elapsed:    0.6s\n",
            "[Parallel(n_jobs=5)]: Batch computation too fast (0.1895s.) Setting batch_size=32.\n",
            "[Parallel(n_jobs=5)]: Done 342 tasks      | elapsed:    1.2s\n",
            "[Parallel(n_jobs=5)]: Done 694 tasks      | elapsed:    2.5s\n",
            "[Parallel(n_jobs=5)]: Done 900 tasks      | elapsed:    2.6s\n",
            "[Parallel(n_jobs=5)]: Done 956 tasks      | elapsed:    2.8s\n",
            "[Parallel(n_jobs=5)]: Done 1016 tasks      | elapsed:    2.8s\n",
            "[Parallel(n_jobs=5)]: Done 1046 tasks      | elapsed:    2.9s\n",
            "[Parallel(n_jobs=5)]: Done 1080 out of 1080 | elapsed:    3.0s finished\n",
            "[Parallel(n_jobs=5)]: Using backend LokyBackend with 5 concurrent workers.\n",
            "[Parallel(n_jobs=5)]: Batch computation too fast (0.0114s.) Setting batch_size=2.\n",
            "[Parallel(n_jobs=5)]: Done   3 tasks      | elapsed:    0.0s\n",
            "[Parallel(n_jobs=5)]: Done   8 tasks      | elapsed:    0.1s\n",
            "[Parallel(n_jobs=5)]: Batch computation too fast (0.0468s.) Setting batch_size=4.\n",
            "[Parallel(n_jobs=5)]: Done  20 tasks      | elapsed:    0.1s\n",
            "[Parallel(n_jobs=5)]: Batch computation too fast (0.0646s.) Setting batch_size=8.\n",
            "[Parallel(n_jobs=5)]: Done  38 tasks      | elapsed:    0.2s\n"
          ],
          "name": "stderr"
        },
        {
          "output_type": "stream",
          "text": [
            "it 3/10-Modelo 1/5\n",
            "[{'reg__fit_intercept': 0.5, 'rep__n_components': 3}, {'reg__alpha': 0.001, 'reg__fit_intercept': 0.5, 'rep__n_components': 3}, {'reg__alpha': 0.001, 'rep__n_components': 3}, {'reg__alpha': 0.001, 'reg__l1_ratio': 0.5, 'rep__n_components': 3}, {'reg__alpha': 0.001, 'reg__gamma': 0.01, 'rep__n_components': 3}, {'reg__fit_intercept': 0.5, 'rep__n_components': 3}, {'reg__alpha': 0.001, 'reg__fit_intercept': 0.5, 'rep__n_components': 3}, {'reg__alpha': 0.001, 'rep__n_components': 3}, {'reg__alpha': 0.001, 'reg__l1_ratio': 0.5, 'rep__n_components': 2}, {'reg__alpha': 0.001, 'reg__gamma': 0.01, 'rep__n_components': 3}, {'reg__fit_intercept': 0.5, 'rep__n_components': 2}, {'reg__alpha': 0.001, 'reg__fit_intercept': 0.5, 'rep__n_components': 2}]\n",
            "mae: 48.7081002442305\n",
            "Fitting 5 folds for each of 36 candidates, totalling 180 fits\n"
          ],
          "name": "stdout"
        },
        {
          "output_type": "stream",
          "text": [
            "[Parallel(n_jobs=5)]: Done  78 tasks      | elapsed:    0.3s\n",
            "[Parallel(n_jobs=5)]: Batch computation too fast (0.1193s.) Setting batch_size=16.\n",
            "[Parallel(n_jobs=5)]: Done 136 tasks      | elapsed:    0.5s\n",
            "[Parallel(n_jobs=5)]: Done 154 tasks      | elapsed:    0.5s\n",
            "[Parallel(n_jobs=5)]: Done 180 out of 180 | elapsed:    0.6s finished\n",
            "[Parallel(n_jobs=5)]: Using backend LokyBackend with 5 concurrent workers.\n",
            "[Parallel(n_jobs=5)]: Batch computation too fast (0.0142s.) Setting batch_size=2.\n",
            "[Parallel(n_jobs=5)]: Done   3 tasks      | elapsed:    0.0s\n",
            "[Parallel(n_jobs=5)]: Done   8 tasks      | elapsed:    0.0s\n",
            "[Parallel(n_jobs=5)]: Batch computation too fast (0.0403s.) Setting batch_size=4.\n",
            "[Parallel(n_jobs=5)]: Done  20 tasks      | elapsed:    0.1s\n"
          ],
          "name": "stderr"
        },
        {
          "output_type": "stream",
          "text": [
            "it 3/10-Modelo 2/5\n",
            "[{'reg__fit_intercept': 0.5, 'rep__n_components': 3}, {'reg__alpha': 0.001, 'reg__fit_intercept': 0.5, 'rep__n_components': 3}, {'reg__alpha': 0.001, 'rep__n_components': 3}, {'reg__alpha': 0.001, 'reg__l1_ratio': 0.5, 'rep__n_components': 3}, {'reg__alpha': 0.001, 'reg__gamma': 0.01, 'rep__n_components': 3}, {'reg__fit_intercept': 0.5, 'rep__n_components': 3}, {'reg__alpha': 0.001, 'reg__fit_intercept': 0.5, 'rep__n_components': 3}, {'reg__alpha': 0.001, 'rep__n_components': 3}, {'reg__alpha': 0.001, 'reg__l1_ratio': 0.5, 'rep__n_components': 2}, {'reg__alpha': 0.001, 'reg__gamma': 0.01, 'rep__n_components': 3}, {'reg__fit_intercept': 0.5, 'rep__n_components': 2}, {'reg__alpha': 0.001, 'reg__fit_intercept': 0.5, 'rep__n_components': 2}, {'reg__alpha': 0.001, 'rep__n_components': 2}]\n",
            "mae: 48.6931967299595\n",
            "Fitting 5 folds for each of 216 candidates, totalling 1080 fits\n"
          ],
          "name": "stdout"
        },
        {
          "output_type": "stream",
          "text": [
            "[Parallel(n_jobs=5)]: Batch computation too fast (0.0912s.) Setting batch_size=8.\n",
            "[Parallel(n_jobs=5)]: Done  38 tasks      | elapsed:    0.3s\n",
            "[Parallel(n_jobs=5)]: Done  78 tasks      | elapsed:    0.4s\n",
            "[Parallel(n_jobs=5)]: Batch computation too fast (0.1164s.) Setting batch_size=16.\n",
            "[Parallel(n_jobs=5)]: Done 150 tasks      | elapsed:    0.8s\n",
            "[Parallel(n_jobs=5)]: Done 326 tasks      | elapsed:    1.2s\n",
            "[Parallel(n_jobs=5)]: Done 502 tasks      | elapsed:    1.9s\n",
            "[Parallel(n_jobs=5)]: Done 710 tasks      | elapsed:    2.4s\n",
            "[Parallel(n_jobs=5)]: Done 918 tasks      | elapsed:    3.0s\n",
            "[Parallel(n_jobs=5)]: Done 1008 tasks      | elapsed:    3.1s\n",
            "[Parallel(n_jobs=5)]: Done 1053 tasks      | elapsed:    3.2s\n",
            "[Parallel(n_jobs=5)]: Done 1070 tasks      | elapsed:    3.3s\n",
            "[Parallel(n_jobs=5)]: Done 1080 out of 1080 | elapsed:    3.3s finished\n",
            "[Parallel(n_jobs=5)]: Using backend LokyBackend with 5 concurrent workers.\n",
            "[Parallel(n_jobs=5)]: Batch computation too fast (0.0096s.) Setting batch_size=2.\n",
            "[Parallel(n_jobs=5)]: Done   3 tasks      | elapsed:    0.0s\n",
            "[Parallel(n_jobs=5)]: Done   8 tasks      | elapsed:    0.0s\n",
            "[Parallel(n_jobs=5)]: Batch computation too fast (0.0423s.) Setting batch_size=4.\n",
            "[Parallel(n_jobs=5)]: Done  20 tasks      | elapsed:    0.1s\n"
          ],
          "name": "stderr"
        },
        {
          "output_type": "stream",
          "text": [
            "it 3/10-Modelo 3/5\n",
            "[{'reg__fit_intercept': 0.5, 'rep__n_components': 3}, {'reg__alpha': 0.001, 'reg__fit_intercept': 0.5, 'rep__n_components': 3}, {'reg__alpha': 0.001, 'rep__n_components': 3}, {'reg__alpha': 0.001, 'reg__l1_ratio': 0.5, 'rep__n_components': 3}, {'reg__alpha': 0.001, 'reg__gamma': 0.01, 'rep__n_components': 3}, {'reg__fit_intercept': 0.5, 'rep__n_components': 3}, {'reg__alpha': 0.001, 'reg__fit_intercept': 0.5, 'rep__n_components': 3}, {'reg__alpha': 0.001, 'rep__n_components': 3}, {'reg__alpha': 0.001, 'reg__l1_ratio': 0.5, 'rep__n_components': 2}, {'reg__alpha': 0.001, 'reg__gamma': 0.01, 'rep__n_components': 3}, {'reg__fit_intercept': 0.5, 'rep__n_components': 2}, {'reg__alpha': 0.001, 'reg__fit_intercept': 0.5, 'rep__n_components': 2}, {'reg__alpha': 0.001, 'rep__n_components': 2}, {'reg__alpha': 0.001, 'reg__l1_ratio': 0.5, 'rep__n_components': 2}]\n",
            "mae: 49.14598480888914\n",
            "Fitting 5 folds for each of 216 candidates, totalling 1080 fits\n"
          ],
          "name": "stdout"
        },
        {
          "output_type": "stream",
          "text": [
            "[Parallel(n_jobs=5)]: Batch computation too fast (0.0855s.) Setting batch_size=8.\n",
            "[Parallel(n_jobs=5)]: Done  38 tasks      | elapsed:    0.2s\n",
            "[Parallel(n_jobs=5)]: Done  78 tasks      | elapsed:    0.3s\n",
            "[Parallel(n_jobs=5)]: Batch computation too fast (0.1040s.) Setting batch_size=16.\n",
            "[Parallel(n_jobs=5)]: Done 150 tasks      | elapsed:    0.7s\n",
            "[Parallel(n_jobs=5)]: Done 326 tasks      | elapsed:    1.2s\n",
            "[Parallel(n_jobs=5)]: Done 502 tasks      | elapsed:    2.0s\n",
            "[Parallel(n_jobs=5)]: Done 710 tasks      | elapsed:    2.5s\n",
            "[Parallel(n_jobs=5)]: Done 918 tasks      | elapsed:    3.2s\n",
            "[Parallel(n_jobs=5)]: Done 1008 tasks      | elapsed:    3.3s\n",
            "[Parallel(n_jobs=5)]: Done 1053 tasks      | elapsed:    3.4s\n",
            "[Parallel(n_jobs=5)]: Done 1070 tasks      | elapsed:    3.5s\n",
            "[Parallel(n_jobs=5)]: Done 1080 out of 1080 | elapsed:    3.5s finished\n",
            "[Parallel(n_jobs=5)]: Using backend LokyBackend with 5 concurrent workers.\n",
            "[Parallel(n_jobs=5)]: Batch computation too fast (0.0104s.) Setting batch_size=2.\n",
            "[Parallel(n_jobs=5)]: Done   2 tasks      | elapsed:    0.0s\n",
            "[Parallel(n_jobs=5)]: Done   5 tasks      | elapsed:    0.0s\n",
            "[Parallel(n_jobs=5)]: Done  10 tasks      | elapsed:    0.1s\n",
            "[Parallel(n_jobs=5)]: Batch computation too fast (0.0251s.) Setting batch_size=4.\n"
          ],
          "name": "stderr"
        },
        {
          "output_type": "stream",
          "text": [
            "it 3/10-Modelo 4/5\n",
            "[{'reg__fit_intercept': 0.5, 'rep__n_components': 3}, {'reg__alpha': 0.001, 'reg__fit_intercept': 0.5, 'rep__n_components': 3}, {'reg__alpha': 0.001, 'rep__n_components': 3}, {'reg__alpha': 0.001, 'reg__l1_ratio': 0.5, 'rep__n_components': 3}, {'reg__alpha': 0.001, 'reg__gamma': 0.01, 'rep__n_components': 3}, {'reg__fit_intercept': 0.5, 'rep__n_components': 3}, {'reg__alpha': 0.001, 'reg__fit_intercept': 0.5, 'rep__n_components': 3}, {'reg__alpha': 0.001, 'rep__n_components': 3}, {'reg__alpha': 0.001, 'reg__l1_ratio': 0.5, 'rep__n_components': 2}, {'reg__alpha': 0.001, 'reg__gamma': 0.01, 'rep__n_components': 3}, {'reg__fit_intercept': 0.5, 'rep__n_components': 2}, {'reg__alpha': 0.001, 'reg__fit_intercept': 0.5, 'rep__n_components': 2}, {'reg__alpha': 0.001, 'rep__n_components': 2}, {'reg__alpha': 0.001, 'reg__l1_ratio': 0.5, 'rep__n_components': 2}, {'reg__alpha': 0.001, 'reg__gamma': 0.1, 'rep__n_components': 0.5}]\n",
            "mae: 34.96589386713452\n",
            "it 4/10\n",
            "Fitting 5 folds for each of 36 candidates, totalling 180 fits\n"
          ],
          "name": "stdout"
        },
        {
          "output_type": "stream",
          "text": [
            "[Parallel(n_jobs=5)]: Done  24 tasks      | elapsed:    0.1s\n",
            "[Parallel(n_jobs=5)]: Batch computation too fast (0.0861s.) Setting batch_size=8.\n",
            "[Parallel(n_jobs=5)]: Done  46 tasks      | elapsed:    0.3s\n",
            "[Parallel(n_jobs=5)]: Batch computation too fast (0.0539s.) Setting batch_size=16.\n",
            "[Parallel(n_jobs=5)]: Done  94 tasks      | elapsed:    0.4s\n",
            "[Parallel(n_jobs=5)]: Done 138 tasks      | elapsed:    0.5s\n",
            "[Parallel(n_jobs=5)]: Done 163 tasks      | elapsed:    0.5s\n",
            "[Parallel(n_jobs=5)]: Done 180 out of 180 | elapsed:    0.6s finished\n"
          ],
          "name": "stderr"
        },
        {
          "output_type": "stream",
          "text": [
            "it 4/10-Modelo 0/5\n",
            "[{'reg__fit_intercept': 0.5, 'rep__n_components': 3}, {'reg__alpha': 0.001, 'reg__fit_intercept': 0.5, 'rep__n_components': 3}, {'reg__alpha': 0.001, 'rep__n_components': 3}, {'reg__alpha': 0.001, 'reg__l1_ratio': 0.5, 'rep__n_components': 3}, {'reg__alpha': 0.001, 'reg__gamma': 0.01, 'rep__n_components': 3}, {'reg__fit_intercept': 0.5, 'rep__n_components': 3}, {'reg__alpha': 0.001, 'reg__fit_intercept': 0.5, 'rep__n_components': 3}, {'reg__alpha': 0.001, 'rep__n_components': 3}, {'reg__alpha': 0.001, 'reg__l1_ratio': 0.5, 'rep__n_components': 2}, {'reg__alpha': 0.001, 'reg__gamma': 0.01, 'rep__n_components': 3}, {'reg__fit_intercept': 0.5, 'rep__n_components': 2}, {'reg__alpha': 0.001, 'reg__fit_intercept': 0.5, 'rep__n_components': 2}, {'reg__alpha': 0.001, 'rep__n_components': 2}, {'reg__alpha': 0.001, 'reg__l1_ratio': 0.5, 'rep__n_components': 2}, {'reg__alpha': 0.001, 'reg__gamma': 0.1, 'rep__n_components': 0.5}, {'reg__fit_intercept': 0.5, 'rep__n_components': 2}]\n",
            "mae: 60.91897748458966\n",
            "Fitting 5 folds for each of 216 candidates, totalling 1080 fits\n"
          ],
          "name": "stdout"
        },
        {
          "output_type": "stream",
          "text": [
            "[Parallel(n_jobs=5)]: Using backend LokyBackend with 5 concurrent workers.\n",
            "[Parallel(n_jobs=5)]: Batch computation too fast (0.0171s.) Setting batch_size=2.\n",
            "[Parallel(n_jobs=5)]: Done   3 tasks      | elapsed:    0.0s\n",
            "[Parallel(n_jobs=5)]: Done   8 tasks      | elapsed:    0.1s\n",
            "[Parallel(n_jobs=5)]: Batch computation too fast (0.0441s.) Setting batch_size=4.\n",
            "[Parallel(n_jobs=5)]: Done  20 tasks      | elapsed:    0.1s\n",
            "[Parallel(n_jobs=5)]: Batch computation too fast (0.0338s.) Setting batch_size=8.\n",
            "[Parallel(n_jobs=5)]: Done  38 tasks      | elapsed:    0.2s\n",
            "[Parallel(n_jobs=5)]: Done  78 tasks      | elapsed:    0.3s\n",
            "[Parallel(n_jobs=5)]: Batch computation too fast (0.1074s.) Setting batch_size=16.\n",
            "[Parallel(n_jobs=5)]: Done 150 tasks      | elapsed:    0.7s\n",
            "[Parallel(n_jobs=5)]: Done 326 tasks      | elapsed:    1.1s\n",
            "[Parallel(n_jobs=5)]: Done 502 tasks      | elapsed:    1.7s\n",
            "[Parallel(n_jobs=5)]: Done 710 tasks      | elapsed:    2.2s\n",
            "[Parallel(n_jobs=5)]: Done 918 tasks      | elapsed:    2.8s\n",
            "[Parallel(n_jobs=5)]: Done 1008 tasks      | elapsed:    2.9s\n",
            "[Parallel(n_jobs=5)]: Done 1053 tasks      | elapsed:    2.9s\n",
            "[Parallel(n_jobs=5)]: Done 1070 tasks      | elapsed:    3.0s\n",
            "[Parallel(n_jobs=5)]: Done 1080 out of 1080 | elapsed:    3.0s finished\n",
            "[Parallel(n_jobs=5)]: Using backend LokyBackend with 5 concurrent workers.\n",
            "[Parallel(n_jobs=5)]: Batch computation too fast (0.0151s.) Setting batch_size=2.\n",
            "[Parallel(n_jobs=5)]: Done   3 tasks      | elapsed:    0.0s\n",
            "[Parallel(n_jobs=5)]: Done   8 tasks      | elapsed:    0.1s\n",
            "[Parallel(n_jobs=5)]: Batch computation too fast (0.0554s.) Setting batch_size=4.\n",
            "[Parallel(n_jobs=5)]: Done  20 tasks      | elapsed:    0.1s\n",
            "[Parallel(n_jobs=5)]: Batch computation too fast (0.0425s.) Setting batch_size=8.\n"
          ],
          "name": "stderr"
        },
        {
          "output_type": "stream",
          "text": [
            "it 4/10-Modelo 1/5\n",
            "[{'reg__fit_intercept': 0.5, 'rep__n_components': 3}, {'reg__alpha': 0.001, 'reg__fit_intercept': 0.5, 'rep__n_components': 3}, {'reg__alpha': 0.001, 'rep__n_components': 3}, {'reg__alpha': 0.001, 'reg__l1_ratio': 0.5, 'rep__n_components': 3}, {'reg__alpha': 0.001, 'reg__gamma': 0.01, 'rep__n_components': 3}, {'reg__fit_intercept': 0.5, 'rep__n_components': 3}, {'reg__alpha': 0.001, 'reg__fit_intercept': 0.5, 'rep__n_components': 3}, {'reg__alpha': 0.001, 'rep__n_components': 3}, {'reg__alpha': 0.001, 'reg__l1_ratio': 0.5, 'rep__n_components': 2}, {'reg__alpha': 0.001, 'reg__gamma': 0.01, 'rep__n_components': 3}, {'reg__fit_intercept': 0.5, 'rep__n_components': 2}, {'reg__alpha': 0.001, 'reg__fit_intercept': 0.5, 'rep__n_components': 2}, {'reg__alpha': 0.001, 'rep__n_components': 2}, {'reg__alpha': 0.001, 'reg__l1_ratio': 0.5, 'rep__n_components': 2}, {'reg__alpha': 0.001, 'reg__gamma': 0.1, 'rep__n_components': 0.5}, {'reg__fit_intercept': 0.5, 'rep__n_components': 2}, {'reg__alpha': 0.001, 'reg__fit_intercept': 0.5, 'rep__n_components': 2}]\n",
            "mae: 60.97501403629644\n",
            "Fitting 5 folds for each of 36 candidates, totalling 180 fits\n"
          ],
          "name": "stdout"
        },
        {
          "output_type": "stream",
          "text": [
            "[Parallel(n_jobs=5)]: Done  38 tasks      | elapsed:    0.2s\n",
            "[Parallel(n_jobs=5)]: Done  78 tasks      | elapsed:    0.3s\n",
            "[Parallel(n_jobs=5)]: Batch computation too fast (0.0854s.) Setting batch_size=16.\n",
            "[Parallel(n_jobs=5)]: Done 143 tasks      | elapsed:    0.5s\n",
            "[Parallel(n_jobs=5)]: Done 161 tasks      | elapsed:    0.5s\n",
            "[Parallel(n_jobs=5)]: Done 180 out of 180 | elapsed:    0.6s finished\n",
            "[Parallel(n_jobs=5)]: Using backend LokyBackend with 5 concurrent workers.\n",
            "[Parallel(n_jobs=5)]: Batch computation too fast (0.0123s.) Setting batch_size=2.\n",
            "[Parallel(n_jobs=5)]: Done   3 tasks      | elapsed:    0.0s\n",
            "[Parallel(n_jobs=5)]: Done   8 tasks      | elapsed:    0.1s\n",
            "[Parallel(n_jobs=5)]: Batch computation too fast (0.0366s.) Setting batch_size=4.\n"
          ],
          "name": "stderr"
        },
        {
          "output_type": "stream",
          "text": [
            "it 4/10-Modelo 2/5\n",
            "[{'reg__fit_intercept': 0.5, 'rep__n_components': 3}, {'reg__alpha': 0.001, 'reg__fit_intercept': 0.5, 'rep__n_components': 3}, {'reg__alpha': 0.001, 'rep__n_components': 3}, {'reg__alpha': 0.001, 'reg__l1_ratio': 0.5, 'rep__n_components': 3}, {'reg__alpha': 0.001, 'reg__gamma': 0.01, 'rep__n_components': 3}, {'reg__fit_intercept': 0.5, 'rep__n_components': 3}, {'reg__alpha': 0.001, 'reg__fit_intercept': 0.5, 'rep__n_components': 3}, {'reg__alpha': 0.001, 'rep__n_components': 3}, {'reg__alpha': 0.001, 'reg__l1_ratio': 0.5, 'rep__n_components': 2}, {'reg__alpha': 0.001, 'reg__gamma': 0.01, 'rep__n_components': 3}, {'reg__fit_intercept': 0.5, 'rep__n_components': 2}, {'reg__alpha': 0.001, 'reg__fit_intercept': 0.5, 'rep__n_components': 2}, {'reg__alpha': 0.001, 'rep__n_components': 2}, {'reg__alpha': 0.001, 'reg__l1_ratio': 0.5, 'rep__n_components': 2}, {'reg__alpha': 0.001, 'reg__gamma': 0.1, 'rep__n_components': 0.5}, {'reg__fit_intercept': 0.5, 'rep__n_components': 2}, {'reg__alpha': 0.001, 'reg__fit_intercept': 0.5, 'rep__n_components': 2}, {'reg__alpha': 0.001, 'rep__n_components': 2}]\n",
            "mae: 60.92207956359774\n",
            "Fitting 5 folds for each of 216 candidates, totalling 1080 fits\n"
          ],
          "name": "stdout"
        },
        {
          "output_type": "stream",
          "text": [
            "[Parallel(n_jobs=5)]: Done  20 tasks      | elapsed:    0.1s\n",
            "[Parallel(n_jobs=5)]: Batch computation too fast (0.0721s.) Setting batch_size=8.\n",
            "[Parallel(n_jobs=5)]: Done  38 tasks      | elapsed:    0.2s\n",
            "[Parallel(n_jobs=5)]: Done  78 tasks      | elapsed:    0.3s\n",
            "[Parallel(n_jobs=5)]: Batch computation too fast (0.1216s.) Setting batch_size=16.\n",
            "[Parallel(n_jobs=5)]: Done 150 tasks      | elapsed:    0.7s\n",
            "[Parallel(n_jobs=5)]: Batch computation too fast (0.1990s.) Setting batch_size=32.\n",
            "[Parallel(n_jobs=5)]: Done 342 tasks      | elapsed:    1.4s\n",
            "[Parallel(n_jobs=5)]: Done 694 tasks      | elapsed:    2.6s\n",
            "[Parallel(n_jobs=5)]: Done 870 tasks      | elapsed:    2.9s\n",
            "[Parallel(n_jobs=5)]: Done 986 tasks      | elapsed:    3.0s\n",
            "[Parallel(n_jobs=5)]: Done 1016 tasks      | elapsed:    3.1s\n",
            "[Parallel(n_jobs=5)]: Done 1046 tasks      | elapsed:    3.2s\n",
            "[Parallel(n_jobs=5)]: Done 1080 out of 1080 | elapsed:    3.3s finished\n",
            "[Parallel(n_jobs=5)]: Using backend LokyBackend with 5 concurrent workers.\n",
            "[Parallel(n_jobs=5)]: Batch computation too fast (0.0096s.) Setting batch_size=2.\n",
            "[Parallel(n_jobs=5)]: Done   3 tasks      | elapsed:    0.0s\n",
            "[Parallel(n_jobs=5)]: Done   8 tasks      | elapsed:    0.0s\n",
            "[Parallel(n_jobs=5)]: Batch computation too fast (0.0564s.) Setting batch_size=4.\n"
          ],
          "name": "stderr"
        },
        {
          "output_type": "stream",
          "text": [
            "it 4/10-Modelo 3/5\n",
            "[{'reg__fit_intercept': 0.5, 'rep__n_components': 3}, {'reg__alpha': 0.001, 'reg__fit_intercept': 0.5, 'rep__n_components': 3}, {'reg__alpha': 0.001, 'rep__n_components': 3}, {'reg__alpha': 0.001, 'reg__l1_ratio': 0.5, 'rep__n_components': 3}, {'reg__alpha': 0.001, 'reg__gamma': 0.01, 'rep__n_components': 3}, {'reg__fit_intercept': 0.5, 'rep__n_components': 3}, {'reg__alpha': 0.001, 'reg__fit_intercept': 0.5, 'rep__n_components': 3}, {'reg__alpha': 0.001, 'rep__n_components': 3}, {'reg__alpha': 0.001, 'reg__l1_ratio': 0.5, 'rep__n_components': 2}, {'reg__alpha': 0.001, 'reg__gamma': 0.01, 'rep__n_components': 3}, {'reg__fit_intercept': 0.5, 'rep__n_components': 2}, {'reg__alpha': 0.001, 'reg__fit_intercept': 0.5, 'rep__n_components': 2}, {'reg__alpha': 0.001, 'rep__n_components': 2}, {'reg__alpha': 0.001, 'reg__l1_ratio': 0.5, 'rep__n_components': 2}, {'reg__alpha': 0.001, 'reg__gamma': 0.1, 'rep__n_components': 0.5}, {'reg__fit_intercept': 0.5, 'rep__n_components': 2}, {'reg__alpha': 0.001, 'reg__fit_intercept': 0.5, 'rep__n_components': 2}, {'reg__alpha': 0.001, 'rep__n_components': 2}, {'reg__alpha': 0.001, 'reg__l1_ratio': 0.5, 'rep__n_components': 2}]\n",
            "mae: 63.05280602384846\n",
            "Fitting 5 folds for each of 216 candidates, totalling 1080 fits\n"
          ],
          "name": "stdout"
        },
        {
          "output_type": "stream",
          "text": [
            "[Parallel(n_jobs=5)]: Done  20 tasks      | elapsed:    0.1s\n",
            "[Parallel(n_jobs=5)]: Batch computation too fast (0.1045s.) Setting batch_size=8.\n",
            "[Parallel(n_jobs=5)]: Done  38 tasks      | elapsed:    0.2s\n",
            "[Parallel(n_jobs=5)]: Done  78 tasks      | elapsed:    0.3s\n",
            "[Parallel(n_jobs=5)]: Batch computation too fast (0.0994s.) Setting batch_size=16.\n",
            "[Parallel(n_jobs=5)]: Done 150 tasks      | elapsed:    0.7s\n",
            "[Parallel(n_jobs=5)]: Done 326 tasks      | elapsed:    1.3s\n",
            "[Parallel(n_jobs=5)]: Done 502 tasks      | elapsed:    1.9s\n",
            "[Parallel(n_jobs=5)]: Done 710 tasks      | elapsed:    2.5s\n",
            "[Parallel(n_jobs=5)]: Done 918 tasks      | elapsed:    3.1s\n",
            "[Parallel(n_jobs=5)]: Done 1008 tasks      | elapsed:    3.3s\n",
            "[Parallel(n_jobs=5)]: Done 1053 tasks      | elapsed:    3.4s\n",
            "[Parallel(n_jobs=5)]: Done 1070 tasks      | elapsed:    3.4s\n",
            "[Parallel(n_jobs=5)]: Done 1080 out of 1080 | elapsed:    3.5s finished\n",
            "[Parallel(n_jobs=5)]: Using backend LokyBackend with 5 concurrent workers.\n",
            "[Parallel(n_jobs=5)]: Batch computation too fast (0.0161s.) Setting batch_size=2.\n",
            "[Parallel(n_jobs=5)]: Done   3 tasks      | elapsed:    0.0s\n"
          ],
          "name": "stderr"
        },
        {
          "output_type": "stream",
          "text": [
            "it 4/10-Modelo 4/5\n",
            "[{'reg__fit_intercept': 0.5, 'rep__n_components': 3}, {'reg__alpha': 0.001, 'reg__fit_intercept': 0.5, 'rep__n_components': 3}, {'reg__alpha': 0.001, 'rep__n_components': 3}, {'reg__alpha': 0.001, 'reg__l1_ratio': 0.5, 'rep__n_components': 3}, {'reg__alpha': 0.001, 'reg__gamma': 0.01, 'rep__n_components': 3}, {'reg__fit_intercept': 0.5, 'rep__n_components': 3}, {'reg__alpha': 0.001, 'reg__fit_intercept': 0.5, 'rep__n_components': 3}, {'reg__alpha': 0.001, 'rep__n_components': 3}, {'reg__alpha': 0.001, 'reg__l1_ratio': 0.5, 'rep__n_components': 2}, {'reg__alpha': 0.001, 'reg__gamma': 0.01, 'rep__n_components': 3}, {'reg__fit_intercept': 0.5, 'rep__n_components': 2}, {'reg__alpha': 0.001, 'reg__fit_intercept': 0.5, 'rep__n_components': 2}, {'reg__alpha': 0.001, 'rep__n_components': 2}, {'reg__alpha': 0.001, 'reg__l1_ratio': 0.5, 'rep__n_components': 2}, {'reg__alpha': 0.001, 'reg__gamma': 0.1, 'rep__n_components': 0.5}, {'reg__fit_intercept': 0.5, 'rep__n_components': 2}, {'reg__alpha': 0.001, 'reg__fit_intercept': 0.5, 'rep__n_components': 2}, {'reg__alpha': 0.001, 'rep__n_components': 2}, {'reg__alpha': 0.001, 'reg__l1_ratio': 0.5, 'rep__n_components': 2}, {'reg__alpha': 0.001, 'reg__gamma': 0.01, 'rep__n_components': 2}]\n",
            "mae: 50.12054705814574\n",
            "it 5/10\n",
            "Fitting 5 folds for each of 36 candidates, totalling 180 fits\n"
          ],
          "name": "stdout"
        },
        {
          "output_type": "stream",
          "text": [
            "[Parallel(n_jobs=5)]: Done   8 tasks      | elapsed:    0.1s\n",
            "[Parallel(n_jobs=5)]: Batch computation too fast (0.0633s.) Setting batch_size=4.\n",
            "[Parallel(n_jobs=5)]: Done  20 tasks      | elapsed:    0.1s\n",
            "[Parallel(n_jobs=5)]: Batch computation too fast (0.0757s.) Setting batch_size=8.\n",
            "[Parallel(n_jobs=5)]: Done  38 tasks      | elapsed:    0.2s\n",
            "[Parallel(n_jobs=5)]: Done  78 tasks      | elapsed:    0.3s\n",
            "[Parallel(n_jobs=5)]: Batch computation too fast (0.1075s.) Setting batch_size=16.\n",
            "[Parallel(n_jobs=5)]: Done 129 tasks      | elapsed:    0.5s\n",
            "[Parallel(n_jobs=5)]: Done 161 tasks      | elapsed:    0.6s\n",
            "[Parallel(n_jobs=5)]: Done 180 out of 180 | elapsed:    0.6s finished\n",
            "[Parallel(n_jobs=5)]: Using backend LokyBackend with 5 concurrent workers.\n",
            "[Parallel(n_jobs=5)]: Batch computation too fast (0.0067s.) Setting batch_size=2.\n",
            "[Parallel(n_jobs=5)]: Done   3 tasks      | elapsed:    0.0s\n",
            "[Parallel(n_jobs=5)]: Done   8 tasks      | elapsed:    0.0s\n",
            "[Parallel(n_jobs=5)]: Batch computation too fast (0.0585s.) Setting batch_size=4.\n"
          ],
          "name": "stderr"
        },
        {
          "output_type": "stream",
          "text": [
            "it 5/10-Modelo 0/5\n",
            "[{'reg__fit_intercept': 0.5, 'rep__n_components': 3}, {'reg__alpha': 0.001, 'reg__fit_intercept': 0.5, 'rep__n_components': 3}, {'reg__alpha': 0.001, 'rep__n_components': 3}, {'reg__alpha': 0.001, 'reg__l1_ratio': 0.5, 'rep__n_components': 3}, {'reg__alpha': 0.001, 'reg__gamma': 0.01, 'rep__n_components': 3}, {'reg__fit_intercept': 0.5, 'rep__n_components': 3}, {'reg__alpha': 0.001, 'reg__fit_intercept': 0.5, 'rep__n_components': 3}, {'reg__alpha': 0.001, 'rep__n_components': 3}, {'reg__alpha': 0.001, 'reg__l1_ratio': 0.5, 'rep__n_components': 2}, {'reg__alpha': 0.001, 'reg__gamma': 0.01, 'rep__n_components': 3}, {'reg__fit_intercept': 0.5, 'rep__n_components': 2}, {'reg__alpha': 0.001, 'reg__fit_intercept': 0.5, 'rep__n_components': 2}, {'reg__alpha': 0.001, 'rep__n_components': 2}, {'reg__alpha': 0.001, 'reg__l1_ratio': 0.5, 'rep__n_components': 2}, {'reg__alpha': 0.001, 'reg__gamma': 0.1, 'rep__n_components': 0.5}, {'reg__fit_intercept': 0.5, 'rep__n_components': 2}, {'reg__alpha': 0.001, 'reg__fit_intercept': 0.5, 'rep__n_components': 2}, {'reg__alpha': 0.001, 'rep__n_components': 2}, {'reg__alpha': 0.001, 'reg__l1_ratio': 0.5, 'rep__n_components': 2}, {'reg__alpha': 0.001, 'reg__gamma': 0.01, 'rep__n_components': 2}, {'reg__fit_intercept': 0.5, 'rep__n_components': 3}]\n",
            "mae: 46.94032957543753\n",
            "Fitting 5 folds for each of 216 candidates, totalling 1080 fits\n"
          ],
          "name": "stdout"
        },
        {
          "output_type": "stream",
          "text": [
            "[Parallel(n_jobs=5)]: Done  20 tasks      | elapsed:    0.1s\n",
            "[Parallel(n_jobs=5)]: Batch computation too fast (0.0485s.) Setting batch_size=8.\n",
            "[Parallel(n_jobs=5)]: Done  38 tasks      | elapsed:    0.2s\n",
            "[Parallel(n_jobs=5)]: Done  78 tasks      | elapsed:    0.3s\n",
            "[Parallel(n_jobs=5)]: Batch computation too fast (0.1368s.) Setting batch_size=16.\n",
            "[Parallel(n_jobs=5)]: Done 150 tasks      | elapsed:    0.7s\n",
            "[Parallel(n_jobs=5)]: Batch computation too fast (0.1953s.) Setting batch_size=32.\n",
            "[Parallel(n_jobs=5)]: Done 342 tasks      | elapsed:    1.3s\n",
            "[Parallel(n_jobs=5)]: Done 694 tasks      | elapsed:    2.5s\n",
            "[Parallel(n_jobs=5)]: Done 930 tasks      | elapsed:    2.6s\n",
            "[Parallel(n_jobs=5)]: Done 956 tasks      | elapsed:    2.7s\n",
            "[Parallel(n_jobs=5)]: Done 1016 tasks      | elapsed:    2.8s\n",
            "[Parallel(n_jobs=5)]: Done 1046 tasks      | elapsed:    2.9s\n",
            "[Parallel(n_jobs=5)]: Done 1080 out of 1080 | elapsed:    3.0s finished\n",
            "[Parallel(n_jobs=5)]: Using backend LokyBackend with 5 concurrent workers.\n",
            "[Parallel(n_jobs=5)]: Batch computation too fast (0.0092s.) Setting batch_size=2.\n",
            "[Parallel(n_jobs=5)]: Done   3 tasks      | elapsed:    0.0s\n",
            "[Parallel(n_jobs=5)]: Done   8 tasks      | elapsed:    0.0s\n",
            "[Parallel(n_jobs=5)]: Batch computation too fast (0.0554s.) Setting batch_size=4.\n",
            "[Parallel(n_jobs=5)]: Done  20 tasks      | elapsed:    0.1s\n",
            "[Parallel(n_jobs=5)]: Batch computation too fast (0.0658s.) Setting batch_size=8.\n"
          ],
          "name": "stderr"
        },
        {
          "output_type": "stream",
          "text": [
            "it 5/10-Modelo 1/5\n",
            "[{'reg__fit_intercept': 0.5, 'rep__n_components': 3}, {'reg__alpha': 0.001, 'reg__fit_intercept': 0.5, 'rep__n_components': 3}, {'reg__alpha': 0.001, 'rep__n_components': 3}, {'reg__alpha': 0.001, 'reg__l1_ratio': 0.5, 'rep__n_components': 3}, {'reg__alpha': 0.001, 'reg__gamma': 0.01, 'rep__n_components': 3}, {'reg__fit_intercept': 0.5, 'rep__n_components': 3}, {'reg__alpha': 0.001, 'reg__fit_intercept': 0.5, 'rep__n_components': 3}, {'reg__alpha': 0.001, 'rep__n_components': 3}, {'reg__alpha': 0.001, 'reg__l1_ratio': 0.5, 'rep__n_components': 2}, {'reg__alpha': 0.001, 'reg__gamma': 0.01, 'rep__n_components': 3}, {'reg__fit_intercept': 0.5, 'rep__n_components': 2}, {'reg__alpha': 0.001, 'reg__fit_intercept': 0.5, 'rep__n_components': 2}, {'reg__alpha': 0.001, 'rep__n_components': 2}, {'reg__alpha': 0.001, 'reg__l1_ratio': 0.5, 'rep__n_components': 2}, {'reg__alpha': 0.001, 'reg__gamma': 0.1, 'rep__n_components': 0.5}, {'reg__fit_intercept': 0.5, 'rep__n_components': 2}, {'reg__alpha': 0.001, 'reg__fit_intercept': 0.5, 'rep__n_components': 2}, {'reg__alpha': 0.001, 'rep__n_components': 2}, {'reg__alpha': 0.001, 'reg__l1_ratio': 0.5, 'rep__n_components': 2}, {'reg__alpha': 0.001, 'reg__gamma': 0.01, 'rep__n_components': 2}, {'reg__fit_intercept': 0.5, 'rep__n_components': 3}, {'reg__alpha': 0.001, 'reg__fit_intercept': 0.5, 'rep__n_components': 3}]\n",
            "mae: 46.996436424239555\n",
            "Fitting 5 folds for each of 36 candidates, totalling 180 fits\n"
          ],
          "name": "stdout"
        },
        {
          "output_type": "stream",
          "text": [
            "[Parallel(n_jobs=5)]: Done  38 tasks      | elapsed:    0.2s\n",
            "[Parallel(n_jobs=5)]: Done  78 tasks      | elapsed:    0.3s\n",
            "[Parallel(n_jobs=5)]: Batch computation too fast (0.1113s.) Setting batch_size=16.\n",
            "[Parallel(n_jobs=5)]: Done 129 tasks      | elapsed:    0.5s\n",
            "[Parallel(n_jobs=5)]: Done 161 tasks      | elapsed:    0.6s\n",
            "[Parallel(n_jobs=5)]: Done 180 out of 180 | elapsed:    0.6s finished\n",
            "[Parallel(n_jobs=5)]: Using backend LokyBackend with 5 concurrent workers.\n",
            "[Parallel(n_jobs=5)]: Batch computation too fast (0.0140s.) Setting batch_size=2.\n",
            "[Parallel(n_jobs=5)]: Done   3 tasks      | elapsed:    0.0s\n"
          ],
          "name": "stderr"
        },
        {
          "output_type": "stream",
          "text": [
            "it 5/10-Modelo 2/5\n",
            "[{'reg__fit_intercept': 0.5, 'rep__n_components': 3}, {'reg__alpha': 0.001, 'reg__fit_intercept': 0.5, 'rep__n_components': 3}, {'reg__alpha': 0.001, 'rep__n_components': 3}, {'reg__alpha': 0.001, 'reg__l1_ratio': 0.5, 'rep__n_components': 3}, {'reg__alpha': 0.001, 'reg__gamma': 0.01, 'rep__n_components': 3}, {'reg__fit_intercept': 0.5, 'rep__n_components': 3}, {'reg__alpha': 0.001, 'reg__fit_intercept': 0.5, 'rep__n_components': 3}, {'reg__alpha': 0.001, 'rep__n_components': 3}, {'reg__alpha': 0.001, 'reg__l1_ratio': 0.5, 'rep__n_components': 2}, {'reg__alpha': 0.001, 'reg__gamma': 0.01, 'rep__n_components': 3}, {'reg__fit_intercept': 0.5, 'rep__n_components': 2}, {'reg__alpha': 0.001, 'reg__fit_intercept': 0.5, 'rep__n_components': 2}, {'reg__alpha': 0.001, 'rep__n_components': 2}, {'reg__alpha': 0.001, 'reg__l1_ratio': 0.5, 'rep__n_components': 2}, {'reg__alpha': 0.001, 'reg__gamma': 0.1, 'rep__n_components': 0.5}, {'reg__fit_intercept': 0.5, 'rep__n_components': 2}, {'reg__alpha': 0.001, 'reg__fit_intercept': 0.5, 'rep__n_components': 2}, {'reg__alpha': 0.001, 'rep__n_components': 2}, {'reg__alpha': 0.001, 'reg__l1_ratio': 0.5, 'rep__n_components': 2}, {'reg__alpha': 0.001, 'reg__gamma': 0.01, 'rep__n_components': 2}, {'reg__fit_intercept': 0.5, 'rep__n_components': 3}, {'reg__alpha': 0.001, 'reg__fit_intercept': 0.5, 'rep__n_components': 3}, {'reg__alpha': 0.001, 'rep__n_components': 3}]\n",
            "mae: 46.94337102895554\n",
            "Fitting 5 folds for each of 216 candidates, totalling 1080 fits\n"
          ],
          "name": "stdout"
        },
        {
          "output_type": "stream",
          "text": [
            "[Parallel(n_jobs=5)]: Done   8 tasks      | elapsed:    0.0s\n",
            "[Parallel(n_jobs=5)]: Batch computation too fast (0.0497s.) Setting batch_size=4.\n",
            "[Parallel(n_jobs=5)]: Done  20 tasks      | elapsed:    0.1s\n",
            "[Parallel(n_jobs=5)]: Batch computation too fast (0.0501s.) Setting batch_size=8.\n",
            "[Parallel(n_jobs=5)]: Done  38 tasks      | elapsed:    0.2s\n",
            "[Parallel(n_jobs=5)]: Done  78 tasks      | elapsed:    0.4s\n",
            "[Parallel(n_jobs=5)]: Batch computation too fast (0.1377s.) Setting batch_size=16.\n",
            "[Parallel(n_jobs=5)]: Done 150 tasks      | elapsed:    0.6s\n",
            "[Parallel(n_jobs=5)]: Batch computation too fast (0.1853s.) Setting batch_size=32.\n",
            "[Parallel(n_jobs=5)]: Done 342 tasks      | elapsed:    1.3s\n",
            "[Parallel(n_jobs=5)]: Done 694 tasks      | elapsed:    2.6s\n",
            "[Parallel(n_jobs=5)]: Done 870 tasks      | elapsed:    2.8s\n",
            "[Parallel(n_jobs=5)]: Done 956 tasks      | elapsed:    2.9s\n",
            "[Parallel(n_jobs=5)]: Done 1016 tasks      | elapsed:    3.0s\n",
            "[Parallel(n_jobs=5)]: Done 1046 tasks      | elapsed:    3.1s\n",
            "[Parallel(n_jobs=5)]: Done 1080 out of 1080 | elapsed:    3.2s finished\n",
            "[Parallel(n_jobs=5)]: Using backend LokyBackend with 5 concurrent workers.\n",
            "[Parallel(n_jobs=5)]: Batch computation too fast (0.0145s.) Setting batch_size=2.\n",
            "[Parallel(n_jobs=5)]: Done   3 tasks      | elapsed:    0.0s\n",
            "[Parallel(n_jobs=5)]: Done   8 tasks      | elapsed:    0.1s\n",
            "[Parallel(n_jobs=5)]: Batch computation too fast (0.0420s.) Setting batch_size=4.\n"
          ],
          "name": "stderr"
        },
        {
          "output_type": "stream",
          "text": [
            "it 5/10-Modelo 3/5\n",
            "[{'reg__fit_intercept': 0.5, 'rep__n_components': 3}, {'reg__alpha': 0.001, 'reg__fit_intercept': 0.5, 'rep__n_components': 3}, {'reg__alpha': 0.001, 'rep__n_components': 3}, {'reg__alpha': 0.001, 'reg__l1_ratio': 0.5, 'rep__n_components': 3}, {'reg__alpha': 0.001, 'reg__gamma': 0.01, 'rep__n_components': 3}, {'reg__fit_intercept': 0.5, 'rep__n_components': 3}, {'reg__alpha': 0.001, 'reg__fit_intercept': 0.5, 'rep__n_components': 3}, {'reg__alpha': 0.001, 'rep__n_components': 3}, {'reg__alpha': 0.001, 'reg__l1_ratio': 0.5, 'rep__n_components': 2}, {'reg__alpha': 0.001, 'reg__gamma': 0.01, 'rep__n_components': 3}, {'reg__fit_intercept': 0.5, 'rep__n_components': 2}, {'reg__alpha': 0.001, 'reg__fit_intercept': 0.5, 'rep__n_components': 2}, {'reg__alpha': 0.001, 'rep__n_components': 2}, {'reg__alpha': 0.001, 'reg__l1_ratio': 0.5, 'rep__n_components': 2}, {'reg__alpha': 0.001, 'reg__gamma': 0.1, 'rep__n_components': 0.5}, {'reg__fit_intercept': 0.5, 'rep__n_components': 2}, {'reg__alpha': 0.001, 'reg__fit_intercept': 0.5, 'rep__n_components': 2}, {'reg__alpha': 0.001, 'rep__n_components': 2}, {'reg__alpha': 0.001, 'reg__l1_ratio': 0.5, 'rep__n_components': 2}, {'reg__alpha': 0.001, 'reg__gamma': 0.01, 'rep__n_components': 2}, {'reg__fit_intercept': 0.5, 'rep__n_components': 3}, {'reg__alpha': 0.001, 'reg__fit_intercept': 0.5, 'rep__n_components': 3}, {'reg__alpha': 0.001, 'rep__n_components': 3}, {'reg__alpha': 0.001, 'reg__l1_ratio': 0.5, 'rep__n_components': 3}]\n",
            "mae: 48.466536968024016\n",
            "Fitting 5 folds for each of 216 candidates, totalling 1080 fits\n"
          ],
          "name": "stdout"
        },
        {
          "output_type": "stream",
          "text": [
            "[Parallel(n_jobs=5)]: Done  20 tasks      | elapsed:    0.1s\n",
            "[Parallel(n_jobs=5)]: Batch computation too fast (0.0900s.) Setting batch_size=8.\n",
            "[Parallel(n_jobs=5)]: Done  38 tasks      | elapsed:    0.2s\n",
            "[Parallel(n_jobs=5)]: Done  78 tasks      | elapsed:    0.4s\n",
            "[Parallel(n_jobs=5)]: Batch computation too fast (0.1468s.) Setting batch_size=16.\n",
            "[Parallel(n_jobs=5)]: Done 150 tasks      | elapsed:    0.7s\n",
            "[Parallel(n_jobs=5)]: Batch computation too fast (0.1706s.) Setting batch_size=32.\n",
            "[Parallel(n_jobs=5)]: Done 342 tasks      | elapsed:    1.5s\n",
            "[Parallel(n_jobs=5)]: Done 694 tasks      | elapsed:    2.8s\n",
            "[Parallel(n_jobs=5)]: Done 870 tasks      | elapsed:    3.0s\n",
            "[Parallel(n_jobs=5)]: Done 956 tasks      | elapsed:    3.2s\n",
            "[Parallel(n_jobs=5)]: Done 1016 tasks      | elapsed:    3.3s\n",
            "[Parallel(n_jobs=5)]: Done 1046 tasks      | elapsed:    3.4s\n",
            "[Parallel(n_jobs=5)]: Done 1080 out of 1080 | elapsed:    3.5s finished\n",
            "[Parallel(n_jobs=5)]: Using backend LokyBackend with 5 concurrent workers.\n",
            "[Parallel(n_jobs=5)]: Batch computation too fast (0.0190s.) Setting batch_size=2.\n",
            "[Parallel(n_jobs=5)]: Done   3 tasks      | elapsed:    0.0s\n"
          ],
          "name": "stderr"
        },
        {
          "output_type": "stream",
          "text": [
            "it 5/10-Modelo 4/5\n",
            "[{'reg__fit_intercept': 0.5, 'rep__n_components': 3}, {'reg__alpha': 0.001, 'reg__fit_intercept': 0.5, 'rep__n_components': 3}, {'reg__alpha': 0.001, 'rep__n_components': 3}, {'reg__alpha': 0.001, 'reg__l1_ratio': 0.5, 'rep__n_components': 3}, {'reg__alpha': 0.001, 'reg__gamma': 0.01, 'rep__n_components': 3}, {'reg__fit_intercept': 0.5, 'rep__n_components': 3}, {'reg__alpha': 0.001, 'reg__fit_intercept': 0.5, 'rep__n_components': 3}, {'reg__alpha': 0.001, 'rep__n_components': 3}, {'reg__alpha': 0.001, 'reg__l1_ratio': 0.5, 'rep__n_components': 2}, {'reg__alpha': 0.001, 'reg__gamma': 0.01, 'rep__n_components': 3}, {'reg__fit_intercept': 0.5, 'rep__n_components': 2}, {'reg__alpha': 0.001, 'reg__fit_intercept': 0.5, 'rep__n_components': 2}, {'reg__alpha': 0.001, 'rep__n_components': 2}, {'reg__alpha': 0.001, 'reg__l1_ratio': 0.5, 'rep__n_components': 2}, {'reg__alpha': 0.001, 'reg__gamma': 0.1, 'rep__n_components': 0.5}, {'reg__fit_intercept': 0.5, 'rep__n_components': 2}, {'reg__alpha': 0.001, 'reg__fit_intercept': 0.5, 'rep__n_components': 2}, {'reg__alpha': 0.001, 'rep__n_components': 2}, {'reg__alpha': 0.001, 'reg__l1_ratio': 0.5, 'rep__n_components': 2}, {'reg__alpha': 0.001, 'reg__gamma': 0.01, 'rep__n_components': 2}, {'reg__fit_intercept': 0.5, 'rep__n_components': 3}, {'reg__alpha': 0.001, 'reg__fit_intercept': 0.5, 'rep__n_components': 3}, {'reg__alpha': 0.001, 'rep__n_components': 3}, {'reg__alpha': 0.001, 'reg__l1_ratio': 0.5, 'rep__n_components': 3}, {'reg__alpha': 0.001, 'reg__gamma': 0.01, 'rep__n_components': 2}]\n",
            "mae: 37.714195660920915\n",
            "it 6/10\n",
            "Fitting 5 folds for each of 36 candidates, totalling 180 fits\n"
          ],
          "name": "stdout"
        },
        {
          "output_type": "stream",
          "text": [
            "[Parallel(n_jobs=5)]: Done   8 tasks      | elapsed:    0.1s\n",
            "[Parallel(n_jobs=5)]: Batch computation too fast (0.0454s.) Setting batch_size=4.\n",
            "[Parallel(n_jobs=5)]: Done  20 tasks      | elapsed:    0.1s\n",
            "[Parallel(n_jobs=5)]: Batch computation too fast (0.1040s.) Setting batch_size=8.\n",
            "[Parallel(n_jobs=5)]: Done  38 tasks      | elapsed:    0.2s\n",
            "[Parallel(n_jobs=5)]: Done  78 tasks      | elapsed:    0.3s\n",
            "[Parallel(n_jobs=5)]: Batch computation too fast (0.0978s.) Setting batch_size=16.\n",
            "[Parallel(n_jobs=5)]: Done 129 tasks      | elapsed:    0.5s\n",
            "[Parallel(n_jobs=5)]: Done 154 tasks      | elapsed:    0.5s\n",
            "[Parallel(n_jobs=5)]: Done 180 out of 180 | elapsed:    0.6s finished\n",
            "[Parallel(n_jobs=5)]: Using backend LokyBackend with 5 concurrent workers.\n",
            "[Parallel(n_jobs=5)]: Done   1 tasks      | elapsed:    0.0s\n",
            "[Parallel(n_jobs=5)]: Batch computation too fast (0.0095s.) Setting batch_size=2.\n",
            "[Parallel(n_jobs=5)]: Batch computation too fast (0.0095s.) Setting batch_size=4.\n",
            "[Parallel(n_jobs=5)]: Done   4 tasks      | elapsed:    0.0s\n",
            "[Parallel(n_jobs=5)]: Done  12 tasks      | elapsed:    0.1s\n",
            "[Parallel(n_jobs=5)]: Batch computation too fast (0.0723s.) Setting batch_size=8.\n",
            "[Parallel(n_jobs=5)]: Done  34 tasks      | elapsed:    0.2s\n"
          ],
          "name": "stderr"
        },
        {
          "output_type": "stream",
          "text": [
            "it 6/10-Modelo 0/5\n",
            "[{'reg__fit_intercept': 0.5, 'rep__n_components': 3}, {'reg__alpha': 0.001, 'reg__fit_intercept': 0.5, 'rep__n_components': 3}, {'reg__alpha': 0.001, 'rep__n_components': 3}, {'reg__alpha': 0.001, 'reg__l1_ratio': 0.5, 'rep__n_components': 3}, {'reg__alpha': 0.001, 'reg__gamma': 0.01, 'rep__n_components': 3}, {'reg__fit_intercept': 0.5, 'rep__n_components': 3}, {'reg__alpha': 0.001, 'reg__fit_intercept': 0.5, 'rep__n_components': 3}, {'reg__alpha': 0.001, 'rep__n_components': 3}, {'reg__alpha': 0.001, 'reg__l1_ratio': 0.5, 'rep__n_components': 2}, {'reg__alpha': 0.001, 'reg__gamma': 0.01, 'rep__n_components': 3}, {'reg__fit_intercept': 0.5, 'rep__n_components': 2}, {'reg__alpha': 0.001, 'reg__fit_intercept': 0.5, 'rep__n_components': 2}, {'reg__alpha': 0.001, 'rep__n_components': 2}, {'reg__alpha': 0.001, 'reg__l1_ratio': 0.5, 'rep__n_components': 2}, {'reg__alpha': 0.001, 'reg__gamma': 0.1, 'rep__n_components': 0.5}, {'reg__fit_intercept': 0.5, 'rep__n_components': 2}, {'reg__alpha': 0.001, 'reg__fit_intercept': 0.5, 'rep__n_components': 2}, {'reg__alpha': 0.001, 'rep__n_components': 2}, {'reg__alpha': 0.001, 'reg__l1_ratio': 0.5, 'rep__n_components': 2}, {'reg__alpha': 0.001, 'reg__gamma': 0.01, 'rep__n_components': 2}, {'reg__fit_intercept': 0.5, 'rep__n_components': 3}, {'reg__alpha': 0.001, 'reg__fit_intercept': 0.5, 'rep__n_components': 3}, {'reg__alpha': 0.001, 'rep__n_components': 3}, {'reg__alpha': 0.001, 'reg__l1_ratio': 0.5, 'rep__n_components': 3}, {'reg__alpha': 0.001, 'reg__gamma': 0.01, 'rep__n_components': 2}, {'reg__fit_intercept': 0.5, 'rep__n_components': 3}]\n",
            "mae: 41.15442235455365\n",
            "Fitting 5 folds for each of 216 candidates, totalling 1080 fits\n"
          ],
          "name": "stdout"
        },
        {
          "output_type": "stream",
          "text": [
            "[Parallel(n_jobs=5)]: Batch computation too fast (0.1300s.) Setting batch_size=16.\n",
            "[Parallel(n_jobs=5)]: Done  74 tasks      | elapsed:    0.4s\n",
            "[Parallel(n_jobs=5)]: Batch computation too fast (0.1982s.) Setting batch_size=32.\n",
            "[Parallel(n_jobs=5)]: Done 162 tasks      | elapsed:    0.6s\n",
            "[Parallel(n_jobs=5)]: Done 322 tasks      | elapsed:    1.2s\n",
            "[Parallel(n_jobs=5)]: Done 674 tasks      | elapsed:    2.1s\n",
            "[Parallel(n_jobs=5)]: Done 881 tasks      | elapsed:    2.6s\n",
            "[Parallel(n_jobs=5)]: Done 949 tasks      | elapsed:    2.8s\n",
            "[Parallel(n_jobs=5)]: Done 1017 tasks      | elapsed:    2.9s\n",
            "[Parallel(n_jobs=5)]: Done 1071 out of 1080 | elapsed:    3.0s remaining:    0.0s\n",
            "[Parallel(n_jobs=5)]: Done 1080 out of 1080 | elapsed:    3.0s finished\n",
            "[Parallel(n_jobs=5)]: Using backend LokyBackend with 5 concurrent workers.\n",
            "[Parallel(n_jobs=5)]: Batch computation too fast (0.0142s.) Setting batch_size=2.\n"
          ],
          "name": "stderr"
        },
        {
          "output_type": "stream",
          "text": [
            "it 6/10-Modelo 1/5\n",
            "[{'reg__fit_intercept': 0.5, 'rep__n_components': 3}, {'reg__alpha': 0.001, 'reg__fit_intercept': 0.5, 'rep__n_components': 3}, {'reg__alpha': 0.001, 'rep__n_components': 3}, {'reg__alpha': 0.001, 'reg__l1_ratio': 0.5, 'rep__n_components': 3}, {'reg__alpha': 0.001, 'reg__gamma': 0.01, 'rep__n_components': 3}, {'reg__fit_intercept': 0.5, 'rep__n_components': 3}, {'reg__alpha': 0.001, 'reg__fit_intercept': 0.5, 'rep__n_components': 3}, {'reg__alpha': 0.001, 'rep__n_components': 3}, {'reg__alpha': 0.001, 'reg__l1_ratio': 0.5, 'rep__n_components': 2}, {'reg__alpha': 0.001, 'reg__gamma': 0.01, 'rep__n_components': 3}, {'reg__fit_intercept': 0.5, 'rep__n_components': 2}, {'reg__alpha': 0.001, 'reg__fit_intercept': 0.5, 'rep__n_components': 2}, {'reg__alpha': 0.001, 'rep__n_components': 2}, {'reg__alpha': 0.001, 'reg__l1_ratio': 0.5, 'rep__n_components': 2}, {'reg__alpha': 0.001, 'reg__gamma': 0.1, 'rep__n_components': 0.5}, {'reg__fit_intercept': 0.5, 'rep__n_components': 2}, {'reg__alpha': 0.001, 'reg__fit_intercept': 0.5, 'rep__n_components': 2}, {'reg__alpha': 0.001, 'rep__n_components': 2}, {'reg__alpha': 0.001, 'reg__l1_ratio': 0.5, 'rep__n_components': 2}, {'reg__alpha': 0.001, 'reg__gamma': 0.01, 'rep__n_components': 2}, {'reg__fit_intercept': 0.5, 'rep__n_components': 3}, {'reg__alpha': 0.001, 'reg__fit_intercept': 0.5, 'rep__n_components': 3}, {'reg__alpha': 0.001, 'rep__n_components': 3}, {'reg__alpha': 0.001, 'reg__l1_ratio': 0.5, 'rep__n_components': 3}, {'reg__alpha': 0.001, 'reg__gamma': 0.01, 'rep__n_components': 2}, {'reg__fit_intercept': 0.5, 'rep__n_components': 3}, {'reg__alpha': 0.001, 'reg__fit_intercept': 0.5, 'rep__n_components': 3}]\n",
            "mae: 41.22797942807493\n",
            "Fitting 5 folds for each of 36 candidates, totalling 180 fits\n"
          ],
          "name": "stdout"
        },
        {
          "output_type": "stream",
          "text": [
            "[Parallel(n_jobs=5)]: Done   3 tasks      | elapsed:    0.0s\n",
            "[Parallel(n_jobs=5)]: Done   8 tasks      | elapsed:    0.1s\n",
            "[Parallel(n_jobs=5)]: Batch computation too fast (0.0341s.) Setting batch_size=4.\n",
            "[Parallel(n_jobs=5)]: Done  20 tasks      | elapsed:    0.1s\n",
            "[Parallel(n_jobs=5)]: Batch computation too fast (0.0826s.) Setting batch_size=8.\n",
            "[Parallel(n_jobs=5)]: Done  38 tasks      | elapsed:    0.2s\n",
            "[Parallel(n_jobs=5)]: Done  78 tasks      | elapsed:    0.4s\n",
            "[Parallel(n_jobs=5)]: Batch computation too fast (0.1494s.) Setting batch_size=16.\n",
            "[Parallel(n_jobs=5)]: Done 129 tasks      | elapsed:    0.5s\n",
            "[Parallel(n_jobs=5)]: Done 161 tasks      | elapsed:    0.6s\n",
            "[Parallel(n_jobs=5)]: Done 180 out of 180 | elapsed:    0.7s finished\n",
            "[Parallel(n_jobs=5)]: Using backend LokyBackend with 5 concurrent workers.\n",
            "[Parallel(n_jobs=5)]: Batch computation too fast (0.0152s.) Setting batch_size=2.\n",
            "[Parallel(n_jobs=5)]: Done   3 tasks      | elapsed:    0.0s\n"
          ],
          "name": "stderr"
        },
        {
          "output_type": "stream",
          "text": [
            "it 6/10-Modelo 2/5\n",
            "[{'reg__fit_intercept': 0.5, 'rep__n_components': 3}, {'reg__alpha': 0.001, 'reg__fit_intercept': 0.5, 'rep__n_components': 3}, {'reg__alpha': 0.001, 'rep__n_components': 3}, {'reg__alpha': 0.001, 'reg__l1_ratio': 0.5, 'rep__n_components': 3}, {'reg__alpha': 0.001, 'reg__gamma': 0.01, 'rep__n_components': 3}, {'reg__fit_intercept': 0.5, 'rep__n_components': 3}, {'reg__alpha': 0.001, 'reg__fit_intercept': 0.5, 'rep__n_components': 3}, {'reg__alpha': 0.001, 'rep__n_components': 3}, {'reg__alpha': 0.001, 'reg__l1_ratio': 0.5, 'rep__n_components': 2}, {'reg__alpha': 0.001, 'reg__gamma': 0.01, 'rep__n_components': 3}, {'reg__fit_intercept': 0.5, 'rep__n_components': 2}, {'reg__alpha': 0.001, 'reg__fit_intercept': 0.5, 'rep__n_components': 2}, {'reg__alpha': 0.001, 'rep__n_components': 2}, {'reg__alpha': 0.001, 'reg__l1_ratio': 0.5, 'rep__n_components': 2}, {'reg__alpha': 0.001, 'reg__gamma': 0.1, 'rep__n_components': 0.5}, {'reg__fit_intercept': 0.5, 'rep__n_components': 2}, {'reg__alpha': 0.001, 'reg__fit_intercept': 0.5, 'rep__n_components': 2}, {'reg__alpha': 0.001, 'rep__n_components': 2}, {'reg__alpha': 0.001, 'reg__l1_ratio': 0.5, 'rep__n_components': 2}, {'reg__alpha': 0.001, 'reg__gamma': 0.01, 'rep__n_components': 2}, {'reg__fit_intercept': 0.5, 'rep__n_components': 3}, {'reg__alpha': 0.001, 'reg__fit_intercept': 0.5, 'rep__n_components': 3}, {'reg__alpha': 0.001, 'rep__n_components': 3}, {'reg__alpha': 0.001, 'reg__l1_ratio': 0.5, 'rep__n_components': 3}, {'reg__alpha': 0.001, 'reg__gamma': 0.01, 'rep__n_components': 2}, {'reg__fit_intercept': 0.5, 'rep__n_components': 3}, {'reg__alpha': 0.001, 'reg__fit_intercept': 0.5, 'rep__n_components': 3}, {'reg__alpha': 0.001, 'rep__n_components': 3}]\n",
            "mae: 41.156332481670496\n",
            "Fitting 5 folds for each of 216 candidates, totalling 1080 fits\n"
          ],
          "name": "stdout"
        },
        {
          "output_type": "stream",
          "text": [
            "[Parallel(n_jobs=5)]: Done   8 tasks      | elapsed:    0.0s\n",
            "[Parallel(n_jobs=5)]: Batch computation too fast (0.0447s.) Setting batch_size=4.\n",
            "[Parallel(n_jobs=5)]: Done  20 tasks      | elapsed:    0.1s\n",
            "[Parallel(n_jobs=5)]: Batch computation too fast (0.0712s.) Setting batch_size=8.\n",
            "[Parallel(n_jobs=5)]: Done  38 tasks      | elapsed:    0.2s\n",
            "[Parallel(n_jobs=5)]: Done  78 tasks      | elapsed:    0.3s\n",
            "[Parallel(n_jobs=5)]: Batch computation too fast (0.1251s.) Setting batch_size=16.\n",
            "[Parallel(n_jobs=5)]: Done 150 tasks      | elapsed:    0.7s\n",
            "[Parallel(n_jobs=5)]: Done 326 tasks      | elapsed:    1.2s\n",
            "[Parallel(n_jobs=5)]: Done 502 tasks      | elapsed:    1.9s\n",
            "[Parallel(n_jobs=5)]: Done 710 tasks      | elapsed:    2.4s\n",
            "[Parallel(n_jobs=5)]: Done 918 tasks      | elapsed:    3.1s\n",
            "[Parallel(n_jobs=5)]: Done 1008 tasks      | elapsed:    3.2s\n",
            "[Parallel(n_jobs=5)]: Done 1038 tasks      | elapsed:    3.3s\n",
            "[Parallel(n_jobs=5)]: Done 1070 tasks      | elapsed:    3.4s\n",
            "[Parallel(n_jobs=5)]: Done 1080 out of 1080 | elapsed:    3.4s finished\n",
            "[Parallel(n_jobs=5)]: Using backend LokyBackend with 5 concurrent workers.\n",
            "[Parallel(n_jobs=5)]: Batch computation too fast (0.0079s.) Setting batch_size=2.\n",
            "[Parallel(n_jobs=5)]: Done   6 tasks      | elapsed:    0.0s\n"
          ],
          "name": "stderr"
        },
        {
          "output_type": "stream",
          "text": [
            "it 6/10-Modelo 3/5\n",
            "[{'reg__fit_intercept': 0.5, 'rep__n_components': 3}, {'reg__alpha': 0.001, 'reg__fit_intercept': 0.5, 'rep__n_components': 3}, {'reg__alpha': 0.001, 'rep__n_components': 3}, {'reg__alpha': 0.001, 'reg__l1_ratio': 0.5, 'rep__n_components': 3}, {'reg__alpha': 0.001, 'reg__gamma': 0.01, 'rep__n_components': 3}, {'reg__fit_intercept': 0.5, 'rep__n_components': 3}, {'reg__alpha': 0.001, 'reg__fit_intercept': 0.5, 'rep__n_components': 3}, {'reg__alpha': 0.001, 'rep__n_components': 3}, {'reg__alpha': 0.001, 'reg__l1_ratio': 0.5, 'rep__n_components': 2}, {'reg__alpha': 0.001, 'reg__gamma': 0.01, 'rep__n_components': 3}, {'reg__fit_intercept': 0.5, 'rep__n_components': 2}, {'reg__alpha': 0.001, 'reg__fit_intercept': 0.5, 'rep__n_components': 2}, {'reg__alpha': 0.001, 'rep__n_components': 2}, {'reg__alpha': 0.001, 'reg__l1_ratio': 0.5, 'rep__n_components': 2}, {'reg__alpha': 0.001, 'reg__gamma': 0.1, 'rep__n_components': 0.5}, {'reg__fit_intercept': 0.5, 'rep__n_components': 2}, {'reg__alpha': 0.001, 'reg__fit_intercept': 0.5, 'rep__n_components': 2}, {'reg__alpha': 0.001, 'rep__n_components': 2}, {'reg__alpha': 0.001, 'reg__l1_ratio': 0.5, 'rep__n_components': 2}, {'reg__alpha': 0.001, 'reg__gamma': 0.01, 'rep__n_components': 2}, {'reg__fit_intercept': 0.5, 'rep__n_components': 3}, {'reg__alpha': 0.001, 'reg__fit_intercept': 0.5, 'rep__n_components': 3}, {'reg__alpha': 0.001, 'rep__n_components': 3}, {'reg__alpha': 0.001, 'reg__l1_ratio': 0.5, 'rep__n_components': 3}, {'reg__alpha': 0.001, 'reg__gamma': 0.01, 'rep__n_components': 2}, {'reg__fit_intercept': 0.5, 'rep__n_components': 3}, {'reg__alpha': 0.001, 'reg__fit_intercept': 0.5, 'rep__n_components': 3}, {'reg__alpha': 0.001, 'rep__n_components': 3}, {'reg__alpha': 0.001, 'reg__l1_ratio': 0.5, 'rep__n_components': 3}]\n",
            "mae: 44.599928111027204\n",
            "Fitting 5 folds for each of 216 candidates, totalling 1080 fits\n"
          ],
          "name": "stdout"
        },
        {
          "output_type": "stream",
          "text": [
            "[Parallel(n_jobs=5)]: Batch computation too fast (0.0506s.) Setting batch_size=4.\n",
            "[Parallel(n_jobs=5)]: Done  16 tasks      | elapsed:    0.1s\n",
            "[Parallel(n_jobs=5)]: Done  30 tasks      | elapsed:    0.2s\n",
            "[Parallel(n_jobs=5)]: Batch computation too fast (0.0677s.) Setting batch_size=8.\n",
            "[Parallel(n_jobs=5)]: Done  56 tasks      | elapsed:    0.3s\n",
            "[Parallel(n_jobs=5)]: Done  92 tasks      | elapsed:    0.4s\n",
            "[Parallel(n_jobs=5)]: Batch computation too fast (0.1448s.) Setting batch_size=16.\n",
            "[Parallel(n_jobs=5)]: Done 172 tasks      | elapsed:    0.7s\n",
            "[Parallel(n_jobs=5)]: Done 300 tasks      | elapsed:    1.3s\n",
            "[Parallel(n_jobs=5)]: Done 508 tasks      | elapsed:    1.9s\n",
            "[Parallel(n_jobs=5)]: Done 716 tasks      | elapsed:    2.6s\n",
            "[Parallel(n_jobs=5)]: Done 956 tasks      | elapsed:    3.2s\n",
            "[Parallel(n_jobs=5)]: Done 1001 tasks      | elapsed:    3.3s\n",
            "[Parallel(n_jobs=5)]: Done 1033 tasks      | elapsed:    3.4s\n",
            "[Parallel(n_jobs=5)]: Done 1065 tasks      | elapsed:    3.4s\n",
            "[Parallel(n_jobs=5)]: Done 1071 out of 1080 | elapsed:    3.5s remaining:    0.0s\n",
            "[Parallel(n_jobs=5)]: Done 1080 out of 1080 | elapsed:    3.5s finished\n",
            "[Parallel(n_jobs=5)]: Using backend LokyBackend with 5 concurrent workers.\n",
            "[Parallel(n_jobs=5)]: Batch computation too fast (0.0080s.) Setting batch_size=2.\n",
            "[Parallel(n_jobs=5)]: Batch computation too fast (0.0080s.) Setting batch_size=4.\n",
            "[Parallel(n_jobs=5)]: Done   5 tasks      | elapsed:    0.1s\n",
            "[Parallel(n_jobs=5)]: Done  10 tasks      | elapsed:    0.1s\n"
          ],
          "name": "stderr"
        },
        {
          "output_type": "stream",
          "text": [
            "it 6/10-Modelo 4/5\n",
            "[{'reg__fit_intercept': 0.5, 'rep__n_components': 3}, {'reg__alpha': 0.001, 'reg__fit_intercept': 0.5, 'rep__n_components': 3}, {'reg__alpha': 0.001, 'rep__n_components': 3}, {'reg__alpha': 0.001, 'reg__l1_ratio': 0.5, 'rep__n_components': 3}, {'reg__alpha': 0.001, 'reg__gamma': 0.01, 'rep__n_components': 3}, {'reg__fit_intercept': 0.5, 'rep__n_components': 3}, {'reg__alpha': 0.001, 'reg__fit_intercept': 0.5, 'rep__n_components': 3}, {'reg__alpha': 0.001, 'rep__n_components': 3}, {'reg__alpha': 0.001, 'reg__l1_ratio': 0.5, 'rep__n_components': 2}, {'reg__alpha': 0.001, 'reg__gamma': 0.01, 'rep__n_components': 3}, {'reg__fit_intercept': 0.5, 'rep__n_components': 2}, {'reg__alpha': 0.001, 'reg__fit_intercept': 0.5, 'rep__n_components': 2}, {'reg__alpha': 0.001, 'rep__n_components': 2}, {'reg__alpha': 0.001, 'reg__l1_ratio': 0.5, 'rep__n_components': 2}, {'reg__alpha': 0.001, 'reg__gamma': 0.1, 'rep__n_components': 0.5}, {'reg__fit_intercept': 0.5, 'rep__n_components': 2}, {'reg__alpha': 0.001, 'reg__fit_intercept': 0.5, 'rep__n_components': 2}, {'reg__alpha': 0.001, 'rep__n_components': 2}, {'reg__alpha': 0.001, 'reg__l1_ratio': 0.5, 'rep__n_components': 2}, {'reg__alpha': 0.001, 'reg__gamma': 0.01, 'rep__n_components': 2}, {'reg__fit_intercept': 0.5, 'rep__n_components': 3}, {'reg__alpha': 0.001, 'reg__fit_intercept': 0.5, 'rep__n_components': 3}, {'reg__alpha': 0.001, 'rep__n_components': 3}, {'reg__alpha': 0.001, 'reg__l1_ratio': 0.5, 'rep__n_components': 3}, {'reg__alpha': 0.001, 'reg__gamma': 0.01, 'rep__n_components': 2}, {'reg__fit_intercept': 0.5, 'rep__n_components': 3}, {'reg__alpha': 0.001, 'reg__fit_intercept': 0.5, 'rep__n_components': 3}, {'reg__alpha': 0.001, 'rep__n_components': 3}, {'reg__alpha': 0.001, 'reg__l1_ratio': 0.5, 'rep__n_components': 3}, {'reg__alpha': 0.001, 'reg__gamma': 0.01, 'rep__n_components': 3}]\n",
            "mae: 42.93157678783128\n",
            "it 7/10\n",
            "Fitting 5 folds for each of 36 candidates, totalling 180 fits\n"
          ],
          "name": "stdout"
        },
        {
          "output_type": "stream",
          "text": [
            "[Parallel(n_jobs=5)]: Batch computation too fast (0.0660s.) Setting batch_size=8.\n",
            "[Parallel(n_jobs=5)]: Done  38 tasks      | elapsed:    0.2s\n",
            "[Parallel(n_jobs=5)]: Batch computation too fast (0.1007s.) Setting batch_size=16.\n",
            "[Parallel(n_jobs=5)]: Done  82 tasks      | elapsed:    0.4s\n",
            "[Parallel(n_jobs=5)]: Done 119 tasks      | elapsed:    0.5s\n",
            "[Parallel(n_jobs=5)]: Done 142 tasks      | elapsed:    0.5s\n",
            "[Parallel(n_jobs=5)]: Done 153 tasks      | elapsed:    0.5s\n",
            "[Parallel(n_jobs=5)]: Done 164 tasks      | elapsed:    0.6s\n",
            "[Parallel(n_jobs=5)]: Done 180 out of 180 | elapsed:    0.6s finished\n"
          ],
          "name": "stderr"
        },
        {
          "output_type": "stream",
          "text": [
            "it 7/10-Modelo 0/5\n",
            "[{'reg__fit_intercept': 0.5, 'rep__n_components': 3}, {'reg__alpha': 0.001, 'reg__fit_intercept': 0.5, 'rep__n_components': 3}, {'reg__alpha': 0.001, 'rep__n_components': 3}, {'reg__alpha': 0.001, 'reg__l1_ratio': 0.5, 'rep__n_components': 3}, {'reg__alpha': 0.001, 'reg__gamma': 0.01, 'rep__n_components': 3}, {'reg__fit_intercept': 0.5, 'rep__n_components': 3}, {'reg__alpha': 0.001, 'reg__fit_intercept': 0.5, 'rep__n_components': 3}, {'reg__alpha': 0.001, 'rep__n_components': 3}, {'reg__alpha': 0.001, 'reg__l1_ratio': 0.5, 'rep__n_components': 2}, {'reg__alpha': 0.001, 'reg__gamma': 0.01, 'rep__n_components': 3}, {'reg__fit_intercept': 0.5, 'rep__n_components': 2}, {'reg__alpha': 0.001, 'reg__fit_intercept': 0.5, 'rep__n_components': 2}, {'reg__alpha': 0.001, 'rep__n_components': 2}, {'reg__alpha': 0.001, 'reg__l1_ratio': 0.5, 'rep__n_components': 2}, {'reg__alpha': 0.001, 'reg__gamma': 0.1, 'rep__n_components': 0.5}, {'reg__fit_intercept': 0.5, 'rep__n_components': 2}, {'reg__alpha': 0.001, 'reg__fit_intercept': 0.5, 'rep__n_components': 2}, {'reg__alpha': 0.001, 'rep__n_components': 2}, {'reg__alpha': 0.001, 'reg__l1_ratio': 0.5, 'rep__n_components': 2}, {'reg__alpha': 0.001, 'reg__gamma': 0.01, 'rep__n_components': 2}, {'reg__fit_intercept': 0.5, 'rep__n_components': 3}, {'reg__alpha': 0.001, 'reg__fit_intercept': 0.5, 'rep__n_components': 3}, {'reg__alpha': 0.001, 'rep__n_components': 3}, {'reg__alpha': 0.001, 'reg__l1_ratio': 0.5, 'rep__n_components': 3}, {'reg__alpha': 0.001, 'reg__gamma': 0.01, 'rep__n_components': 2}, {'reg__fit_intercept': 0.5, 'rep__n_components': 3}, {'reg__alpha': 0.001, 'reg__fit_intercept': 0.5, 'rep__n_components': 3}, {'reg__alpha': 0.001, 'rep__n_components': 3}, {'reg__alpha': 0.001, 'reg__l1_ratio': 0.5, 'rep__n_components': 3}, {'reg__alpha': 0.001, 'reg__gamma': 0.01, 'rep__n_components': 3}, {'reg__fit_intercept': 0.5, 'rep__n_components': 3}]\n",
            "mae: 53.61362946532001\n",
            "Fitting 5 folds for each of 216 candidates, totalling 1080 fits\n"
          ],
          "name": "stdout"
        },
        {
          "output_type": "stream",
          "text": [
            "[Parallel(n_jobs=5)]: Using backend LokyBackend with 5 concurrent workers.\n",
            "[Parallel(n_jobs=5)]: Batch computation too fast (0.0141s.) Setting batch_size=2.\n",
            "[Parallel(n_jobs=5)]: Done   3 tasks      | elapsed:    0.0s\n",
            "[Parallel(n_jobs=5)]: Done   8 tasks      | elapsed:    0.1s\n",
            "[Parallel(n_jobs=5)]: Batch computation too fast (0.0408s.) Setting batch_size=4.\n",
            "[Parallel(n_jobs=5)]: Done  20 tasks      | elapsed:    0.1s\n",
            "[Parallel(n_jobs=5)]: Batch computation too fast (0.0722s.) Setting batch_size=8.\n",
            "[Parallel(n_jobs=5)]: Done  38 tasks      | elapsed:    0.2s\n",
            "[Parallel(n_jobs=5)]: Done  78 tasks      | elapsed:    0.3s\n",
            "[Parallel(n_jobs=5)]: Batch computation too fast (0.0746s.) Setting batch_size=16.\n",
            "[Parallel(n_jobs=5)]: Done 150 tasks      | elapsed:    0.5s\n",
            "[Parallel(n_jobs=5)]: Done 326 tasks      | elapsed:    1.1s\n",
            "[Parallel(n_jobs=5)]: Done 502 tasks      | elapsed:    1.8s\n",
            "[Parallel(n_jobs=5)]: Done 710 tasks      | elapsed:    2.2s\n",
            "[Parallel(n_jobs=5)]: Done 918 tasks      | elapsed:    2.8s\n",
            "[Parallel(n_jobs=5)]: Done 1008 tasks      | elapsed:    2.9s\n",
            "[Parallel(n_jobs=5)]: Done 1053 tasks      | elapsed:    3.0s\n",
            "[Parallel(n_jobs=5)]: Done 1070 tasks      | elapsed:    3.0s\n",
            "[Parallel(n_jobs=5)]: Done 1080 out of 1080 | elapsed:    3.1s finished\n",
            "[Parallel(n_jobs=5)]: Using backend LokyBackend with 5 concurrent workers.\n",
            "[Parallel(n_jobs=5)]: Batch computation too fast (0.0111s.) Setting batch_size=2.\n",
            "[Parallel(n_jobs=5)]: Done   3 tasks      | elapsed:    0.0s\n",
            "[Parallel(n_jobs=5)]: Done   8 tasks      | elapsed:    0.0s\n",
            "[Parallel(n_jobs=5)]: Batch computation too fast (0.0434s.) Setting batch_size=4.\n",
            "[Parallel(n_jobs=5)]: Done  20 tasks      | elapsed:    0.1s\n",
            "[Parallel(n_jobs=5)]: Batch computation too fast (0.0513s.) Setting batch_size=8.\n"
          ],
          "name": "stderr"
        },
        {
          "output_type": "stream",
          "text": [
            "it 7/10-Modelo 1/5\n",
            "[{'reg__fit_intercept': 0.5, 'rep__n_components': 3}, {'reg__alpha': 0.001, 'reg__fit_intercept': 0.5, 'rep__n_components': 3}, {'reg__alpha': 0.001, 'rep__n_components': 3}, {'reg__alpha': 0.001, 'reg__l1_ratio': 0.5, 'rep__n_components': 3}, {'reg__alpha': 0.001, 'reg__gamma': 0.01, 'rep__n_components': 3}, {'reg__fit_intercept': 0.5, 'rep__n_components': 3}, {'reg__alpha': 0.001, 'reg__fit_intercept': 0.5, 'rep__n_components': 3}, {'reg__alpha': 0.001, 'rep__n_components': 3}, {'reg__alpha': 0.001, 'reg__l1_ratio': 0.5, 'rep__n_components': 2}, {'reg__alpha': 0.001, 'reg__gamma': 0.01, 'rep__n_components': 3}, {'reg__fit_intercept': 0.5, 'rep__n_components': 2}, {'reg__alpha': 0.001, 'reg__fit_intercept': 0.5, 'rep__n_components': 2}, {'reg__alpha': 0.001, 'rep__n_components': 2}, {'reg__alpha': 0.001, 'reg__l1_ratio': 0.5, 'rep__n_components': 2}, {'reg__alpha': 0.001, 'reg__gamma': 0.1, 'rep__n_components': 0.5}, {'reg__fit_intercept': 0.5, 'rep__n_components': 2}, {'reg__alpha': 0.001, 'reg__fit_intercept': 0.5, 'rep__n_components': 2}, {'reg__alpha': 0.001, 'rep__n_components': 2}, {'reg__alpha': 0.001, 'reg__l1_ratio': 0.5, 'rep__n_components': 2}, {'reg__alpha': 0.001, 'reg__gamma': 0.01, 'rep__n_components': 2}, {'reg__fit_intercept': 0.5, 'rep__n_components': 3}, {'reg__alpha': 0.001, 'reg__fit_intercept': 0.5, 'rep__n_components': 3}, {'reg__alpha': 0.001, 'rep__n_components': 3}, {'reg__alpha': 0.001, 'reg__l1_ratio': 0.5, 'rep__n_components': 3}, {'reg__alpha': 0.001, 'reg__gamma': 0.01, 'rep__n_components': 2}, {'reg__fit_intercept': 0.5, 'rep__n_components': 3}, {'reg__alpha': 0.001, 'reg__fit_intercept': 0.5, 'rep__n_components': 3}, {'reg__alpha': 0.001, 'rep__n_components': 3}, {'reg__alpha': 0.001, 'reg__l1_ratio': 0.5, 'rep__n_components': 3}, {'reg__alpha': 0.001, 'reg__gamma': 0.01, 'rep__n_components': 3}, {'reg__fit_intercept': 0.5, 'rep__n_components': 3}, {'reg__alpha': 0.01, 'reg__fit_intercept': 0.5, 'rep__n_components': 3}]\n",
            "mae: 54.50864522675757\n",
            "Fitting 5 folds for each of 36 candidates, totalling 180 fits\n"
          ],
          "name": "stdout"
        },
        {
          "output_type": "stream",
          "text": [
            "[Parallel(n_jobs=5)]: Done  38 tasks      | elapsed:    0.2s\n",
            "[Parallel(n_jobs=5)]: Done  78 tasks      | elapsed:    0.3s\n",
            "[Parallel(n_jobs=5)]: Batch computation too fast (0.1200s.) Setting batch_size=16.\n",
            "[Parallel(n_jobs=5)]: Done 143 tasks      | elapsed:    0.5s\n",
            "[Parallel(n_jobs=5)]: Done 161 tasks      | elapsed:    0.5s\n",
            "[Parallel(n_jobs=5)]: Done 180 out of 180 | elapsed:    0.6s finished\n",
            "[Parallel(n_jobs=5)]: Using backend LokyBackend with 5 concurrent workers.\n",
            "[Parallel(n_jobs=5)]: Batch computation too fast (0.0088s.) Setting batch_size=2.\n",
            "[Parallel(n_jobs=5)]: Done   3 tasks      | elapsed:    0.0s\n",
            "[Parallel(n_jobs=5)]: Done   8 tasks      | elapsed:    0.1s\n",
            "[Parallel(n_jobs=5)]: Batch computation too fast (0.0402s.) Setting batch_size=4.\n"
          ],
          "name": "stderr"
        },
        {
          "output_type": "stream",
          "text": [
            "it 7/10-Modelo 2/5\n",
            "[{'reg__fit_intercept': 0.5, 'rep__n_components': 3}, {'reg__alpha': 0.001, 'reg__fit_intercept': 0.5, 'rep__n_components': 3}, {'reg__alpha': 0.001, 'rep__n_components': 3}, {'reg__alpha': 0.001, 'reg__l1_ratio': 0.5, 'rep__n_components': 3}, {'reg__alpha': 0.001, 'reg__gamma': 0.01, 'rep__n_components': 3}, {'reg__fit_intercept': 0.5, 'rep__n_components': 3}, {'reg__alpha': 0.001, 'reg__fit_intercept': 0.5, 'rep__n_components': 3}, {'reg__alpha': 0.001, 'rep__n_components': 3}, {'reg__alpha': 0.001, 'reg__l1_ratio': 0.5, 'rep__n_components': 2}, {'reg__alpha': 0.001, 'reg__gamma': 0.01, 'rep__n_components': 3}, {'reg__fit_intercept': 0.5, 'rep__n_components': 2}, {'reg__alpha': 0.001, 'reg__fit_intercept': 0.5, 'rep__n_components': 2}, {'reg__alpha': 0.001, 'rep__n_components': 2}, {'reg__alpha': 0.001, 'reg__l1_ratio': 0.5, 'rep__n_components': 2}, {'reg__alpha': 0.001, 'reg__gamma': 0.1, 'rep__n_components': 0.5}, {'reg__fit_intercept': 0.5, 'rep__n_components': 2}, {'reg__alpha': 0.001, 'reg__fit_intercept': 0.5, 'rep__n_components': 2}, {'reg__alpha': 0.001, 'rep__n_components': 2}, {'reg__alpha': 0.001, 'reg__l1_ratio': 0.5, 'rep__n_components': 2}, {'reg__alpha': 0.001, 'reg__gamma': 0.01, 'rep__n_components': 2}, {'reg__fit_intercept': 0.5, 'rep__n_components': 3}, {'reg__alpha': 0.001, 'reg__fit_intercept': 0.5, 'rep__n_components': 3}, {'reg__alpha': 0.001, 'rep__n_components': 3}, {'reg__alpha': 0.001, 'reg__l1_ratio': 0.5, 'rep__n_components': 3}, {'reg__alpha': 0.001, 'reg__gamma': 0.01, 'rep__n_components': 2}, {'reg__fit_intercept': 0.5, 'rep__n_components': 3}, {'reg__alpha': 0.001, 'reg__fit_intercept': 0.5, 'rep__n_components': 3}, {'reg__alpha': 0.001, 'rep__n_components': 3}, {'reg__alpha': 0.001, 'reg__l1_ratio': 0.5, 'rep__n_components': 3}, {'reg__alpha': 0.001, 'reg__gamma': 0.01, 'rep__n_components': 3}, {'reg__fit_intercept': 0.5, 'rep__n_components': 3}, {'reg__alpha': 0.01, 'reg__fit_intercept': 0.5, 'rep__n_components': 3}, {'reg__alpha': 0.1, 'rep__n_components': 3}]\n",
            "mae: 54.294558745537124\n",
            "Fitting 5 folds for each of 216 candidates, totalling 1080 fits\n"
          ],
          "name": "stdout"
        },
        {
          "output_type": "stream",
          "text": [
            "[Parallel(n_jobs=5)]: Done  20 tasks      | elapsed:    0.1s\n",
            "[Parallel(n_jobs=5)]: Batch computation too fast (0.0853s.) Setting batch_size=8.\n",
            "[Parallel(n_jobs=5)]: Done  38 tasks      | elapsed:    0.2s\n",
            "[Parallel(n_jobs=5)]: Done  78 tasks      | elapsed:    0.4s\n",
            "[Parallel(n_jobs=5)]: Batch computation too fast (0.1570s.) Setting batch_size=16.\n",
            "[Parallel(n_jobs=5)]: Done 150 tasks      | elapsed:    0.7s\n",
            "[Parallel(n_jobs=5)]: Done 326 tasks      | elapsed:    1.2s\n",
            "[Parallel(n_jobs=5)]: Done 502 tasks      | elapsed:    1.9s\n",
            "[Parallel(n_jobs=5)]: Done 710 tasks      | elapsed:    2.3s\n",
            "[Parallel(n_jobs=5)]: Done 918 tasks      | elapsed:    3.0s\n",
            "[Parallel(n_jobs=5)]: Done 1008 tasks      | elapsed:    3.1s\n",
            "[Parallel(n_jobs=5)]: Done 1038 tasks      | elapsed:    3.2s\n",
            "[Parallel(n_jobs=5)]: Done 1070 tasks      | elapsed:    3.3s\n",
            "[Parallel(n_jobs=5)]: Done 1080 out of 1080 | elapsed:    3.3s finished\n",
            "[Parallel(n_jobs=5)]: Using backend LokyBackend with 5 concurrent workers.\n",
            "[Parallel(n_jobs=5)]: Batch computation too fast (0.0128s.) Setting batch_size=2.\n",
            "[Parallel(n_jobs=5)]: Batch computation too fast (0.0128s.) Setting batch_size=4.\n",
            "[Parallel(n_jobs=5)]: Done   6 tasks      | elapsed:    0.1s\n"
          ],
          "name": "stderr"
        },
        {
          "output_type": "stream",
          "text": [
            "it 7/10-Modelo 3/5\n",
            "[{'reg__fit_intercept': 0.5, 'rep__n_components': 3}, {'reg__alpha': 0.001, 'reg__fit_intercept': 0.5, 'rep__n_components': 3}, {'reg__alpha': 0.001, 'rep__n_components': 3}, {'reg__alpha': 0.001, 'reg__l1_ratio': 0.5, 'rep__n_components': 3}, {'reg__alpha': 0.001, 'reg__gamma': 0.01, 'rep__n_components': 3}, {'reg__fit_intercept': 0.5, 'rep__n_components': 3}, {'reg__alpha': 0.001, 'reg__fit_intercept': 0.5, 'rep__n_components': 3}, {'reg__alpha': 0.001, 'rep__n_components': 3}, {'reg__alpha': 0.001, 'reg__l1_ratio': 0.5, 'rep__n_components': 2}, {'reg__alpha': 0.001, 'reg__gamma': 0.01, 'rep__n_components': 3}, {'reg__fit_intercept': 0.5, 'rep__n_components': 2}, {'reg__alpha': 0.001, 'reg__fit_intercept': 0.5, 'rep__n_components': 2}, {'reg__alpha': 0.001, 'rep__n_components': 2}, {'reg__alpha': 0.001, 'reg__l1_ratio': 0.5, 'rep__n_components': 2}, {'reg__alpha': 0.001, 'reg__gamma': 0.1, 'rep__n_components': 0.5}, {'reg__fit_intercept': 0.5, 'rep__n_components': 2}, {'reg__alpha': 0.001, 'reg__fit_intercept': 0.5, 'rep__n_components': 2}, {'reg__alpha': 0.001, 'rep__n_components': 2}, {'reg__alpha': 0.001, 'reg__l1_ratio': 0.5, 'rep__n_components': 2}, {'reg__alpha': 0.001, 'reg__gamma': 0.01, 'rep__n_components': 2}, {'reg__fit_intercept': 0.5, 'rep__n_components': 3}, {'reg__alpha': 0.001, 'reg__fit_intercept': 0.5, 'rep__n_components': 3}, {'reg__alpha': 0.001, 'rep__n_components': 3}, {'reg__alpha': 0.001, 'reg__l1_ratio': 0.5, 'rep__n_components': 3}, {'reg__alpha': 0.001, 'reg__gamma': 0.01, 'rep__n_components': 2}, {'reg__fit_intercept': 0.5, 'rep__n_components': 3}, {'reg__alpha': 0.001, 'reg__fit_intercept': 0.5, 'rep__n_components': 3}, {'reg__alpha': 0.001, 'rep__n_components': 3}, {'reg__alpha': 0.001, 'reg__l1_ratio': 0.5, 'rep__n_components': 3}, {'reg__alpha': 0.001, 'reg__gamma': 0.01, 'rep__n_components': 3}, {'reg__fit_intercept': 0.5, 'rep__n_components': 3}, {'reg__alpha': 0.01, 'reg__fit_intercept': 0.5, 'rep__n_components': 3}, {'reg__alpha': 0.1, 'rep__n_components': 3}, {'reg__alpha': 0.001, 'reg__l1_ratio': 0.5, 'rep__n_components': 3}]\n",
            "mae: 55.807900833459406\n",
            "Fitting 5 folds for each of 216 candidates, totalling 1080 fits\n"
          ],
          "name": "stdout"
        },
        {
          "output_type": "stream",
          "text": [
            "[Parallel(n_jobs=5)]: Done  14 tasks      | elapsed:    0.1s\n",
            "[Parallel(n_jobs=5)]: Batch computation too fast (0.0836s.) Setting batch_size=8.\n",
            "[Parallel(n_jobs=5)]: Done  42 tasks      | elapsed:    0.2s\n",
            "[Parallel(n_jobs=5)]: Batch computation too fast (0.0976s.) Setting batch_size=16.\n",
            "[Parallel(n_jobs=5)]: Done  90 tasks      | elapsed:    0.5s\n",
            "[Parallel(n_jobs=5)]: Batch computation too fast (0.1747s.) Setting batch_size=32.\n",
            "[Parallel(n_jobs=5)]: Done 194 tasks      | elapsed:    0.8s\n",
            "[Parallel(n_jobs=5)]: Done 386 tasks      | elapsed:    1.5s\n",
            "[Parallel(n_jobs=5)]: Done 738 tasks      | elapsed:    2.5s\n",
            "[Parallel(n_jobs=5)]: Done 916 tasks      | elapsed:    2.9s\n",
            "[Parallel(n_jobs=5)]: Done 984 tasks      | elapsed:    3.0s\n",
            "[Parallel(n_jobs=5)]: Done 1023 tasks      | elapsed:    3.2s\n",
            "[Parallel(n_jobs=5)]: Done 1071 out of 1080 | elapsed:    3.3s remaining:    0.0s\n",
            "[Parallel(n_jobs=5)]: Done 1080 out of 1080 | elapsed:    3.3s finished\n"
          ],
          "name": "stderr"
        },
        {
          "output_type": "stream",
          "text": [
            "it 7/10-Modelo 4/5\n",
            "[{'reg__fit_intercept': 0.5, 'rep__n_components': 3}, {'reg__alpha': 0.001, 'reg__fit_intercept': 0.5, 'rep__n_components': 3}, {'reg__alpha': 0.001, 'rep__n_components': 3}, {'reg__alpha': 0.001, 'reg__l1_ratio': 0.5, 'rep__n_components': 3}, {'reg__alpha': 0.001, 'reg__gamma': 0.01, 'rep__n_components': 3}, {'reg__fit_intercept': 0.5, 'rep__n_components': 3}, {'reg__alpha': 0.001, 'reg__fit_intercept': 0.5, 'rep__n_components': 3}, {'reg__alpha': 0.001, 'rep__n_components': 3}, {'reg__alpha': 0.001, 'reg__l1_ratio': 0.5, 'rep__n_components': 2}, {'reg__alpha': 0.001, 'reg__gamma': 0.01, 'rep__n_components': 3}, {'reg__fit_intercept': 0.5, 'rep__n_components': 2}, {'reg__alpha': 0.001, 'reg__fit_intercept': 0.5, 'rep__n_components': 2}, {'reg__alpha': 0.001, 'rep__n_components': 2}, {'reg__alpha': 0.001, 'reg__l1_ratio': 0.5, 'rep__n_components': 2}, {'reg__alpha': 0.001, 'reg__gamma': 0.1, 'rep__n_components': 0.5}, {'reg__fit_intercept': 0.5, 'rep__n_components': 2}, {'reg__alpha': 0.001, 'reg__fit_intercept': 0.5, 'rep__n_components': 2}, {'reg__alpha': 0.001, 'rep__n_components': 2}, {'reg__alpha': 0.001, 'reg__l1_ratio': 0.5, 'rep__n_components': 2}, {'reg__alpha': 0.001, 'reg__gamma': 0.01, 'rep__n_components': 2}, {'reg__fit_intercept': 0.5, 'rep__n_components': 3}, {'reg__alpha': 0.001, 'reg__fit_intercept': 0.5, 'rep__n_components': 3}, {'reg__alpha': 0.001, 'rep__n_components': 3}, {'reg__alpha': 0.001, 'reg__l1_ratio': 0.5, 'rep__n_components': 3}, {'reg__alpha': 0.001, 'reg__gamma': 0.01, 'rep__n_components': 2}, {'reg__fit_intercept': 0.5, 'rep__n_components': 3}, {'reg__alpha': 0.001, 'reg__fit_intercept': 0.5, 'rep__n_components': 3}, {'reg__alpha': 0.001, 'rep__n_components': 3}, {'reg__alpha': 0.001, 'reg__l1_ratio': 0.5, 'rep__n_components': 3}, {'reg__alpha': 0.001, 'reg__gamma': 0.01, 'rep__n_components': 3}, {'reg__fit_intercept': 0.5, 'rep__n_components': 3}, {'reg__alpha': 0.01, 'reg__fit_intercept': 0.5, 'rep__n_components': 3}, {'reg__alpha': 0.1, 'rep__n_components': 3}, {'reg__alpha': 0.001, 'reg__l1_ratio': 0.5, 'rep__n_components': 3}, {'reg__alpha': 0.001, 'reg__gamma': 0.01, 'rep__n_components': 3}]\n",
            "mae: 43.39310703814759\n",
            "it 8/10\n",
            "Fitting 5 folds for each of 36 candidates, totalling 180 fits\n"
          ],
          "name": "stdout"
        },
        {
          "output_type": "stream",
          "text": [
            "[Parallel(n_jobs=5)]: Using backend LokyBackend with 5 concurrent workers.\n",
            "[Parallel(n_jobs=5)]: Batch computation too fast (0.0131s.) Setting batch_size=2.\n",
            "[Parallel(n_jobs=5)]: Batch computation too fast (0.0131s.) Setting batch_size=4.\n",
            "[Parallel(n_jobs=5)]: Done   2 tasks      | elapsed:    0.0s\n",
            "[Parallel(n_jobs=5)]: Done   7 tasks      | elapsed:    0.1s\n",
            "[Parallel(n_jobs=5)]: Batch computation too fast (0.0255s.) Setting batch_size=8.\n",
            "[Parallel(n_jobs=5)]: Done  18 tasks      | elapsed:    0.1s\n",
            "[Parallel(n_jobs=5)]: Done  46 tasks      | elapsed:    0.2s\n",
            "[Parallel(n_jobs=5)]: Batch computation too fast (0.1104s.) Setting batch_size=16.\n",
            "[Parallel(n_jobs=5)]: Done  98 tasks      | elapsed:    0.4s\n",
            "[Parallel(n_jobs=5)]: Done 135 tasks      | elapsed:    0.4s\n",
            "[Parallel(n_jobs=5)]: Done 144 tasks      | elapsed:    0.4s\n",
            "[Parallel(n_jobs=5)]: Done 155 tasks      | elapsed:    0.5s\n",
            "[Parallel(n_jobs=5)]: Done 166 tasks      | elapsed:    0.5s\n",
            "[Parallel(n_jobs=5)]: Done 180 out of 180 | elapsed:    0.6s finished\n",
            "[Parallel(n_jobs=5)]: Using backend LokyBackend with 5 concurrent workers.\n",
            "[Parallel(n_jobs=5)]: Batch computation too fast (0.0115s.) Setting batch_size=2.\n",
            "[Parallel(n_jobs=5)]: Batch computation too fast (0.0115s.) Setting batch_size=4.\n",
            "[Parallel(n_jobs=5)]: Done   4 tasks      | elapsed:    0.1s\n",
            "[Parallel(n_jobs=5)]: Done   9 tasks      | elapsed:    0.1s\n",
            "[Parallel(n_jobs=5)]: Batch computation too fast (0.0549s.) Setting batch_size=8.\n"
          ],
          "name": "stderr"
        },
        {
          "output_type": "stream",
          "text": [
            "it 8/10-Modelo 0/5\n",
            "[{'reg__fit_intercept': 0.5, 'rep__n_components': 3}, {'reg__alpha': 0.001, 'reg__fit_intercept': 0.5, 'rep__n_components': 3}, {'reg__alpha': 0.001, 'rep__n_components': 3}, {'reg__alpha': 0.001, 'reg__l1_ratio': 0.5, 'rep__n_components': 3}, {'reg__alpha': 0.001, 'reg__gamma': 0.01, 'rep__n_components': 3}, {'reg__fit_intercept': 0.5, 'rep__n_components': 3}, {'reg__alpha': 0.001, 'reg__fit_intercept': 0.5, 'rep__n_components': 3}, {'reg__alpha': 0.001, 'rep__n_components': 3}, {'reg__alpha': 0.001, 'reg__l1_ratio': 0.5, 'rep__n_components': 2}, {'reg__alpha': 0.001, 'reg__gamma': 0.01, 'rep__n_components': 3}, {'reg__fit_intercept': 0.5, 'rep__n_components': 2}, {'reg__alpha': 0.001, 'reg__fit_intercept': 0.5, 'rep__n_components': 2}, {'reg__alpha': 0.001, 'rep__n_components': 2}, {'reg__alpha': 0.001, 'reg__l1_ratio': 0.5, 'rep__n_components': 2}, {'reg__alpha': 0.001, 'reg__gamma': 0.1, 'rep__n_components': 0.5}, {'reg__fit_intercept': 0.5, 'rep__n_components': 2}, {'reg__alpha': 0.001, 'reg__fit_intercept': 0.5, 'rep__n_components': 2}, {'reg__alpha': 0.001, 'rep__n_components': 2}, {'reg__alpha': 0.001, 'reg__l1_ratio': 0.5, 'rep__n_components': 2}, {'reg__alpha': 0.001, 'reg__gamma': 0.01, 'rep__n_components': 2}, {'reg__fit_intercept': 0.5, 'rep__n_components': 3}, {'reg__alpha': 0.001, 'reg__fit_intercept': 0.5, 'rep__n_components': 3}, {'reg__alpha': 0.001, 'rep__n_components': 3}, {'reg__alpha': 0.001, 'reg__l1_ratio': 0.5, 'rep__n_components': 3}, {'reg__alpha': 0.001, 'reg__gamma': 0.01, 'rep__n_components': 2}, {'reg__fit_intercept': 0.5, 'rep__n_components': 3}, {'reg__alpha': 0.001, 'reg__fit_intercept': 0.5, 'rep__n_components': 3}, {'reg__alpha': 0.001, 'rep__n_components': 3}, {'reg__alpha': 0.001, 'reg__l1_ratio': 0.5, 'rep__n_components': 3}, {'reg__alpha': 0.001, 'reg__gamma': 0.01, 'rep__n_components': 3}, {'reg__fit_intercept': 0.5, 'rep__n_components': 3}, {'reg__alpha': 0.01, 'reg__fit_intercept': 0.5, 'rep__n_components': 3}, {'reg__alpha': 0.1, 'rep__n_components': 3}, {'reg__alpha': 0.001, 'reg__l1_ratio': 0.5, 'rep__n_components': 3}, {'reg__alpha': 0.001, 'reg__gamma': 0.01, 'rep__n_components': 3}, {'reg__fit_intercept': 0.5, 'rep__n_components': 2}]\n",
            "mae: 63.406669168775466\n",
            "Fitting 5 folds for each of 216 candidates, totalling 1080 fits\n"
          ],
          "name": "stdout"
        },
        {
          "output_type": "stream",
          "text": [
            "[Parallel(n_jobs=5)]: Done  34 tasks      | elapsed:    0.2s\n",
            "[Parallel(n_jobs=5)]: Batch computation too fast (0.1295s.) Setting batch_size=16.\n",
            "[Parallel(n_jobs=5)]: Done  74 tasks      | elapsed:    0.4s\n",
            "[Parallel(n_jobs=5)]: Batch computation too fast (0.1604s.) Setting batch_size=32.\n",
            "[Parallel(n_jobs=5)]: Done 162 tasks      | elapsed:    0.6s\n",
            "[Parallel(n_jobs=5)]: Done 322 tasks      | elapsed:    1.3s\n",
            "[Parallel(n_jobs=5)]: Done 674 tasks      | elapsed:    2.2s\n",
            "[Parallel(n_jobs=5)]: Done 881 tasks      | elapsed:    2.7s\n",
            "[Parallel(n_jobs=5)]: Done 978 tasks      | elapsed:    2.8s\n",
            "[Parallel(n_jobs=5)]: Done 1017 tasks      | elapsed:    2.9s\n",
            "[Parallel(n_jobs=5)]: Done 1071 out of 1080 | elapsed:    3.0s remaining:    0.0s\n",
            "[Parallel(n_jobs=5)]: Done 1080 out of 1080 | elapsed:    3.1s finished\n",
            "[Parallel(n_jobs=5)]: Using backend LokyBackend with 5 concurrent workers.\n",
            "[Parallel(n_jobs=5)]: Batch computation too fast (0.0115s.) Setting batch_size=2.\n",
            "[Parallel(n_jobs=5)]: Done   3 tasks      | elapsed:    0.0s\n",
            "[Parallel(n_jobs=5)]: Done   8 tasks      | elapsed:    0.0s\n",
            "[Parallel(n_jobs=5)]: Batch computation too fast (0.0501s.) Setting batch_size=4.\n",
            "[Parallel(n_jobs=5)]: Done  20 tasks      | elapsed:    0.1s\n"
          ],
          "name": "stderr"
        },
        {
          "output_type": "stream",
          "text": [
            "it 8/10-Modelo 1/5\n",
            "[{'reg__fit_intercept': 0.5, 'rep__n_components': 3}, {'reg__alpha': 0.001, 'reg__fit_intercept': 0.5, 'rep__n_components': 3}, {'reg__alpha': 0.001, 'rep__n_components': 3}, {'reg__alpha': 0.001, 'reg__l1_ratio': 0.5, 'rep__n_components': 3}, {'reg__alpha': 0.001, 'reg__gamma': 0.01, 'rep__n_components': 3}, {'reg__fit_intercept': 0.5, 'rep__n_components': 3}, {'reg__alpha': 0.001, 'reg__fit_intercept': 0.5, 'rep__n_components': 3}, {'reg__alpha': 0.001, 'rep__n_components': 3}, {'reg__alpha': 0.001, 'reg__l1_ratio': 0.5, 'rep__n_components': 2}, {'reg__alpha': 0.001, 'reg__gamma': 0.01, 'rep__n_components': 3}, {'reg__fit_intercept': 0.5, 'rep__n_components': 2}, {'reg__alpha': 0.001, 'reg__fit_intercept': 0.5, 'rep__n_components': 2}, {'reg__alpha': 0.001, 'rep__n_components': 2}, {'reg__alpha': 0.001, 'reg__l1_ratio': 0.5, 'rep__n_components': 2}, {'reg__alpha': 0.001, 'reg__gamma': 0.1, 'rep__n_components': 0.5}, {'reg__fit_intercept': 0.5, 'rep__n_components': 2}, {'reg__alpha': 0.001, 'reg__fit_intercept': 0.5, 'rep__n_components': 2}, {'reg__alpha': 0.001, 'rep__n_components': 2}, {'reg__alpha': 0.001, 'reg__l1_ratio': 0.5, 'rep__n_components': 2}, {'reg__alpha': 0.001, 'reg__gamma': 0.01, 'rep__n_components': 2}, {'reg__fit_intercept': 0.5, 'rep__n_components': 3}, {'reg__alpha': 0.001, 'reg__fit_intercept': 0.5, 'rep__n_components': 3}, {'reg__alpha': 0.001, 'rep__n_components': 3}, {'reg__alpha': 0.001, 'reg__l1_ratio': 0.5, 'rep__n_components': 3}, {'reg__alpha': 0.001, 'reg__gamma': 0.01, 'rep__n_components': 2}, {'reg__fit_intercept': 0.5, 'rep__n_components': 3}, {'reg__alpha': 0.001, 'reg__fit_intercept': 0.5, 'rep__n_components': 3}, {'reg__alpha': 0.001, 'rep__n_components': 3}, {'reg__alpha': 0.001, 'reg__l1_ratio': 0.5, 'rep__n_components': 3}, {'reg__alpha': 0.001, 'reg__gamma': 0.01, 'rep__n_components': 3}, {'reg__fit_intercept': 0.5, 'rep__n_components': 3}, {'reg__alpha': 0.01, 'reg__fit_intercept': 0.5, 'rep__n_components': 3}, {'reg__alpha': 0.1, 'rep__n_components': 3}, {'reg__alpha': 0.001, 'reg__l1_ratio': 0.5, 'rep__n_components': 3}, {'reg__alpha': 0.001, 'reg__gamma': 0.01, 'rep__n_components': 3}, {'reg__fit_intercept': 0.5, 'rep__n_components': 2}, {'reg__alpha': 0.001, 'reg__fit_intercept': 0.5, 'rep__n_components': 2}]\n",
            "mae: 63.42377439280387\n",
            "Fitting 5 folds for each of 36 candidates, totalling 180 fits\n"
          ],
          "name": "stdout"
        },
        {
          "output_type": "stream",
          "text": [
            "[Parallel(n_jobs=5)]: Batch computation too fast (0.0837s.) Setting batch_size=8.\n",
            "[Parallel(n_jobs=5)]: Done  38 tasks      | elapsed:    0.3s\n",
            "[Parallel(n_jobs=5)]: Done  78 tasks      | elapsed:    0.4s\n",
            "[Parallel(n_jobs=5)]: Batch computation too fast (0.1309s.) Setting batch_size=16.\n",
            "[Parallel(n_jobs=5)]: Done 129 tasks      | elapsed:    0.5s\n",
            "[Parallel(n_jobs=5)]: Done 161 tasks      | elapsed:    0.5s\n",
            "[Parallel(n_jobs=5)]: Done 180 out of 180 | elapsed:    0.6s finished\n",
            "[Parallel(n_jobs=5)]: Using backend LokyBackend with 5 concurrent workers.\n",
            "[Parallel(n_jobs=5)]: Batch computation too fast (0.0081s.) Setting batch_size=2.\n",
            "[Parallel(n_jobs=5)]: Done   3 tasks      | elapsed:    0.0s\n",
            "[Parallel(n_jobs=5)]: Done   8 tasks      | elapsed:    0.0s\n"
          ],
          "name": "stderr"
        },
        {
          "output_type": "stream",
          "text": [
            "it 8/10-Modelo 2/5\n",
            "[{'reg__fit_intercept': 0.5, 'rep__n_components': 3}, {'reg__alpha': 0.001, 'reg__fit_intercept': 0.5, 'rep__n_components': 3}, {'reg__alpha': 0.001, 'rep__n_components': 3}, {'reg__alpha': 0.001, 'reg__l1_ratio': 0.5, 'rep__n_components': 3}, {'reg__alpha': 0.001, 'reg__gamma': 0.01, 'rep__n_components': 3}, {'reg__fit_intercept': 0.5, 'rep__n_components': 3}, {'reg__alpha': 0.001, 'reg__fit_intercept': 0.5, 'rep__n_components': 3}, {'reg__alpha': 0.001, 'rep__n_components': 3}, {'reg__alpha': 0.001, 'reg__l1_ratio': 0.5, 'rep__n_components': 2}, {'reg__alpha': 0.001, 'reg__gamma': 0.01, 'rep__n_components': 3}, {'reg__fit_intercept': 0.5, 'rep__n_components': 2}, {'reg__alpha': 0.001, 'reg__fit_intercept': 0.5, 'rep__n_components': 2}, {'reg__alpha': 0.001, 'rep__n_components': 2}, {'reg__alpha': 0.001, 'reg__l1_ratio': 0.5, 'rep__n_components': 2}, {'reg__alpha': 0.001, 'reg__gamma': 0.1, 'rep__n_components': 0.5}, {'reg__fit_intercept': 0.5, 'rep__n_components': 2}, {'reg__alpha': 0.001, 'reg__fit_intercept': 0.5, 'rep__n_components': 2}, {'reg__alpha': 0.001, 'rep__n_components': 2}, {'reg__alpha': 0.001, 'reg__l1_ratio': 0.5, 'rep__n_components': 2}, {'reg__alpha': 0.001, 'reg__gamma': 0.01, 'rep__n_components': 2}, {'reg__fit_intercept': 0.5, 'rep__n_components': 3}, {'reg__alpha': 0.001, 'reg__fit_intercept': 0.5, 'rep__n_components': 3}, {'reg__alpha': 0.001, 'rep__n_components': 3}, {'reg__alpha': 0.001, 'reg__l1_ratio': 0.5, 'rep__n_components': 3}, {'reg__alpha': 0.001, 'reg__gamma': 0.01, 'rep__n_components': 2}, {'reg__fit_intercept': 0.5, 'rep__n_components': 3}, {'reg__alpha': 0.001, 'reg__fit_intercept': 0.5, 'rep__n_components': 3}, {'reg__alpha': 0.001, 'rep__n_components': 3}, {'reg__alpha': 0.001, 'reg__l1_ratio': 0.5, 'rep__n_components': 3}, {'reg__alpha': 0.001, 'reg__gamma': 0.01, 'rep__n_components': 3}, {'reg__fit_intercept': 0.5, 'rep__n_components': 3}, {'reg__alpha': 0.01, 'reg__fit_intercept': 0.5, 'rep__n_components': 3}, {'reg__alpha': 0.1, 'rep__n_components': 3}, {'reg__alpha': 0.001, 'reg__l1_ratio': 0.5, 'rep__n_components': 3}, {'reg__alpha': 0.001, 'reg__gamma': 0.01, 'rep__n_components': 3}, {'reg__fit_intercept': 0.5, 'rep__n_components': 2}, {'reg__alpha': 0.001, 'reg__fit_intercept': 0.5, 'rep__n_components': 2}, {'reg__alpha': 0.001, 'rep__n_components': 2}]\n",
            "mae: 63.407406663512965\n",
            "Fitting 5 folds for each of 216 candidates, totalling 1080 fits\n"
          ],
          "name": "stdout"
        },
        {
          "output_type": "stream",
          "text": [
            "[Parallel(n_jobs=5)]: Batch computation too fast (0.0394s.) Setting batch_size=4.\n",
            "[Parallel(n_jobs=5)]: Done  20 tasks      | elapsed:    0.1s\n",
            "[Parallel(n_jobs=5)]: Batch computation too fast (0.0782s.) Setting batch_size=8.\n",
            "[Parallel(n_jobs=5)]: Done  38 tasks      | elapsed:    0.2s\n",
            "[Parallel(n_jobs=5)]: Done  78 tasks      | elapsed:    0.3s\n",
            "[Parallel(n_jobs=5)]: Batch computation too fast (0.0934s.) Setting batch_size=16.\n",
            "[Parallel(n_jobs=5)]: Done 150 tasks      | elapsed:    0.7s\n",
            "[Parallel(n_jobs=5)]: Batch computation too fast (0.1964s.) Setting batch_size=32.\n",
            "[Parallel(n_jobs=5)]: Done 342 tasks      | elapsed:    1.4s\n",
            "[Parallel(n_jobs=5)]: Done 694 tasks      | elapsed:    2.6s\n",
            "[Parallel(n_jobs=5)]: Done 870 tasks      | elapsed:    2.9s\n",
            "[Parallel(n_jobs=5)]: Done 986 tasks      | elapsed:    3.0s\n",
            "[Parallel(n_jobs=5)]: Done 1016 tasks      | elapsed:    3.1s\n",
            "[Parallel(n_jobs=5)]: Done 1046 tasks      | elapsed:    3.2s\n",
            "[Parallel(n_jobs=5)]: Done 1080 out of 1080 | elapsed:    3.2s finished\n",
            "[Parallel(n_jobs=5)]: Using backend LokyBackend with 5 concurrent workers.\n",
            "[Parallel(n_jobs=5)]: Batch computation too fast (0.0146s.) Setting batch_size=2.\n",
            "[Parallel(n_jobs=5)]: Done   3 tasks      | elapsed:    0.0s\n",
            "[Parallel(n_jobs=5)]: Done   8 tasks      | elapsed:    0.0s\n",
            "[Parallel(n_jobs=5)]: Batch computation too fast (0.0384s.) Setting batch_size=4.\n"
          ],
          "name": "stderr"
        },
        {
          "output_type": "stream",
          "text": [
            "it 8/10-Modelo 3/5\n",
            "[{'reg__fit_intercept': 0.5, 'rep__n_components': 3}, {'reg__alpha': 0.001, 'reg__fit_intercept': 0.5, 'rep__n_components': 3}, {'reg__alpha': 0.001, 'rep__n_components': 3}, {'reg__alpha': 0.001, 'reg__l1_ratio': 0.5, 'rep__n_components': 3}, {'reg__alpha': 0.001, 'reg__gamma': 0.01, 'rep__n_components': 3}, {'reg__fit_intercept': 0.5, 'rep__n_components': 3}, {'reg__alpha': 0.001, 'reg__fit_intercept': 0.5, 'rep__n_components': 3}, {'reg__alpha': 0.001, 'rep__n_components': 3}, {'reg__alpha': 0.001, 'reg__l1_ratio': 0.5, 'rep__n_components': 2}, {'reg__alpha': 0.001, 'reg__gamma': 0.01, 'rep__n_components': 3}, {'reg__fit_intercept': 0.5, 'rep__n_components': 2}, {'reg__alpha': 0.001, 'reg__fit_intercept': 0.5, 'rep__n_components': 2}, {'reg__alpha': 0.001, 'rep__n_components': 2}, {'reg__alpha': 0.001, 'reg__l1_ratio': 0.5, 'rep__n_components': 2}, {'reg__alpha': 0.001, 'reg__gamma': 0.1, 'rep__n_components': 0.5}, {'reg__fit_intercept': 0.5, 'rep__n_components': 2}, {'reg__alpha': 0.001, 'reg__fit_intercept': 0.5, 'rep__n_components': 2}, {'reg__alpha': 0.001, 'rep__n_components': 2}, {'reg__alpha': 0.001, 'reg__l1_ratio': 0.5, 'rep__n_components': 2}, {'reg__alpha': 0.001, 'reg__gamma': 0.01, 'rep__n_components': 2}, {'reg__fit_intercept': 0.5, 'rep__n_components': 3}, {'reg__alpha': 0.001, 'reg__fit_intercept': 0.5, 'rep__n_components': 3}, {'reg__alpha': 0.001, 'rep__n_components': 3}, {'reg__alpha': 0.001, 'reg__l1_ratio': 0.5, 'rep__n_components': 3}, {'reg__alpha': 0.001, 'reg__gamma': 0.01, 'rep__n_components': 2}, {'reg__fit_intercept': 0.5, 'rep__n_components': 3}, {'reg__alpha': 0.001, 'reg__fit_intercept': 0.5, 'rep__n_components': 3}, {'reg__alpha': 0.001, 'rep__n_components': 3}, {'reg__alpha': 0.001, 'reg__l1_ratio': 0.5, 'rep__n_components': 3}, {'reg__alpha': 0.001, 'reg__gamma': 0.01, 'rep__n_components': 3}, {'reg__fit_intercept': 0.5, 'rep__n_components': 3}, {'reg__alpha': 0.01, 'reg__fit_intercept': 0.5, 'rep__n_components': 3}, {'reg__alpha': 0.1, 'rep__n_components': 3}, {'reg__alpha': 0.001, 'reg__l1_ratio': 0.5, 'rep__n_components': 3}, {'reg__alpha': 0.001, 'reg__gamma': 0.01, 'rep__n_components': 3}, {'reg__fit_intercept': 0.5, 'rep__n_components': 2}, {'reg__alpha': 0.001, 'reg__fit_intercept': 0.5, 'rep__n_components': 2}, {'reg__alpha': 0.001, 'rep__n_components': 2}, {'reg__alpha': 0.001, 'reg__l1_ratio': 0.5, 'rep__n_components': 2}]\n",
            "mae: 63.89419901856292\n",
            "Fitting 5 folds for each of 216 candidates, totalling 1080 fits\n"
          ],
          "name": "stdout"
        },
        {
          "output_type": "stream",
          "text": [
            "[Parallel(n_jobs=5)]: Done  20 tasks      | elapsed:    0.1s\n",
            "[Parallel(n_jobs=5)]: Batch computation too fast (0.0805s.) Setting batch_size=8.\n",
            "[Parallel(n_jobs=5)]: Done  38 tasks      | elapsed:    0.2s\n",
            "[Parallel(n_jobs=5)]: Done  78 tasks      | elapsed:    0.4s\n",
            "[Parallel(n_jobs=5)]: Batch computation too fast (0.1639s.) Setting batch_size=16.\n",
            "[Parallel(n_jobs=5)]: Done 150 tasks      | elapsed:    0.7s\n",
            "[Parallel(n_jobs=5)]: Batch computation too fast (0.1988s.) Setting batch_size=32.\n",
            "[Parallel(n_jobs=5)]: Done 342 tasks      | elapsed:    1.3s\n",
            "[Parallel(n_jobs=5)]: Done 694 tasks      | elapsed:    2.6s\n",
            "[Parallel(n_jobs=5)]: Done 870 tasks      | elapsed:    2.8s\n",
            "[Parallel(n_jobs=5)]: Done 956 tasks      | elapsed:    2.9s\n",
            "[Parallel(n_jobs=5)]: Done 1016 tasks      | elapsed:    3.0s\n",
            "[Parallel(n_jobs=5)]: Done 1046 tasks      | elapsed:    3.1s\n",
            "[Parallel(n_jobs=5)]: Done 1080 out of 1080 | elapsed:    3.2s finished\n"
          ],
          "name": "stderr"
        },
        {
          "output_type": "stream",
          "text": [
            "it 8/10-Modelo 4/5\n",
            "[{'reg__fit_intercept': 0.5, 'rep__n_components': 3}, {'reg__alpha': 0.001, 'reg__fit_intercept': 0.5, 'rep__n_components': 3}, {'reg__alpha': 0.001, 'rep__n_components': 3}, {'reg__alpha': 0.001, 'reg__l1_ratio': 0.5, 'rep__n_components': 3}, {'reg__alpha': 0.001, 'reg__gamma': 0.01, 'rep__n_components': 3}, {'reg__fit_intercept': 0.5, 'rep__n_components': 3}, {'reg__alpha': 0.001, 'reg__fit_intercept': 0.5, 'rep__n_components': 3}, {'reg__alpha': 0.001, 'rep__n_components': 3}, {'reg__alpha': 0.001, 'reg__l1_ratio': 0.5, 'rep__n_components': 2}, {'reg__alpha': 0.001, 'reg__gamma': 0.01, 'rep__n_components': 3}, {'reg__fit_intercept': 0.5, 'rep__n_components': 2}, {'reg__alpha': 0.001, 'reg__fit_intercept': 0.5, 'rep__n_components': 2}, {'reg__alpha': 0.001, 'rep__n_components': 2}, {'reg__alpha': 0.001, 'reg__l1_ratio': 0.5, 'rep__n_components': 2}, {'reg__alpha': 0.001, 'reg__gamma': 0.1, 'rep__n_components': 0.5}, {'reg__fit_intercept': 0.5, 'rep__n_components': 2}, {'reg__alpha': 0.001, 'reg__fit_intercept': 0.5, 'rep__n_components': 2}, {'reg__alpha': 0.001, 'rep__n_components': 2}, {'reg__alpha': 0.001, 'reg__l1_ratio': 0.5, 'rep__n_components': 2}, {'reg__alpha': 0.001, 'reg__gamma': 0.01, 'rep__n_components': 2}, {'reg__fit_intercept': 0.5, 'rep__n_components': 3}, {'reg__alpha': 0.001, 'reg__fit_intercept': 0.5, 'rep__n_components': 3}, {'reg__alpha': 0.001, 'rep__n_components': 3}, {'reg__alpha': 0.001, 'reg__l1_ratio': 0.5, 'rep__n_components': 3}, {'reg__alpha': 0.001, 'reg__gamma': 0.01, 'rep__n_components': 2}, {'reg__fit_intercept': 0.5, 'rep__n_components': 3}, {'reg__alpha': 0.001, 'reg__fit_intercept': 0.5, 'rep__n_components': 3}, {'reg__alpha': 0.001, 'rep__n_components': 3}, {'reg__alpha': 0.001, 'reg__l1_ratio': 0.5, 'rep__n_components': 3}, {'reg__alpha': 0.001, 'reg__gamma': 0.01, 'rep__n_components': 3}, {'reg__fit_intercept': 0.5, 'rep__n_components': 3}, {'reg__alpha': 0.01, 'reg__fit_intercept': 0.5, 'rep__n_components': 3}, {'reg__alpha': 0.1, 'rep__n_components': 3}, {'reg__alpha': 0.001, 'reg__l1_ratio': 0.5, 'rep__n_components': 3}, {'reg__alpha': 0.001, 'reg__gamma': 0.01, 'rep__n_components': 3}, {'reg__fit_intercept': 0.5, 'rep__n_components': 2}, {'reg__alpha': 0.001, 'reg__fit_intercept': 0.5, 'rep__n_components': 2}, {'reg__alpha': 0.001, 'rep__n_components': 2}, {'reg__alpha': 0.001, 'reg__l1_ratio': 0.5, 'rep__n_components': 2}, {'reg__alpha': 0.001, 'reg__gamma': 0.01, 'rep__n_components': 2}]\n",
            "mae: 53.4764083722743\n",
            "it 9/10\n",
            "Fitting 5 folds for each of 36 candidates, totalling 180 fits\n"
          ],
          "name": "stdout"
        },
        {
          "output_type": "stream",
          "text": [
            "[Parallel(n_jobs=5)]: Using backend LokyBackend with 5 concurrent workers.\n",
            "[Parallel(n_jobs=5)]: Batch computation too fast (0.0116s.) Setting batch_size=2.\n",
            "[Parallel(n_jobs=5)]: Done   3 tasks      | elapsed:    0.0s\n",
            "[Parallel(n_jobs=5)]: Done   8 tasks      | elapsed:    0.1s\n",
            "[Parallel(n_jobs=5)]: Batch computation too fast (0.0511s.) Setting batch_size=4.\n",
            "[Parallel(n_jobs=5)]: Done  20 tasks      | elapsed:    0.1s\n",
            "[Parallel(n_jobs=5)]: Batch computation too fast (0.0531s.) Setting batch_size=8.\n",
            "[Parallel(n_jobs=5)]: Done  38 tasks      | elapsed:    0.2s\n",
            "[Parallel(n_jobs=5)]: Done  78 tasks      | elapsed:    0.4s\n",
            "[Parallel(n_jobs=5)]: Batch computation too fast (0.1376s.) Setting batch_size=16.\n",
            "[Parallel(n_jobs=5)]: Done 136 tasks      | elapsed:    0.5s\n",
            "[Parallel(n_jobs=5)]: Done 161 tasks      | elapsed:    0.5s\n",
            "[Parallel(n_jobs=5)]: Done 180 out of 180 | elapsed:    0.6s finished\n",
            "[Parallel(n_jobs=5)]: Using backend LokyBackend with 5 concurrent workers.\n",
            "[Parallel(n_jobs=5)]: Batch computation too fast (0.0089s.) Setting batch_size=2.\n",
            "[Parallel(n_jobs=5)]: Batch computation too fast (0.0089s.) Setting batch_size=4.\n",
            "[Parallel(n_jobs=5)]: Done   3 tasks      | elapsed:    0.0s\n"
          ],
          "name": "stderr"
        },
        {
          "output_type": "stream",
          "text": [
            "it 9/10-Modelo 0/5\n",
            "[{'reg__fit_intercept': 0.5, 'rep__n_components': 3}, {'reg__alpha': 0.001, 'reg__fit_intercept': 0.5, 'rep__n_components': 3}, {'reg__alpha': 0.001, 'rep__n_components': 3}, {'reg__alpha': 0.001, 'reg__l1_ratio': 0.5, 'rep__n_components': 3}, {'reg__alpha': 0.001, 'reg__gamma': 0.01, 'rep__n_components': 3}, {'reg__fit_intercept': 0.5, 'rep__n_components': 3}, {'reg__alpha': 0.001, 'reg__fit_intercept': 0.5, 'rep__n_components': 3}, {'reg__alpha': 0.001, 'rep__n_components': 3}, {'reg__alpha': 0.001, 'reg__l1_ratio': 0.5, 'rep__n_components': 2}, {'reg__alpha': 0.001, 'reg__gamma': 0.01, 'rep__n_components': 3}, {'reg__fit_intercept': 0.5, 'rep__n_components': 2}, {'reg__alpha': 0.001, 'reg__fit_intercept': 0.5, 'rep__n_components': 2}, {'reg__alpha': 0.001, 'rep__n_components': 2}, {'reg__alpha': 0.001, 'reg__l1_ratio': 0.5, 'rep__n_components': 2}, {'reg__alpha': 0.001, 'reg__gamma': 0.1, 'rep__n_components': 0.5}, {'reg__fit_intercept': 0.5, 'rep__n_components': 2}, {'reg__alpha': 0.001, 'reg__fit_intercept': 0.5, 'rep__n_components': 2}, {'reg__alpha': 0.001, 'rep__n_components': 2}, {'reg__alpha': 0.001, 'reg__l1_ratio': 0.5, 'rep__n_components': 2}, {'reg__alpha': 0.001, 'reg__gamma': 0.01, 'rep__n_components': 2}, {'reg__fit_intercept': 0.5, 'rep__n_components': 3}, {'reg__alpha': 0.001, 'reg__fit_intercept': 0.5, 'rep__n_components': 3}, {'reg__alpha': 0.001, 'rep__n_components': 3}, {'reg__alpha': 0.001, 'reg__l1_ratio': 0.5, 'rep__n_components': 3}, {'reg__alpha': 0.001, 'reg__gamma': 0.01, 'rep__n_components': 2}, {'reg__fit_intercept': 0.5, 'rep__n_components': 3}, {'reg__alpha': 0.001, 'reg__fit_intercept': 0.5, 'rep__n_components': 3}, {'reg__alpha': 0.001, 'rep__n_components': 3}, {'reg__alpha': 0.001, 'reg__l1_ratio': 0.5, 'rep__n_components': 3}, {'reg__alpha': 0.001, 'reg__gamma': 0.01, 'rep__n_components': 3}, {'reg__fit_intercept': 0.5, 'rep__n_components': 3}, {'reg__alpha': 0.01, 'reg__fit_intercept': 0.5, 'rep__n_components': 3}, {'reg__alpha': 0.1, 'rep__n_components': 3}, {'reg__alpha': 0.001, 'reg__l1_ratio': 0.5, 'rep__n_components': 3}, {'reg__alpha': 0.001, 'reg__gamma': 0.01, 'rep__n_components': 3}, {'reg__fit_intercept': 0.5, 'rep__n_components': 2}, {'reg__alpha': 0.001, 'reg__fit_intercept': 0.5, 'rep__n_components': 2}, {'reg__alpha': 0.001, 'rep__n_components': 2}, {'reg__alpha': 0.001, 'reg__l1_ratio': 0.5, 'rep__n_components': 2}, {'reg__alpha': 0.001, 'reg__gamma': 0.01, 'rep__n_components': 2}, {'reg__fit_intercept': 0.5, 'rep__n_components': 3}]\n",
            "mae: 50.71192015201222\n",
            "Fitting 5 folds for each of 216 candidates, totalling 1080 fits\n"
          ],
          "name": "stdout"
        },
        {
          "output_type": "stream",
          "text": [
            "[Parallel(n_jobs=5)]: Done   6 tasks      | elapsed:    0.1s\n",
            "[Parallel(n_jobs=5)]: Batch computation too fast (0.0669s.) Setting batch_size=8.\n",
            "[Parallel(n_jobs=5)]: Done  22 tasks      | elapsed:    0.1s\n",
            "[Parallel(n_jobs=5)]: Done  50 tasks      | elapsed:    0.2s\n",
            "[Parallel(n_jobs=5)]: Batch computation too fast (0.1736s.) Setting batch_size=16.\n",
            "[Parallel(n_jobs=5)]: Done 102 tasks      | elapsed:    0.4s\n",
            "[Parallel(n_jobs=5)]: Done 174 tasks      | elapsed:    0.6s\n",
            "[Parallel(n_jobs=5)]: Done 334 tasks      | elapsed:    1.1s\n",
            "[Parallel(n_jobs=5)]: Done 510 tasks      | elapsed:    1.7s\n",
            "[Parallel(n_jobs=5)]: Done 718 tasks      | elapsed:    2.1s\n",
            "[Parallel(n_jobs=5)]: Done 926 tasks      | elapsed:    2.6s\n",
            "[Parallel(n_jobs=5)]: Done 1080 out of 1080 | elapsed:    2.8s finished\n"
          ],
          "name": "stderr"
        },
        {
          "output_type": "stream",
          "text": [
            "it 9/10-Modelo 1/5\n",
            "[{'reg__fit_intercept': 0.5, 'rep__n_components': 3}, {'reg__alpha': 0.001, 'reg__fit_intercept': 0.5, 'rep__n_components': 3}, {'reg__alpha': 0.001, 'rep__n_components': 3}, {'reg__alpha': 0.001, 'reg__l1_ratio': 0.5, 'rep__n_components': 3}, {'reg__alpha': 0.001, 'reg__gamma': 0.01, 'rep__n_components': 3}, {'reg__fit_intercept': 0.5, 'rep__n_components': 3}, {'reg__alpha': 0.001, 'reg__fit_intercept': 0.5, 'rep__n_components': 3}, {'reg__alpha': 0.001, 'rep__n_components': 3}, {'reg__alpha': 0.001, 'reg__l1_ratio': 0.5, 'rep__n_components': 2}, {'reg__alpha': 0.001, 'reg__gamma': 0.01, 'rep__n_components': 3}, {'reg__fit_intercept': 0.5, 'rep__n_components': 2}, {'reg__alpha': 0.001, 'reg__fit_intercept': 0.5, 'rep__n_components': 2}, {'reg__alpha': 0.001, 'rep__n_components': 2}, {'reg__alpha': 0.001, 'reg__l1_ratio': 0.5, 'rep__n_components': 2}, {'reg__alpha': 0.001, 'reg__gamma': 0.1, 'rep__n_components': 0.5}, {'reg__fit_intercept': 0.5, 'rep__n_components': 2}, {'reg__alpha': 0.001, 'reg__fit_intercept': 0.5, 'rep__n_components': 2}, {'reg__alpha': 0.001, 'rep__n_components': 2}, {'reg__alpha': 0.001, 'reg__l1_ratio': 0.5, 'rep__n_components': 2}, {'reg__alpha': 0.001, 'reg__gamma': 0.01, 'rep__n_components': 2}, {'reg__fit_intercept': 0.5, 'rep__n_components': 3}, {'reg__alpha': 0.001, 'reg__fit_intercept': 0.5, 'rep__n_components': 3}, {'reg__alpha': 0.001, 'rep__n_components': 3}, {'reg__alpha': 0.001, 'reg__l1_ratio': 0.5, 'rep__n_components': 3}, {'reg__alpha': 0.001, 'reg__gamma': 0.01, 'rep__n_components': 2}, {'reg__fit_intercept': 0.5, 'rep__n_components': 3}, {'reg__alpha': 0.001, 'reg__fit_intercept': 0.5, 'rep__n_components': 3}, {'reg__alpha': 0.001, 'rep__n_components': 3}, {'reg__alpha': 0.001, 'reg__l1_ratio': 0.5, 'rep__n_components': 3}, {'reg__alpha': 0.001, 'reg__gamma': 0.01, 'rep__n_components': 3}, {'reg__fit_intercept': 0.5, 'rep__n_components': 3}, {'reg__alpha': 0.01, 'reg__fit_intercept': 0.5, 'rep__n_components': 3}, {'reg__alpha': 0.1, 'rep__n_components': 3}, {'reg__alpha': 0.001, 'reg__l1_ratio': 0.5, 'rep__n_components': 3}, {'reg__alpha': 0.001, 'reg__gamma': 0.01, 'rep__n_components': 3}, {'reg__fit_intercept': 0.5, 'rep__n_components': 2}, {'reg__alpha': 0.001, 'reg__fit_intercept': 0.5, 'rep__n_components': 2}, {'reg__alpha': 0.001, 'rep__n_components': 2}, {'reg__alpha': 0.001, 'reg__l1_ratio': 0.5, 'rep__n_components': 2}, {'reg__alpha': 0.001, 'reg__gamma': 0.01, 'rep__n_components': 2}, {'reg__fit_intercept': 0.5, 'rep__n_components': 3}, {'reg__alpha': 0.001, 'reg__fit_intercept': 0.5, 'rep__n_components': 3}]\n",
            "mae: 50.90438648885327\n",
            "Fitting 5 folds for each of 36 candidates, totalling 180 fits\n"
          ],
          "name": "stdout"
        },
        {
          "output_type": "stream",
          "text": [
            "[Parallel(n_jobs=5)]: Using backend LokyBackend with 5 concurrent workers.\n",
            "[Parallel(n_jobs=5)]: Batch computation too fast (0.0124s.) Setting batch_size=2.\n",
            "[Parallel(n_jobs=5)]: Done   3 tasks      | elapsed:    0.0s\n",
            "[Parallel(n_jobs=5)]: Done   8 tasks      | elapsed:    0.0s\n",
            "[Parallel(n_jobs=5)]: Batch computation too fast (0.0409s.) Setting batch_size=4.\n",
            "[Parallel(n_jobs=5)]: Done  20 tasks      | elapsed:    0.1s\n",
            "[Parallel(n_jobs=5)]: Batch computation too fast (0.0716s.) Setting batch_size=8.\n",
            "[Parallel(n_jobs=5)]: Done  38 tasks      | elapsed:    0.2s\n",
            "[Parallel(n_jobs=5)]: Done  78 tasks      | elapsed:    0.3s\n",
            "[Parallel(n_jobs=5)]: Batch computation too fast (0.1286s.) Setting batch_size=16.\n",
            "[Parallel(n_jobs=5)]: Done 136 tasks      | elapsed:    0.5s\n",
            "[Parallel(n_jobs=5)]: Done 161 tasks      | elapsed:    0.5s\n",
            "[Parallel(n_jobs=5)]: Done 180 out of 180 | elapsed:    0.6s finished\n",
            "[Parallel(n_jobs=5)]: Using backend LokyBackend with 5 concurrent workers.\n",
            "[Parallel(n_jobs=5)]: Batch computation too fast (0.0101s.) Setting batch_size=2.\n",
            "[Parallel(n_jobs=5)]: Done   3 tasks      | elapsed:    0.0s\n"
          ],
          "name": "stderr"
        },
        {
          "output_type": "stream",
          "text": [
            "it 9/10-Modelo 2/5\n",
            "[{'reg__fit_intercept': 0.5, 'rep__n_components': 3}, {'reg__alpha': 0.001, 'reg__fit_intercept': 0.5, 'rep__n_components': 3}, {'reg__alpha': 0.001, 'rep__n_components': 3}, {'reg__alpha': 0.001, 'reg__l1_ratio': 0.5, 'rep__n_components': 3}, {'reg__alpha': 0.001, 'reg__gamma': 0.01, 'rep__n_components': 3}, {'reg__fit_intercept': 0.5, 'rep__n_components': 3}, {'reg__alpha': 0.001, 'reg__fit_intercept': 0.5, 'rep__n_components': 3}, {'reg__alpha': 0.001, 'rep__n_components': 3}, {'reg__alpha': 0.001, 'reg__l1_ratio': 0.5, 'rep__n_components': 2}, {'reg__alpha': 0.001, 'reg__gamma': 0.01, 'rep__n_components': 3}, {'reg__fit_intercept': 0.5, 'rep__n_components': 2}, {'reg__alpha': 0.001, 'reg__fit_intercept': 0.5, 'rep__n_components': 2}, {'reg__alpha': 0.001, 'rep__n_components': 2}, {'reg__alpha': 0.001, 'reg__l1_ratio': 0.5, 'rep__n_components': 2}, {'reg__alpha': 0.001, 'reg__gamma': 0.1, 'rep__n_components': 0.5}, {'reg__fit_intercept': 0.5, 'rep__n_components': 2}, {'reg__alpha': 0.001, 'reg__fit_intercept': 0.5, 'rep__n_components': 2}, {'reg__alpha': 0.001, 'rep__n_components': 2}, {'reg__alpha': 0.001, 'reg__l1_ratio': 0.5, 'rep__n_components': 2}, {'reg__alpha': 0.001, 'reg__gamma': 0.01, 'rep__n_components': 2}, {'reg__fit_intercept': 0.5, 'rep__n_components': 3}, {'reg__alpha': 0.001, 'reg__fit_intercept': 0.5, 'rep__n_components': 3}, {'reg__alpha': 0.001, 'rep__n_components': 3}, {'reg__alpha': 0.001, 'reg__l1_ratio': 0.5, 'rep__n_components': 3}, {'reg__alpha': 0.001, 'reg__gamma': 0.01, 'rep__n_components': 2}, {'reg__fit_intercept': 0.5, 'rep__n_components': 3}, {'reg__alpha': 0.001, 'reg__fit_intercept': 0.5, 'rep__n_components': 3}, {'reg__alpha': 0.001, 'rep__n_components': 3}, {'reg__alpha': 0.001, 'reg__l1_ratio': 0.5, 'rep__n_components': 3}, {'reg__alpha': 0.001, 'reg__gamma': 0.01, 'rep__n_components': 3}, {'reg__fit_intercept': 0.5, 'rep__n_components': 3}, {'reg__alpha': 0.01, 'reg__fit_intercept': 0.5, 'rep__n_components': 3}, {'reg__alpha': 0.1, 'rep__n_components': 3}, {'reg__alpha': 0.001, 'reg__l1_ratio': 0.5, 'rep__n_components': 3}, {'reg__alpha': 0.001, 'reg__gamma': 0.01, 'rep__n_components': 3}, {'reg__fit_intercept': 0.5, 'rep__n_components': 2}, {'reg__alpha': 0.001, 'reg__fit_intercept': 0.5, 'rep__n_components': 2}, {'reg__alpha': 0.001, 'rep__n_components': 2}, {'reg__alpha': 0.001, 'reg__l1_ratio': 0.5, 'rep__n_components': 2}, {'reg__alpha': 0.001, 'reg__gamma': 0.01, 'rep__n_components': 2}, {'reg__fit_intercept': 0.5, 'rep__n_components': 3}, {'reg__alpha': 0.001, 'reg__fit_intercept': 0.5, 'rep__n_components': 3}, {'reg__alpha': 0.001, 'rep__n_components': 3}]\n",
            "mae: 50.721941871020576\n",
            "Fitting 5 folds for each of 216 candidates, totalling 1080 fits\n"
          ],
          "name": "stdout"
        },
        {
          "output_type": "stream",
          "text": [
            "[Parallel(n_jobs=5)]: Done   8 tasks      | elapsed:    0.1s\n",
            "[Parallel(n_jobs=5)]: Batch computation too fast (0.0576s.) Setting batch_size=4.\n",
            "[Parallel(n_jobs=5)]: Done  20 tasks      | elapsed:    0.1s\n",
            "[Parallel(n_jobs=5)]: Batch computation too fast (0.0560s.) Setting batch_size=8.\n",
            "[Parallel(n_jobs=5)]: Done  38 tasks      | elapsed:    0.2s\n",
            "[Parallel(n_jobs=5)]: Done  78 tasks      | elapsed:    0.4s\n",
            "[Parallel(n_jobs=5)]: Batch computation too fast (0.1491s.) Setting batch_size=16.\n",
            "[Parallel(n_jobs=5)]: Done 150 tasks      | elapsed:    0.7s\n",
            "[Parallel(n_jobs=5)]: Done 326 tasks      | elapsed:    1.2s\n",
            "[Parallel(n_jobs=5)]: Done 502 tasks      | elapsed:    1.9s\n",
            "[Parallel(n_jobs=5)]: Done 710 tasks      | elapsed:    2.4s\n",
            "[Parallel(n_jobs=5)]: Done 918 tasks      | elapsed:    3.0s\n",
            "[Parallel(n_jobs=5)]: Done 1008 tasks      | elapsed:    3.2s\n",
            "[Parallel(n_jobs=5)]: Done 1053 tasks      | elapsed:    3.2s\n",
            "[Parallel(n_jobs=5)]: Done 1070 tasks      | elapsed:    3.3s\n",
            "[Parallel(n_jobs=5)]: Done 1080 out of 1080 | elapsed:    3.3s finished\n",
            "[Parallel(n_jobs=5)]: Using backend LokyBackend with 5 concurrent workers.\n",
            "[Parallel(n_jobs=5)]: Batch computation too fast (0.0086s.) Setting batch_size=2.\n",
            "[Parallel(n_jobs=5)]: Done   3 tasks      | elapsed:    0.0s\n",
            "[Parallel(n_jobs=5)]: Done   8 tasks      | elapsed:    0.0s\n",
            "[Parallel(n_jobs=5)]: Batch computation too fast (0.0443s.) Setting batch_size=4.\n"
          ],
          "name": "stderr"
        },
        {
          "output_type": "stream",
          "text": [
            "it 9/10-Modelo 3/5\n",
            "[{'reg__fit_intercept': 0.5, 'rep__n_components': 3}, {'reg__alpha': 0.001, 'reg__fit_intercept': 0.5, 'rep__n_components': 3}, {'reg__alpha': 0.001, 'rep__n_components': 3}, {'reg__alpha': 0.001, 'reg__l1_ratio': 0.5, 'rep__n_components': 3}, {'reg__alpha': 0.001, 'reg__gamma': 0.01, 'rep__n_components': 3}, {'reg__fit_intercept': 0.5, 'rep__n_components': 3}, {'reg__alpha': 0.001, 'reg__fit_intercept': 0.5, 'rep__n_components': 3}, {'reg__alpha': 0.001, 'rep__n_components': 3}, {'reg__alpha': 0.001, 'reg__l1_ratio': 0.5, 'rep__n_components': 2}, {'reg__alpha': 0.001, 'reg__gamma': 0.01, 'rep__n_components': 3}, {'reg__fit_intercept': 0.5, 'rep__n_components': 2}, {'reg__alpha': 0.001, 'reg__fit_intercept': 0.5, 'rep__n_components': 2}, {'reg__alpha': 0.001, 'rep__n_components': 2}, {'reg__alpha': 0.001, 'reg__l1_ratio': 0.5, 'rep__n_components': 2}, {'reg__alpha': 0.001, 'reg__gamma': 0.1, 'rep__n_components': 0.5}, {'reg__fit_intercept': 0.5, 'rep__n_components': 2}, {'reg__alpha': 0.001, 'reg__fit_intercept': 0.5, 'rep__n_components': 2}, {'reg__alpha': 0.001, 'rep__n_components': 2}, {'reg__alpha': 0.001, 'reg__l1_ratio': 0.5, 'rep__n_components': 2}, {'reg__alpha': 0.001, 'reg__gamma': 0.01, 'rep__n_components': 2}, {'reg__fit_intercept': 0.5, 'rep__n_components': 3}, {'reg__alpha': 0.001, 'reg__fit_intercept': 0.5, 'rep__n_components': 3}, {'reg__alpha': 0.001, 'rep__n_components': 3}, {'reg__alpha': 0.001, 'reg__l1_ratio': 0.5, 'rep__n_components': 3}, {'reg__alpha': 0.001, 'reg__gamma': 0.01, 'rep__n_components': 2}, {'reg__fit_intercept': 0.5, 'rep__n_components': 3}, {'reg__alpha': 0.001, 'reg__fit_intercept': 0.5, 'rep__n_components': 3}, {'reg__alpha': 0.001, 'rep__n_components': 3}, {'reg__alpha': 0.001, 'reg__l1_ratio': 0.5, 'rep__n_components': 3}, {'reg__alpha': 0.001, 'reg__gamma': 0.01, 'rep__n_components': 3}, {'reg__fit_intercept': 0.5, 'rep__n_components': 3}, {'reg__alpha': 0.01, 'reg__fit_intercept': 0.5, 'rep__n_components': 3}, {'reg__alpha': 0.1, 'rep__n_components': 3}, {'reg__alpha': 0.001, 'reg__l1_ratio': 0.5, 'rep__n_components': 3}, {'reg__alpha': 0.001, 'reg__gamma': 0.01, 'rep__n_components': 3}, {'reg__fit_intercept': 0.5, 'rep__n_components': 2}, {'reg__alpha': 0.001, 'reg__fit_intercept': 0.5, 'rep__n_components': 2}, {'reg__alpha': 0.001, 'rep__n_components': 2}, {'reg__alpha': 0.001, 'reg__l1_ratio': 0.5, 'rep__n_components': 2}, {'reg__alpha': 0.001, 'reg__gamma': 0.01, 'rep__n_components': 2}, {'reg__fit_intercept': 0.5, 'rep__n_components': 3}, {'reg__alpha': 0.001, 'reg__fit_intercept': 0.5, 'rep__n_components': 3}, {'reg__alpha': 0.001, 'rep__n_components': 3}, {'reg__alpha': 0.001, 'reg__l1_ratio': 0.5, 'rep__n_components': 3}]\n",
            "mae: 55.74860502922509\n",
            "Fitting 5 folds for each of 216 candidates, totalling 1080 fits\n"
          ],
          "name": "stdout"
        },
        {
          "output_type": "stream",
          "text": [
            "[Parallel(n_jobs=5)]: Done  20 tasks      | elapsed:    0.1s\n",
            "[Parallel(n_jobs=5)]: Batch computation too fast (0.1219s.) Setting batch_size=8.\n",
            "[Parallel(n_jobs=5)]: Done  38 tasks      | elapsed:    0.3s\n",
            "[Parallel(n_jobs=5)]: Done  78 tasks      | elapsed:    0.4s\n",
            "[Parallel(n_jobs=5)]: Batch computation too fast (0.1528s.) Setting batch_size=16.\n",
            "[Parallel(n_jobs=5)]: Done 150 tasks      | elapsed:    0.6s\n",
            "[Parallel(n_jobs=5)]: Done 326 tasks      | elapsed:    1.2s\n",
            "[Parallel(n_jobs=5)]: Done 502 tasks      | elapsed:    1.9s\n",
            "[Parallel(n_jobs=5)]: Done 710 tasks      | elapsed:    2.4s\n",
            "[Parallel(n_jobs=5)]: Done 918 tasks      | elapsed:    3.1s\n",
            "[Parallel(n_jobs=5)]: Done 1008 tasks      | elapsed:    3.2s\n",
            "[Parallel(n_jobs=5)]: Done 1053 tasks      | elapsed:    3.3s\n",
            "[Parallel(n_jobs=5)]: Done 1070 tasks      | elapsed:    3.4s\n",
            "[Parallel(n_jobs=5)]: Done 1080 out of 1080 | elapsed:    3.4s finished\n",
            "[Parallel(n_jobs=5)]: Using backend LokyBackend with 5 concurrent workers.\n",
            "[Parallel(n_jobs=5)]: Batch computation too fast (0.0121s.) Setting batch_size=2.\n",
            "[Parallel(n_jobs=5)]: Batch computation too fast (0.0121s.) Setting batch_size=4.\n"
          ],
          "name": "stderr"
        },
        {
          "output_type": "stream",
          "text": [
            "it 9/10-Modelo 4/5\n",
            "[{'reg__fit_intercept': 0.5, 'rep__n_components': 3}, {'reg__alpha': 0.001, 'reg__fit_intercept': 0.5, 'rep__n_components': 3}, {'reg__alpha': 0.001, 'rep__n_components': 3}, {'reg__alpha': 0.001, 'reg__l1_ratio': 0.5, 'rep__n_components': 3}, {'reg__alpha': 0.001, 'reg__gamma': 0.01, 'rep__n_components': 3}, {'reg__fit_intercept': 0.5, 'rep__n_components': 3}, {'reg__alpha': 0.001, 'reg__fit_intercept': 0.5, 'rep__n_components': 3}, {'reg__alpha': 0.001, 'rep__n_components': 3}, {'reg__alpha': 0.001, 'reg__l1_ratio': 0.5, 'rep__n_components': 2}, {'reg__alpha': 0.001, 'reg__gamma': 0.01, 'rep__n_components': 3}, {'reg__fit_intercept': 0.5, 'rep__n_components': 2}, {'reg__alpha': 0.001, 'reg__fit_intercept': 0.5, 'rep__n_components': 2}, {'reg__alpha': 0.001, 'rep__n_components': 2}, {'reg__alpha': 0.001, 'reg__l1_ratio': 0.5, 'rep__n_components': 2}, {'reg__alpha': 0.001, 'reg__gamma': 0.1, 'rep__n_components': 0.5}, {'reg__fit_intercept': 0.5, 'rep__n_components': 2}, {'reg__alpha': 0.001, 'reg__fit_intercept': 0.5, 'rep__n_components': 2}, {'reg__alpha': 0.001, 'rep__n_components': 2}, {'reg__alpha': 0.001, 'reg__l1_ratio': 0.5, 'rep__n_components': 2}, {'reg__alpha': 0.001, 'reg__gamma': 0.01, 'rep__n_components': 2}, {'reg__fit_intercept': 0.5, 'rep__n_components': 3}, {'reg__alpha': 0.001, 'reg__fit_intercept': 0.5, 'rep__n_components': 3}, {'reg__alpha': 0.001, 'rep__n_components': 3}, {'reg__alpha': 0.001, 'reg__l1_ratio': 0.5, 'rep__n_components': 3}, {'reg__alpha': 0.001, 'reg__gamma': 0.01, 'rep__n_components': 2}, {'reg__fit_intercept': 0.5, 'rep__n_components': 3}, {'reg__alpha': 0.001, 'reg__fit_intercept': 0.5, 'rep__n_components': 3}, {'reg__alpha': 0.001, 'rep__n_components': 3}, {'reg__alpha': 0.001, 'reg__l1_ratio': 0.5, 'rep__n_components': 3}, {'reg__alpha': 0.001, 'reg__gamma': 0.01, 'rep__n_components': 3}, {'reg__fit_intercept': 0.5, 'rep__n_components': 3}, {'reg__alpha': 0.01, 'reg__fit_intercept': 0.5, 'rep__n_components': 3}, {'reg__alpha': 0.1, 'rep__n_components': 3}, {'reg__alpha': 0.001, 'reg__l1_ratio': 0.5, 'rep__n_components': 3}, {'reg__alpha': 0.001, 'reg__gamma': 0.01, 'rep__n_components': 3}, {'reg__fit_intercept': 0.5, 'rep__n_components': 2}, {'reg__alpha': 0.001, 'reg__fit_intercept': 0.5, 'rep__n_components': 2}, {'reg__alpha': 0.001, 'rep__n_components': 2}, {'reg__alpha': 0.001, 'reg__l1_ratio': 0.5, 'rep__n_components': 2}, {'reg__alpha': 0.001, 'reg__gamma': 0.01, 'rep__n_components': 2}, {'reg__fit_intercept': 0.5, 'rep__n_components': 3}, {'reg__alpha': 0.001, 'reg__fit_intercept': 0.5, 'rep__n_components': 3}, {'reg__alpha': 0.001, 'rep__n_components': 3}, {'reg__alpha': 0.001, 'reg__l1_ratio': 0.5, 'rep__n_components': 3}, {'reg__alpha': 0.001, 'reg__gamma': 0.01, 'rep__n_components': 3}]\n",
            "mae: 44.04801662215583\n",
            "it 10/10\n",
            "Fitting 5 folds for each of 36 candidates, totalling 180 fits\n"
          ],
          "name": "stdout"
        },
        {
          "output_type": "stream",
          "text": [
            "[Parallel(n_jobs=5)]: Done   4 tasks      | elapsed:    0.1s\n",
            "[Parallel(n_jobs=5)]: Batch computation too fast (0.0838s.) Setting batch_size=8.\n",
            "[Parallel(n_jobs=5)]: Done  23 tasks      | elapsed:    0.1s\n",
            "[Parallel(n_jobs=5)]: Done  42 tasks      | elapsed:    0.2s\n",
            "[Parallel(n_jobs=5)]: Batch computation too fast (0.1120s.) Setting batch_size=16.\n",
            "[Parallel(n_jobs=5)]: Done 106 tasks      | elapsed:    0.4s\n",
            "[Parallel(n_jobs=5)]: Done 180 out of 180 | elapsed:    0.6s finished\n"
          ],
          "name": "stderr"
        },
        {
          "output_type": "stream",
          "text": [
            "it 10/10-Modelo 0/5\n",
            "[{'reg__fit_intercept': 0.5, 'rep__n_components': 3}, {'reg__alpha': 0.001, 'reg__fit_intercept': 0.5, 'rep__n_components': 3}, {'reg__alpha': 0.001, 'rep__n_components': 3}, {'reg__alpha': 0.001, 'reg__l1_ratio': 0.5, 'rep__n_components': 3}, {'reg__alpha': 0.001, 'reg__gamma': 0.01, 'rep__n_components': 3}, {'reg__fit_intercept': 0.5, 'rep__n_components': 3}, {'reg__alpha': 0.001, 'reg__fit_intercept': 0.5, 'rep__n_components': 3}, {'reg__alpha': 0.001, 'rep__n_components': 3}, {'reg__alpha': 0.001, 'reg__l1_ratio': 0.5, 'rep__n_components': 2}, {'reg__alpha': 0.001, 'reg__gamma': 0.01, 'rep__n_components': 3}, {'reg__fit_intercept': 0.5, 'rep__n_components': 2}, {'reg__alpha': 0.001, 'reg__fit_intercept': 0.5, 'rep__n_components': 2}, {'reg__alpha': 0.001, 'rep__n_components': 2}, {'reg__alpha': 0.001, 'reg__l1_ratio': 0.5, 'rep__n_components': 2}, {'reg__alpha': 0.001, 'reg__gamma': 0.1, 'rep__n_components': 0.5}, {'reg__fit_intercept': 0.5, 'rep__n_components': 2}, {'reg__alpha': 0.001, 'reg__fit_intercept': 0.5, 'rep__n_components': 2}, {'reg__alpha': 0.001, 'rep__n_components': 2}, {'reg__alpha': 0.001, 'reg__l1_ratio': 0.5, 'rep__n_components': 2}, {'reg__alpha': 0.001, 'reg__gamma': 0.01, 'rep__n_components': 2}, {'reg__fit_intercept': 0.5, 'rep__n_components': 3}, {'reg__alpha': 0.001, 'reg__fit_intercept': 0.5, 'rep__n_components': 3}, {'reg__alpha': 0.001, 'rep__n_components': 3}, {'reg__alpha': 0.001, 'reg__l1_ratio': 0.5, 'rep__n_components': 3}, {'reg__alpha': 0.001, 'reg__gamma': 0.01, 'rep__n_components': 2}, {'reg__fit_intercept': 0.5, 'rep__n_components': 3}, {'reg__alpha': 0.001, 'reg__fit_intercept': 0.5, 'rep__n_components': 3}, {'reg__alpha': 0.001, 'rep__n_components': 3}, {'reg__alpha': 0.001, 'reg__l1_ratio': 0.5, 'rep__n_components': 3}, {'reg__alpha': 0.001, 'reg__gamma': 0.01, 'rep__n_components': 3}, {'reg__fit_intercept': 0.5, 'rep__n_components': 3}, {'reg__alpha': 0.01, 'reg__fit_intercept': 0.5, 'rep__n_components': 3}, {'reg__alpha': 0.1, 'rep__n_components': 3}, {'reg__alpha': 0.001, 'reg__l1_ratio': 0.5, 'rep__n_components': 3}, {'reg__alpha': 0.001, 'reg__gamma': 0.01, 'rep__n_components': 3}, {'reg__fit_intercept': 0.5, 'rep__n_components': 2}, {'reg__alpha': 0.001, 'reg__fit_intercept': 0.5, 'rep__n_components': 2}, {'reg__alpha': 0.001, 'rep__n_components': 2}, {'reg__alpha': 0.001, 'reg__l1_ratio': 0.5, 'rep__n_components': 2}, {'reg__alpha': 0.001, 'reg__gamma': 0.01, 'rep__n_components': 2}, {'reg__fit_intercept': 0.5, 'rep__n_components': 3}, {'reg__alpha': 0.001, 'reg__fit_intercept': 0.5, 'rep__n_components': 3}, {'reg__alpha': 0.001, 'rep__n_components': 3}, {'reg__alpha': 0.001, 'reg__l1_ratio': 0.5, 'rep__n_components': 3}, {'reg__alpha': 0.001, 'reg__gamma': 0.01, 'rep__n_components': 3}, {'reg__fit_intercept': 0.5, 'rep__n_components': 3}]\n",
            "mae: 42.26011589789682\n",
            "Fitting 5 folds for each of 216 candidates, totalling 1080 fits\n"
          ],
          "name": "stdout"
        },
        {
          "output_type": "stream",
          "text": [
            "[Parallel(n_jobs=5)]: Using backend LokyBackend with 5 concurrent workers.\n",
            "[Parallel(n_jobs=5)]: Batch computation too fast (0.0104s.) Setting batch_size=2.\n",
            "[Parallel(n_jobs=5)]: Done   3 tasks      | elapsed:    0.0s\n",
            "[Parallel(n_jobs=5)]: Done   8 tasks      | elapsed:    0.1s\n",
            "[Parallel(n_jobs=5)]: Batch computation too fast (0.0454s.) Setting batch_size=4.\n",
            "[Parallel(n_jobs=5)]: Done  20 tasks      | elapsed:    0.1s\n",
            "[Parallel(n_jobs=5)]: Batch computation too fast (0.0975s.) Setting batch_size=8.\n",
            "[Parallel(n_jobs=5)]: Done  38 tasks      | elapsed:    0.2s\n",
            "[Parallel(n_jobs=5)]: Done  78 tasks      | elapsed:    0.3s\n",
            "[Parallel(n_jobs=5)]: Batch computation too fast (0.0958s.) Setting batch_size=16.\n",
            "[Parallel(n_jobs=5)]: Done 150 tasks      | elapsed:    0.7s\n",
            "[Parallel(n_jobs=5)]: Done 326 tasks      | elapsed:    1.1s\n",
            "[Parallel(n_jobs=5)]: Done 502 tasks      | elapsed:    1.7s\n",
            "[Parallel(n_jobs=5)]: Done 710 tasks      | elapsed:    2.2s\n",
            "[Parallel(n_jobs=5)]: Done 918 tasks      | elapsed:    2.8s\n",
            "[Parallel(n_jobs=5)]: Done 993 tasks      | elapsed:    2.9s\n",
            "[Parallel(n_jobs=5)]: Done 1053 tasks      | elapsed:    3.0s\n",
            "[Parallel(n_jobs=5)]: Done 1070 tasks      | elapsed:    3.1s\n",
            "[Parallel(n_jobs=5)]: Done 1080 out of 1080 | elapsed:    3.1s finished\n",
            "[Parallel(n_jobs=5)]: Using backend LokyBackend with 5 concurrent workers.\n",
            "[Parallel(n_jobs=5)]: Batch computation too fast (0.0090s.) Setting batch_size=2.\n",
            "[Parallel(n_jobs=5)]: Done   3 tasks      | elapsed:    0.0s\n",
            "[Parallel(n_jobs=5)]: Done   8 tasks      | elapsed:    0.1s\n"
          ],
          "name": "stderr"
        },
        {
          "output_type": "stream",
          "text": [
            "it 10/10-Modelo 1/5\n",
            "[{'reg__fit_intercept': 0.5, 'rep__n_components': 3}, {'reg__alpha': 0.001, 'reg__fit_intercept': 0.5, 'rep__n_components': 3}, {'reg__alpha': 0.001, 'rep__n_components': 3}, {'reg__alpha': 0.001, 'reg__l1_ratio': 0.5, 'rep__n_components': 3}, {'reg__alpha': 0.001, 'reg__gamma': 0.01, 'rep__n_components': 3}, {'reg__fit_intercept': 0.5, 'rep__n_components': 3}, {'reg__alpha': 0.001, 'reg__fit_intercept': 0.5, 'rep__n_components': 3}, {'reg__alpha': 0.001, 'rep__n_components': 3}, {'reg__alpha': 0.001, 'reg__l1_ratio': 0.5, 'rep__n_components': 2}, {'reg__alpha': 0.001, 'reg__gamma': 0.01, 'rep__n_components': 3}, {'reg__fit_intercept': 0.5, 'rep__n_components': 2}, {'reg__alpha': 0.001, 'reg__fit_intercept': 0.5, 'rep__n_components': 2}, {'reg__alpha': 0.001, 'rep__n_components': 2}, {'reg__alpha': 0.001, 'reg__l1_ratio': 0.5, 'rep__n_components': 2}, {'reg__alpha': 0.001, 'reg__gamma': 0.1, 'rep__n_components': 0.5}, {'reg__fit_intercept': 0.5, 'rep__n_components': 2}, {'reg__alpha': 0.001, 'reg__fit_intercept': 0.5, 'rep__n_components': 2}, {'reg__alpha': 0.001, 'rep__n_components': 2}, {'reg__alpha': 0.001, 'reg__l1_ratio': 0.5, 'rep__n_components': 2}, {'reg__alpha': 0.001, 'reg__gamma': 0.01, 'rep__n_components': 2}, {'reg__fit_intercept': 0.5, 'rep__n_components': 3}, {'reg__alpha': 0.001, 'reg__fit_intercept': 0.5, 'rep__n_components': 3}, {'reg__alpha': 0.001, 'rep__n_components': 3}, {'reg__alpha': 0.001, 'reg__l1_ratio': 0.5, 'rep__n_components': 3}, {'reg__alpha': 0.001, 'reg__gamma': 0.01, 'rep__n_components': 2}, {'reg__fit_intercept': 0.5, 'rep__n_components': 3}, {'reg__alpha': 0.001, 'reg__fit_intercept': 0.5, 'rep__n_components': 3}, {'reg__alpha': 0.001, 'rep__n_components': 3}, {'reg__alpha': 0.001, 'reg__l1_ratio': 0.5, 'rep__n_components': 3}, {'reg__alpha': 0.001, 'reg__gamma': 0.01, 'rep__n_components': 3}, {'reg__fit_intercept': 0.5, 'rep__n_components': 3}, {'reg__alpha': 0.01, 'reg__fit_intercept': 0.5, 'rep__n_components': 3}, {'reg__alpha': 0.1, 'rep__n_components': 3}, {'reg__alpha': 0.001, 'reg__l1_ratio': 0.5, 'rep__n_components': 3}, {'reg__alpha': 0.001, 'reg__gamma': 0.01, 'rep__n_components': 3}, {'reg__fit_intercept': 0.5, 'rep__n_components': 2}, {'reg__alpha': 0.001, 'reg__fit_intercept': 0.5, 'rep__n_components': 2}, {'reg__alpha': 0.001, 'rep__n_components': 2}, {'reg__alpha': 0.001, 'reg__l1_ratio': 0.5, 'rep__n_components': 2}, {'reg__alpha': 0.001, 'reg__gamma': 0.01, 'rep__n_components': 2}, {'reg__fit_intercept': 0.5, 'rep__n_components': 3}, {'reg__alpha': 0.001, 'reg__fit_intercept': 0.5, 'rep__n_components': 3}, {'reg__alpha': 0.001, 'rep__n_components': 3}, {'reg__alpha': 0.001, 'reg__l1_ratio': 0.5, 'rep__n_components': 3}, {'reg__alpha': 0.001, 'reg__gamma': 0.01, 'rep__n_components': 3}, {'reg__fit_intercept': 0.5, 'rep__n_components': 3}, {'reg__alpha': 0.001, 'reg__fit_intercept': 0.5, 'rep__n_components': 3}]\n",
            "mae: 42.411762665005526\n",
            "Fitting 5 folds for each of 36 candidates, totalling 180 fits\n"
          ],
          "name": "stdout"
        },
        {
          "output_type": "stream",
          "text": [
            "[Parallel(n_jobs=5)]: Batch computation too fast (0.0484s.) Setting batch_size=4.\n",
            "[Parallel(n_jobs=5)]: Done  20 tasks      | elapsed:    0.1s\n",
            "[Parallel(n_jobs=5)]: Batch computation too fast (0.0749s.) Setting batch_size=8.\n",
            "[Parallel(n_jobs=5)]: Done  38 tasks      | elapsed:    0.2s\n",
            "[Parallel(n_jobs=5)]: Done  78 tasks      | elapsed:    0.4s\n",
            "[Parallel(n_jobs=5)]: Batch computation too fast (0.1476s.) Setting batch_size=16.\n",
            "[Parallel(n_jobs=5)]: Done 129 tasks      | elapsed:    0.5s\n",
            "[Parallel(n_jobs=5)]: Done 161 tasks      | elapsed:    0.5s\n",
            "[Parallel(n_jobs=5)]: Done 180 out of 180 | elapsed:    0.6s finished\n",
            "[Parallel(n_jobs=5)]: Using backend LokyBackend with 5 concurrent workers.\n",
            "[Parallel(n_jobs=5)]: Batch computation too fast (0.0095s.) Setting batch_size=2.\n",
            "[Parallel(n_jobs=5)]: Done   3 tasks      | elapsed:    0.0s\n",
            "[Parallel(n_jobs=5)]: Done   8 tasks      | elapsed:    0.0s\n",
            "[Parallel(n_jobs=5)]: Batch computation too fast (0.0400s.) Setting batch_size=4.\n",
            "[Parallel(n_jobs=5)]: Done  20 tasks      | elapsed:    0.1s\n",
            "[Parallel(n_jobs=5)]: Batch computation too fast (0.0472s.) Setting batch_size=8.\n"
          ],
          "name": "stderr"
        },
        {
          "output_type": "stream",
          "text": [
            "it 10/10-Modelo 2/5\n",
            "[{'reg__fit_intercept': 0.5, 'rep__n_components': 3}, {'reg__alpha': 0.001, 'reg__fit_intercept': 0.5, 'rep__n_components': 3}, {'reg__alpha': 0.001, 'rep__n_components': 3}, {'reg__alpha': 0.001, 'reg__l1_ratio': 0.5, 'rep__n_components': 3}, {'reg__alpha': 0.001, 'reg__gamma': 0.01, 'rep__n_components': 3}, {'reg__fit_intercept': 0.5, 'rep__n_components': 3}, {'reg__alpha': 0.001, 'reg__fit_intercept': 0.5, 'rep__n_components': 3}, {'reg__alpha': 0.001, 'rep__n_components': 3}, {'reg__alpha': 0.001, 'reg__l1_ratio': 0.5, 'rep__n_components': 2}, {'reg__alpha': 0.001, 'reg__gamma': 0.01, 'rep__n_components': 3}, {'reg__fit_intercept': 0.5, 'rep__n_components': 2}, {'reg__alpha': 0.001, 'reg__fit_intercept': 0.5, 'rep__n_components': 2}, {'reg__alpha': 0.001, 'rep__n_components': 2}, {'reg__alpha': 0.001, 'reg__l1_ratio': 0.5, 'rep__n_components': 2}, {'reg__alpha': 0.001, 'reg__gamma': 0.1, 'rep__n_components': 0.5}, {'reg__fit_intercept': 0.5, 'rep__n_components': 2}, {'reg__alpha': 0.001, 'reg__fit_intercept': 0.5, 'rep__n_components': 2}, {'reg__alpha': 0.001, 'rep__n_components': 2}, {'reg__alpha': 0.001, 'reg__l1_ratio': 0.5, 'rep__n_components': 2}, {'reg__alpha': 0.001, 'reg__gamma': 0.01, 'rep__n_components': 2}, {'reg__fit_intercept': 0.5, 'rep__n_components': 3}, {'reg__alpha': 0.001, 'reg__fit_intercept': 0.5, 'rep__n_components': 3}, {'reg__alpha': 0.001, 'rep__n_components': 3}, {'reg__alpha': 0.001, 'reg__l1_ratio': 0.5, 'rep__n_components': 3}, {'reg__alpha': 0.001, 'reg__gamma': 0.01, 'rep__n_components': 2}, {'reg__fit_intercept': 0.5, 'rep__n_components': 3}, {'reg__alpha': 0.001, 'reg__fit_intercept': 0.5, 'rep__n_components': 3}, {'reg__alpha': 0.001, 'rep__n_components': 3}, {'reg__alpha': 0.001, 'reg__l1_ratio': 0.5, 'rep__n_components': 3}, {'reg__alpha': 0.001, 'reg__gamma': 0.01, 'rep__n_components': 3}, {'reg__fit_intercept': 0.5, 'rep__n_components': 3}, {'reg__alpha': 0.01, 'reg__fit_intercept': 0.5, 'rep__n_components': 3}, {'reg__alpha': 0.1, 'rep__n_components': 3}, {'reg__alpha': 0.001, 'reg__l1_ratio': 0.5, 'rep__n_components': 3}, {'reg__alpha': 0.001, 'reg__gamma': 0.01, 'rep__n_components': 3}, {'reg__fit_intercept': 0.5, 'rep__n_components': 2}, {'reg__alpha': 0.001, 'reg__fit_intercept': 0.5, 'rep__n_components': 2}, {'reg__alpha': 0.001, 'rep__n_components': 2}, {'reg__alpha': 0.001, 'reg__l1_ratio': 0.5, 'rep__n_components': 2}, {'reg__alpha': 0.001, 'reg__gamma': 0.01, 'rep__n_components': 2}, {'reg__fit_intercept': 0.5, 'rep__n_components': 3}, {'reg__alpha': 0.001, 'reg__fit_intercept': 0.5, 'rep__n_components': 3}, {'reg__alpha': 0.001, 'rep__n_components': 3}, {'reg__alpha': 0.001, 'reg__l1_ratio': 0.5, 'rep__n_components': 3}, {'reg__alpha': 0.001, 'reg__gamma': 0.01, 'rep__n_components': 3}, {'reg__fit_intercept': 0.5, 'rep__n_components': 3}, {'reg__alpha': 0.001, 'reg__fit_intercept': 0.5, 'rep__n_components': 3}, {'reg__alpha': 0.001, 'rep__n_components': 3}]\n",
            "mae: 42.267077425989946\n",
            "Fitting 5 folds for each of 216 candidates, totalling 1080 fits\n"
          ],
          "name": "stdout"
        },
        {
          "output_type": "stream",
          "text": [
            "[Parallel(n_jobs=5)]: Done  38 tasks      | elapsed:    0.2s\n",
            "[Parallel(n_jobs=5)]: Done  78 tasks      | elapsed:    0.3s\n",
            "[Parallel(n_jobs=5)]: Batch computation too fast (0.1316s.) Setting batch_size=16.\n",
            "[Parallel(n_jobs=5)]: Done 150 tasks      | elapsed:    0.7s\n",
            "[Parallel(n_jobs=5)]: Batch computation too fast (0.1905s.) Setting batch_size=32.\n",
            "[Parallel(n_jobs=5)]: Done 342 tasks      | elapsed:    1.3s\n",
            "[Parallel(n_jobs=5)]: Done 694 tasks      | elapsed:    2.6s\n",
            "[Parallel(n_jobs=5)]: Done 930 tasks      | elapsed:    2.8s\n",
            "[Parallel(n_jobs=5)]: Done 956 tasks      | elapsed:    2.9s\n",
            "[Parallel(n_jobs=5)]: Done 1016 tasks      | elapsed:    3.0s\n",
            "[Parallel(n_jobs=5)]: Done 1046 tasks      | elapsed:    3.1s\n",
            "[Parallel(n_jobs=5)]: Done 1080 out of 1080 | elapsed:    3.2s finished\n",
            "[Parallel(n_jobs=5)]: Using backend LokyBackend with 5 concurrent workers.\n",
            "[Parallel(n_jobs=5)]: Batch computation too fast (0.0096s.) Setting batch_size=2.\n",
            "[Parallel(n_jobs=5)]: Done   3 tasks      | elapsed:    0.0s\n",
            "[Parallel(n_jobs=5)]: Done   8 tasks      | elapsed:    0.1s\n"
          ],
          "name": "stderr"
        },
        {
          "output_type": "stream",
          "text": [
            "it 10/10-Modelo 3/5\n",
            "[{'reg__fit_intercept': 0.5, 'rep__n_components': 3}, {'reg__alpha': 0.001, 'reg__fit_intercept': 0.5, 'rep__n_components': 3}, {'reg__alpha': 0.001, 'rep__n_components': 3}, {'reg__alpha': 0.001, 'reg__l1_ratio': 0.5, 'rep__n_components': 3}, {'reg__alpha': 0.001, 'reg__gamma': 0.01, 'rep__n_components': 3}, {'reg__fit_intercept': 0.5, 'rep__n_components': 3}, {'reg__alpha': 0.001, 'reg__fit_intercept': 0.5, 'rep__n_components': 3}, {'reg__alpha': 0.001, 'rep__n_components': 3}, {'reg__alpha': 0.001, 'reg__l1_ratio': 0.5, 'rep__n_components': 2}, {'reg__alpha': 0.001, 'reg__gamma': 0.01, 'rep__n_components': 3}, {'reg__fit_intercept': 0.5, 'rep__n_components': 2}, {'reg__alpha': 0.001, 'reg__fit_intercept': 0.5, 'rep__n_components': 2}, {'reg__alpha': 0.001, 'rep__n_components': 2}, {'reg__alpha': 0.001, 'reg__l1_ratio': 0.5, 'rep__n_components': 2}, {'reg__alpha': 0.001, 'reg__gamma': 0.1, 'rep__n_components': 0.5}, {'reg__fit_intercept': 0.5, 'rep__n_components': 2}, {'reg__alpha': 0.001, 'reg__fit_intercept': 0.5, 'rep__n_components': 2}, {'reg__alpha': 0.001, 'rep__n_components': 2}, {'reg__alpha': 0.001, 'reg__l1_ratio': 0.5, 'rep__n_components': 2}, {'reg__alpha': 0.001, 'reg__gamma': 0.01, 'rep__n_components': 2}, {'reg__fit_intercept': 0.5, 'rep__n_components': 3}, {'reg__alpha': 0.001, 'reg__fit_intercept': 0.5, 'rep__n_components': 3}, {'reg__alpha': 0.001, 'rep__n_components': 3}, {'reg__alpha': 0.001, 'reg__l1_ratio': 0.5, 'rep__n_components': 3}, {'reg__alpha': 0.001, 'reg__gamma': 0.01, 'rep__n_components': 2}, {'reg__fit_intercept': 0.5, 'rep__n_components': 3}, {'reg__alpha': 0.001, 'reg__fit_intercept': 0.5, 'rep__n_components': 3}, {'reg__alpha': 0.001, 'rep__n_components': 3}, {'reg__alpha': 0.001, 'reg__l1_ratio': 0.5, 'rep__n_components': 3}, {'reg__alpha': 0.001, 'reg__gamma': 0.01, 'rep__n_components': 3}, {'reg__fit_intercept': 0.5, 'rep__n_components': 3}, {'reg__alpha': 0.01, 'reg__fit_intercept': 0.5, 'rep__n_components': 3}, {'reg__alpha': 0.1, 'rep__n_components': 3}, {'reg__alpha': 0.001, 'reg__l1_ratio': 0.5, 'rep__n_components': 3}, {'reg__alpha': 0.001, 'reg__gamma': 0.01, 'rep__n_components': 3}, {'reg__fit_intercept': 0.5, 'rep__n_components': 2}, {'reg__alpha': 0.001, 'reg__fit_intercept': 0.5, 'rep__n_components': 2}, {'reg__alpha': 0.001, 'rep__n_components': 2}, {'reg__alpha': 0.001, 'reg__l1_ratio': 0.5, 'rep__n_components': 2}, {'reg__alpha': 0.001, 'reg__gamma': 0.01, 'rep__n_components': 2}, {'reg__fit_intercept': 0.5, 'rep__n_components': 3}, {'reg__alpha': 0.001, 'reg__fit_intercept': 0.5, 'rep__n_components': 3}, {'reg__alpha': 0.001, 'rep__n_components': 3}, {'reg__alpha': 0.001, 'reg__l1_ratio': 0.5, 'rep__n_components': 3}, {'reg__alpha': 0.001, 'reg__gamma': 0.01, 'rep__n_components': 3}, {'reg__fit_intercept': 0.5, 'rep__n_components': 3}, {'reg__alpha': 0.001, 'reg__fit_intercept': 0.5, 'rep__n_components': 3}, {'reg__alpha': 0.001, 'rep__n_components': 3}, {'reg__alpha': 0.001, 'reg__l1_ratio': 0.5, 'rep__n_components': 3}]\n",
            "mae: 46.32907098518132\n",
            "Fitting 5 folds for each of 216 candidates, totalling 1080 fits\n"
          ],
          "name": "stdout"
        },
        {
          "output_type": "stream",
          "text": [
            "[Parallel(n_jobs=5)]: Batch computation too fast (0.0486s.) Setting batch_size=4.\n",
            "[Parallel(n_jobs=5)]: Done  20 tasks      | elapsed:    0.1s\n",
            "[Parallel(n_jobs=5)]: Batch computation too fast (0.0843s.) Setting batch_size=8.\n",
            "[Parallel(n_jobs=5)]: Done  38 tasks      | elapsed:    0.2s\n",
            "[Parallel(n_jobs=5)]: Done  78 tasks      | elapsed:    0.4s\n",
            "[Parallel(n_jobs=5)]: Batch computation too fast (0.1427s.) Setting batch_size=16.\n",
            "[Parallel(n_jobs=5)]: Done 150 tasks      | elapsed:    0.8s\n",
            "[Parallel(n_jobs=5)]: Done 326 tasks      | elapsed:    1.2s\n",
            "[Parallel(n_jobs=5)]: Done 502 tasks      | elapsed:    1.9s\n",
            "[Parallel(n_jobs=5)]: Done 710 tasks      | elapsed:    2.5s\n",
            "[Parallel(n_jobs=5)]: Done 918 tasks      | elapsed:    3.1s\n",
            "[Parallel(n_jobs=5)]: Done 1008 tasks      | elapsed:    3.3s\n",
            "[Parallel(n_jobs=5)]: Done 1053 tasks      | elapsed:    3.4s\n",
            "[Parallel(n_jobs=5)]: Done 1070 tasks      | elapsed:    3.4s\n",
            "[Parallel(n_jobs=5)]: Done 1080 out of 1080 | elapsed:    3.5s finished\n"
          ],
          "name": "stderr"
        },
        {
          "output_type": "stream",
          "text": [
            "it 10/10-Modelo 4/5\n",
            "[{'reg__fit_intercept': 0.5, 'rep__n_components': 3}, {'reg__alpha': 0.001, 'reg__fit_intercept': 0.5, 'rep__n_components': 3}, {'reg__alpha': 0.001, 'rep__n_components': 3}, {'reg__alpha': 0.001, 'reg__l1_ratio': 0.5, 'rep__n_components': 3}, {'reg__alpha': 0.001, 'reg__gamma': 0.01, 'rep__n_components': 3}, {'reg__fit_intercept': 0.5, 'rep__n_components': 3}, {'reg__alpha': 0.001, 'reg__fit_intercept': 0.5, 'rep__n_components': 3}, {'reg__alpha': 0.001, 'rep__n_components': 3}, {'reg__alpha': 0.001, 'reg__l1_ratio': 0.5, 'rep__n_components': 2}, {'reg__alpha': 0.001, 'reg__gamma': 0.01, 'rep__n_components': 3}, {'reg__fit_intercept': 0.5, 'rep__n_components': 2}, {'reg__alpha': 0.001, 'reg__fit_intercept': 0.5, 'rep__n_components': 2}, {'reg__alpha': 0.001, 'rep__n_components': 2}, {'reg__alpha': 0.001, 'reg__l1_ratio': 0.5, 'rep__n_components': 2}, {'reg__alpha': 0.001, 'reg__gamma': 0.1, 'rep__n_components': 0.5}, {'reg__fit_intercept': 0.5, 'rep__n_components': 2}, {'reg__alpha': 0.001, 'reg__fit_intercept': 0.5, 'rep__n_components': 2}, {'reg__alpha': 0.001, 'rep__n_components': 2}, {'reg__alpha': 0.001, 'reg__l1_ratio': 0.5, 'rep__n_components': 2}, {'reg__alpha': 0.001, 'reg__gamma': 0.01, 'rep__n_components': 2}, {'reg__fit_intercept': 0.5, 'rep__n_components': 3}, {'reg__alpha': 0.001, 'reg__fit_intercept': 0.5, 'rep__n_components': 3}, {'reg__alpha': 0.001, 'rep__n_components': 3}, {'reg__alpha': 0.001, 'reg__l1_ratio': 0.5, 'rep__n_components': 3}, {'reg__alpha': 0.001, 'reg__gamma': 0.01, 'rep__n_components': 2}, {'reg__fit_intercept': 0.5, 'rep__n_components': 3}, {'reg__alpha': 0.001, 'reg__fit_intercept': 0.5, 'rep__n_components': 3}, {'reg__alpha': 0.001, 'rep__n_components': 3}, {'reg__alpha': 0.001, 'reg__l1_ratio': 0.5, 'rep__n_components': 3}, {'reg__alpha': 0.001, 'reg__gamma': 0.01, 'rep__n_components': 3}, {'reg__fit_intercept': 0.5, 'rep__n_components': 3}, {'reg__alpha': 0.01, 'reg__fit_intercept': 0.5, 'rep__n_components': 3}, {'reg__alpha': 0.1, 'rep__n_components': 3}, {'reg__alpha': 0.001, 'reg__l1_ratio': 0.5, 'rep__n_components': 3}, {'reg__alpha': 0.001, 'reg__gamma': 0.01, 'rep__n_components': 3}, {'reg__fit_intercept': 0.5, 'rep__n_components': 2}, {'reg__alpha': 0.001, 'reg__fit_intercept': 0.5, 'rep__n_components': 2}, {'reg__alpha': 0.001, 'rep__n_components': 2}, {'reg__alpha': 0.001, 'reg__l1_ratio': 0.5, 'rep__n_components': 2}, {'reg__alpha': 0.001, 'reg__gamma': 0.01, 'rep__n_components': 2}, {'reg__fit_intercept': 0.5, 'rep__n_components': 3}, {'reg__alpha': 0.001, 'reg__fit_intercept': 0.5, 'rep__n_components': 3}, {'reg__alpha': 0.001, 'rep__n_components': 3}, {'reg__alpha': 0.001, 'reg__l1_ratio': 0.5, 'rep__n_components': 3}, {'reg__alpha': 0.001, 'reg__gamma': 0.01, 'rep__n_components': 3}, {'reg__fit_intercept': 0.5, 'rep__n_components': 3}, {'reg__alpha': 0.001, 'reg__fit_intercept': 0.5, 'rep__n_components': 3}, {'reg__alpha': 0.001, 'rep__n_components': 3}, {'reg__alpha': 0.001, 'reg__l1_ratio': 0.5, 'rep__n_components': 3}, {'reg__alpha': 0.001, 'reg__gamma': 0.1, 'rep__n_components': 3}]\n",
            "mae: 30.898045497781986\n",
            "\n",
            "Mejor Modelo:\n",
            "\n",
            "Pipeline(memory=None,\n",
            "         steps=[('scaler',\n",
            "                 StandardScaler(copy=True, with_mean=True, with_std=True)),\n",
            "                ('rep',\n",
            "                 PCA(copy=True, iterated_power='auto', n_components=3,\n",
            "                     random_state=None, svd_solver='auto', tol=0.0,\n",
            "                     whiten=False)),\n",
            "                ('reg',\n",
            "                 KernelRidge(alpha=0.001, coef0=1, degree=3, gamma=0.1,\n",
            "                             kernel='rbf', kernel_params=None))],\n",
            "         verbose=False)\n",
            "\n",
            "Mejores parámetros:\n",
            "\n",
            "{'reg__alpha': 0.001, 'reg__gamma': 0.1, 'rep__n_components': 3}\n"
          ],
          "name": "stdout"
        }
      ]
    },
    {
      "cell_type": "markdown",
      "metadata": {
        "id": "XLf4zd8okr6Y",
        "colab_type": "text"
      },
      "source": [
        "Por Niter de outter loop tengo valores de los hyperparameters\n",
        "\n",
        "$$\\gamma = [0.01,0.1,10,1000,10000,0.01]$$\n",
        "\n",
        "$$\\gamma = [0.01,0.01,0.01,0.1,1,0.01]$$\n",
        "\n",
        "$$\\gamma^* = moda/mediana(\\gamma_i) = 0.01$$\n",
        "\n",
        "Toma todos los datos los N = 85, entreno sobre todo el conjunto con los parametros encontrados utilizando validación cruzada anidad\n",
        "\n",
        "$$\\theta^*/w^* =f(X|\\gamma^*)$$\n",
        "\n",
        "$$ y_{new} = f(x_{new}|\\gamma^*,\\theta^*/w^*)$$"
      ]
    },
    {
      "cell_type": "markdown",
      "metadata": {
        "id": "03dDdmR7puTb",
        "colab_type": "text"
      },
      "source": [
        "Despues de la validacion cruzada anidada, vemos que el GridSerch nos da la seleccion de el mejor modelo y los mejores parametros para este modelo que son capaces de seguir nuestros datos de manera mas optima.\n",
        "\n",
        "En este caso el Mejor modelo queda guardado en \"grid_search.best_estimator_\" y los mejores parametros para este en \"grid_search.best_params_\". \n",
        "\n",
        "El modelo seleccionado por GridSearch fue un Kernel Ridge con mapeo rbf y los mejores parametros son:\n",
        "\n",
        "#### Para el regresor KernelRidge-rbf: \n",
        "\n",
        "* alpha= 0.001 \n",
        "* gamma = 0.1 \n",
        "\n",
        "#### Para el proceso de PCA: \n",
        "* n_components = 3\n",
        "\n"
      ]
    },
    {
      "cell_type": "code",
      "metadata": {
        "id": "Lulnf-mPlucS",
        "colab_type": "code",
        "outputId": "2760e352-c0c9-412d-f94b-30e116da5b1c",
        "colab": {
          "base_uri": "https://localhost:8080/",
          "height": 621
        }
      },
      "source": [
        "#Comparacion de los errores medios absolutos de todos los clasificadores\n",
        "import matplotlib.pyplot as plt\n",
        "\n",
        "plt.rcParams[\"figure.figsize\"] = (15,10)\n",
        "plt.boxplot(maev)\n",
        "plt.xticks(ticks=np.arange(len(steps))+1,labels=label_model)\n",
        "plt.xlabel(\"Clasificador\")\n",
        "plt.ylabel(\"MAE\")\n",
        "plt.title(\"Boxplot comparativo de los errores absolutos medios de todos los clasificadores\")\n",
        "plt.grid()\n",
        "plt.show()"
      ],
      "execution_count": 8,
      "outputs": [
        {
          "output_type": "display_data",
          "data": {
            "image/png": "[encoded data removed]",
            "text/plain": [
              "<Figure size 1080x720 with 1 Axes>"
            ]
          },
          "metadata": {
            "tags": [],
            "needs_background": "light"
          }
        }
      ]
    },
    {
      "cell_type": "markdown",
      "metadata": {
        "id": "qzyFNH7X249N",
        "colab_type": "text"
      },
      "source": [
        "En el grafico anterior se presenta la comparacion del error absoluto medio de todos los modelos probados en un diagrama de caja y bigotes (BoxPlot). Los modelos que fueron probados son los siguientes:\n",
        "  * NorSC-PCA-LM: Modelo de regresion lineal simple con normalizado y PCA.\n",
        "\n",
        "  * NorSC-PCA-LMRidge: Modelo de regresion lineal rigido con normalizado y PCA.\n",
        "\n",
        "  * NorSC-PCA-LMLasso: Modelo de regresion lineal tipo Lasso con normalizado y PCA.\n",
        "\n",
        "  * NorSC-PCA-LMEN: Modelo de regresion lineal ElasticNet con normalizado y PCA.\n",
        "\n",
        "  * NorSC-KRRBF: Modelo de regresion KernelRidge de mapeo rbf con normalizado y PCA.\n",
        "\n",
        "\n",
        "Del grafico podemos concluir que lo que GridSerch nos ha dicho anteriormente es cierto, el mejor modelo (con error medio absoluto mas bajo) para seguir nuestros datos es el KernelRidge-rbf.\n",
        "\n",
        "  \n",
        "\n"
      ]
    },
    {
      "cell_type": "markdown",
      "metadata": {
        "id": "d-uRVMoYs_Ch",
        "colab_type": "text"
      },
      "source": [
        "Extrayendo el mejor modelo podriamos predecir los contagiados de el dia siguiente de la siguiente forma"
      ]
    },
    {
      "cell_type": "code",
      "metadata": {
        "id": "nBygI3vyfo6l",
        "colab_type": "code",
        "outputId": "71f986d5-00f6-41d4-8f34-a6cd2f9e3ab5",
        "colab": {
          "base_uri": "https://localhost:8080/",
          "height": 34
        }
      },
      "source": [
        "# Predicion de contagiados al dia siguiente con el mejor modelo\n",
        "best_model = grid_search.best_estimator_\n",
        "\n",
        "y27abr = best_model.predict(np.array(X[-1]).reshape(1,-1))\n",
        "y27abr"
      ],
      "execution_count": 13,
      "outputs": [
        {
          "output_type": "execute_result",
          "data": {
            "text/plain": [
              "array([[5560.56321144]])"
            ]
          },
          "metadata": {
            "tags": []
          },
          "execution_count": 13
        }
      ]
    },
    {
      "cell_type": "markdown",
      "metadata": {
        "id": "QjhgPssbtMaP",
        "colab_type": "text"
      },
      "source": [
        "y podriamos compararlo con los datos de contagiados que tenemos de los ultimos 5 dias"
      ]
    },
    {
      "cell_type": "code",
      "metadata": {
        "id": "XXmuCGGsfra6",
        "colab_type": "code",
        "outputId": "a4c642a0-f9aa-4ed5-85e9-26d1b95294ea",
        "colab": {
          "base_uri": "https://localhost:8080/",
          "height": 34
        }
      },
      "source": [
        "#Contagiados de los ultimos 5 dias\n",
        "X[-1]"
      ],
      "execution_count": 10,
      "outputs": [
        {
          "output_type": "execute_result",
          "data": {
            "text/plain": [
              "array([4149, 4356, 4561, 4881, 5142], dtype=object)"
            ]
          },
          "metadata": {
            "tags": []
          },
          "execution_count": 10
        }
      ]
    },
    {
      "cell_type": "markdown",
      "metadata": {
        "id": "nPr64CxzuWMF",
        "colab_type": "text"
      },
      "source": [
        "#### Tambien podemos ver de manera grafica que tanto se ajustan las predicciones del modelo a los datos originales"
      ]
    },
    {
      "cell_type": "code",
      "metadata": {
        "id": "bH1sd8p3qFei",
        "colab_type": "code",
        "colab": {}
      },
      "source": [
        "#Evalualndo el ajuste de los datos\n",
        "y_pred = best_model.predict(X)"
      ],
      "execution_count": 0,
      "outputs": []
    },
    {
      "cell_type": "code",
      "metadata": {
        "id": "3gVdCAxzmkVe",
        "colab_type": "code",
        "outputId": "457fd4ac-faee-4164-ab56-c56ac10b2105",
        "colab": {
          "base_uri": "https://localhost:8080/",
          "height": 621
        }
      },
      "source": [
        "lab=[\"Datos Originales\", \"Predicciones del modelo\"]\n",
        "plt.plot(y,'r')\n",
        "plt.plot(y_pred,'b')\n",
        "plt.legend(labels=lab)\n",
        "plt.xlabel(\"Numero de dias\")\n",
        "plt.ylabel(\"Numero de contagiados totales\")\n",
        "plt.title(\"Contagiados totales VS Dias en Colombia\")\n",
        "plt.grid()"
      ],
      "execution_count": 12,
      "outputs": [
        {
          "output_type": "display_data",
          "data": {
            "image/png": "[encoded data removed]",
            "text/plain": [
              "<Figure size 1080x720 with 1 Axes>"
            ]
          },
          "metadata": {
            "tags": [],
            "needs_background": "light"
          }
        }
      ]
    },
    {
      "cell_type": "code",
      "metadata": {
        "id": "dTZp9Q37qPAw",
        "colab_type": "code",
        "colab": {}
      },
      "source": [
        ""
      ],
      "execution_count": 0,
      "outputs": []
    },
    {
      "cell_type": "code",
      "metadata": {
        "id": "j-ZDeqVgrBm8",
        "colab_type": "code",
        "colab": {}
      },
      "source": [
        ""
      ],
      "execution_count": 0,
      "outputs": []
    }
  ]
}
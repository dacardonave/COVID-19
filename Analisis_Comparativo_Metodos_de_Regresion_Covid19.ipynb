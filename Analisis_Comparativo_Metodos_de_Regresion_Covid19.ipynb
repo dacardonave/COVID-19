{
  "nbformat": 4,
  "nbformat_minor": 0,
  "metadata": {
    "colab": {
      "name": "Analisis Comparativo Metodos de Regresion - Covid19.ipynb",
      "provenance": [],
      "include_colab_link": true
    },
    "kernelspec": {
      "name": "python3",
      "display_name": "Python 3"
    }
  },
  "cells": [
    {
      "cell_type": "markdown",
      "metadata": {
        "id": "view-in-github",
        "colab_type": "text"
      },
      "source": [
        "<a href=\"https://colab.research.google.com/github/dacardonave/COVID-19/blob/master/Analisis_Comparativo_Metodos_de_Regresion_Covid19.ipynb\" target=\"_parent\"><img src=\"https://colab.research.google.com/assets/colab-badge.svg\" alt=\"Open In Colab\"/></a>"
      ]
    },
    {
      "cell_type": "markdown",
      "metadata": {
        "id": "FzAo8ekYtNk3",
        "colab_type": "text"
      },
      "source": [
        "# Analisis comparativo de los metodos de regresion \n",
        "## Analitica de datos\n",
        "#### Daniel Cardona Velasquez\n",
        "#### Universidad Nacional De Colombia\n",
        "\n"
      ]
    },
    {
      "cell_type": "markdown",
      "metadata": {
        "id": "W_epDSt3tbEe",
        "colab_type": "text"
      },
      "source": [
        "A continuacion presentaremos un analisis comparativo de algunos metodos de regresion ya implementados por algunas librerias en python para el entrenamiento de un modelo predictivo. En este caso en particualar, trabajaremos en una base de datos sobre el Covd-19, previamente filtrada y depurada para su entrenamiento y analisis en colombia."
      ]
    },
    {
      "cell_type": "code",
      "metadata": {
        "id": "NAO5lAOeODXt",
        "colab_type": "code",
        "outputId": "5fa7119e-1ad2-4b6e-ab70-9e62dd8d2206",
        "colab": {
          "base_uri": "https://localhost:8080/",
          "height": 253
        }
      },
      "source": [
        "#Importando algunas librerias de tratamiento y representacion\n",
        "#Cargando el dataset sobre el que vamos a trabajar\n",
        "#!pip install wget\n",
        "#import wget\n",
        "import pandas as pd\n",
        "import numpy as np\n",
        "import matplotlib.pyplot as plt\n",
        "\n",
        "#datos covid19 - mundo\n",
        "url = \"https://data.humdata.org/hxlproxy/api/data-preview.csv?url=https%3A%2F%2Fraw.githubusercontent.com%2FCSSEGISandData%2FCOVID-19%2Fmaster%2Fcsse_covid_19_data%2Fcsse_covid_19_time_series%2Ftime_series_covid19_confirmed_global.csv&filename=time_series_covid19_confirmed_global.csv\"\n",
        "\n",
        "#datos Colombia\n",
        "#url = \"https://www.datos.gov.co/api/views/gt2j-8ykr/rows.csv?accessType=DOWNLOAD\"\n",
        "\n",
        "#wget.download(url, 'covid.csv')\n",
        "Xd = pd.read_csv(url)\n",
        "Xd.head()"
      ],
      "execution_count": 1,
      "outputs": [
        {
          "output_type": "execute_result",
          "data": {
            "text/html": [
              "<div>\n",
              "<style scoped>\n",
              "    .dataframe tbody tr th:only-of-type {\n",
              "        vertical-align: middle;\n",
              "    }\n",
              "\n",
              "    .dataframe tbody tr th {\n",
              "        vertical-align: top;\n",
              "    }\n",
              "\n",
              "    .dataframe thead th {\n",
              "        text-align: right;\n",
              "    }\n",
              "</style>\n",
              "<table border=\"1\" class=\"dataframe\">\n",
              "  <thead>\n",
              "    <tr style=\"text-align: right;\">\n",
              "      <th></th>\n",
              "      <th>Province/State</th>\n",
              "      <th>Country/Region</th>\n",
              "      <th>Lat</th>\n",
              "      <th>Long</th>\n",
              "      <th>1/22/20</th>\n",
              "      <th>1/23/20</th>\n",
              "      <th>1/24/20</th>\n",
              "      <th>1/25/20</th>\n",
              "      <th>1/26/20</th>\n",
              "      <th>1/27/20</th>\n",
              "      <th>1/28/20</th>\n",
              "      <th>1/29/20</th>\n",
              "      <th>1/30/20</th>\n",
              "      <th>1/31/20</th>\n",
              "      <th>2/1/20</th>\n",
              "      <th>2/2/20</th>\n",
              "      <th>2/3/20</th>\n",
              "      <th>2/4/20</th>\n",
              "      <th>2/5/20</th>\n",
              "      <th>2/6/20</th>\n",
              "      <th>2/7/20</th>\n",
              "      <th>2/8/20</th>\n",
              "      <th>2/9/20</th>\n",
              "      <th>2/10/20</th>\n",
              "      <th>2/11/20</th>\n",
              "      <th>2/12/20</th>\n",
              "      <th>2/13/20</th>\n",
              "      <th>2/14/20</th>\n",
              "      <th>2/15/20</th>\n",
              "      <th>2/16/20</th>\n",
              "      <th>2/17/20</th>\n",
              "      <th>2/18/20</th>\n",
              "      <th>2/19/20</th>\n",
              "      <th>2/20/20</th>\n",
              "      <th>2/21/20</th>\n",
              "      <th>2/22/20</th>\n",
              "      <th>2/23/20</th>\n",
              "      <th>2/24/20</th>\n",
              "      <th>2/25/20</th>\n",
              "      <th>2/26/20</th>\n",
              "      <th>...</th>\n",
              "      <th>3/18/20</th>\n",
              "      <th>3/19/20</th>\n",
              "      <th>3/20/20</th>\n",
              "      <th>3/21/20</th>\n",
              "      <th>3/22/20</th>\n",
              "      <th>3/23/20</th>\n",
              "      <th>3/24/20</th>\n",
              "      <th>3/25/20</th>\n",
              "      <th>3/26/20</th>\n",
              "      <th>3/27/20</th>\n",
              "      <th>3/28/20</th>\n",
              "      <th>3/29/20</th>\n",
              "      <th>3/30/20</th>\n",
              "      <th>3/31/20</th>\n",
              "      <th>4/1/20</th>\n",
              "      <th>4/2/20</th>\n",
              "      <th>4/3/20</th>\n",
              "      <th>4/4/20</th>\n",
              "      <th>4/5/20</th>\n",
              "      <th>4/6/20</th>\n",
              "      <th>4/7/20</th>\n",
              "      <th>4/8/20</th>\n",
              "      <th>4/9/20</th>\n",
              "      <th>4/10/20</th>\n",
              "      <th>4/11/20</th>\n",
              "      <th>4/12/20</th>\n",
              "      <th>4/13/20</th>\n",
              "      <th>4/14/20</th>\n",
              "      <th>4/15/20</th>\n",
              "      <th>4/16/20</th>\n",
              "      <th>4/17/20</th>\n",
              "      <th>4/18/20</th>\n",
              "      <th>4/19/20</th>\n",
              "      <th>4/20/20</th>\n",
              "      <th>4/21/20</th>\n",
              "      <th>4/22/20</th>\n",
              "      <th>4/23/20</th>\n",
              "      <th>4/24/20</th>\n",
              "      <th>4/25/20</th>\n",
              "      <th>4/26/20</th>\n",
              "    </tr>\n",
              "  </thead>\n",
              "  <tbody>\n",
              "    <tr>\n",
              "      <th>0</th>\n",
              "      <td>NaN</td>\n",
              "      <td>Afghanistan</td>\n",
              "      <td>33.0000</td>\n",
              "      <td>65.0000</td>\n",
              "      <td>0</td>\n",
              "      <td>0</td>\n",
              "      <td>0</td>\n",
              "      <td>0</td>\n",
              "      <td>0</td>\n",
              "      <td>0</td>\n",
              "      <td>0</td>\n",
              "      <td>0</td>\n",
              "      <td>0</td>\n",
              "      <td>0</td>\n",
              "      <td>0</td>\n",
              "      <td>0</td>\n",
              "      <td>0</td>\n",
              "      <td>0</td>\n",
              "      <td>0</td>\n",
              "      <td>0</td>\n",
              "      <td>0</td>\n",
              "      <td>0</td>\n",
              "      <td>0</td>\n",
              "      <td>0</td>\n",
              "      <td>0</td>\n",
              "      <td>0</td>\n",
              "      <td>0</td>\n",
              "      <td>0</td>\n",
              "      <td>0</td>\n",
              "      <td>0</td>\n",
              "      <td>0</td>\n",
              "      <td>0</td>\n",
              "      <td>0</td>\n",
              "      <td>0</td>\n",
              "      <td>0</td>\n",
              "      <td>0</td>\n",
              "      <td>0</td>\n",
              "      <td>1</td>\n",
              "      <td>1</td>\n",
              "      <td>1</td>\n",
              "      <td>...</td>\n",
              "      <td>22</td>\n",
              "      <td>22</td>\n",
              "      <td>24</td>\n",
              "      <td>24</td>\n",
              "      <td>40</td>\n",
              "      <td>40</td>\n",
              "      <td>74</td>\n",
              "      <td>84</td>\n",
              "      <td>94</td>\n",
              "      <td>110</td>\n",
              "      <td>110</td>\n",
              "      <td>120</td>\n",
              "      <td>170</td>\n",
              "      <td>174</td>\n",
              "      <td>237</td>\n",
              "      <td>273</td>\n",
              "      <td>281</td>\n",
              "      <td>299</td>\n",
              "      <td>349</td>\n",
              "      <td>367</td>\n",
              "      <td>423</td>\n",
              "      <td>444</td>\n",
              "      <td>484</td>\n",
              "      <td>521</td>\n",
              "      <td>555</td>\n",
              "      <td>607</td>\n",
              "      <td>665</td>\n",
              "      <td>714</td>\n",
              "      <td>784</td>\n",
              "      <td>840</td>\n",
              "      <td>906</td>\n",
              "      <td>933</td>\n",
              "      <td>996</td>\n",
              "      <td>1026</td>\n",
              "      <td>1092</td>\n",
              "      <td>1176</td>\n",
              "      <td>1279</td>\n",
              "      <td>1351</td>\n",
              "      <td>1463</td>\n",
              "      <td>1531</td>\n",
              "    </tr>\n",
              "    <tr>\n",
              "      <th>1</th>\n",
              "      <td>NaN</td>\n",
              "      <td>Albania</td>\n",
              "      <td>41.1533</td>\n",
              "      <td>20.1683</td>\n",
              "      <td>0</td>\n",
              "      <td>0</td>\n",
              "      <td>0</td>\n",
              "      <td>0</td>\n",
              "      <td>0</td>\n",
              "      <td>0</td>\n",
              "      <td>0</td>\n",
              "      <td>0</td>\n",
              "      <td>0</td>\n",
              "      <td>0</td>\n",
              "      <td>0</td>\n",
              "      <td>0</td>\n",
              "      <td>0</td>\n",
              "      <td>0</td>\n",
              "      <td>0</td>\n",
              "      <td>0</td>\n",
              "      <td>0</td>\n",
              "      <td>0</td>\n",
              "      <td>0</td>\n",
              "      <td>0</td>\n",
              "      <td>0</td>\n",
              "      <td>0</td>\n",
              "      <td>0</td>\n",
              "      <td>0</td>\n",
              "      <td>0</td>\n",
              "      <td>0</td>\n",
              "      <td>0</td>\n",
              "      <td>0</td>\n",
              "      <td>0</td>\n",
              "      <td>0</td>\n",
              "      <td>0</td>\n",
              "      <td>0</td>\n",
              "      <td>0</td>\n",
              "      <td>0</td>\n",
              "      <td>0</td>\n",
              "      <td>0</td>\n",
              "      <td>...</td>\n",
              "      <td>59</td>\n",
              "      <td>64</td>\n",
              "      <td>70</td>\n",
              "      <td>76</td>\n",
              "      <td>89</td>\n",
              "      <td>104</td>\n",
              "      <td>123</td>\n",
              "      <td>146</td>\n",
              "      <td>174</td>\n",
              "      <td>186</td>\n",
              "      <td>197</td>\n",
              "      <td>212</td>\n",
              "      <td>223</td>\n",
              "      <td>243</td>\n",
              "      <td>259</td>\n",
              "      <td>277</td>\n",
              "      <td>304</td>\n",
              "      <td>333</td>\n",
              "      <td>361</td>\n",
              "      <td>377</td>\n",
              "      <td>383</td>\n",
              "      <td>400</td>\n",
              "      <td>409</td>\n",
              "      <td>416</td>\n",
              "      <td>433</td>\n",
              "      <td>446</td>\n",
              "      <td>467</td>\n",
              "      <td>475</td>\n",
              "      <td>494</td>\n",
              "      <td>518</td>\n",
              "      <td>539</td>\n",
              "      <td>548</td>\n",
              "      <td>562</td>\n",
              "      <td>584</td>\n",
              "      <td>609</td>\n",
              "      <td>634</td>\n",
              "      <td>663</td>\n",
              "      <td>678</td>\n",
              "      <td>712</td>\n",
              "      <td>726</td>\n",
              "    </tr>\n",
              "    <tr>\n",
              "      <th>2</th>\n",
              "      <td>NaN</td>\n",
              "      <td>Algeria</td>\n",
              "      <td>28.0339</td>\n",
              "      <td>1.6596</td>\n",
              "      <td>0</td>\n",
              "      <td>0</td>\n",
              "      <td>0</td>\n",
              "      <td>0</td>\n",
              "      <td>0</td>\n",
              "      <td>0</td>\n",
              "      <td>0</td>\n",
              "      <td>0</td>\n",
              "      <td>0</td>\n",
              "      <td>0</td>\n",
              "      <td>0</td>\n",
              "      <td>0</td>\n",
              "      <td>0</td>\n",
              "      <td>0</td>\n",
              "      <td>0</td>\n",
              "      <td>0</td>\n",
              "      <td>0</td>\n",
              "      <td>0</td>\n",
              "      <td>0</td>\n",
              "      <td>0</td>\n",
              "      <td>0</td>\n",
              "      <td>0</td>\n",
              "      <td>0</td>\n",
              "      <td>0</td>\n",
              "      <td>0</td>\n",
              "      <td>0</td>\n",
              "      <td>0</td>\n",
              "      <td>0</td>\n",
              "      <td>0</td>\n",
              "      <td>0</td>\n",
              "      <td>0</td>\n",
              "      <td>0</td>\n",
              "      <td>0</td>\n",
              "      <td>0</td>\n",
              "      <td>1</td>\n",
              "      <td>1</td>\n",
              "      <td>...</td>\n",
              "      <td>74</td>\n",
              "      <td>87</td>\n",
              "      <td>90</td>\n",
              "      <td>139</td>\n",
              "      <td>201</td>\n",
              "      <td>230</td>\n",
              "      <td>264</td>\n",
              "      <td>302</td>\n",
              "      <td>367</td>\n",
              "      <td>409</td>\n",
              "      <td>454</td>\n",
              "      <td>511</td>\n",
              "      <td>584</td>\n",
              "      <td>716</td>\n",
              "      <td>847</td>\n",
              "      <td>986</td>\n",
              "      <td>1171</td>\n",
              "      <td>1251</td>\n",
              "      <td>1320</td>\n",
              "      <td>1423</td>\n",
              "      <td>1468</td>\n",
              "      <td>1572</td>\n",
              "      <td>1666</td>\n",
              "      <td>1761</td>\n",
              "      <td>1825</td>\n",
              "      <td>1914</td>\n",
              "      <td>1983</td>\n",
              "      <td>2070</td>\n",
              "      <td>2160</td>\n",
              "      <td>2268</td>\n",
              "      <td>2418</td>\n",
              "      <td>2534</td>\n",
              "      <td>2629</td>\n",
              "      <td>2718</td>\n",
              "      <td>2811</td>\n",
              "      <td>2910</td>\n",
              "      <td>3007</td>\n",
              "      <td>3127</td>\n",
              "      <td>3256</td>\n",
              "      <td>3382</td>\n",
              "    </tr>\n",
              "    <tr>\n",
              "      <th>3</th>\n",
              "      <td>NaN</td>\n",
              "      <td>Andorra</td>\n",
              "      <td>42.5063</td>\n",
              "      <td>1.5218</td>\n",
              "      <td>0</td>\n",
              "      <td>0</td>\n",
              "      <td>0</td>\n",
              "      <td>0</td>\n",
              "      <td>0</td>\n",
              "      <td>0</td>\n",
              "      <td>0</td>\n",
              "      <td>0</td>\n",
              "      <td>0</td>\n",
              "      <td>0</td>\n",
              "      <td>0</td>\n",
              "      <td>0</td>\n",
              "      <td>0</td>\n",
              "      <td>0</td>\n",
              "      <td>0</td>\n",
              "      <td>0</td>\n",
              "      <td>0</td>\n",
              "      <td>0</td>\n",
              "      <td>0</td>\n",
              "      <td>0</td>\n",
              "      <td>0</td>\n",
              "      <td>0</td>\n",
              "      <td>0</td>\n",
              "      <td>0</td>\n",
              "      <td>0</td>\n",
              "      <td>0</td>\n",
              "      <td>0</td>\n",
              "      <td>0</td>\n",
              "      <td>0</td>\n",
              "      <td>0</td>\n",
              "      <td>0</td>\n",
              "      <td>0</td>\n",
              "      <td>0</td>\n",
              "      <td>0</td>\n",
              "      <td>0</td>\n",
              "      <td>0</td>\n",
              "      <td>...</td>\n",
              "      <td>39</td>\n",
              "      <td>53</td>\n",
              "      <td>75</td>\n",
              "      <td>88</td>\n",
              "      <td>113</td>\n",
              "      <td>133</td>\n",
              "      <td>164</td>\n",
              "      <td>188</td>\n",
              "      <td>224</td>\n",
              "      <td>267</td>\n",
              "      <td>308</td>\n",
              "      <td>334</td>\n",
              "      <td>370</td>\n",
              "      <td>376</td>\n",
              "      <td>390</td>\n",
              "      <td>428</td>\n",
              "      <td>439</td>\n",
              "      <td>466</td>\n",
              "      <td>501</td>\n",
              "      <td>525</td>\n",
              "      <td>545</td>\n",
              "      <td>564</td>\n",
              "      <td>583</td>\n",
              "      <td>601</td>\n",
              "      <td>601</td>\n",
              "      <td>638</td>\n",
              "      <td>646</td>\n",
              "      <td>659</td>\n",
              "      <td>673</td>\n",
              "      <td>673</td>\n",
              "      <td>696</td>\n",
              "      <td>704</td>\n",
              "      <td>713</td>\n",
              "      <td>717</td>\n",
              "      <td>717</td>\n",
              "      <td>723</td>\n",
              "      <td>723</td>\n",
              "      <td>731</td>\n",
              "      <td>738</td>\n",
              "      <td>738</td>\n",
              "    </tr>\n",
              "    <tr>\n",
              "      <th>4</th>\n",
              "      <td>NaN</td>\n",
              "      <td>Angola</td>\n",
              "      <td>-11.2027</td>\n",
              "      <td>17.8739</td>\n",
              "      <td>0</td>\n",
              "      <td>0</td>\n",
              "      <td>0</td>\n",
              "      <td>0</td>\n",
              "      <td>0</td>\n",
              "      <td>0</td>\n",
              "      <td>0</td>\n",
              "      <td>0</td>\n",
              "      <td>0</td>\n",
              "      <td>0</td>\n",
              "      <td>0</td>\n",
              "      <td>0</td>\n",
              "      <td>0</td>\n",
              "      <td>0</td>\n",
              "      <td>0</td>\n",
              "      <td>0</td>\n",
              "      <td>0</td>\n",
              "      <td>0</td>\n",
              "      <td>0</td>\n",
              "      <td>0</td>\n",
              "      <td>0</td>\n",
              "      <td>0</td>\n",
              "      <td>0</td>\n",
              "      <td>0</td>\n",
              "      <td>0</td>\n",
              "      <td>0</td>\n",
              "      <td>0</td>\n",
              "      <td>0</td>\n",
              "      <td>0</td>\n",
              "      <td>0</td>\n",
              "      <td>0</td>\n",
              "      <td>0</td>\n",
              "      <td>0</td>\n",
              "      <td>0</td>\n",
              "      <td>0</td>\n",
              "      <td>0</td>\n",
              "      <td>...</td>\n",
              "      <td>0</td>\n",
              "      <td>0</td>\n",
              "      <td>1</td>\n",
              "      <td>2</td>\n",
              "      <td>2</td>\n",
              "      <td>3</td>\n",
              "      <td>3</td>\n",
              "      <td>3</td>\n",
              "      <td>4</td>\n",
              "      <td>4</td>\n",
              "      <td>5</td>\n",
              "      <td>7</td>\n",
              "      <td>7</td>\n",
              "      <td>7</td>\n",
              "      <td>8</td>\n",
              "      <td>8</td>\n",
              "      <td>8</td>\n",
              "      <td>10</td>\n",
              "      <td>14</td>\n",
              "      <td>16</td>\n",
              "      <td>17</td>\n",
              "      <td>19</td>\n",
              "      <td>19</td>\n",
              "      <td>19</td>\n",
              "      <td>19</td>\n",
              "      <td>19</td>\n",
              "      <td>19</td>\n",
              "      <td>19</td>\n",
              "      <td>19</td>\n",
              "      <td>19</td>\n",
              "      <td>19</td>\n",
              "      <td>24</td>\n",
              "      <td>24</td>\n",
              "      <td>24</td>\n",
              "      <td>24</td>\n",
              "      <td>25</td>\n",
              "      <td>25</td>\n",
              "      <td>25</td>\n",
              "      <td>25</td>\n",
              "      <td>26</td>\n",
              "    </tr>\n",
              "  </tbody>\n",
              "</table>\n",
              "<p>5 rows × 100 columns</p>\n",
              "</div>"
            ],
            "text/plain": [
              "  Province/State Country/Region      Lat  ...  4/24/20  4/25/20  4/26/20\n",
              "0            NaN    Afghanistan  33.0000  ...     1351     1463     1531\n",
              "1            NaN        Albania  41.1533  ...      678      712      726\n",
              "2            NaN        Algeria  28.0339  ...     3127     3256     3382\n",
              "3            NaN        Andorra  42.5063  ...      731      738      738\n",
              "4            NaN         Angola -11.2027  ...       25       25       26\n",
              "\n",
              "[5 rows x 100 columns]"
            ]
          },
          "metadata": {
            "tags": []
          },
          "execution_count": 1
        }
      ]
    },
    {
      "cell_type": "code",
      "metadata": {
        "id": "6x7-Il4AN43_",
        "colab_type": "code",
        "outputId": "ef8c1e82-b400-43f2-81d2-49ea2bf0b52e",
        "colab": {
          "base_uri": "https://localhost:8080/",
          "height": 282
        }
      },
      "source": [
        "#Distribucion de los datos\n",
        "plt.scatter(Xd['Lat'],Xd['Long'])"
      ],
      "execution_count": 2,
      "outputs": [
        {
          "output_type": "execute_result",
          "data": {
            "text/plain": [
              "<matplotlib.collections.PathCollection at 0x7fb73d0f5f60>"
            ]
          },
          "metadata": {
            "tags": []
          },
          "execution_count": 2
        },
        {
          "output_type": "display_data",
          "data": {
            "image/png": "[encoded data removed]",
            "text/plain": [
              "<Figure size 432x288 with 1 Axes>"
            ]
          },
          "metadata": {
            "tags": [],
            "needs_background": "light"
          }
        }
      ]
    },
    {
      "cell_type": "code",
      "metadata": {
        "id": "FIHfwh9EZHHc",
        "colab_type": "code",
        "outputId": "82b54cce-cfd6-43e4-872d-76258b9ce7dd",
        "colab": {
          "base_uri": "https://localhost:8080/",
          "height": 573
        }
      },
      "source": [
        "#funcion ventaneo --> esta funcion crea una ventana de w dias\n",
        "def covid_win(serie,w=5):\n",
        "    pi =0\n",
        "    pf = w\n",
        "    X = serie[pi:pf].reshape(1,-1)\n",
        "    y = serie[pf+1].reshape(1,-1)\n",
        "    pi += 1\n",
        "    pf+= 1\n",
        "    while pf+1 < serie.shape[0]:\n",
        "      X = np.append(X,serie[pi:pf].reshape(1,-1),axis=0)\n",
        "      y = np.append(y,serie[pf+1].reshape(1,-1),axis=0)\n",
        "      pi += 1\n",
        "      pf+=1\n",
        "    return X, y # X \\in Real^{N x P = w}, y \\in Real^N\n",
        "\n",
        "\n",
        "ii = Xd[Xd.columns[1]] == 'Colombia'\n",
        "#print(np.where(ii)[0][0])\n",
        "#contagios  acumulados\n",
        "serie = np.array(Xd.iloc[np.where(ii)[0][0],4:])\n",
        "#numero contagiados por dia\n",
        "serie_d = np.append(0,np.diff(serie))\n",
        "#serie_d = np.append(0,np.cumsum(np.diff(serie)))\n",
        "X,y = covid_win(serie,w=5)\n",
        "X_d,y_d = covid_win(serie_d,w=5)\n",
        "\n",
        "plt.plot(serie,'r')\n",
        "plt.plot(y,'b')\n",
        "plt.xlabel(\"Numero de dias\")\n",
        "plt.ylabel(\"Numero de contagiados totales\")\n",
        "plt.title(\"Contagiados totales VS Dias en Colombia\")\n",
        "plt.grid()\n",
        "plt.show()\n",
        "plt.plot(y_d,'g')\n",
        "plt.title(\"Contagiados nuevos por dia\")\n",
        "plt.xlabel(\"Numero de dias\")\n",
        "plt.ylabel(\"Numero de contagiados NUEVOS\")\n",
        "plt.grid()\n",
        "\n"
      ],
      "execution_count": 3,
      "outputs": [
        {
          "output_type": "display_data",
          "data": {
            "image/png": "[encoded data removed]",
            "text/plain": [
              "<Figure size 432x288 with 1 Axes>"
            ]
          },
          "metadata": {
            "tags": [],
            "needs_background": "light"
          }
        },
        {
          "output_type": "display_data",
          "data": {
            "image/png": "[encoded data removed]",
            "text/plain": [
              "<Figure size 432x288 with 1 Axes>"
            ]
          },
          "metadata": {
            "tags": [],
            "needs_background": "light"
          }
        }
      ]
    },
    {
      "cell_type": "markdown",
      "metadata": {
        "id": "iYcWRp6dpg7h",
        "colab_type": "text"
      },
      "source": [
        "A continuacion haremos todo el proceso de entrenamiento y validacion de 5 regresores para determinar cual de ellos sigue de forma mas apropiada los datos (Linea azul y roja de los graficos anteriores)"
      ]
    },
    {
      "cell_type": "markdown",
      "metadata": {
        "id": "P6_6kNRubj0z",
        "colab_type": "text"
      },
      "source": [
        "# Entrenamiento de regresor para covid 19 - Colombia\n",
        "# Análisis exploratorio - visualización en 2D PCA\n",
        "# Validación cruzada y anidada (pocos datos)"
      ]
    },
    {
      "cell_type": "code",
      "metadata": {
        "id": "5pO4PAqKQMYX",
        "colab_type": "code",
        "outputId": "6829d6af-3112-4938-a02a-b6f9d7b5f8e6",
        "colab": {
          "base_uri": "https://localhost:8080/",
          "height": 515
        }
      },
      "source": [
        "from sklearn.decomposition import PCA\n",
        "from sklearn.manifold import TSNE\n",
        "\n",
        "red = PCA(n_components = 3)\n",
        "red_d = PCA(n_components = 3)\n",
        "\n",
        "z = red.fit_transform(X)\n",
        "z_d = red.fit_transform(X_d)\n",
        "\n",
        "plt.scatter(z[:,0],z[:,1],c=y)\n",
        "plt.colorbar()\n",
        "plt.show()\n",
        "\n",
        "\n",
        "plt.scatter(z_d[:,0],z_d[:,1],c=y_d)\n",
        "plt.colorbar()\n",
        "plt.show()\n"
      ],
      "execution_count": 4,
      "outputs": [
        {
          "output_type": "display_data",
          "data": {
            "image/png": "[encoded data removed]",
            "text/plain": [
              "<Figure size 432x288 with 2 Axes>"
            ]
          },
          "metadata": {
            "tags": [],
            "needs_background": "light"
          }
        },
        {
          "output_type": "display_data",
          "data": {
            "image/png": "[encoded data removed]",
            "text/plain": [
              "<Figure size 432x288 with 2 Axes>"
            ]
          },
          "metadata": {
            "tags": [],
            "needs_background": "light"
          }
        }
      ]
    },
    {
      "cell_type": "markdown",
      "metadata": {
        "id": "PGlOw024drKB",
        "colab_type": "text"
      },
      "source": [
        "$$w^* = (\\Phi^\\top \\Phi + \\lambda I)^{-1}\\Phi^\\top y $$\n",
        "\n",
        "$$y_n = \\phi_n w^*$$\n",
        "\n",
        "\n",
        "$\\lambda$: hyperparameter\n",
        "\n",
        "$\\Phi(x)=\\mathcal{N}(x|\\mu,\\sigma^2)$\n",
        "\n",
        "$\\mu,\\sigma$ hyperparameters\n",
        "\n",
        "$w$: model's parameter"
      ]
    },
    {
      "cell_type": "code",
      "metadata": {
        "id": "1TDx1UvzHNdZ",
        "colab_type": "code",
        "outputId": "4b6f6079-9c10-4225-dadb-91ef3ef1fffe",
        "colab": {
          "base_uri": "https://localhost:8080/",
          "height": 51
        }
      },
      "source": [
        "from sklearn.model_selection import train_test_split,GridSearchCV,cross_val_score, cross_val_predict\n",
        "#pocos datos y mucha incertidumbre, validación cruzada anidada\n",
        "\n",
        "X_train, X_test, y_train, y_test = train_test_split(X,y,test_size=0.3)\n",
        "print(X_train.shape)\n",
        "print(X_test.shape)"
      ],
      "execution_count": 5,
      "outputs": [
        {
          "output_type": "stream",
          "text": [
            "(63, 5)\n",
            "(27, 5)\n"
          ],
          "name": "stdout"
        }
      ]
    },
    {
      "cell_type": "code",
      "metadata": {
        "id": "hju4GbeHmeT7",
        "colab_type": "code",
        "colab": {}
      },
      "source": [
        "from sklearn.kernel_ridge import KernelRidge\n",
        "from sklearn.pipeline import Pipeline\n",
        "from sklearn.discriminant_analysis import LinearDiscriminantAnalysis\n",
        "from sklearn.model_selection import ShuffleSplit, cross_val_score\n",
        "from sklearn.model_selection import train_test_split,GridSearchCV,cross_val_score, cross_val_predict\n",
        "from sklearn.metrics import confusion_matrix, accuracy_score, classification_report, f1_score\n",
        "from joblib import dump, load\n",
        "from sklearn.svm import LinearSVC, SVC\n",
        "from sklearn.neighbors import KNeighborsClassifier\n",
        "from sklearn.naive_bayes import GaussianNB\n",
        "from sklearn.tree import DecisionTreeClassifier\n",
        "from sklearn.preprocessing import StandardScaler\n",
        "from sklearn.decomposition import PCA\n",
        "from sklearn.metrics import mean_squared_error as mse\n",
        "from sklearn.metrics import mean_absolute_error as mae\n",
        "from sklearn.linear_model import LinearRegression\n",
        "from sklearn.linear_model import Ridge\n",
        "from sklearn.linear_model import Lasso\n",
        "from sklearn.linear_model import ElasticNet\n",
        "\n",
        "steps = [\n",
        "         [('scaler', StandardScaler()), #estandarizar cada atriuto columna de xtrain centrada en 0 y var = 1\n",
        "          ('rep', PCA()),\n",
        "          ('reg', LinearRegression())],\n",
        "         \n",
        "         [('scaler', StandardScaler()), #estandarizar cada atriuto columna de xtrain centrada en 0 y var = 1\n",
        "          ('rep', PCA()),\n",
        "          ('reg', Ridge())],\n",
        "         \n",
        "         [('scaler', StandardScaler()), #estandarizar cada atriuto columna de xtrain centrada en 0 y var = 1\n",
        "          ('rep', PCA()),\n",
        "          ('reg', Lasso())],\n",
        "         \n",
        "         [('scaler', StandardScaler()), #estandarizar cada atriuto columna de xtrain centrada en 0 y var = 1\n",
        "          ('rep', PCA()),\n",
        "          ('reg', ElasticNet())], \n",
        "         \n",
        "         [('scaler', StandardScaler()), #estandarizar cada atriuto columna de xtrain centrada en 0 y var = 1\n",
        "          ('rep', PCA()),\n",
        "          ('reg', KernelRidge(kernel = 'rbf'))], #clasificador \n",
        "         \n",
        "         ]        \n",
        "\n",
        "\n",
        "#parametros a buscar por busqueda por grilla\n",
        "parameters =[\n",
        "             {'reg__fit_intercept':[0.5,1,1.5,2,2.5,3],\n",
        "              'rep__n_components':[0.5,0.75,0.9,1,2,3]\n",
        "             },\n",
        "\n",
        "             {'reg__alpha':[1e-3,1e-2,1e-1,1,10,100],\n",
        "              'reg__fit_intercept':[0.5,1,1.5,2,2.5,3],\n",
        "              'rep__n_components':[0.5,0.75,0.9,1,2,3]\n",
        "             },\n",
        "\n",
        "              {'reg__alpha':[1e-3,1e-2,1e-1,1,10,100],\n",
        "              'rep__n_components':[0.5,0.75,0.9,1,2,3]\n",
        "             },\n",
        "\n",
        "             {'reg__alpha':[1e-3,1e-2,1e-1,1,10,100],\n",
        "              'reg__l1_ratio':[5e-3,5e-2,5e-1,5,10,100],\n",
        "              'rep__n_components':[0.5,0.75,0.9,1,2,3]\n",
        "             },\n",
        "\n",
        "             {'reg__gamma':[1e-3,1e-2,1e-1,1,10,100],\n",
        "             'reg__alpha':[1e-3,1e-2,1e-1,1,10,100],\n",
        "              'rep__n_components':[0.5,0.75,0.9,1,2,3]\n",
        "             },\n",
        "              ]\n",
        "\n",
        "label_model = ['NorSC-PCA-LM', 'NorSC-PCA-LMRidge', 'NoSC-PCA-LMLasso', 'NorSC-PCA-LMEN', 'NorSC-PCA-KRRBF']\n"
      ],
      "execution_count": 0,
      "outputs": []
    },
    {
      "cell_type": "code",
      "metadata": {
        "id": "09LUnF76iVBu",
        "colab_type": "code",
        "outputId": "4e954844-1123-447a-e09a-c525d4f0bb66",
        "colab": {
          "base_uri": "https://localhost:8080/",
          "height": 1000
        }
      },
      "source": [
        "#valildacion cruzada anidada\n",
        "Niter = 10 #numero particiones outter loop nested cross-validation\n",
        "maev =np.zeros((Niter,len(steps)))#arreglo para guardar acierto\n",
        "best_estimators = []#mejor metodo por iteracion\n",
        "###clave del funcionamiento\n",
        "best_hyperpar = []#mejor metodo por iteracion \n",
        "#############################\n",
        "          \n",
        "\n",
        "for j in range(Niter): #outter loop\n",
        "      print('it %d/%d'%(j+1,Niter))\n",
        "      #particiono datos outter loop\n",
        "      X_train, X_test, y_train, y_test = train_test_split(X,y,test_size=0.3) # xtrain 60, xtest 26\n",
        "      for r in range(len(steps)): #recorro todos los posibles modelos a probar en iteracion j del outter loop\n",
        "          grid_search = GridSearchCV(Pipeline(steps[r]), parameters[r],cv=5,verbose=10,scoring='neg_mean_absolute_error',n_jobs=5) #cv inner loop\n",
        "          #xtrain gridsearchcv xtrain split en 12 / cv, 60/5 = 12, xtrain 48 datos validar 12\n",
        "          # cv = N -> leave one out N <30\n",
        "          #generar mejor modelo\n",
        "          grid_search.fit(X_train,y_train)\n",
        "          #estimar salida conjunto de test\n",
        "          y_pred = grid_search.best_estimator_.predict(X_test)\n",
        "          #guardar mejor modelo\n",
        "          best_estimators.append(grid_search.best_estimator_)\n",
        "          best_hyperpar.append(grid_search.best_params_)\n",
        "          \n",
        "          #guardar acierto\n",
        "          maev[j,r] = mae(y_test,y_pred)\n",
        "          print('it %d/%d-Modelo %d/%d'%(j+1,Niter,r,len(steps)))\n",
        "          print(best_hyperpar)\n",
        "          print('mae:',maev[j,r])\n",
        "\n",
        "          savedata = {\n",
        "              'acc':maev,\n",
        "              'best_models':best_estimators,\n",
        "              'best_hyperpar':best_hyperpar,\n",
        "                } \n",
        "          dump(savedata,'covid19_1.joblib')\n",
        "\n",
        "print(\"\\nMejor Modelo:\\n\")\n",
        "print(grid_search.best_estimator_)\n",
        "\n",
        "print(\"\\nMejores parámetros:\\n\")\n",
        "print(grid_search.best_params_)"
      ],
      "execution_count": 7,
      "outputs": [
        {
          "output_type": "stream",
          "text": [
            "it 1/10\n",
            "Fitting 5 folds for each of 36 candidates, totalling 180 fits\n"
          ],
          "name": "stdout"
        },
        {
          "output_type": "stream",
          "text": [
            "[Parallel(n_jobs=5)]: Using backend LokyBackend with 5 concurrent workers.\n",
            "[Parallel(n_jobs=5)]: Done   3 tasks      | elapsed:    2.2s\n",
            "[Parallel(n_jobs=5)]: Done   8 tasks      | elapsed:    2.3s\n",
            "[Parallel(n_jobs=5)]: Done  15 tasks      | elapsed:    2.3s\n",
            "[Parallel(n_jobs=5)]: Batch computation too fast (0.1885s.) Setting batch_size=2.\n",
            "[Parallel(n_jobs=5)]: Done  22 tasks      | elapsed:    2.4s\n",
            "[Parallel(n_jobs=5)]: Batch computation too fast (0.0593s.) Setting batch_size=4.\n",
            "[Parallel(n_jobs=5)]: Done  33 tasks      | elapsed:    2.5s\n",
            "[Parallel(n_jobs=5)]: Done  50 tasks      | elapsed:    2.5s\n",
            "[Parallel(n_jobs=5)]: Batch computation too fast (0.0774s.) Setting batch_size=8.\n",
            "[Parallel(n_jobs=5)]: Done  98 tasks      | elapsed:    2.7s\n",
            "[Parallel(n_jobs=5)]: Batch computation too fast (0.1072s.) Setting batch_size=16.\n",
            "[Parallel(n_jobs=5)]: Done 152 out of 180 | elapsed:    2.9s remaining:    0.5s\n",
            "[Parallel(n_jobs=5)]: Done 171 out of 180 | elapsed:    2.9s remaining:    0.2s\n",
            "[Parallel(n_jobs=5)]: Done 180 out of 180 | elapsed:    2.9s finished\n",
            "[Parallel(n_jobs=5)]: Using backend LokyBackend with 5 concurrent workers.\n"
          ],
          "name": "stderr"
        },
        {
          "output_type": "stream",
          "text": [
            "it 1/10-Modelo 0/5\n",
            "[{'reg__fit_intercept': 0.5, 'rep__n_components': 2}]\n",
            "mae: 43.95691905259828\n",
            "Fitting 5 folds for each of 216 candidates, totalling 1080 fits\n"
          ],
          "name": "stdout"
        },
        {
          "output_type": "stream",
          "text": [
            "[Parallel(n_jobs=5)]: Batch computation too fast (0.0198s.) Setting batch_size=2.\n",
            "[Parallel(n_jobs=5)]: Done   3 tasks      | elapsed:    0.0s\n",
            "[Parallel(n_jobs=5)]: Done   8 tasks      | elapsed:    0.1s\n",
            "[Parallel(n_jobs=5)]: Batch computation too fast (0.0344s.) Setting batch_size=4.\n",
            "[Parallel(n_jobs=5)]: Done  20 tasks      | elapsed:    0.1s\n",
            "[Parallel(n_jobs=5)]: Batch computation too fast (0.0706s.) Setting batch_size=8.\n",
            "[Parallel(n_jobs=5)]: Done  38 tasks      | elapsed:    0.3s\n",
            "[Parallel(n_jobs=5)]: Done  78 tasks      | elapsed:    0.4s\n",
            "[Parallel(n_jobs=5)]: Batch computation too fast (0.0652s.) Setting batch_size=16.\n",
            "[Parallel(n_jobs=5)]: Done 150 tasks      | elapsed:    0.7s\n",
            "[Parallel(n_jobs=5)]: Done 326 tasks      | elapsed:    1.3s\n",
            "[Parallel(n_jobs=5)]: Done 502 tasks      | elapsed:    1.9s\n",
            "[Parallel(n_jobs=5)]: Done 710 tasks      | elapsed:    2.4s\n",
            "[Parallel(n_jobs=5)]: Done 918 tasks      | elapsed:    3.1s\n",
            "[Parallel(n_jobs=5)]: Done 1008 tasks      | elapsed:    3.2s\n",
            "[Parallel(n_jobs=5)]: Done 1038 tasks      | elapsed:    3.3s\n",
            "[Parallel(n_jobs=5)]: Done 1070 tasks      | elapsed:    3.4s\n",
            "[Parallel(n_jobs=5)]: Done 1080 out of 1080 | elapsed:    3.4s finished\n",
            "[Parallel(n_jobs=5)]: Using backend LokyBackend with 5 concurrent workers.\n",
            "[Parallel(n_jobs=5)]: Batch computation too fast (0.0109s.) Setting batch_size=2.\n",
            "[Parallel(n_jobs=5)]: Done   3 tasks      | elapsed:    0.0s\n",
            "[Parallel(n_jobs=5)]: Done   8 tasks      | elapsed:    0.0s\n",
            "[Parallel(n_jobs=5)]: Batch computation too fast (0.0435s.) Setting batch_size=4.\n"
          ],
          "name": "stderr"
        },
        {
          "output_type": "stream",
          "text": [
            "it 1/10-Modelo 1/5\n",
            "[{'reg__fit_intercept': 0.5, 'rep__n_components': 2}, {'reg__alpha': 0.001, 'reg__fit_intercept': 0.5, 'rep__n_components': 2}]\n",
            "mae: 44.012268255336444\n",
            "Fitting 5 folds for each of 36 candidates, totalling 180 fits\n"
          ],
          "name": "stdout"
        },
        {
          "output_type": "stream",
          "text": [
            "[Parallel(n_jobs=5)]: Done  20 tasks      | elapsed:    0.1s\n",
            "[Parallel(n_jobs=5)]: Batch computation too fast (0.1305s.) Setting batch_size=8.\n",
            "[Parallel(n_jobs=5)]: Done  38 tasks      | elapsed:    0.2s\n",
            "[Parallel(n_jobs=5)]: Done  78 tasks      | elapsed:    0.3s\n",
            "[Parallel(n_jobs=5)]: Batch computation too fast (0.0882s.) Setting batch_size=16.\n",
            "[Parallel(n_jobs=5)]: Done 136 tasks      | elapsed:    0.5s\n",
            "[Parallel(n_jobs=5)]: Done 161 tasks      | elapsed:    0.6s\n",
            "[Parallel(n_jobs=5)]: Done 180 out of 180 | elapsed:    0.6s finished\n",
            "[Parallel(n_jobs=5)]: Using backend LokyBackend with 5 concurrent workers.\n",
            "[Parallel(n_jobs=5)]: Batch computation too fast (0.0096s.) Setting batch_size=2.\n",
            "[Parallel(n_jobs=5)]: Done   3 tasks      | elapsed:    0.0s\n",
            "[Parallel(n_jobs=5)]: Done   8 tasks      | elapsed:    0.1s\n",
            "[Parallel(n_jobs=5)]: Batch computation too fast (0.0468s.) Setting batch_size=4.\n",
            "[Parallel(n_jobs=5)]: Done  20 tasks      | elapsed:    0.1s\n"
          ],
          "name": "stderr"
        },
        {
          "output_type": "stream",
          "text": [
            "it 1/10-Modelo 2/5\n",
            "[{'reg__fit_intercept': 0.5, 'rep__n_components': 2}, {'reg__alpha': 0.001, 'reg__fit_intercept': 0.5, 'rep__n_components': 2}, {'reg__alpha': 0.001, 'rep__n_components': 2}]\n",
            "mae: 43.959704827665504\n",
            "Fitting 5 folds for each of 216 candidates, totalling 1080 fits\n"
          ],
          "name": "stdout"
        },
        {
          "output_type": "stream",
          "text": [
            "[Parallel(n_jobs=5)]: Batch computation too fast (0.0718s.) Setting batch_size=8.\n",
            "[Parallel(n_jobs=5)]: Done  38 tasks      | elapsed:    0.3s\n",
            "[Parallel(n_jobs=5)]: Done  78 tasks      | elapsed:    0.4s\n",
            "[Parallel(n_jobs=5)]: Batch computation too fast (0.1772s.) Setting batch_size=16.\n",
            "[Parallel(n_jobs=5)]: Done 150 tasks      | elapsed:    0.8s\n",
            "[Parallel(n_jobs=5)]: Batch computation too fast (0.1772s.) Setting batch_size=32.\n",
            "[Parallel(n_jobs=5)]: Done 342 tasks      | elapsed:    1.5s\n",
            "[Parallel(n_jobs=5)]: Done 694 tasks      | elapsed:    2.9s\n",
            "[Parallel(n_jobs=5)]: Done 870 tasks      | elapsed:    3.1s\n",
            "[Parallel(n_jobs=5)]: Done 986 tasks      | elapsed:    3.3s\n",
            "[Parallel(n_jobs=5)]: Done 1016 tasks      | elapsed:    3.4s\n",
            "[Parallel(n_jobs=5)]: Done 1046 tasks      | elapsed:    3.5s\n",
            "[Parallel(n_jobs=5)]: Done 1080 out of 1080 | elapsed:    3.6s finished\n"
          ],
          "name": "stderr"
        },
        {
          "output_type": "stream",
          "text": [
            "it 1/10-Modelo 3/5\n",
            "[{'reg__fit_intercept': 0.5, 'rep__n_components': 2}, {'reg__alpha': 0.001, 'reg__fit_intercept': 0.5, 'rep__n_components': 2}, {'reg__alpha': 0.001, 'rep__n_components': 2}, {'reg__alpha': 0.001, 'reg__l1_ratio': 0.5, 'rep__n_components': 3}]\n",
            "mae: 43.36344531160931\n",
            "Fitting 5 folds for each of 216 candidates, totalling 1080 fits\n"
          ],
          "name": "stdout"
        },
        {
          "output_type": "stream",
          "text": [
            "[Parallel(n_jobs=5)]: Using backend LokyBackend with 5 concurrent workers.\n",
            "[Parallel(n_jobs=5)]: Batch computation too fast (0.0307s.) Setting batch_size=2.\n",
            "[Parallel(n_jobs=5)]: Done   3 tasks      | elapsed:    0.0s\n",
            "[Parallel(n_jobs=5)]: Done   8 tasks      | elapsed:    0.1s\n",
            "[Parallel(n_jobs=5)]: Batch computation too fast (0.0504s.) Setting batch_size=4.\n",
            "[Parallel(n_jobs=5)]: Done  20 tasks      | elapsed:    0.1s\n",
            "[Parallel(n_jobs=5)]: Batch computation too fast (0.0944s.) Setting batch_size=8.\n",
            "[Parallel(n_jobs=5)]: Done  38 tasks      | elapsed:    0.3s\n",
            "[Parallel(n_jobs=5)]: Done  78 tasks      | elapsed:    0.4s\n",
            "[Parallel(n_jobs=5)]: Batch computation too fast (0.1801s.) Setting batch_size=16.\n",
            "[Parallel(n_jobs=5)]: Done 150 tasks      | elapsed:    0.8s\n",
            "[Parallel(n_jobs=5)]: Done 326 tasks      | elapsed:    1.4s\n",
            "[Parallel(n_jobs=5)]: Done 502 tasks      | elapsed:    2.1s\n",
            "[Parallel(n_jobs=5)]: Done 710 tasks      | elapsed:    2.7s\n",
            "[Parallel(n_jobs=5)]: Done 918 tasks      | elapsed:    3.5s\n",
            "[Parallel(n_jobs=5)]: Done 1023 tasks      | elapsed:    3.6s\n",
            "[Parallel(n_jobs=5)]: Done 1053 tasks      | elapsed:    3.7s\n",
            "[Parallel(n_jobs=5)]: Done 1070 tasks      | elapsed:    3.7s\n",
            "[Parallel(n_jobs=5)]: Done 1080 out of 1080 | elapsed:    3.8s finished\n"
          ],
          "name": "stderr"
        },
        {
          "output_type": "stream",
          "text": [
            "it 1/10-Modelo 4/5\n",
            "[{'reg__fit_intercept': 0.5, 'rep__n_components': 2}, {'reg__alpha': 0.001, 'reg__fit_intercept': 0.5, 'rep__n_components': 2}, {'reg__alpha': 0.001, 'rep__n_components': 2}, {'reg__alpha': 0.001, 'reg__l1_ratio': 0.5, 'rep__n_components': 3}, {'reg__alpha': 0.001, 'reg__gamma': 0.1, 'rep__n_components': 2}]\n",
            "mae: 31.259471156747438\n",
            "it 2/10\n",
            "Fitting 5 folds for each of 36 candidates, totalling 180 fits\n"
          ],
          "name": "stdout"
        },
        {
          "output_type": "stream",
          "text": [
            "[Parallel(n_jobs=5)]: Using backend LokyBackend with 5 concurrent workers.\n",
            "[Parallel(n_jobs=5)]: Batch computation too fast (0.0231s.) Setting batch_size=2.\n",
            "[Parallel(n_jobs=5)]: Done   3 tasks      | elapsed:    0.0s\n",
            "[Parallel(n_jobs=5)]: Done   8 tasks      | elapsed:    0.1s\n",
            "[Parallel(n_jobs=5)]: Batch computation too fast (0.0754s.) Setting batch_size=4.\n",
            "[Parallel(n_jobs=5)]: Done  20 tasks      | elapsed:    0.1s\n",
            "[Parallel(n_jobs=5)]: Batch computation too fast (0.0613s.) Setting batch_size=8.\n",
            "[Parallel(n_jobs=5)]: Done  38 tasks      | elapsed:    0.2s\n",
            "[Parallel(n_jobs=5)]: Done  78 tasks      | elapsed:    0.4s\n",
            "[Parallel(n_jobs=5)]: Batch computation too fast (0.1226s.) Setting batch_size=16.\n",
            "[Parallel(n_jobs=5)]: Done 129 tasks      | elapsed:    0.5s\n",
            "[Parallel(n_jobs=5)]: Done 161 tasks      | elapsed:    0.5s\n",
            "[Parallel(n_jobs=5)]: Done 180 out of 180 | elapsed:    0.6s finished\n",
            "[Parallel(n_jobs=5)]: Using backend LokyBackend with 5 concurrent workers.\n",
            "[Parallel(n_jobs=5)]: Batch computation too fast (0.0149s.) Setting batch_size=2.\n",
            "[Parallel(n_jobs=5)]: Done   3 tasks      | elapsed:    0.1s\n"
          ],
          "name": "stderr"
        },
        {
          "output_type": "stream",
          "text": [
            "it 2/10-Modelo 0/5\n",
            "[{'reg__fit_intercept': 0.5, 'rep__n_components': 2}, {'reg__alpha': 0.001, 'reg__fit_intercept': 0.5, 'rep__n_components': 2}, {'reg__alpha': 0.001, 'rep__n_components': 2}, {'reg__alpha': 0.001, 'reg__l1_ratio': 0.5, 'rep__n_components': 3}, {'reg__alpha': 0.001, 'reg__gamma': 0.1, 'rep__n_components': 2}, {'reg__fit_intercept': 0.5, 'rep__n_components': 3}]\n",
            "mae: 52.10900546079324\n",
            "Fitting 5 folds for each of 216 candidates, totalling 1080 fits\n"
          ],
          "name": "stdout"
        },
        {
          "output_type": "stream",
          "text": [
            "[Parallel(n_jobs=5)]: Done   8 tasks      | elapsed:    0.1s\n",
            "[Parallel(n_jobs=5)]: Batch computation too fast (0.0475s.) Setting batch_size=4.\n",
            "[Parallel(n_jobs=5)]: Done  20 tasks      | elapsed:    0.1s\n",
            "[Parallel(n_jobs=5)]: Batch computation too fast (0.1001s.) Setting batch_size=8.\n",
            "[Parallel(n_jobs=5)]: Done  38 tasks      | elapsed:    0.2s\n",
            "[Parallel(n_jobs=5)]: Done  78 tasks      | elapsed:    0.4s\n",
            "[Parallel(n_jobs=5)]: Batch computation too fast (0.1233s.) Setting batch_size=16.\n",
            "[Parallel(n_jobs=5)]: Done 150 tasks      | elapsed:    0.6s\n",
            "[Parallel(n_jobs=5)]: Batch computation too fast (0.1615s.) Setting batch_size=32.\n",
            "[Parallel(n_jobs=5)]: Done 342 tasks      | elapsed:    1.4s\n",
            "[Parallel(n_jobs=5)]: Done 694 tasks      | elapsed:    2.7s\n",
            "[Parallel(n_jobs=5)]: Done 870 tasks      | elapsed:    2.9s\n",
            "[Parallel(n_jobs=5)]: Done 986 tasks      | elapsed:    3.0s\n",
            "[Parallel(n_jobs=5)]: Done 1016 tasks      | elapsed:    3.1s\n",
            "[Parallel(n_jobs=5)]: Done 1046 tasks      | elapsed:    3.2s\n",
            "[Parallel(n_jobs=5)]: Done 1080 out of 1080 | elapsed:    3.3s finished\n",
            "[Parallel(n_jobs=5)]: Using backend LokyBackend with 5 concurrent workers.\n",
            "[Parallel(n_jobs=5)]: Batch computation too fast (0.0115s.) Setting batch_size=2.\n",
            "[Parallel(n_jobs=5)]: Done   3 tasks      | elapsed:    0.0s\n",
            "[Parallel(n_jobs=5)]: Done   8 tasks      | elapsed:    0.0s\n",
            "[Parallel(n_jobs=5)]: Batch computation too fast (0.0405s.) Setting batch_size=4.\n",
            "[Parallel(n_jobs=5)]: Done  20 tasks      | elapsed:    0.1s\n",
            "[Parallel(n_jobs=5)]: Batch computation too fast (0.0830s.) Setting batch_size=8.\n"
          ],
          "name": "stderr"
        },
        {
          "output_type": "stream",
          "text": [
            "it 2/10-Modelo 1/5\n",
            "[{'reg__fit_intercept': 0.5, 'rep__n_components': 2}, {'reg__alpha': 0.001, 'reg__fit_intercept': 0.5, 'rep__n_components': 2}, {'reg__alpha': 0.001, 'rep__n_components': 2}, {'reg__alpha': 0.001, 'reg__l1_ratio': 0.5, 'rep__n_components': 3}, {'reg__alpha': 0.001, 'reg__gamma': 0.1, 'rep__n_components': 2}, {'reg__fit_intercept': 0.5, 'rep__n_components': 3}, {'reg__alpha': 0.001, 'reg__fit_intercept': 0.5, 'rep__n_components': 3}]\n",
            "mae: 52.256288257978895\n",
            "Fitting 5 folds for each of 36 candidates, totalling 180 fits\n"
          ],
          "name": "stdout"
        },
        {
          "output_type": "stream",
          "text": [
            "[Parallel(n_jobs=5)]: Done  38 tasks      | elapsed:    0.2s\n",
            "[Parallel(n_jobs=5)]: Done  78 tasks      | elapsed:    0.3s\n",
            "[Parallel(n_jobs=5)]: Batch computation too fast (0.1326s.) Setting batch_size=16.\n",
            "[Parallel(n_jobs=5)]: Done 136 tasks      | elapsed:    0.5s\n",
            "[Parallel(n_jobs=5)]: Done 161 tasks      | elapsed:    0.5s\n",
            "[Parallel(n_jobs=5)]: Done 180 out of 180 | elapsed:    0.6s finished\n",
            "[Parallel(n_jobs=5)]: Using backend LokyBackend with 5 concurrent workers.\n",
            "[Parallel(n_jobs=5)]: Batch computation too fast (0.0068s.) Setting batch_size=2.\n",
            "[Parallel(n_jobs=5)]: Batch computation too fast (0.0068s.) Setting batch_size=4.\n",
            "[Parallel(n_jobs=5)]: Done   4 tasks      | elapsed:    0.0s\n"
          ],
          "name": "stderr"
        },
        {
          "output_type": "stream",
          "text": [
            "it 2/10-Modelo 2/5\n",
            "[{'reg__fit_intercept': 0.5, 'rep__n_components': 2}, {'reg__alpha': 0.001, 'reg__fit_intercept': 0.5, 'rep__n_components': 2}, {'reg__alpha': 0.001, 'rep__n_components': 2}, {'reg__alpha': 0.001, 'reg__l1_ratio': 0.5, 'rep__n_components': 3}, {'reg__alpha': 0.001, 'reg__gamma': 0.1, 'rep__n_components': 2}, {'reg__fit_intercept': 0.5, 'rep__n_components': 3}, {'reg__alpha': 0.001, 'reg__fit_intercept': 0.5, 'rep__n_components': 3}, {'reg__alpha': 0.001, 'rep__n_components': 3}]\n",
            "mae: 52.11735726002459\n",
            "Fitting 5 folds for each of 216 candidates, totalling 1080 fits\n"
          ],
          "name": "stdout"
        },
        {
          "output_type": "stream",
          "text": [
            "[Parallel(n_jobs=5)]: Done   9 tasks      | elapsed:    0.1s\n",
            "[Parallel(n_jobs=5)]: Batch computation too fast (0.0586s.) Setting batch_size=8.\n",
            "[Parallel(n_jobs=5)]: Done  34 tasks      | elapsed:    0.2s\n",
            "[Parallel(n_jobs=5)]: Batch computation too fast (0.1251s.) Setting batch_size=16.\n",
            "[Parallel(n_jobs=5)]: Done  74 tasks      | elapsed:    0.4s\n",
            "[Parallel(n_jobs=5)]: Batch computation too fast (0.1786s.) Setting batch_size=32.\n",
            "[Parallel(n_jobs=5)]: Done 162 tasks      | elapsed:    0.6s\n",
            "[Parallel(n_jobs=5)]: Done 322 tasks      | elapsed:    1.3s\n",
            "[Parallel(n_jobs=5)]: Done 674 tasks      | elapsed:    2.3s\n",
            "[Parallel(n_jobs=5)]: Done 910 tasks      | elapsed:    3.0s\n",
            "[Parallel(n_jobs=5)]: Done 978 tasks      | elapsed:    3.1s\n",
            "[Parallel(n_jobs=5)]: Done 1017 tasks      | elapsed:    3.2s\n",
            "[Parallel(n_jobs=5)]: Done 1071 out of 1080 | elapsed:    3.4s remaining:    0.0s\n",
            "[Parallel(n_jobs=5)]: Done 1080 out of 1080 | elapsed:    3.4s finished\n",
            "[Parallel(n_jobs=5)]: Using backend LokyBackend with 5 concurrent workers.\n",
            "[Parallel(n_jobs=5)]: Batch computation too fast (0.0105s.) Setting batch_size=2.\n",
            "[Parallel(n_jobs=5)]: Done   3 tasks      | elapsed:    0.0s\n",
            "[Parallel(n_jobs=5)]: Done   8 tasks      | elapsed:    0.0s\n",
            "[Parallel(n_jobs=5)]: Batch computation too fast (0.0462s.) Setting batch_size=4.\n",
            "[Parallel(n_jobs=5)]: Done  20 tasks      | elapsed:    0.1s\n"
          ],
          "name": "stderr"
        },
        {
          "output_type": "stream",
          "text": [
            "it 2/10-Modelo 3/5\n",
            "[{'reg__fit_intercept': 0.5, 'rep__n_components': 2}, {'reg__alpha': 0.001, 'reg__fit_intercept': 0.5, 'rep__n_components': 2}, {'reg__alpha': 0.001, 'rep__n_components': 2}, {'reg__alpha': 0.001, 'reg__l1_ratio': 0.5, 'rep__n_components': 3}, {'reg__alpha': 0.001, 'reg__gamma': 0.1, 'rep__n_components': 2}, {'reg__fit_intercept': 0.5, 'rep__n_components': 3}, {'reg__alpha': 0.001, 'reg__fit_intercept': 0.5, 'rep__n_components': 3}, {'reg__alpha': 0.001, 'rep__n_components': 3}, {'reg__alpha': 0.001, 'reg__l1_ratio': 0.5, 'rep__n_components': 3}]\n",
            "mae: 55.933529282820516\n",
            "Fitting 5 folds for each of 216 candidates, totalling 1080 fits\n"
          ],
          "name": "stdout"
        },
        {
          "output_type": "stream",
          "text": [
            "[Parallel(n_jobs=5)]: Batch computation too fast (0.1130s.) Setting batch_size=8.\n",
            "[Parallel(n_jobs=5)]: Done  38 tasks      | elapsed:    0.3s\n",
            "[Parallel(n_jobs=5)]: Done  78 tasks      | elapsed:    0.4s\n",
            "[Parallel(n_jobs=5)]: Batch computation too fast (0.1278s.) Setting batch_size=16.\n",
            "[Parallel(n_jobs=5)]: Done 150 tasks      | elapsed:    0.7s\n",
            "[Parallel(n_jobs=5)]: Batch computation too fast (0.1439s.) Setting batch_size=32.\n",
            "[Parallel(n_jobs=5)]: Done 342 tasks      | elapsed:    1.5s\n",
            "[Parallel(n_jobs=5)]: Done 694 tasks      | elapsed:    2.9s\n",
            "[Parallel(n_jobs=5)]: Done 930 tasks      | elapsed:    3.1s\n",
            "[Parallel(n_jobs=5)]: Done 956 tasks      | elapsed:    3.3s\n",
            "[Parallel(n_jobs=5)]: Done 986 tasks      | elapsed:    3.4s\n",
            "[Parallel(n_jobs=5)]: Done 1046 tasks      | elapsed:    3.5s\n",
            "[Parallel(n_jobs=5)]: Done 1080 out of 1080 | elapsed:    3.6s finished\n",
            "[Parallel(n_jobs=5)]: Using backend LokyBackend with 5 concurrent workers.\n",
            "[Parallel(n_jobs=5)]: Batch computation too fast (0.0077s.) Setting batch_size=2.\n",
            "[Parallel(n_jobs=5)]: Batch computation too fast (0.0077s.) Setting batch_size=4.\n",
            "[Parallel(n_jobs=5)]: Done   2 tasks      | elapsed:    0.0s\n",
            "[Parallel(n_jobs=5)]: Done   4 tasks      | elapsed:    0.0s\n",
            "[Parallel(n_jobs=5)]: Done   9 tasks      | elapsed:    0.1s\n",
            "[Parallel(n_jobs=5)]: Batch computation too fast (0.0503s.) Setting batch_size=8.\n"
          ],
          "name": "stderr"
        },
        {
          "output_type": "stream",
          "text": [
            "it 2/10-Modelo 4/5\n",
            "[{'reg__fit_intercept': 0.5, 'rep__n_components': 2}, {'reg__alpha': 0.001, 'reg__fit_intercept': 0.5, 'rep__n_components': 2}, {'reg__alpha': 0.001, 'rep__n_components': 2}, {'reg__alpha': 0.001, 'reg__l1_ratio': 0.5, 'rep__n_components': 3}, {'reg__alpha': 0.001, 'reg__gamma': 0.1, 'rep__n_components': 2}, {'reg__fit_intercept': 0.5, 'rep__n_components': 3}, {'reg__alpha': 0.001, 'reg__fit_intercept': 0.5, 'rep__n_components': 3}, {'reg__alpha': 0.001, 'rep__n_components': 3}, {'reg__alpha': 0.001, 'reg__l1_ratio': 0.5, 'rep__n_components': 3}, {'reg__alpha': 0.001, 'reg__gamma': 0.1, 'rep__n_components': 0.5}]\n",
            "mae: 33.61235643727596\n",
            "it 3/10\n",
            "Fitting 5 folds for each of 36 candidates, totalling 180 fits\n"
          ],
          "name": "stdout"
        },
        {
          "output_type": "stream",
          "text": [
            "[Parallel(n_jobs=5)]: Done  34 tasks      | elapsed:    0.2s\n",
            "[Parallel(n_jobs=5)]: Batch computation too fast (0.1258s.) Setting batch_size=16.\n",
            "[Parallel(n_jobs=5)]: Done  74 tasks      | elapsed:    0.4s\n",
            "[Parallel(n_jobs=5)]: Done 118 tasks      | elapsed:    0.4s\n",
            "[Parallel(n_jobs=5)]: Done 141 tasks      | elapsed:    0.5s\n",
            "[Parallel(n_jobs=5)]: Done 152 tasks      | elapsed:    0.5s\n",
            "[Parallel(n_jobs=5)]: Done 163 tasks      | elapsed:    0.6s\n",
            "[Parallel(n_jobs=5)]: Done 180 out of 180 | elapsed:    0.6s finished\n",
            "[Parallel(n_jobs=5)]: Using backend LokyBackend with 5 concurrent workers.\n"
          ],
          "name": "stderr"
        },
        {
          "output_type": "stream",
          "text": [
            "it 3/10-Modelo 0/5\n",
            "[{'reg__fit_intercept': 0.5, 'rep__n_components': 2}, {'reg__alpha': 0.001, 'reg__fit_intercept': 0.5, 'rep__n_components': 2}, {'reg__alpha': 0.001, 'rep__n_components': 2}, {'reg__alpha': 0.001, 'reg__l1_ratio': 0.5, 'rep__n_components': 3}, {'reg__alpha': 0.001, 'reg__gamma': 0.1, 'rep__n_components': 2}, {'reg__fit_intercept': 0.5, 'rep__n_components': 3}, {'reg__alpha': 0.001, 'reg__fit_intercept': 0.5, 'rep__n_components': 3}, {'reg__alpha': 0.001, 'rep__n_components': 3}, {'reg__alpha': 0.001, 'reg__l1_ratio': 0.5, 'rep__n_components': 3}, {'reg__alpha': 0.001, 'reg__gamma': 0.1, 'rep__n_components': 0.5}, {'reg__fit_intercept': 0.5, 'rep__n_components': 3}]\n",
            "mae: 53.10420202422145\n",
            "Fitting 5 folds for each of 216 candidates, totalling 1080 fits\n"
          ],
          "name": "stdout"
        },
        {
          "output_type": "stream",
          "text": [
            "[Parallel(n_jobs=5)]: Batch computation too fast (0.0178s.) Setting batch_size=2.\n",
            "[Parallel(n_jobs=5)]: Done   3 tasks      | elapsed:    0.0s\n",
            "[Parallel(n_jobs=5)]: Done   8 tasks      | elapsed:    0.1s\n",
            "[Parallel(n_jobs=5)]: Batch computation too fast (0.0420s.) Setting batch_size=4.\n",
            "[Parallel(n_jobs=5)]: Done  20 tasks      | elapsed:    0.1s\n",
            "[Parallel(n_jobs=5)]: Batch computation too fast (0.0527s.) Setting batch_size=8.\n",
            "[Parallel(n_jobs=5)]: Done  38 tasks      | elapsed:    0.2s\n",
            "[Parallel(n_jobs=5)]: Done  78 tasks      | elapsed:    0.3s\n",
            "[Parallel(n_jobs=5)]: Batch computation too fast (0.1544s.) Setting batch_size=16.\n",
            "[Parallel(n_jobs=5)]: Done 150 tasks      | elapsed:    0.6s\n",
            "[Parallel(n_jobs=5)]: Done 326 tasks      | elapsed:    1.1s\n",
            "[Parallel(n_jobs=5)]: Done 502 tasks      | elapsed:    1.8s\n",
            "[Parallel(n_jobs=5)]: Done 710 tasks      | elapsed:    2.3s\n",
            "[Parallel(n_jobs=5)]: Done 918 tasks      | elapsed:    2.9s\n",
            "[Parallel(n_jobs=5)]: Done 1008 tasks      | elapsed:    3.1s\n",
            "[Parallel(n_jobs=5)]: Done 1053 tasks      | elapsed:    3.1s\n",
            "[Parallel(n_jobs=5)]: Done 1070 tasks      | elapsed:    3.2s\n",
            "[Parallel(n_jobs=5)]: Done 1080 out of 1080 | elapsed:    3.2s finished\n",
            "[Parallel(n_jobs=5)]: Using backend LokyBackend with 5 concurrent workers.\n"
          ],
          "name": "stderr"
        },
        {
          "output_type": "stream",
          "text": [
            "it 3/10-Modelo 1/5\n",
            "[{'reg__fit_intercept': 0.5, 'rep__n_components': 2}, {'reg__alpha': 0.001, 'reg__fit_intercept': 0.5, 'rep__n_components': 2}, {'reg__alpha': 0.001, 'rep__n_components': 2}, {'reg__alpha': 0.001, 'reg__l1_ratio': 0.5, 'rep__n_components': 3}, {'reg__alpha': 0.001, 'reg__gamma': 0.1, 'rep__n_components': 2}, {'reg__fit_intercept': 0.5, 'rep__n_components': 3}, {'reg__alpha': 0.001, 'reg__fit_intercept': 0.5, 'rep__n_components': 3}, {'reg__alpha': 0.001, 'rep__n_components': 3}, {'reg__alpha': 0.001, 'reg__l1_ratio': 0.5, 'rep__n_components': 3}, {'reg__alpha': 0.001, 'reg__gamma': 0.1, 'rep__n_components': 0.5}, {'reg__fit_intercept': 0.5, 'rep__n_components': 3}, {'reg__alpha': 0.001, 'reg__fit_intercept': 0.5, 'rep__n_components': 3}]\n",
            "mae: 53.35569759869541\n",
            "Fitting 5 folds for each of 36 candidates, totalling 180 fits\n"
          ],
          "name": "stdout"
        },
        {
          "output_type": "stream",
          "text": [
            "[Parallel(n_jobs=5)]: Batch computation too fast (0.0228s.) Setting batch_size=2.\n",
            "[Parallel(n_jobs=5)]: Done   3 tasks      | elapsed:    0.0s\n",
            "[Parallel(n_jobs=5)]: Done   8 tasks      | elapsed:    0.1s\n",
            "[Parallel(n_jobs=5)]: Batch computation too fast (0.0353s.) Setting batch_size=4.\n",
            "[Parallel(n_jobs=5)]: Done  20 tasks      | elapsed:    0.1s\n",
            "[Parallel(n_jobs=5)]: Batch computation too fast (0.0835s.) Setting batch_size=8.\n",
            "[Parallel(n_jobs=5)]: Done  38 tasks      | elapsed:    0.2s\n",
            "[Parallel(n_jobs=5)]: Done  78 tasks      | elapsed:    0.3s\n",
            "[Parallel(n_jobs=5)]: Batch computation too fast (0.1184s.) Setting batch_size=16.\n",
            "[Parallel(n_jobs=5)]: Done 136 tasks      | elapsed:    0.5s\n",
            "[Parallel(n_jobs=5)]: Done 154 tasks      | elapsed:    0.6s\n",
            "[Parallel(n_jobs=5)]: Done 180 out of 180 | elapsed:    0.6s finished\n",
            "[Parallel(n_jobs=5)]: Using backend LokyBackend with 5 concurrent workers.\n",
            "[Parallel(n_jobs=5)]: Batch computation too fast (0.0199s.) Setting batch_size=2.\n",
            "[Parallel(n_jobs=5)]: Done   3 tasks      | elapsed:    0.1s\n",
            "[Parallel(n_jobs=5)]: Done   8 tasks      | elapsed:    0.1s\n",
            "[Parallel(n_jobs=5)]: Batch computation too fast (0.0470s.) Setting batch_size=4.\n",
            "[Parallel(n_jobs=5)]: Done  20 tasks      | elapsed:    0.1s\n"
          ],
          "name": "stderr"
        },
        {
          "output_type": "stream",
          "text": [
            "it 3/10-Modelo 2/5\n",
            "[{'reg__fit_intercept': 0.5, 'rep__n_components': 2}, {'reg__alpha': 0.001, 'reg__fit_intercept': 0.5, 'rep__n_components': 2}, {'reg__alpha': 0.001, 'rep__n_components': 2}, {'reg__alpha': 0.001, 'reg__l1_ratio': 0.5, 'rep__n_components': 3}, {'reg__alpha': 0.001, 'reg__gamma': 0.1, 'rep__n_components': 2}, {'reg__fit_intercept': 0.5, 'rep__n_components': 3}, {'reg__alpha': 0.001, 'reg__fit_intercept': 0.5, 'rep__n_components': 3}, {'reg__alpha': 0.001, 'rep__n_components': 3}, {'reg__alpha': 0.001, 'reg__l1_ratio': 0.5, 'rep__n_components': 3}, {'reg__alpha': 0.001, 'reg__gamma': 0.1, 'rep__n_components': 0.5}, {'reg__fit_intercept': 0.5, 'rep__n_components': 3}, {'reg__alpha': 0.001, 'reg__fit_intercept': 0.5, 'rep__n_components': 3}, {'reg__alpha': 0.001, 'rep__n_components': 3}]\n",
            "mae: 53.11750901115524\n",
            "Fitting 5 folds for each of 216 candidates, totalling 1080 fits\n"
          ],
          "name": "stdout"
        },
        {
          "output_type": "stream",
          "text": [
            "[Parallel(n_jobs=5)]: Batch computation too fast (0.1423s.) Setting batch_size=8.\n",
            "[Parallel(n_jobs=5)]: Done  38 tasks      | elapsed:    0.3s\n",
            "[Parallel(n_jobs=5)]: Done  78 tasks      | elapsed:    0.4s\n",
            "[Parallel(n_jobs=5)]: Batch computation too fast (0.1297s.) Setting batch_size=16.\n",
            "[Parallel(n_jobs=5)]: Done 150 tasks      | elapsed:    0.7s\n",
            "[Parallel(n_jobs=5)]: Batch computation too fast (0.1768s.) Setting batch_size=32.\n",
            "[Parallel(n_jobs=5)]: Done 342 tasks      | elapsed:    1.4s\n",
            "[Parallel(n_jobs=5)]: Done 694 tasks      | elapsed:    2.8s\n",
            "[Parallel(n_jobs=5)]: Done 900 tasks      | elapsed:    3.0s\n",
            "[Parallel(n_jobs=5)]: Done 956 tasks      | elapsed:    3.2s\n",
            "[Parallel(n_jobs=5)]: Done 1016 tasks      | elapsed:    3.2s\n",
            "[Parallel(n_jobs=5)]: Done 1046 tasks      | elapsed:    3.4s\n",
            "[Parallel(n_jobs=5)]: Done 1080 out of 1080 | elapsed:    3.5s finished\n",
            "[Parallel(n_jobs=5)]: Using backend LokyBackend with 5 concurrent workers.\n",
            "[Parallel(n_jobs=5)]: Batch computation too fast (0.0095s.) Setting batch_size=2.\n",
            "[Parallel(n_jobs=5)]: Done   3 tasks      | elapsed:    0.0s\n",
            "[Parallel(n_jobs=5)]: Done   8 tasks      | elapsed:    0.1s\n",
            "[Parallel(n_jobs=5)]: Batch computation too fast (0.0478s.) Setting batch_size=4.\n",
            "[Parallel(n_jobs=5)]: Done  20 tasks      | elapsed:    0.1s\n"
          ],
          "name": "stderr"
        },
        {
          "output_type": "stream",
          "text": [
            "it 3/10-Modelo 3/5\n",
            "[{'reg__fit_intercept': 0.5, 'rep__n_components': 2}, {'reg__alpha': 0.001, 'reg__fit_intercept': 0.5, 'rep__n_components': 2}, {'reg__alpha': 0.001, 'rep__n_components': 2}, {'reg__alpha': 0.001, 'reg__l1_ratio': 0.5, 'rep__n_components': 3}, {'reg__alpha': 0.001, 'reg__gamma': 0.1, 'rep__n_components': 2}, {'reg__fit_intercept': 0.5, 'rep__n_components': 3}, {'reg__alpha': 0.001, 'reg__fit_intercept': 0.5, 'rep__n_components': 3}, {'reg__alpha': 0.001, 'rep__n_components': 3}, {'reg__alpha': 0.001, 'reg__l1_ratio': 0.5, 'rep__n_components': 3}, {'reg__alpha': 0.001, 'reg__gamma': 0.1, 'rep__n_components': 0.5}, {'reg__fit_intercept': 0.5, 'rep__n_components': 3}, {'reg__alpha': 0.001, 'reg__fit_intercept': 0.5, 'rep__n_components': 3}, {'reg__alpha': 0.001, 'rep__n_components': 3}, {'reg__alpha': 0.001, 'reg__l1_ratio': 0.5, 'rep__n_components': 3}]\n",
            "mae: 58.95076927373744\n",
            "Fitting 5 folds for each of 216 candidates, totalling 1080 fits\n"
          ],
          "name": "stdout"
        },
        {
          "output_type": "stream",
          "text": [
            "[Parallel(n_jobs=5)]: Batch computation too fast (0.1346s.) Setting batch_size=8.\n",
            "[Parallel(n_jobs=5)]: Done  38 tasks      | elapsed:    0.3s\n",
            "[Parallel(n_jobs=5)]: Done  78 tasks      | elapsed:    0.4s\n",
            "[Parallel(n_jobs=5)]: Batch computation too fast (0.1169s.) Setting batch_size=16.\n",
            "[Parallel(n_jobs=5)]: Done 150 tasks      | elapsed:    0.7s\n",
            "[Parallel(n_jobs=5)]: Batch computation too fast (0.1999s.) Setting batch_size=32.\n",
            "[Parallel(n_jobs=5)]: Done 342 tasks      | elapsed:    1.5s\n",
            "[Parallel(n_jobs=5)]: Done 694 tasks      | elapsed:    2.9s\n",
            "[Parallel(n_jobs=5)]: Done 840 tasks      | elapsed:    3.2s\n",
            "[Parallel(n_jobs=5)]: Done 956 tasks      | elapsed:    3.3s\n",
            "[Parallel(n_jobs=5)]: Done 1016 tasks      | elapsed:    3.4s\n",
            "[Parallel(n_jobs=5)]: Done 1046 tasks      | elapsed:    3.5s\n",
            "[Parallel(n_jobs=5)]: Done 1080 out of 1080 | elapsed:    3.6s finished\n"
          ],
          "name": "stderr"
        },
        {
          "output_type": "stream",
          "text": [
            "it 3/10-Modelo 4/5\n",
            "[{'reg__fit_intercept': 0.5, 'rep__n_components': 2}, {'reg__alpha': 0.001, 'reg__fit_intercept': 0.5, 'rep__n_components': 2}, {'reg__alpha': 0.001, 'rep__n_components': 2}, {'reg__alpha': 0.001, 'reg__l1_ratio': 0.5, 'rep__n_components': 3}, {'reg__alpha': 0.001, 'reg__gamma': 0.1, 'rep__n_components': 2}, {'reg__fit_intercept': 0.5, 'rep__n_components': 3}, {'reg__alpha': 0.001, 'reg__fit_intercept': 0.5, 'rep__n_components': 3}, {'reg__alpha': 0.001, 'rep__n_components': 3}, {'reg__alpha': 0.001, 'reg__l1_ratio': 0.5, 'rep__n_components': 3}, {'reg__alpha': 0.001, 'reg__gamma': 0.1, 'rep__n_components': 0.5}, {'reg__fit_intercept': 0.5, 'rep__n_components': 3}, {'reg__alpha': 0.001, 'reg__fit_intercept': 0.5, 'rep__n_components': 3}, {'reg__alpha': 0.001, 'rep__n_components': 3}, {'reg__alpha': 0.001, 'reg__l1_ratio': 0.5, 'rep__n_components': 3}, {'reg__alpha': 0.001, 'reg__gamma': 0.1, 'rep__n_components': 3}]\n",
            "mae: 28.867853786772752\n",
            "it 4/10\n",
            "Fitting 5 folds for each of 36 candidates, totalling 180 fits\n"
          ],
          "name": "stdout"
        },
        {
          "output_type": "stream",
          "text": [
            "[Parallel(n_jobs=5)]: Using backend LokyBackend with 5 concurrent workers.\n",
            "[Parallel(n_jobs=5)]: Batch computation too fast (0.0117s.) Setting batch_size=2.\n",
            "[Parallel(n_jobs=5)]: Batch computation too fast (0.0117s.) Setting batch_size=4.\n",
            "[Parallel(n_jobs=5)]: Done   2 tasks      | elapsed:    0.0s\n",
            "[Parallel(n_jobs=5)]: Done   9 tasks      | elapsed:    0.1s\n",
            "[Parallel(n_jobs=5)]: Batch computation too fast (0.0468s.) Setting batch_size=8.\n",
            "[Parallel(n_jobs=5)]: Done  28 tasks      | elapsed:    0.1s\n",
            "[Parallel(n_jobs=5)]: Done  50 tasks      | elapsed:    0.3s\n",
            "[Parallel(n_jobs=5)]: Batch computation too fast (0.1833s.) Setting batch_size=16.\n",
            "[Parallel(n_jobs=5)]: Done 122 tasks      | elapsed:    0.4s\n",
            "[Parallel(n_jobs=5)]: Done 171 out of 180 | elapsed:    0.6s remaining:    0.0s\n",
            "[Parallel(n_jobs=5)]: Done 180 out of 180 | elapsed:    0.6s finished\n",
            "[Parallel(n_jobs=5)]: Using backend LokyBackend with 5 concurrent workers.\n",
            "[Parallel(n_jobs=5)]: Batch computation too fast (0.0164s.) Setting batch_size=2.\n",
            "[Parallel(n_jobs=5)]: Done   3 tasks      | elapsed:    0.0s\n",
            "[Parallel(n_jobs=5)]: Done   8 tasks      | elapsed:    0.0s\n",
            "[Parallel(n_jobs=5)]: Batch computation too fast (0.0335s.) Setting batch_size=4.\n",
            "[Parallel(n_jobs=5)]: Done  20 tasks      | elapsed:    0.1s\n",
            "[Parallel(n_jobs=5)]: Batch computation too fast (0.0737s.) Setting batch_size=8.\n",
            "[Parallel(n_jobs=5)]: Done  38 tasks      | elapsed:    0.2s\n"
          ],
          "name": "stderr"
        },
        {
          "output_type": "stream",
          "text": [
            "it 4/10-Modelo 0/5\n",
            "[{'reg__fit_intercept': 0.5, 'rep__n_components': 2}, {'reg__alpha': 0.001, 'reg__fit_intercept': 0.5, 'rep__n_components': 2}, {'reg__alpha': 0.001, 'rep__n_components': 2}, {'reg__alpha': 0.001, 'reg__l1_ratio': 0.5, 'rep__n_components': 3}, {'reg__alpha': 0.001, 'reg__gamma': 0.1, 'rep__n_components': 2}, {'reg__fit_intercept': 0.5, 'rep__n_components': 3}, {'reg__alpha': 0.001, 'reg__fit_intercept': 0.5, 'rep__n_components': 3}, {'reg__alpha': 0.001, 'rep__n_components': 3}, {'reg__alpha': 0.001, 'reg__l1_ratio': 0.5, 'rep__n_components': 3}, {'reg__alpha': 0.001, 'reg__gamma': 0.1, 'rep__n_components': 0.5}, {'reg__fit_intercept': 0.5, 'rep__n_components': 3}, {'reg__alpha': 0.001, 'reg__fit_intercept': 0.5, 'rep__n_components': 3}, {'reg__alpha': 0.001, 'rep__n_components': 3}, {'reg__alpha': 0.001, 'reg__l1_ratio': 0.5, 'rep__n_components': 3}, {'reg__alpha': 0.001, 'reg__gamma': 0.1, 'rep__n_components': 3}, {'reg__fit_intercept': 0.5, 'rep__n_components': 3}]\n",
            "mae: 55.368342102587306\n",
            "Fitting 5 folds for each of 216 candidates, totalling 1080 fits\n"
          ],
          "name": "stdout"
        },
        {
          "output_type": "stream",
          "text": [
            "[Parallel(n_jobs=5)]: Done  78 tasks      | elapsed:    0.3s\n",
            "[Parallel(n_jobs=5)]: Batch computation too fast (0.1681s.) Setting batch_size=16.\n",
            "[Parallel(n_jobs=5)]: Done 150 tasks      | elapsed:    0.7s\n",
            "[Parallel(n_jobs=5)]: Done 326 tasks      | elapsed:    1.2s\n",
            "[Parallel(n_jobs=5)]: Done 502 tasks      | elapsed:    1.9s\n",
            "[Parallel(n_jobs=5)]: Done 710 tasks      | elapsed:    2.3s\n",
            "[Parallel(n_jobs=5)]: Done 918 tasks      | elapsed:    2.8s\n",
            "[Parallel(n_jobs=5)]: Done 1008 tasks      | elapsed:    3.0s\n",
            "[Parallel(n_jobs=5)]: Done 1053 tasks      | elapsed:    3.1s\n",
            "[Parallel(n_jobs=5)]: Done 1070 tasks      | elapsed:    3.1s\n",
            "[Parallel(n_jobs=5)]: Done 1080 out of 1080 | elapsed:    3.2s finished\n",
            "[Parallel(n_jobs=5)]: Using backend LokyBackend with 5 concurrent workers.\n",
            "[Parallel(n_jobs=5)]: Batch computation too fast (0.0145s.) Setting batch_size=2.\n",
            "[Parallel(n_jobs=5)]: Done   3 tasks      | elapsed:    0.0s\n",
            "[Parallel(n_jobs=5)]: Done   8 tasks      | elapsed:    0.1s\n"
          ],
          "name": "stderr"
        },
        {
          "output_type": "stream",
          "text": [
            "it 4/10-Modelo 1/5\n",
            "[{'reg__fit_intercept': 0.5, 'rep__n_components': 2}, {'reg__alpha': 0.001, 'reg__fit_intercept': 0.5, 'rep__n_components': 2}, {'reg__alpha': 0.001, 'rep__n_components': 2}, {'reg__alpha': 0.001, 'reg__l1_ratio': 0.5, 'rep__n_components': 3}, {'reg__alpha': 0.001, 'reg__gamma': 0.1, 'rep__n_components': 2}, {'reg__fit_intercept': 0.5, 'rep__n_components': 3}, {'reg__alpha': 0.001, 'reg__fit_intercept': 0.5, 'rep__n_components': 3}, {'reg__alpha': 0.001, 'rep__n_components': 3}, {'reg__alpha': 0.001, 'reg__l1_ratio': 0.5, 'rep__n_components': 3}, {'reg__alpha': 0.001, 'reg__gamma': 0.1, 'rep__n_components': 0.5}, {'reg__fit_intercept': 0.5, 'rep__n_components': 3}, {'reg__alpha': 0.001, 'reg__fit_intercept': 0.5, 'rep__n_components': 3}, {'reg__alpha': 0.001, 'rep__n_components': 3}, {'reg__alpha': 0.001, 'reg__l1_ratio': 0.5, 'rep__n_components': 3}, {'reg__alpha': 0.001, 'reg__gamma': 0.1, 'rep__n_components': 3}, {'reg__fit_intercept': 0.5, 'rep__n_components': 3}, {'reg__alpha': 0.001, 'reg__fit_intercept': 0.5, 'rep__n_components': 3}]\n",
            "mae: 55.90219547606493\n",
            "Fitting 5 folds for each of 36 candidates, totalling 180 fits\n"
          ],
          "name": "stdout"
        },
        {
          "output_type": "stream",
          "text": [
            "[Parallel(n_jobs=5)]: Batch computation too fast (0.0611s.) Setting batch_size=4.\n",
            "[Parallel(n_jobs=5)]: Done  20 tasks      | elapsed:    0.1s\n",
            "[Parallel(n_jobs=5)]: Batch computation too fast (0.0673s.) Setting batch_size=8.\n",
            "[Parallel(n_jobs=5)]: Done  38 tasks      | elapsed:    0.2s\n",
            "[Parallel(n_jobs=5)]: Done  78 tasks      | elapsed:    0.4s\n",
            "[Parallel(n_jobs=5)]: Batch computation too fast (0.1516s.) Setting batch_size=16.\n",
            "[Parallel(n_jobs=5)]: Done 136 tasks      | elapsed:    0.5s\n",
            "[Parallel(n_jobs=5)]: Done 154 tasks      | elapsed:    0.5s\n",
            "[Parallel(n_jobs=5)]: Done 180 out of 180 | elapsed:    0.6s finished\n",
            "[Parallel(n_jobs=5)]: Using backend LokyBackend with 5 concurrent workers.\n",
            "[Parallel(n_jobs=5)]: Batch computation too fast (0.0153s.) Setting batch_size=2.\n",
            "[Parallel(n_jobs=5)]: Done   3 tasks      | elapsed:    0.0s\n",
            "[Parallel(n_jobs=5)]: Done   8 tasks      | elapsed:    0.1s\n",
            "[Parallel(n_jobs=5)]: Batch computation too fast (0.0430s.) Setting batch_size=4.\n",
            "[Parallel(n_jobs=5)]: Done  20 tasks      | elapsed:    0.1s\n",
            "[Parallel(n_jobs=5)]: Batch computation too fast (0.0641s.) Setting batch_size=8.\n"
          ],
          "name": "stderr"
        },
        {
          "output_type": "stream",
          "text": [
            "it 4/10-Modelo 2/5\n",
            "[{'reg__fit_intercept': 0.5, 'rep__n_components': 2}, {'reg__alpha': 0.001, 'reg__fit_intercept': 0.5, 'rep__n_components': 2}, {'reg__alpha': 0.001, 'rep__n_components': 2}, {'reg__alpha': 0.001, 'reg__l1_ratio': 0.5, 'rep__n_components': 3}, {'reg__alpha': 0.001, 'reg__gamma': 0.1, 'rep__n_components': 2}, {'reg__fit_intercept': 0.5, 'rep__n_components': 3}, {'reg__alpha': 0.001, 'reg__fit_intercept': 0.5, 'rep__n_components': 3}, {'reg__alpha': 0.001, 'rep__n_components': 3}, {'reg__alpha': 0.001, 'reg__l1_ratio': 0.5, 'rep__n_components': 3}, {'reg__alpha': 0.001, 'reg__gamma': 0.1, 'rep__n_components': 0.5}, {'reg__fit_intercept': 0.5, 'rep__n_components': 3}, {'reg__alpha': 0.001, 'reg__fit_intercept': 0.5, 'rep__n_components': 3}, {'reg__alpha': 0.001, 'rep__n_components': 3}, {'reg__alpha': 0.001, 'reg__l1_ratio': 0.5, 'rep__n_components': 3}, {'reg__alpha': 0.001, 'reg__gamma': 0.1, 'rep__n_components': 3}, {'reg__fit_intercept': 0.5, 'rep__n_components': 3}, {'reg__alpha': 0.001, 'reg__fit_intercept': 0.5, 'rep__n_components': 3}, {'reg__alpha': 0.001, 'rep__n_components': 3}]\n",
            "mae: 55.40480663753351\n",
            "Fitting 5 folds for each of 216 candidates, totalling 1080 fits\n"
          ],
          "name": "stdout"
        },
        {
          "output_type": "stream",
          "text": [
            "[Parallel(n_jobs=5)]: Done  38 tasks      | elapsed:    0.2s\n",
            "[Parallel(n_jobs=5)]: Done  78 tasks      | elapsed:    0.3s\n",
            "[Parallel(n_jobs=5)]: Batch computation too fast (0.1735s.) Setting batch_size=16.\n",
            "[Parallel(n_jobs=5)]: Done 150 tasks      | elapsed:    0.7s\n",
            "[Parallel(n_jobs=5)]: Batch computation too fast (0.1879s.) Setting batch_size=32.\n",
            "[Parallel(n_jobs=5)]: Done 342 tasks      | elapsed:    1.3s\n",
            "[Parallel(n_jobs=5)]: Done 694 tasks      | elapsed:    2.6s\n",
            "[Parallel(n_jobs=5)]: Done 900 tasks      | elapsed:    3.0s\n",
            "[Parallel(n_jobs=5)]: Done 926 tasks      | elapsed:    3.1s\n",
            "[Parallel(n_jobs=5)]: Done 1016 tasks      | elapsed:    3.2s\n",
            "[Parallel(n_jobs=5)]: Done 1046 tasks      | elapsed:    3.3s\n",
            "[Parallel(n_jobs=5)]: Done 1080 out of 1080 | elapsed:    3.4s finished\n",
            "[Parallel(n_jobs=5)]: Using backend LokyBackend with 5 concurrent workers.\n",
            "[Parallel(n_jobs=5)]: Batch computation too fast (0.0125s.) Setting batch_size=2.\n",
            "[Parallel(n_jobs=5)]: Done   3 tasks      | elapsed:    0.0s\n",
            "[Parallel(n_jobs=5)]: Done   8 tasks      | elapsed:    0.0s\n",
            "[Parallel(n_jobs=5)]: Batch computation too fast (0.0389s.) Setting batch_size=4.\n",
            "[Parallel(n_jobs=5)]: Done  20 tasks      | elapsed:    0.1s\n"
          ],
          "name": "stderr"
        },
        {
          "output_type": "stream",
          "text": [
            "it 4/10-Modelo 3/5\n",
            "[{'reg__fit_intercept': 0.5, 'rep__n_components': 2}, {'reg__alpha': 0.001, 'reg__fit_intercept': 0.5, 'rep__n_components': 2}, {'reg__alpha': 0.001, 'rep__n_components': 2}, {'reg__alpha': 0.001, 'reg__l1_ratio': 0.5, 'rep__n_components': 3}, {'reg__alpha': 0.001, 'reg__gamma': 0.1, 'rep__n_components': 2}, {'reg__fit_intercept': 0.5, 'rep__n_components': 3}, {'reg__alpha': 0.001, 'reg__fit_intercept': 0.5, 'rep__n_components': 3}, {'reg__alpha': 0.001, 'rep__n_components': 3}, {'reg__alpha': 0.001, 'reg__l1_ratio': 0.5, 'rep__n_components': 3}, {'reg__alpha': 0.001, 'reg__gamma': 0.1, 'rep__n_components': 0.5}, {'reg__fit_intercept': 0.5, 'rep__n_components': 3}, {'reg__alpha': 0.001, 'reg__fit_intercept': 0.5, 'rep__n_components': 3}, {'reg__alpha': 0.001, 'rep__n_components': 3}, {'reg__alpha': 0.001, 'reg__l1_ratio': 0.5, 'rep__n_components': 3}, {'reg__alpha': 0.001, 'reg__gamma': 0.1, 'rep__n_components': 3}, {'reg__fit_intercept': 0.5, 'rep__n_components': 3}, {'reg__alpha': 0.001, 'reg__fit_intercept': 0.5, 'rep__n_components': 3}, {'reg__alpha': 0.001, 'rep__n_components': 3}, {'reg__alpha': 0.001, 'reg__l1_ratio': 0.5, 'rep__n_components': 3}]\n",
            "mae: 66.2239610891234\n",
            "Fitting 5 folds for each of 216 candidates, totalling 1080 fits\n"
          ],
          "name": "stdout"
        },
        {
          "output_type": "stream",
          "text": [
            "[Parallel(n_jobs=5)]: Batch computation too fast (0.0796s.) Setting batch_size=8.\n",
            "[Parallel(n_jobs=5)]: Done  38 tasks      | elapsed:    0.2s\n",
            "[Parallel(n_jobs=5)]: Done  78 tasks      | elapsed:    0.4s\n",
            "[Parallel(n_jobs=5)]: Batch computation too fast (0.1766s.) Setting batch_size=16.\n",
            "[Parallel(n_jobs=5)]: Done 150 tasks      | elapsed:    0.7s\n",
            "[Parallel(n_jobs=5)]: Batch computation too fast (0.1396s.) Setting batch_size=32.\n",
            "[Parallel(n_jobs=5)]: Done 342 tasks      | elapsed:    1.5s\n",
            "[Parallel(n_jobs=5)]: Done 694 tasks      | elapsed:    3.0s\n",
            "[Parallel(n_jobs=5)]: Done 900 tasks      | elapsed:    3.3s\n",
            "[Parallel(n_jobs=5)]: Done 926 tasks      | elapsed:    3.4s\n",
            "[Parallel(n_jobs=5)]: Done 1016 tasks      | elapsed:    3.5s\n",
            "[Parallel(n_jobs=5)]: Done 1046 tasks      | elapsed:    3.7s\n",
            "[Parallel(n_jobs=5)]: Done 1080 out of 1080 | elapsed:    3.8s finished\n",
            "[Parallel(n_jobs=5)]: Using backend LokyBackend with 5 concurrent workers.\n",
            "[Parallel(n_jobs=5)]: Done   1 tasks      | elapsed:    0.0s\n",
            "[Parallel(n_jobs=5)]: Batch computation too fast (0.0072s.) Setting batch_size=2.\n",
            "[Parallel(n_jobs=5)]: Done   3 tasks      | elapsed:    0.0s\n",
            "[Parallel(n_jobs=5)]: Done   8 tasks      | elapsed:    0.1s\n",
            "[Parallel(n_jobs=5)]: Batch computation too fast (0.0497s.) Setting batch_size=4.\n"
          ],
          "name": "stderr"
        },
        {
          "output_type": "stream",
          "text": [
            "it 4/10-Modelo 4/5\n",
            "[{'reg__fit_intercept': 0.5, 'rep__n_components': 2}, {'reg__alpha': 0.001, 'reg__fit_intercept': 0.5, 'rep__n_components': 2}, {'reg__alpha': 0.001, 'rep__n_components': 2}, {'reg__alpha': 0.001, 'reg__l1_ratio': 0.5, 'rep__n_components': 3}, {'reg__alpha': 0.001, 'reg__gamma': 0.1, 'rep__n_components': 2}, {'reg__fit_intercept': 0.5, 'rep__n_components': 3}, {'reg__alpha': 0.001, 'reg__fit_intercept': 0.5, 'rep__n_components': 3}, {'reg__alpha': 0.001, 'rep__n_components': 3}, {'reg__alpha': 0.001, 'reg__l1_ratio': 0.5, 'rep__n_components': 3}, {'reg__alpha': 0.001, 'reg__gamma': 0.1, 'rep__n_components': 0.5}, {'reg__fit_intercept': 0.5, 'rep__n_components': 3}, {'reg__alpha': 0.001, 'reg__fit_intercept': 0.5, 'rep__n_components': 3}, {'reg__alpha': 0.001, 'rep__n_components': 3}, {'reg__alpha': 0.001, 'reg__l1_ratio': 0.5, 'rep__n_components': 3}, {'reg__alpha': 0.001, 'reg__gamma': 0.1, 'rep__n_components': 3}, {'reg__fit_intercept': 0.5, 'rep__n_components': 3}, {'reg__alpha': 0.001, 'reg__fit_intercept': 0.5, 'rep__n_components': 3}, {'reg__alpha': 0.001, 'rep__n_components': 3}, {'reg__alpha': 0.001, 'reg__l1_ratio': 0.5, 'rep__n_components': 3}, {'reg__alpha': 0.001, 'reg__gamma': 0.1, 'rep__n_components': 0.5}]\n",
            "mae: 53.600909889183\n",
            "it 5/10\n",
            "Fitting 5 folds for each of 36 candidates, totalling 180 fits\n"
          ],
          "name": "stdout"
        },
        {
          "output_type": "stream",
          "text": [
            "[Parallel(n_jobs=5)]: Done  20 tasks      | elapsed:    0.2s\n",
            "[Parallel(n_jobs=5)]: Batch computation too fast (0.0895s.) Setting batch_size=8.\n",
            "[Parallel(n_jobs=5)]: Done  38 tasks      | elapsed:    0.3s\n",
            "[Parallel(n_jobs=5)]: Done  78 tasks      | elapsed:    0.4s\n",
            "[Parallel(n_jobs=5)]: Batch computation too fast (0.1107s.) Setting batch_size=16.\n",
            "[Parallel(n_jobs=5)]: Done 136 tasks      | elapsed:    0.5s\n",
            "[Parallel(n_jobs=5)]: Done 161 tasks      | elapsed:    0.6s\n",
            "[Parallel(n_jobs=5)]: Done 180 out of 180 | elapsed:    0.6s finished\n",
            "[Parallel(n_jobs=5)]: Using backend LokyBackend with 5 concurrent workers.\n",
            "[Parallel(n_jobs=5)]: Batch computation too fast (0.0090s.) Setting batch_size=2.\n",
            "[Parallel(n_jobs=5)]: Done   3 tasks      | elapsed:    0.0s\n",
            "[Parallel(n_jobs=5)]: Done   8 tasks      | elapsed:    0.1s\n",
            "[Parallel(n_jobs=5)]: Batch computation too fast (0.0561s.) Setting batch_size=4.\n"
          ],
          "name": "stderr"
        },
        {
          "output_type": "stream",
          "text": [
            "it 5/10-Modelo 0/5\n",
            "[{'reg__fit_intercept': 0.5, 'rep__n_components': 2}, {'reg__alpha': 0.001, 'reg__fit_intercept': 0.5, 'rep__n_components': 2}, {'reg__alpha': 0.001, 'rep__n_components': 2}, {'reg__alpha': 0.001, 'reg__l1_ratio': 0.5, 'rep__n_components': 3}, {'reg__alpha': 0.001, 'reg__gamma': 0.1, 'rep__n_components': 2}, {'reg__fit_intercept': 0.5, 'rep__n_components': 3}, {'reg__alpha': 0.001, 'reg__fit_intercept': 0.5, 'rep__n_components': 3}, {'reg__alpha': 0.001, 'rep__n_components': 3}, {'reg__alpha': 0.001, 'reg__l1_ratio': 0.5, 'rep__n_components': 3}, {'reg__alpha': 0.001, 'reg__gamma': 0.1, 'rep__n_components': 0.5}, {'reg__fit_intercept': 0.5, 'rep__n_components': 3}, {'reg__alpha': 0.001, 'reg__fit_intercept': 0.5, 'rep__n_components': 3}, {'reg__alpha': 0.001, 'rep__n_components': 3}, {'reg__alpha': 0.001, 'reg__l1_ratio': 0.5, 'rep__n_components': 3}, {'reg__alpha': 0.001, 'reg__gamma': 0.1, 'rep__n_components': 3}, {'reg__fit_intercept': 0.5, 'rep__n_components': 3}, {'reg__alpha': 0.001, 'reg__fit_intercept': 0.5, 'rep__n_components': 3}, {'reg__alpha': 0.001, 'rep__n_components': 3}, {'reg__alpha': 0.001, 'reg__l1_ratio': 0.5, 'rep__n_components': 3}, {'reg__alpha': 0.001, 'reg__gamma': 0.1, 'rep__n_components': 0.5}, {'reg__fit_intercept': 0.5, 'rep__n_components': 3}]\n",
            "mae: 30.550615090017775\n",
            "Fitting 5 folds for each of 216 candidates, totalling 1080 fits\n"
          ],
          "name": "stdout"
        },
        {
          "output_type": "stream",
          "text": [
            "[Parallel(n_jobs=5)]: Done  20 tasks      | elapsed:    0.1s\n",
            "[Parallel(n_jobs=5)]: Batch computation too fast (0.0641s.) Setting batch_size=8.\n",
            "[Parallel(n_jobs=5)]: Done  38 tasks      | elapsed:    0.2s\n",
            "[Parallel(n_jobs=5)]: Done  78 tasks      | elapsed:    0.4s\n",
            "[Parallel(n_jobs=5)]: Batch computation too fast (0.1704s.) Setting batch_size=16.\n",
            "[Parallel(n_jobs=5)]: Done 150 tasks      | elapsed:    0.7s\n",
            "[Parallel(n_jobs=5)]: Batch computation too fast (0.1853s.) Setting batch_size=32.\n",
            "[Parallel(n_jobs=5)]: Done 342 tasks      | elapsed:    1.3s\n",
            "[Parallel(n_jobs=5)]: Done 694 tasks      | elapsed:    2.5s\n",
            "[Parallel(n_jobs=5)]: Done 900 tasks      | elapsed:    2.7s\n",
            "[Parallel(n_jobs=5)]: Done 956 tasks      | elapsed:    2.9s\n",
            "[Parallel(n_jobs=5)]: Done 1016 tasks      | elapsed:    2.9s\n",
            "[Parallel(n_jobs=5)]: Done 1046 tasks      | elapsed:    3.0s\n",
            "[Parallel(n_jobs=5)]: Done 1080 out of 1080 | elapsed:    3.1s finished\n",
            "[Parallel(n_jobs=5)]: Using backend LokyBackend with 5 concurrent workers.\n",
            "[Parallel(n_jobs=5)]: Batch computation too fast (0.0128s.) Setting batch_size=2.\n",
            "[Parallel(n_jobs=5)]: Done   3 tasks      | elapsed:    0.0s\n",
            "[Parallel(n_jobs=5)]: Done   8 tasks      | elapsed:    0.0s\n",
            "[Parallel(n_jobs=5)]: Batch computation too fast (0.0342s.) Setting batch_size=4.\n",
            "[Parallel(n_jobs=5)]: Done  20 tasks      | elapsed:    0.1s\n",
            "[Parallel(n_jobs=5)]: Batch computation too fast (0.0904s.) Setting batch_size=8.\n"
          ],
          "name": "stderr"
        },
        {
          "output_type": "stream",
          "text": [
            "it 5/10-Modelo 1/5\n",
            "[{'reg__fit_intercept': 0.5, 'rep__n_components': 2}, {'reg__alpha': 0.001, 'reg__fit_intercept': 0.5, 'rep__n_components': 2}, {'reg__alpha': 0.001, 'rep__n_components': 2}, {'reg__alpha': 0.001, 'reg__l1_ratio': 0.5, 'rep__n_components': 3}, {'reg__alpha': 0.001, 'reg__gamma': 0.1, 'rep__n_components': 2}, {'reg__fit_intercept': 0.5, 'rep__n_components': 3}, {'reg__alpha': 0.001, 'reg__fit_intercept': 0.5, 'rep__n_components': 3}, {'reg__alpha': 0.001, 'rep__n_components': 3}, {'reg__alpha': 0.001, 'reg__l1_ratio': 0.5, 'rep__n_components': 3}, {'reg__alpha': 0.001, 'reg__gamma': 0.1, 'rep__n_components': 0.5}, {'reg__fit_intercept': 0.5, 'rep__n_components': 3}, {'reg__alpha': 0.001, 'reg__fit_intercept': 0.5, 'rep__n_components': 3}, {'reg__alpha': 0.001, 'rep__n_components': 3}, {'reg__alpha': 0.001, 'reg__l1_ratio': 0.5, 'rep__n_components': 3}, {'reg__alpha': 0.001, 'reg__gamma': 0.1, 'rep__n_components': 3}, {'reg__fit_intercept': 0.5, 'rep__n_components': 3}, {'reg__alpha': 0.001, 'reg__fit_intercept': 0.5, 'rep__n_components': 3}, {'reg__alpha': 0.001, 'rep__n_components': 3}, {'reg__alpha': 0.001, 'reg__l1_ratio': 0.5, 'rep__n_components': 3}, {'reg__alpha': 0.001, 'reg__gamma': 0.1, 'rep__n_components': 0.5}, {'reg__fit_intercept': 0.5, 'rep__n_components': 3}, {'reg__alpha': 0.001, 'reg__fit_intercept': 0.5, 'rep__n_components': 3}]\n",
            "mae: 30.794909685425164\n",
            "Fitting 5 folds for each of 36 candidates, totalling 180 fits\n"
          ],
          "name": "stdout"
        },
        {
          "output_type": "stream",
          "text": [
            "[Parallel(n_jobs=5)]: Done  38 tasks      | elapsed:    0.2s\n",
            "[Parallel(n_jobs=5)]: Done  78 tasks      | elapsed:    0.3s\n",
            "[Parallel(n_jobs=5)]: Batch computation too fast (0.0919s.) Setting batch_size=16.\n",
            "[Parallel(n_jobs=5)]: Done 136 tasks      | elapsed:    0.5s\n",
            "[Parallel(n_jobs=5)]: Done 154 tasks      | elapsed:    0.5s\n",
            "[Parallel(n_jobs=5)]: Done 180 out of 180 | elapsed:    0.6s finished\n",
            "[Parallel(n_jobs=5)]: Using backend LokyBackend with 5 concurrent workers.\n",
            "[Parallel(n_jobs=5)]: Batch computation too fast (0.0103s.) Setting batch_size=2.\n",
            "[Parallel(n_jobs=5)]: Done   3 tasks      | elapsed:    0.0s\n"
          ],
          "name": "stderr"
        },
        {
          "output_type": "stream",
          "text": [
            "it 5/10-Modelo 2/5\n",
            "[{'reg__fit_intercept': 0.5, 'rep__n_components': 2}, {'reg__alpha': 0.001, 'reg__fit_intercept': 0.5, 'rep__n_components': 2}, {'reg__alpha': 0.001, 'rep__n_components': 2}, {'reg__alpha': 0.001, 'reg__l1_ratio': 0.5, 'rep__n_components': 3}, {'reg__alpha': 0.001, 'reg__gamma': 0.1, 'rep__n_components': 2}, {'reg__fit_intercept': 0.5, 'rep__n_components': 3}, {'reg__alpha': 0.001, 'reg__fit_intercept': 0.5, 'rep__n_components': 3}, {'reg__alpha': 0.001, 'rep__n_components': 3}, {'reg__alpha': 0.001, 'reg__l1_ratio': 0.5, 'rep__n_components': 3}, {'reg__alpha': 0.001, 'reg__gamma': 0.1, 'rep__n_components': 0.5}, {'reg__fit_intercept': 0.5, 'rep__n_components': 3}, {'reg__alpha': 0.001, 'reg__fit_intercept': 0.5, 'rep__n_components': 3}, {'reg__alpha': 0.001, 'rep__n_components': 3}, {'reg__alpha': 0.001, 'reg__l1_ratio': 0.5, 'rep__n_components': 3}, {'reg__alpha': 0.001, 'reg__gamma': 0.1, 'rep__n_components': 3}, {'reg__fit_intercept': 0.5, 'rep__n_components': 3}, {'reg__alpha': 0.001, 'reg__fit_intercept': 0.5, 'rep__n_components': 3}, {'reg__alpha': 0.001, 'rep__n_components': 3}, {'reg__alpha': 0.001, 'reg__l1_ratio': 0.5, 'rep__n_components': 3}, {'reg__alpha': 0.001, 'reg__gamma': 0.1, 'rep__n_components': 0.5}, {'reg__fit_intercept': 0.5, 'rep__n_components': 3}, {'reg__alpha': 0.001, 'reg__fit_intercept': 0.5, 'rep__n_components': 3}, {'reg__alpha': 0.001, 'rep__n_components': 3}]\n",
            "mae: 30.56521673047305\n",
            "Fitting 5 folds for each of 216 candidates, totalling 1080 fits\n"
          ],
          "name": "stdout"
        },
        {
          "output_type": "stream",
          "text": [
            "[Parallel(n_jobs=5)]: Done   8 tasks      | elapsed:    0.1s\n",
            "[Parallel(n_jobs=5)]: Batch computation too fast (0.0403s.) Setting batch_size=4.\n",
            "[Parallel(n_jobs=5)]: Done  20 tasks      | elapsed:    0.1s\n",
            "[Parallel(n_jobs=5)]: Batch computation too fast (0.0788s.) Setting batch_size=8.\n",
            "[Parallel(n_jobs=5)]: Done  38 tasks      | elapsed:    0.2s\n",
            "[Parallel(n_jobs=5)]: Done  78 tasks      | elapsed:    0.3s\n",
            "[Parallel(n_jobs=5)]: Batch computation too fast (0.0950s.) Setting batch_size=16.\n",
            "[Parallel(n_jobs=5)]: Done 150 tasks      | elapsed:    0.6s\n",
            "[Parallel(n_jobs=5)]: Done 326 tasks      | elapsed:    1.1s\n",
            "[Parallel(n_jobs=5)]: Done 502 tasks      | elapsed:    1.8s\n",
            "[Parallel(n_jobs=5)]: Done 710 tasks      | elapsed:    2.3s\n",
            "[Parallel(n_jobs=5)]: Done 918 tasks      | elapsed:    3.0s\n",
            "[Parallel(n_jobs=5)]: Done 1008 tasks      | elapsed:    3.2s\n",
            "[Parallel(n_jobs=5)]: Done 1053 tasks      | elapsed:    3.2s\n",
            "[Parallel(n_jobs=5)]: Done 1070 tasks      | elapsed:    3.3s\n",
            "[Parallel(n_jobs=5)]: Done 1080 out of 1080 | elapsed:    3.3s finished\n",
            "[Parallel(n_jobs=5)]: Using backend LokyBackend with 5 concurrent workers.\n",
            "[Parallel(n_jobs=5)]: Batch computation too fast (0.0152s.) Setting batch_size=2.\n",
            "[Parallel(n_jobs=5)]: Done   3 tasks      | elapsed:    0.0s\n",
            "[Parallel(n_jobs=5)]: Done   8 tasks      | elapsed:    0.0s\n"
          ],
          "name": "stderr"
        },
        {
          "output_type": "stream",
          "text": [
            "it 5/10-Modelo 3/5\n",
            "[{'reg__fit_intercept': 0.5, 'rep__n_components': 2}, {'reg__alpha': 0.001, 'reg__fit_intercept': 0.5, 'rep__n_components': 2}, {'reg__alpha': 0.001, 'rep__n_components': 2}, {'reg__alpha': 0.001, 'reg__l1_ratio': 0.5, 'rep__n_components': 3}, {'reg__alpha': 0.001, 'reg__gamma': 0.1, 'rep__n_components': 2}, {'reg__fit_intercept': 0.5, 'rep__n_components': 3}, {'reg__alpha': 0.001, 'reg__fit_intercept': 0.5, 'rep__n_components': 3}, {'reg__alpha': 0.001, 'rep__n_components': 3}, {'reg__alpha': 0.001, 'reg__l1_ratio': 0.5, 'rep__n_components': 3}, {'reg__alpha': 0.001, 'reg__gamma': 0.1, 'rep__n_components': 0.5}, {'reg__fit_intercept': 0.5, 'rep__n_components': 3}, {'reg__alpha': 0.001, 'reg__fit_intercept': 0.5, 'rep__n_components': 3}, {'reg__alpha': 0.001, 'rep__n_components': 3}, {'reg__alpha': 0.001, 'reg__l1_ratio': 0.5, 'rep__n_components': 3}, {'reg__alpha': 0.001, 'reg__gamma': 0.1, 'rep__n_components': 3}, {'reg__fit_intercept': 0.5, 'rep__n_components': 3}, {'reg__alpha': 0.001, 'reg__fit_intercept': 0.5, 'rep__n_components': 3}, {'reg__alpha': 0.001, 'rep__n_components': 3}, {'reg__alpha': 0.001, 'reg__l1_ratio': 0.5, 'rep__n_components': 3}, {'reg__alpha': 0.001, 'reg__gamma': 0.1, 'rep__n_components': 0.5}, {'reg__fit_intercept': 0.5, 'rep__n_components': 3}, {'reg__alpha': 0.001, 'reg__fit_intercept': 0.5, 'rep__n_components': 3}, {'reg__alpha': 0.001, 'rep__n_components': 3}, {'reg__alpha': 0.001, 'reg__l1_ratio': 0.5, 'rep__n_components': 3}]\n",
            "mae: 35.524112437316894\n",
            "Fitting 5 folds for each of 216 candidates, totalling 1080 fits\n"
          ],
          "name": "stdout"
        },
        {
          "output_type": "stream",
          "text": [
            "[Parallel(n_jobs=5)]: Batch computation too fast (0.0484s.) Setting batch_size=4.\n",
            "[Parallel(n_jobs=5)]: Done  20 tasks      | elapsed:    0.1s\n",
            "[Parallel(n_jobs=5)]: Batch computation too fast (0.0996s.) Setting batch_size=8.\n",
            "[Parallel(n_jobs=5)]: Done  38 tasks      | elapsed:    0.3s\n",
            "[Parallel(n_jobs=5)]: Done  78 tasks      | elapsed:    0.4s\n",
            "[Parallel(n_jobs=5)]: Batch computation too fast (0.0924s.) Setting batch_size=16.\n",
            "[Parallel(n_jobs=5)]: Done 150 tasks      | elapsed:    0.7s\n",
            "[Parallel(n_jobs=5)]: Done 326 tasks      | elapsed:    1.3s\n",
            "[Parallel(n_jobs=5)]: Done 502 tasks      | elapsed:    2.0s\n",
            "[Parallel(n_jobs=5)]: Done 710 tasks      | elapsed:    2.5s\n",
            "[Parallel(n_jobs=5)]: Done 918 tasks      | elapsed:    3.1s\n",
            "[Parallel(n_jobs=5)]: Done 993 tasks      | elapsed:    3.3s\n",
            "[Parallel(n_jobs=5)]: Done 1038 tasks      | elapsed:    3.4s\n",
            "[Parallel(n_jobs=5)]: Done 1070 tasks      | elapsed:    3.5s\n",
            "[Parallel(n_jobs=5)]: Done 1080 out of 1080 | elapsed:    3.5s finished\n"
          ],
          "name": "stderr"
        },
        {
          "output_type": "stream",
          "text": [
            "it 5/10-Modelo 4/5\n",
            "[{'reg__fit_intercept': 0.5, 'rep__n_components': 2}, {'reg__alpha': 0.001, 'reg__fit_intercept': 0.5, 'rep__n_components': 2}, {'reg__alpha': 0.001, 'rep__n_components': 2}, {'reg__alpha': 0.001, 'reg__l1_ratio': 0.5, 'rep__n_components': 3}, {'reg__alpha': 0.001, 'reg__gamma': 0.1, 'rep__n_components': 2}, {'reg__fit_intercept': 0.5, 'rep__n_components': 3}, {'reg__alpha': 0.001, 'reg__fit_intercept': 0.5, 'rep__n_components': 3}, {'reg__alpha': 0.001, 'rep__n_components': 3}, {'reg__alpha': 0.001, 'reg__l1_ratio': 0.5, 'rep__n_components': 3}, {'reg__alpha': 0.001, 'reg__gamma': 0.1, 'rep__n_components': 0.5}, {'reg__fit_intercept': 0.5, 'rep__n_components': 3}, {'reg__alpha': 0.001, 'reg__fit_intercept': 0.5, 'rep__n_components': 3}, {'reg__alpha': 0.001, 'rep__n_components': 3}, {'reg__alpha': 0.001, 'reg__l1_ratio': 0.5, 'rep__n_components': 3}, {'reg__alpha': 0.001, 'reg__gamma': 0.1, 'rep__n_components': 3}, {'reg__fit_intercept': 0.5, 'rep__n_components': 3}, {'reg__alpha': 0.001, 'reg__fit_intercept': 0.5, 'rep__n_components': 3}, {'reg__alpha': 0.001, 'rep__n_components': 3}, {'reg__alpha': 0.001, 'reg__l1_ratio': 0.5, 'rep__n_components': 3}, {'reg__alpha': 0.001, 'reg__gamma': 0.1, 'rep__n_components': 0.5}, {'reg__fit_intercept': 0.5, 'rep__n_components': 3}, {'reg__alpha': 0.001, 'reg__fit_intercept': 0.5, 'rep__n_components': 3}, {'reg__alpha': 0.001, 'rep__n_components': 3}, {'reg__alpha': 0.001, 'reg__l1_ratio': 0.5, 'rep__n_components': 3}, {'reg__alpha': 0.001, 'reg__gamma': 0.1, 'rep__n_components': 2}]\n",
            "mae: 32.409960466511166\n",
            "it 6/10\n",
            "Fitting 5 folds for each of 36 candidates, totalling 180 fits\n"
          ],
          "name": "stdout"
        },
        {
          "output_type": "stream",
          "text": [
            "[Parallel(n_jobs=5)]: Using backend LokyBackend with 5 concurrent workers.\n",
            "[Parallel(n_jobs=5)]: Batch computation too fast (0.0152s.) Setting batch_size=2.\n",
            "[Parallel(n_jobs=5)]: Batch computation too fast (0.0152s.) Setting batch_size=4.\n",
            "[Parallel(n_jobs=5)]: Done   2 tasks      | elapsed:    0.0s\n",
            "[Parallel(n_jobs=5)]: Done   6 tasks      | elapsed:    0.0s\n",
            "[Parallel(n_jobs=5)]: Done  14 tasks      | elapsed:    0.1s\n",
            "[Parallel(n_jobs=5)]: Batch computation too fast (0.0538s.) Setting batch_size=8.\n",
            "[Parallel(n_jobs=5)]: Done  42 tasks      | elapsed:    0.2s\n",
            "[Parallel(n_jobs=5)]: Batch computation too fast (0.1128s.) Setting batch_size=16.\n",
            "[Parallel(n_jobs=5)]: Done  90 tasks      | elapsed:    0.4s\n",
            "[Parallel(n_jobs=5)]: Done 120 tasks      | elapsed:    0.4s\n",
            "[Parallel(n_jobs=5)]: Done 143 tasks      | elapsed:    0.5s\n",
            "[Parallel(n_jobs=5)]: Done 154 tasks      | elapsed:    0.5s\n",
            "[Parallel(n_jobs=5)]: Done 165 tasks      | elapsed:    0.5s\n",
            "[Parallel(n_jobs=5)]: Done 180 out of 180 | elapsed:    0.6s finished\n",
            "[Parallel(n_jobs=5)]: Using backend LokyBackend with 5 concurrent workers.\n",
            "[Parallel(n_jobs=5)]: Batch computation too fast (0.0103s.) Setting batch_size=2.\n",
            "[Parallel(n_jobs=5)]: Done   3 tasks      | elapsed:    0.0s\n",
            "[Parallel(n_jobs=5)]: Done   8 tasks      | elapsed:    0.1s\n"
          ],
          "name": "stderr"
        },
        {
          "output_type": "stream",
          "text": [
            "it 6/10-Modelo 0/5\n",
            "[{'reg__fit_intercept': 0.5, 'rep__n_components': 2}, {'reg__alpha': 0.001, 'reg__fit_intercept': 0.5, 'rep__n_components': 2}, {'reg__alpha': 0.001, 'rep__n_components': 2}, {'reg__alpha': 0.001, 'reg__l1_ratio': 0.5, 'rep__n_components': 3}, {'reg__alpha': 0.001, 'reg__gamma': 0.1, 'rep__n_components': 2}, {'reg__fit_intercept': 0.5, 'rep__n_components': 3}, {'reg__alpha': 0.001, 'reg__fit_intercept': 0.5, 'rep__n_components': 3}, {'reg__alpha': 0.001, 'rep__n_components': 3}, {'reg__alpha': 0.001, 'reg__l1_ratio': 0.5, 'rep__n_components': 3}, {'reg__alpha': 0.001, 'reg__gamma': 0.1, 'rep__n_components': 0.5}, {'reg__fit_intercept': 0.5, 'rep__n_components': 3}, {'reg__alpha': 0.001, 'reg__fit_intercept': 0.5, 'rep__n_components': 3}, {'reg__alpha': 0.001, 'rep__n_components': 3}, {'reg__alpha': 0.001, 'reg__l1_ratio': 0.5, 'rep__n_components': 3}, {'reg__alpha': 0.001, 'reg__gamma': 0.1, 'rep__n_components': 3}, {'reg__fit_intercept': 0.5, 'rep__n_components': 3}, {'reg__alpha': 0.001, 'reg__fit_intercept': 0.5, 'rep__n_components': 3}, {'reg__alpha': 0.001, 'rep__n_components': 3}, {'reg__alpha': 0.001, 'reg__l1_ratio': 0.5, 'rep__n_components': 3}, {'reg__alpha': 0.001, 'reg__gamma': 0.1, 'rep__n_components': 0.5}, {'reg__fit_intercept': 0.5, 'rep__n_components': 3}, {'reg__alpha': 0.001, 'reg__fit_intercept': 0.5, 'rep__n_components': 3}, {'reg__alpha': 0.001, 'rep__n_components': 3}, {'reg__alpha': 0.001, 'reg__l1_ratio': 0.5, 'rep__n_components': 3}, {'reg__alpha': 0.001, 'reg__gamma': 0.1, 'rep__n_components': 2}, {'reg__fit_intercept': 0.5, 'rep__n_components': 2}]\n",
            "mae: 56.05149339849967\n",
            "Fitting 5 folds for each of 216 candidates, totalling 1080 fits\n"
          ],
          "name": "stdout"
        },
        {
          "output_type": "stream",
          "text": [
            "[Parallel(n_jobs=5)]: Batch computation too fast (0.0489s.) Setting batch_size=4.\n",
            "[Parallel(n_jobs=5)]: Done  20 tasks      | elapsed:    0.1s\n",
            "[Parallel(n_jobs=5)]: Batch computation too fast (0.0593s.) Setting batch_size=8.\n",
            "[Parallel(n_jobs=5)]: Done  38 tasks      | elapsed:    0.2s\n",
            "[Parallel(n_jobs=5)]: Done  78 tasks      | elapsed:    0.3s\n",
            "[Parallel(n_jobs=5)]: Batch computation too fast (0.0940s.) Setting batch_size=16.\n",
            "[Parallel(n_jobs=5)]: Done 150 tasks      | elapsed:    0.7s\n",
            "[Parallel(n_jobs=5)]: Batch computation too fast (0.1908s.) Setting batch_size=32.\n",
            "[Parallel(n_jobs=5)]: Done 342 tasks      | elapsed:    1.3s\n",
            "[Parallel(n_jobs=5)]: Done 694 tasks      | elapsed:    2.4s\n",
            "[Parallel(n_jobs=5)]: Done 900 tasks      | elapsed:    2.6s\n",
            "[Parallel(n_jobs=5)]: Done 956 tasks      | elapsed:    2.7s\n",
            "[Parallel(n_jobs=5)]: Done 1016 tasks      | elapsed:    2.8s\n",
            "[Parallel(n_jobs=5)]: Done 1046 tasks      | elapsed:    2.8s\n",
            "[Parallel(n_jobs=5)]: Done 1080 out of 1080 | elapsed:    2.9s finished\n",
            "[Parallel(n_jobs=5)]: Using backend LokyBackend with 5 concurrent workers.\n",
            "[Parallel(n_jobs=5)]: Batch computation too fast (0.0143s.) Setting batch_size=2.\n",
            "[Parallel(n_jobs=5)]: Done   3 tasks      | elapsed:    0.0s\n",
            "[Parallel(n_jobs=5)]: Done   8 tasks      | elapsed:    0.1s\n",
            "[Parallel(n_jobs=5)]: Batch computation too fast (0.0432s.) Setting batch_size=4.\n",
            "[Parallel(n_jobs=5)]: Done  20 tasks      | elapsed:    0.1s\n",
            "[Parallel(n_jobs=5)]: Batch computation too fast (0.0777s.) Setting batch_size=8.\n"
          ],
          "name": "stderr"
        },
        {
          "output_type": "stream",
          "text": [
            "it 6/10-Modelo 1/5\n",
            "[{'reg__fit_intercept': 0.5, 'rep__n_components': 2}, {'reg__alpha': 0.001, 'reg__fit_intercept': 0.5, 'rep__n_components': 2}, {'reg__alpha': 0.001, 'rep__n_components': 2}, {'reg__alpha': 0.001, 'reg__l1_ratio': 0.5, 'rep__n_components': 3}, {'reg__alpha': 0.001, 'reg__gamma': 0.1, 'rep__n_components': 2}, {'reg__fit_intercept': 0.5, 'rep__n_components': 3}, {'reg__alpha': 0.001, 'reg__fit_intercept': 0.5, 'rep__n_components': 3}, {'reg__alpha': 0.001, 'rep__n_components': 3}, {'reg__alpha': 0.001, 'reg__l1_ratio': 0.5, 'rep__n_components': 3}, {'reg__alpha': 0.001, 'reg__gamma': 0.1, 'rep__n_components': 0.5}, {'reg__fit_intercept': 0.5, 'rep__n_components': 3}, {'reg__alpha': 0.001, 'reg__fit_intercept': 0.5, 'rep__n_components': 3}, {'reg__alpha': 0.001, 'rep__n_components': 3}, {'reg__alpha': 0.001, 'reg__l1_ratio': 0.5, 'rep__n_components': 3}, {'reg__alpha': 0.001, 'reg__gamma': 0.1, 'rep__n_components': 3}, {'reg__fit_intercept': 0.5, 'rep__n_components': 3}, {'reg__alpha': 0.001, 'reg__fit_intercept': 0.5, 'rep__n_components': 3}, {'reg__alpha': 0.001, 'rep__n_components': 3}, {'reg__alpha': 0.001, 'reg__l1_ratio': 0.5, 'rep__n_components': 3}, {'reg__alpha': 0.001, 'reg__gamma': 0.1, 'rep__n_components': 0.5}, {'reg__fit_intercept': 0.5, 'rep__n_components': 3}, {'reg__alpha': 0.001, 'reg__fit_intercept': 0.5, 'rep__n_components': 3}, {'reg__alpha': 0.001, 'rep__n_components': 3}, {'reg__alpha': 0.001, 'reg__l1_ratio': 0.5, 'rep__n_components': 3}, {'reg__alpha': 0.001, 'reg__gamma': 0.1, 'rep__n_components': 2}, {'reg__fit_intercept': 0.5, 'rep__n_components': 2}, {'reg__alpha': 0.001, 'reg__fit_intercept': 0.5, 'rep__n_components': 2}]\n",
            "mae: 56.07344673149973\n",
            "Fitting 5 folds for each of 36 candidates, totalling 180 fits\n"
          ],
          "name": "stdout"
        },
        {
          "output_type": "stream",
          "text": [
            "[Parallel(n_jobs=5)]: Done  38 tasks      | elapsed:    0.2s\n",
            "[Parallel(n_jobs=5)]: Done  78 tasks      | elapsed:    0.3s\n",
            "[Parallel(n_jobs=5)]: Batch computation too fast (0.1030s.) Setting batch_size=16.\n",
            "[Parallel(n_jobs=5)]: Done 129 tasks      | elapsed:    0.5s\n",
            "[Parallel(n_jobs=5)]: Done 154 tasks      | elapsed:    0.6s\n",
            "[Parallel(n_jobs=5)]: Done 180 out of 180 | elapsed:    0.6s finished\n",
            "[Parallel(n_jobs=5)]: Using backend LokyBackend with 5 concurrent workers.\n",
            "[Parallel(n_jobs=5)]: Batch computation too fast (0.0146s.) Setting batch_size=2.\n",
            "[Parallel(n_jobs=5)]: Done   3 tasks      | elapsed:    0.0s\n",
            "[Parallel(n_jobs=5)]: Done   8 tasks      | elapsed:    0.0s\n"
          ],
          "name": "stderr"
        },
        {
          "output_type": "stream",
          "text": [
            "it 6/10-Modelo 2/5\n",
            "[{'reg__fit_intercept': 0.5, 'rep__n_components': 2}, {'reg__alpha': 0.001, 'reg__fit_intercept': 0.5, 'rep__n_components': 2}, {'reg__alpha': 0.001, 'rep__n_components': 2}, {'reg__alpha': 0.001, 'reg__l1_ratio': 0.5, 'rep__n_components': 3}, {'reg__alpha': 0.001, 'reg__gamma': 0.1, 'rep__n_components': 2}, {'reg__fit_intercept': 0.5, 'rep__n_components': 3}, {'reg__alpha': 0.001, 'reg__fit_intercept': 0.5, 'rep__n_components': 3}, {'reg__alpha': 0.001, 'rep__n_components': 3}, {'reg__alpha': 0.001, 'reg__l1_ratio': 0.5, 'rep__n_components': 3}, {'reg__alpha': 0.001, 'reg__gamma': 0.1, 'rep__n_components': 0.5}, {'reg__fit_intercept': 0.5, 'rep__n_components': 3}, {'reg__alpha': 0.001, 'reg__fit_intercept': 0.5, 'rep__n_components': 3}, {'reg__alpha': 0.001, 'rep__n_components': 3}, {'reg__alpha': 0.001, 'reg__l1_ratio': 0.5, 'rep__n_components': 3}, {'reg__alpha': 0.001, 'reg__gamma': 0.1, 'rep__n_components': 3}, {'reg__fit_intercept': 0.5, 'rep__n_components': 3}, {'reg__alpha': 0.001, 'reg__fit_intercept': 0.5, 'rep__n_components': 3}, {'reg__alpha': 0.001, 'rep__n_components': 3}, {'reg__alpha': 0.001, 'reg__l1_ratio': 0.5, 'rep__n_components': 3}, {'reg__alpha': 0.001, 'reg__gamma': 0.1, 'rep__n_components': 0.5}, {'reg__fit_intercept': 0.5, 'rep__n_components': 3}, {'reg__alpha': 0.001, 'reg__fit_intercept': 0.5, 'rep__n_components': 3}, {'reg__alpha': 0.001, 'rep__n_components': 3}, {'reg__alpha': 0.001, 'reg__l1_ratio': 0.5, 'rep__n_components': 3}, {'reg__alpha': 0.001, 'reg__gamma': 0.1, 'rep__n_components': 2}, {'reg__fit_intercept': 0.5, 'rep__n_components': 2}, {'reg__alpha': 0.001, 'reg__fit_intercept': 0.5, 'rep__n_components': 2}, {'reg__alpha': 0.1, 'rep__n_components': 3}]\n",
            "mae: 52.536897282105755\n",
            "Fitting 5 folds for each of 216 candidates, totalling 1080 fits\n"
          ],
          "name": "stdout"
        },
        {
          "output_type": "stream",
          "text": [
            "[Parallel(n_jobs=5)]: Batch computation too fast (0.0364s.) Setting batch_size=4.\n",
            "[Parallel(n_jobs=5)]: Done  20 tasks      | elapsed:    0.1s\n",
            "[Parallel(n_jobs=5)]: Batch computation too fast (0.0767s.) Setting batch_size=8.\n",
            "[Parallel(n_jobs=5)]: Done  38 tasks      | elapsed:    0.2s\n",
            "[Parallel(n_jobs=5)]: Done  78 tasks      | elapsed:    0.3s\n",
            "[Parallel(n_jobs=5)]: Batch computation too fast (0.0789s.) Setting batch_size=16.\n",
            "[Parallel(n_jobs=5)]: Done 150 tasks      | elapsed:    0.7s\n",
            "[Parallel(n_jobs=5)]: Done 326 tasks      | elapsed:    1.1s\n",
            "[Parallel(n_jobs=5)]: Done 502 tasks      | elapsed:    1.9s\n",
            "[Parallel(n_jobs=5)]: Done 710 tasks      | elapsed:    2.4s\n",
            "[Parallel(n_jobs=5)]: Done 918 tasks      | elapsed:    3.1s\n",
            "[Parallel(n_jobs=5)]: Done 1023 tasks      | elapsed:    3.3s\n",
            "[Parallel(n_jobs=5)]: Done 1053 tasks      | elapsed:    3.3s\n",
            "[Parallel(n_jobs=5)]: Done 1070 tasks      | elapsed:    3.4s\n",
            "[Parallel(n_jobs=5)]: Done 1080 out of 1080 | elapsed:    3.4s finished\n",
            "[Parallel(n_jobs=5)]: Using backend LokyBackend with 5 concurrent workers.\n",
            "[Parallel(n_jobs=5)]: Batch computation too fast (0.0098s.) Setting batch_size=2.\n",
            "[Parallel(n_jobs=5)]: Done   3 tasks      | elapsed:    0.0s\n",
            "[Parallel(n_jobs=5)]: Done   8 tasks      | elapsed:    0.1s\n"
          ],
          "name": "stderr"
        },
        {
          "output_type": "stream",
          "text": [
            "it 6/10-Modelo 3/5\n",
            "[{'reg__fit_intercept': 0.5, 'rep__n_components': 2}, {'reg__alpha': 0.001, 'reg__fit_intercept': 0.5, 'rep__n_components': 2}, {'reg__alpha': 0.001, 'rep__n_components': 2}, {'reg__alpha': 0.001, 'reg__l1_ratio': 0.5, 'rep__n_components': 3}, {'reg__alpha': 0.001, 'reg__gamma': 0.1, 'rep__n_components': 2}, {'reg__fit_intercept': 0.5, 'rep__n_components': 3}, {'reg__alpha': 0.001, 'reg__fit_intercept': 0.5, 'rep__n_components': 3}, {'reg__alpha': 0.001, 'rep__n_components': 3}, {'reg__alpha': 0.001, 'reg__l1_ratio': 0.5, 'rep__n_components': 3}, {'reg__alpha': 0.001, 'reg__gamma': 0.1, 'rep__n_components': 0.5}, {'reg__fit_intercept': 0.5, 'rep__n_components': 3}, {'reg__alpha': 0.001, 'reg__fit_intercept': 0.5, 'rep__n_components': 3}, {'reg__alpha': 0.001, 'rep__n_components': 3}, {'reg__alpha': 0.001, 'reg__l1_ratio': 0.5, 'rep__n_components': 3}, {'reg__alpha': 0.001, 'reg__gamma': 0.1, 'rep__n_components': 3}, {'reg__fit_intercept': 0.5, 'rep__n_components': 3}, {'reg__alpha': 0.001, 'reg__fit_intercept': 0.5, 'rep__n_components': 3}, {'reg__alpha': 0.001, 'rep__n_components': 3}, {'reg__alpha': 0.001, 'reg__l1_ratio': 0.5, 'rep__n_components': 3}, {'reg__alpha': 0.001, 'reg__gamma': 0.1, 'rep__n_components': 0.5}, {'reg__fit_intercept': 0.5, 'rep__n_components': 3}, {'reg__alpha': 0.001, 'reg__fit_intercept': 0.5, 'rep__n_components': 3}, {'reg__alpha': 0.001, 'rep__n_components': 3}, {'reg__alpha': 0.001, 'reg__l1_ratio': 0.5, 'rep__n_components': 3}, {'reg__alpha': 0.001, 'reg__gamma': 0.1, 'rep__n_components': 2}, {'reg__fit_intercept': 0.5, 'rep__n_components': 2}, {'reg__alpha': 0.001, 'reg__fit_intercept': 0.5, 'rep__n_components': 2}, {'reg__alpha': 0.1, 'rep__n_components': 3}, {'reg__alpha': 0.001, 'reg__l1_ratio': 0.5, 'rep__n_components': 3}]\n",
            "mae: 54.65739502244127\n",
            "Fitting 5 folds for each of 216 candidates, totalling 1080 fits\n"
          ],
          "name": "stdout"
        },
        {
          "output_type": "stream",
          "text": [
            "[Parallel(n_jobs=5)]: Batch computation too fast (0.0657s.) Setting batch_size=4.\n",
            "[Parallel(n_jobs=5)]: Done  20 tasks      | elapsed:    0.1s\n",
            "[Parallel(n_jobs=5)]: Batch computation too fast (0.0709s.) Setting batch_size=8.\n",
            "[Parallel(n_jobs=5)]: Done  38 tasks      | elapsed:    0.2s\n",
            "[Parallel(n_jobs=5)]: Done  78 tasks      | elapsed:    0.4s\n",
            "[Parallel(n_jobs=5)]: Batch computation too fast (0.1409s.) Setting batch_size=16.\n",
            "[Parallel(n_jobs=5)]: Done 150 tasks      | elapsed:    0.8s\n",
            "[Parallel(n_jobs=5)]: Done 326 tasks      | elapsed:    1.3s\n",
            "[Parallel(n_jobs=5)]: Done 502 tasks      | elapsed:    2.0s\n",
            "[Parallel(n_jobs=5)]: Done 710 tasks      | elapsed:    2.5s\n",
            "[Parallel(n_jobs=5)]: Done 918 tasks      | elapsed:    3.2s\n",
            "[Parallel(n_jobs=5)]: Done 1008 tasks      | elapsed:    3.3s\n",
            "[Parallel(n_jobs=5)]: Done 1053 tasks      | elapsed:    3.4s\n",
            "[Parallel(n_jobs=5)]: Done 1070 tasks      | elapsed:    3.5s\n",
            "[Parallel(n_jobs=5)]: Done 1080 out of 1080 | elapsed:    3.5s finished\n",
            "[Parallel(n_jobs=5)]: Using backend LokyBackend with 5 concurrent workers.\n",
            "[Parallel(n_jobs=5)]: Batch computation too fast (0.0143s.) Setting batch_size=2.\n",
            "[Parallel(n_jobs=5)]: Done   3 tasks      | elapsed:    0.0s\n"
          ],
          "name": "stderr"
        },
        {
          "output_type": "stream",
          "text": [
            "it 6/10-Modelo 4/5\n",
            "[{'reg__fit_intercept': 0.5, 'rep__n_components': 2}, {'reg__alpha': 0.001, 'reg__fit_intercept': 0.5, 'rep__n_components': 2}, {'reg__alpha': 0.001, 'rep__n_components': 2}, {'reg__alpha': 0.001, 'reg__l1_ratio': 0.5, 'rep__n_components': 3}, {'reg__alpha': 0.001, 'reg__gamma': 0.1, 'rep__n_components': 2}, {'reg__fit_intercept': 0.5, 'rep__n_components': 3}, {'reg__alpha': 0.001, 'reg__fit_intercept': 0.5, 'rep__n_components': 3}, {'reg__alpha': 0.001, 'rep__n_components': 3}, {'reg__alpha': 0.001, 'reg__l1_ratio': 0.5, 'rep__n_components': 3}, {'reg__alpha': 0.001, 'reg__gamma': 0.1, 'rep__n_components': 0.5}, {'reg__fit_intercept': 0.5, 'rep__n_components': 3}, {'reg__alpha': 0.001, 'reg__fit_intercept': 0.5, 'rep__n_components': 3}, {'reg__alpha': 0.001, 'rep__n_components': 3}, {'reg__alpha': 0.001, 'reg__l1_ratio': 0.5, 'rep__n_components': 3}, {'reg__alpha': 0.001, 'reg__gamma': 0.1, 'rep__n_components': 3}, {'reg__fit_intercept': 0.5, 'rep__n_components': 3}, {'reg__alpha': 0.001, 'reg__fit_intercept': 0.5, 'rep__n_components': 3}, {'reg__alpha': 0.001, 'rep__n_components': 3}, {'reg__alpha': 0.001, 'reg__l1_ratio': 0.5, 'rep__n_components': 3}, {'reg__alpha': 0.001, 'reg__gamma': 0.1, 'rep__n_components': 0.5}, {'reg__fit_intercept': 0.5, 'rep__n_components': 3}, {'reg__alpha': 0.001, 'reg__fit_intercept': 0.5, 'rep__n_components': 3}, {'reg__alpha': 0.001, 'rep__n_components': 3}, {'reg__alpha': 0.001, 'reg__l1_ratio': 0.5, 'rep__n_components': 3}, {'reg__alpha': 0.001, 'reg__gamma': 0.1, 'rep__n_components': 2}, {'reg__fit_intercept': 0.5, 'rep__n_components': 2}, {'reg__alpha': 0.001, 'reg__fit_intercept': 0.5, 'rep__n_components': 2}, {'reg__alpha': 0.1, 'rep__n_components': 3}, {'reg__alpha': 0.001, 'reg__l1_ratio': 0.5, 'rep__n_components': 3}, {'reg__alpha': 0.001, 'reg__gamma': 0.01, 'rep__n_components': 2}]\n",
            "mae: 47.84229213383824\n",
            "it 7/10\n",
            "Fitting 5 folds for each of 36 candidates, totalling 180 fits\n"
          ],
          "name": "stdout"
        },
        {
          "output_type": "stream",
          "text": [
            "[Parallel(n_jobs=5)]: Done   8 tasks      | elapsed:    0.1s\n",
            "[Parallel(n_jobs=5)]: Batch computation too fast (0.0450s.) Setting batch_size=4.\n",
            "[Parallel(n_jobs=5)]: Done  20 tasks      | elapsed:    0.1s\n",
            "[Parallel(n_jobs=5)]: Batch computation too fast (0.0610s.) Setting batch_size=8.\n",
            "[Parallel(n_jobs=5)]: Done  38 tasks      | elapsed:    0.3s\n",
            "[Parallel(n_jobs=5)]: Done  78 tasks      | elapsed:    0.4s\n",
            "[Parallel(n_jobs=5)]: Batch computation too fast (0.1188s.) Setting batch_size=16.\n",
            "[Parallel(n_jobs=5)]: Done 129 tasks      | elapsed:    0.5s\n",
            "[Parallel(n_jobs=5)]: Done 161 tasks      | elapsed:    0.5s\n",
            "[Parallel(n_jobs=5)]: Done 180 out of 180 | elapsed:    0.6s finished\n",
            "[Parallel(n_jobs=5)]: Using backend LokyBackend with 5 concurrent workers.\n",
            "[Parallel(n_jobs=5)]: Batch computation too fast (0.0107s.) Setting batch_size=2.\n",
            "[Parallel(n_jobs=5)]: Done   3 tasks      | elapsed:    0.0s\n",
            "[Parallel(n_jobs=5)]: Done   8 tasks      | elapsed:    0.0s\n"
          ],
          "name": "stderr"
        },
        {
          "output_type": "stream",
          "text": [
            "it 7/10-Modelo 0/5\n",
            "[{'reg__fit_intercept': 0.5, 'rep__n_components': 2}, {'reg__alpha': 0.001, 'reg__fit_intercept': 0.5, 'rep__n_components': 2}, {'reg__alpha': 0.001, 'rep__n_components': 2}, {'reg__alpha': 0.001, 'reg__l1_ratio': 0.5, 'rep__n_components': 3}, {'reg__alpha': 0.001, 'reg__gamma': 0.1, 'rep__n_components': 2}, {'reg__fit_intercept': 0.5, 'rep__n_components': 3}, {'reg__alpha': 0.001, 'reg__fit_intercept': 0.5, 'rep__n_components': 3}, {'reg__alpha': 0.001, 'rep__n_components': 3}, {'reg__alpha': 0.001, 'reg__l1_ratio': 0.5, 'rep__n_components': 3}, {'reg__alpha': 0.001, 'reg__gamma': 0.1, 'rep__n_components': 0.5}, {'reg__fit_intercept': 0.5, 'rep__n_components': 3}, {'reg__alpha': 0.001, 'reg__fit_intercept': 0.5, 'rep__n_components': 3}, {'reg__alpha': 0.001, 'rep__n_components': 3}, {'reg__alpha': 0.001, 'reg__l1_ratio': 0.5, 'rep__n_components': 3}, {'reg__alpha': 0.001, 'reg__gamma': 0.1, 'rep__n_components': 3}, {'reg__fit_intercept': 0.5, 'rep__n_components': 3}, {'reg__alpha': 0.001, 'reg__fit_intercept': 0.5, 'rep__n_components': 3}, {'reg__alpha': 0.001, 'rep__n_components': 3}, {'reg__alpha': 0.001, 'reg__l1_ratio': 0.5, 'rep__n_components': 3}, {'reg__alpha': 0.001, 'reg__gamma': 0.1, 'rep__n_components': 0.5}, {'reg__fit_intercept': 0.5, 'rep__n_components': 3}, {'reg__alpha': 0.001, 'reg__fit_intercept': 0.5, 'rep__n_components': 3}, {'reg__alpha': 0.001, 'rep__n_components': 3}, {'reg__alpha': 0.001, 'reg__l1_ratio': 0.5, 'rep__n_components': 3}, {'reg__alpha': 0.001, 'reg__gamma': 0.1, 'rep__n_components': 2}, {'reg__fit_intercept': 0.5, 'rep__n_components': 2}, {'reg__alpha': 0.001, 'reg__fit_intercept': 0.5, 'rep__n_components': 2}, {'reg__alpha': 0.1, 'rep__n_components': 3}, {'reg__alpha': 0.001, 'reg__l1_ratio': 0.5, 'rep__n_components': 3}, {'reg__alpha': 0.001, 'reg__gamma': 0.01, 'rep__n_components': 2}, {'reg__fit_intercept': 0.5, 'rep__n_components': 3}]\n",
            "mae: 44.47229946848775\n",
            "Fitting 5 folds for each of 216 candidates, totalling 1080 fits\n"
          ],
          "name": "stdout"
        },
        {
          "output_type": "stream",
          "text": [
            "[Parallel(n_jobs=5)]: Batch computation too fast (0.0441s.) Setting batch_size=4.\n",
            "[Parallel(n_jobs=5)]: Done  20 tasks      | elapsed:    0.1s\n",
            "[Parallel(n_jobs=5)]: Batch computation too fast (0.0810s.) Setting batch_size=8.\n",
            "[Parallel(n_jobs=5)]: Done  38 tasks      | elapsed:    0.2s\n",
            "[Parallel(n_jobs=5)]: Done  78 tasks      | elapsed:    0.3s\n",
            "[Parallel(n_jobs=5)]: Batch computation too fast (0.1318s.) Setting batch_size=16.\n",
            "[Parallel(n_jobs=5)]: Done 150 tasks      | elapsed:    0.6s\n",
            "[Parallel(n_jobs=5)]: Batch computation too fast (0.1778s.) Setting batch_size=32.\n",
            "[Parallel(n_jobs=5)]: Done 342 tasks      | elapsed:    1.3s\n",
            "[Parallel(n_jobs=5)]: Done 694 tasks      | elapsed:    2.5s\n",
            "[Parallel(n_jobs=5)]: Done 930 tasks      | elapsed:    2.7s\n",
            "[Parallel(n_jobs=5)]: Done 986 tasks      | elapsed:    2.8s\n",
            "[Parallel(n_jobs=5)]: Done 1016 tasks      | elapsed:    2.9s\n",
            "[Parallel(n_jobs=5)]: Done 1046 tasks      | elapsed:    3.0s\n",
            "[Parallel(n_jobs=5)]: Done 1080 out of 1080 | elapsed:    3.1s finished\n",
            "[Parallel(n_jobs=5)]: Using backend LokyBackend with 5 concurrent workers.\n",
            "[Parallel(n_jobs=5)]: Batch computation too fast (0.0106s.) Setting batch_size=2.\n",
            "[Parallel(n_jobs=5)]: Done   3 tasks      | elapsed:    0.0s\n",
            "[Parallel(n_jobs=5)]: Done   8 tasks      | elapsed:    0.1s\n",
            "[Parallel(n_jobs=5)]: Batch computation too fast (0.0414s.) Setting batch_size=4.\n",
            "[Parallel(n_jobs=5)]: Done  20 tasks      | elapsed:    0.1s\n",
            "[Parallel(n_jobs=5)]: Batch computation too fast (0.0475s.) Setting batch_size=8.\n"
          ],
          "name": "stderr"
        },
        {
          "output_type": "stream",
          "text": [
            "it 7/10-Modelo 1/5\n",
            "[{'reg__fit_intercept': 0.5, 'rep__n_components': 2}, {'reg__alpha': 0.001, 'reg__fit_intercept': 0.5, 'rep__n_components': 2}, {'reg__alpha': 0.001, 'rep__n_components': 2}, {'reg__alpha': 0.001, 'reg__l1_ratio': 0.5, 'rep__n_components': 3}, {'reg__alpha': 0.001, 'reg__gamma': 0.1, 'rep__n_components': 2}, {'reg__fit_intercept': 0.5, 'rep__n_components': 3}, {'reg__alpha': 0.001, 'reg__fit_intercept': 0.5, 'rep__n_components': 3}, {'reg__alpha': 0.001, 'rep__n_components': 3}, {'reg__alpha': 0.001, 'reg__l1_ratio': 0.5, 'rep__n_components': 3}, {'reg__alpha': 0.001, 'reg__gamma': 0.1, 'rep__n_components': 0.5}, {'reg__fit_intercept': 0.5, 'rep__n_components': 3}, {'reg__alpha': 0.001, 'reg__fit_intercept': 0.5, 'rep__n_components': 3}, {'reg__alpha': 0.001, 'rep__n_components': 3}, {'reg__alpha': 0.001, 'reg__l1_ratio': 0.5, 'rep__n_components': 3}, {'reg__alpha': 0.001, 'reg__gamma': 0.1, 'rep__n_components': 3}, {'reg__fit_intercept': 0.5, 'rep__n_components': 3}, {'reg__alpha': 0.001, 'reg__fit_intercept': 0.5, 'rep__n_components': 3}, {'reg__alpha': 0.001, 'rep__n_components': 3}, {'reg__alpha': 0.001, 'reg__l1_ratio': 0.5, 'rep__n_components': 3}, {'reg__alpha': 0.001, 'reg__gamma': 0.1, 'rep__n_components': 0.5}, {'reg__fit_intercept': 0.5, 'rep__n_components': 3}, {'reg__alpha': 0.001, 'reg__fit_intercept': 0.5, 'rep__n_components': 3}, {'reg__alpha': 0.001, 'rep__n_components': 3}, {'reg__alpha': 0.001, 'reg__l1_ratio': 0.5, 'rep__n_components': 3}, {'reg__alpha': 0.001, 'reg__gamma': 0.1, 'rep__n_components': 2}, {'reg__fit_intercept': 0.5, 'rep__n_components': 2}, {'reg__alpha': 0.001, 'reg__fit_intercept': 0.5, 'rep__n_components': 2}, {'reg__alpha': 0.1, 'rep__n_components': 3}, {'reg__alpha': 0.001, 'reg__l1_ratio': 0.5, 'rep__n_components': 3}, {'reg__alpha': 0.001, 'reg__gamma': 0.01, 'rep__n_components': 2}, {'reg__fit_intercept': 0.5, 'rep__n_components': 3}, {'reg__alpha': 0.001, 'reg__fit_intercept': 0.5, 'rep__n_components': 3}]\n",
            "mae: 44.613742233905356\n",
            "Fitting 5 folds for each of 36 candidates, totalling 180 fits\n"
          ],
          "name": "stdout"
        },
        {
          "output_type": "stream",
          "text": [
            "[Parallel(n_jobs=5)]: Done  38 tasks      | elapsed:    0.2s\n",
            "[Parallel(n_jobs=5)]: Done  78 tasks      | elapsed:    0.3s\n",
            "[Parallel(n_jobs=5)]: Batch computation too fast (0.0953s.) Setting batch_size=16.\n",
            "[Parallel(n_jobs=5)]: Done 129 tasks      | elapsed:    0.5s\n",
            "[Parallel(n_jobs=5)]: Done 161 tasks      | elapsed:    0.5s\n",
            "[Parallel(n_jobs=5)]: Done 180 out of 180 | elapsed:    0.6s finished\n",
            "[Parallel(n_jobs=5)]: Using backend LokyBackend with 5 concurrent workers.\n",
            "[Parallel(n_jobs=5)]: Batch computation too fast (0.0086s.) Setting batch_size=2.\n",
            "[Parallel(n_jobs=5)]: Done   3 tasks      | elapsed:    0.0s\n",
            "[Parallel(n_jobs=5)]: Done   8 tasks      | elapsed:    0.0s\n"
          ],
          "name": "stderr"
        },
        {
          "output_type": "stream",
          "text": [
            "it 7/10-Modelo 2/5\n",
            "[{'reg__fit_intercept': 0.5, 'rep__n_components': 2}, {'reg__alpha': 0.001, 'reg__fit_intercept': 0.5, 'rep__n_components': 2}, {'reg__alpha': 0.001, 'rep__n_components': 2}, {'reg__alpha': 0.001, 'reg__l1_ratio': 0.5, 'rep__n_components': 3}, {'reg__alpha': 0.001, 'reg__gamma': 0.1, 'rep__n_components': 2}, {'reg__fit_intercept': 0.5, 'rep__n_components': 3}, {'reg__alpha': 0.001, 'reg__fit_intercept': 0.5, 'rep__n_components': 3}, {'reg__alpha': 0.001, 'rep__n_components': 3}, {'reg__alpha': 0.001, 'reg__l1_ratio': 0.5, 'rep__n_components': 3}, {'reg__alpha': 0.001, 'reg__gamma': 0.1, 'rep__n_components': 0.5}, {'reg__fit_intercept': 0.5, 'rep__n_components': 3}, {'reg__alpha': 0.001, 'reg__fit_intercept': 0.5, 'rep__n_components': 3}, {'reg__alpha': 0.001, 'rep__n_components': 3}, {'reg__alpha': 0.001, 'reg__l1_ratio': 0.5, 'rep__n_components': 3}, {'reg__alpha': 0.001, 'reg__gamma': 0.1, 'rep__n_components': 3}, {'reg__fit_intercept': 0.5, 'rep__n_components': 3}, {'reg__alpha': 0.001, 'reg__fit_intercept': 0.5, 'rep__n_components': 3}, {'reg__alpha': 0.001, 'rep__n_components': 3}, {'reg__alpha': 0.001, 'reg__l1_ratio': 0.5, 'rep__n_components': 3}, {'reg__alpha': 0.001, 'reg__gamma': 0.1, 'rep__n_components': 0.5}, {'reg__fit_intercept': 0.5, 'rep__n_components': 3}, {'reg__alpha': 0.001, 'reg__fit_intercept': 0.5, 'rep__n_components': 3}, {'reg__alpha': 0.001, 'rep__n_components': 3}, {'reg__alpha': 0.001, 'reg__l1_ratio': 0.5, 'rep__n_components': 3}, {'reg__alpha': 0.001, 'reg__gamma': 0.1, 'rep__n_components': 2}, {'reg__fit_intercept': 0.5, 'rep__n_components': 2}, {'reg__alpha': 0.001, 'reg__fit_intercept': 0.5, 'rep__n_components': 2}, {'reg__alpha': 0.1, 'rep__n_components': 3}, {'reg__alpha': 0.001, 'reg__l1_ratio': 0.5, 'rep__n_components': 3}, {'reg__alpha': 0.001, 'reg__gamma': 0.01, 'rep__n_components': 2}, {'reg__fit_intercept': 0.5, 'rep__n_components': 3}, {'reg__alpha': 0.001, 'reg__fit_intercept': 0.5, 'rep__n_components': 3}, {'reg__alpha': 0.001, 'rep__n_components': 3}]\n",
            "mae: 44.48025924907897\n",
            "Fitting 5 folds for each of 216 candidates, totalling 1080 fits\n"
          ],
          "name": "stdout"
        },
        {
          "output_type": "stream",
          "text": [
            "[Parallel(n_jobs=5)]: Batch computation too fast (0.0497s.) Setting batch_size=4.\n",
            "[Parallel(n_jobs=5)]: Done  20 tasks      | elapsed:    0.1s\n",
            "[Parallel(n_jobs=5)]: Batch computation too fast (0.0798s.) Setting batch_size=8.\n",
            "[Parallel(n_jobs=5)]: Done  38 tasks      | elapsed:    0.3s\n",
            "[Parallel(n_jobs=5)]: Done  78 tasks      | elapsed:    0.4s\n",
            "[Parallel(n_jobs=5)]: Batch computation too fast (0.1144s.) Setting batch_size=16.\n",
            "[Parallel(n_jobs=5)]: Done 150 tasks      | elapsed:    0.6s\n",
            "[Parallel(n_jobs=5)]: Batch computation too fast (0.1956s.) Setting batch_size=32.\n",
            "[Parallel(n_jobs=5)]: Done 342 tasks      | elapsed:    1.4s\n",
            "[Parallel(n_jobs=5)]: Done 694 tasks      | elapsed:    2.9s\n",
            "[Parallel(n_jobs=5)]: Done 900 tasks      | elapsed:    3.0s\n",
            "[Parallel(n_jobs=5)]: Done 926 tasks      | elapsed:    3.1s\n",
            "[Parallel(n_jobs=5)]: Done 986 tasks      | elapsed:    3.3s\n",
            "[Parallel(n_jobs=5)]: Done 1046 tasks      | elapsed:    3.4s\n",
            "[Parallel(n_jobs=5)]: Done 1080 out of 1080 | elapsed:    3.5s finished\n",
            "[Parallel(n_jobs=5)]: Using backend LokyBackend with 5 concurrent workers.\n",
            "[Parallel(n_jobs=5)]: Batch computation too fast (0.0151s.) Setting batch_size=2.\n",
            "[Parallel(n_jobs=5)]: Done   3 tasks      | elapsed:    0.0s\n",
            "[Parallel(n_jobs=5)]: Done   8 tasks      | elapsed:    0.0s\n"
          ],
          "name": "stderr"
        },
        {
          "output_type": "stream",
          "text": [
            "it 7/10-Modelo 3/5\n",
            "[{'reg__fit_intercept': 0.5, 'rep__n_components': 2}, {'reg__alpha': 0.001, 'reg__fit_intercept': 0.5, 'rep__n_components': 2}, {'reg__alpha': 0.001, 'rep__n_components': 2}, {'reg__alpha': 0.001, 'reg__l1_ratio': 0.5, 'rep__n_components': 3}, {'reg__alpha': 0.001, 'reg__gamma': 0.1, 'rep__n_components': 2}, {'reg__fit_intercept': 0.5, 'rep__n_components': 3}, {'reg__alpha': 0.001, 'reg__fit_intercept': 0.5, 'rep__n_components': 3}, {'reg__alpha': 0.001, 'rep__n_components': 3}, {'reg__alpha': 0.001, 'reg__l1_ratio': 0.5, 'rep__n_components': 3}, {'reg__alpha': 0.001, 'reg__gamma': 0.1, 'rep__n_components': 0.5}, {'reg__fit_intercept': 0.5, 'rep__n_components': 3}, {'reg__alpha': 0.001, 'reg__fit_intercept': 0.5, 'rep__n_components': 3}, {'reg__alpha': 0.001, 'rep__n_components': 3}, {'reg__alpha': 0.001, 'reg__l1_ratio': 0.5, 'rep__n_components': 3}, {'reg__alpha': 0.001, 'reg__gamma': 0.1, 'rep__n_components': 3}, {'reg__fit_intercept': 0.5, 'rep__n_components': 3}, {'reg__alpha': 0.001, 'reg__fit_intercept': 0.5, 'rep__n_components': 3}, {'reg__alpha': 0.001, 'rep__n_components': 3}, {'reg__alpha': 0.001, 'reg__l1_ratio': 0.5, 'rep__n_components': 3}, {'reg__alpha': 0.001, 'reg__gamma': 0.1, 'rep__n_components': 0.5}, {'reg__fit_intercept': 0.5, 'rep__n_components': 3}, {'reg__alpha': 0.001, 'reg__fit_intercept': 0.5, 'rep__n_components': 3}, {'reg__alpha': 0.001, 'rep__n_components': 3}, {'reg__alpha': 0.001, 'reg__l1_ratio': 0.5, 'rep__n_components': 3}, {'reg__alpha': 0.001, 'reg__gamma': 0.1, 'rep__n_components': 2}, {'reg__fit_intercept': 0.5, 'rep__n_components': 2}, {'reg__alpha': 0.001, 'reg__fit_intercept': 0.5, 'rep__n_components': 2}, {'reg__alpha': 0.1, 'rep__n_components': 3}, {'reg__alpha': 0.001, 'reg__l1_ratio': 0.5, 'rep__n_components': 3}, {'reg__alpha': 0.001, 'reg__gamma': 0.01, 'rep__n_components': 2}, {'reg__fit_intercept': 0.5, 'rep__n_components': 3}, {'reg__alpha': 0.001, 'reg__fit_intercept': 0.5, 'rep__n_components': 3}, {'reg__alpha': 0.001, 'rep__n_components': 3}, {'reg__alpha': 0.001, 'reg__l1_ratio': 0.5, 'rep__n_components': 3}]\n",
            "mae: 48.19465937285407\n",
            "Fitting 5 folds for each of 216 candidates, totalling 1080 fits\n"
          ],
          "name": "stdout"
        },
        {
          "output_type": "stream",
          "text": [
            "[Parallel(n_jobs=5)]: Batch computation too fast (0.0516s.) Setting batch_size=4.\n",
            "[Parallel(n_jobs=5)]: Done  20 tasks      | elapsed:    0.1s\n",
            "[Parallel(n_jobs=5)]: Batch computation too fast (0.0934s.) Setting batch_size=8.\n",
            "[Parallel(n_jobs=5)]: Done  38 tasks      | elapsed:    0.3s\n",
            "[Parallel(n_jobs=5)]: Done  78 tasks      | elapsed:    0.4s\n",
            "[Parallel(n_jobs=5)]: Batch computation too fast (0.0984s.) Setting batch_size=16.\n",
            "[Parallel(n_jobs=5)]: Done 150 tasks      | elapsed:    0.8s\n",
            "[Parallel(n_jobs=5)]: Done 326 tasks      | elapsed:    1.3s\n",
            "[Parallel(n_jobs=5)]: Done 502 tasks      | elapsed:    2.1s\n",
            "[Parallel(n_jobs=5)]: Done 710 tasks      | elapsed:    2.6s\n",
            "[Parallel(n_jobs=5)]: Done 918 tasks      | elapsed:    3.3s\n",
            "[Parallel(n_jobs=5)]: Done 1023 tasks      | elapsed:    3.5s\n",
            "[Parallel(n_jobs=5)]: Done 1053 tasks      | elapsed:    3.6s\n",
            "[Parallel(n_jobs=5)]: Done 1070 tasks      | elapsed:    3.7s\n",
            "[Parallel(n_jobs=5)]: Done 1080 out of 1080 | elapsed:    3.7s finished\n"
          ],
          "name": "stderr"
        },
        {
          "output_type": "stream",
          "text": [
            "it 7/10-Modelo 4/5\n",
            "[{'reg__fit_intercept': 0.5, 'rep__n_components': 2}, {'reg__alpha': 0.001, 'reg__fit_intercept': 0.5, 'rep__n_components': 2}, {'reg__alpha': 0.001, 'rep__n_components': 2}, {'reg__alpha': 0.001, 'reg__l1_ratio': 0.5, 'rep__n_components': 3}, {'reg__alpha': 0.001, 'reg__gamma': 0.1, 'rep__n_components': 2}, {'reg__fit_intercept': 0.5, 'rep__n_components': 3}, {'reg__alpha': 0.001, 'reg__fit_intercept': 0.5, 'rep__n_components': 3}, {'reg__alpha': 0.001, 'rep__n_components': 3}, {'reg__alpha': 0.001, 'reg__l1_ratio': 0.5, 'rep__n_components': 3}, {'reg__alpha': 0.001, 'reg__gamma': 0.1, 'rep__n_components': 0.5}, {'reg__fit_intercept': 0.5, 'rep__n_components': 3}, {'reg__alpha': 0.001, 'reg__fit_intercept': 0.5, 'rep__n_components': 3}, {'reg__alpha': 0.001, 'rep__n_components': 3}, {'reg__alpha': 0.001, 'reg__l1_ratio': 0.5, 'rep__n_components': 3}, {'reg__alpha': 0.001, 'reg__gamma': 0.1, 'rep__n_components': 3}, {'reg__fit_intercept': 0.5, 'rep__n_components': 3}, {'reg__alpha': 0.001, 'reg__fit_intercept': 0.5, 'rep__n_components': 3}, {'reg__alpha': 0.001, 'rep__n_components': 3}, {'reg__alpha': 0.001, 'reg__l1_ratio': 0.5, 'rep__n_components': 3}, {'reg__alpha': 0.001, 'reg__gamma': 0.1, 'rep__n_components': 0.5}, {'reg__fit_intercept': 0.5, 'rep__n_components': 3}, {'reg__alpha': 0.001, 'reg__fit_intercept': 0.5, 'rep__n_components': 3}, {'reg__alpha': 0.001, 'rep__n_components': 3}, {'reg__alpha': 0.001, 'reg__l1_ratio': 0.5, 'rep__n_components': 3}, {'reg__alpha': 0.001, 'reg__gamma': 0.1, 'rep__n_components': 2}, {'reg__fit_intercept': 0.5, 'rep__n_components': 2}, {'reg__alpha': 0.001, 'reg__fit_intercept': 0.5, 'rep__n_components': 2}, {'reg__alpha': 0.1, 'rep__n_components': 3}, {'reg__alpha': 0.001, 'reg__l1_ratio': 0.5, 'rep__n_components': 3}, {'reg__alpha': 0.001, 'reg__gamma': 0.01, 'rep__n_components': 2}, {'reg__fit_intercept': 0.5, 'rep__n_components': 3}, {'reg__alpha': 0.001, 'reg__fit_intercept': 0.5, 'rep__n_components': 3}, {'reg__alpha': 0.001, 'rep__n_components': 3}, {'reg__alpha': 0.001, 'reg__l1_ratio': 0.5, 'rep__n_components': 3}, {'reg__alpha': 0.001, 'reg__gamma': 0.1, 'rep__n_components': 2}]\n",
            "mae: 37.77720871027867\n",
            "it 8/10\n",
            "Fitting 5 folds for each of 36 candidates, totalling 180 fits\n"
          ],
          "name": "stdout"
        },
        {
          "output_type": "stream",
          "text": [
            "[Parallel(n_jobs=5)]: Using backend LokyBackend with 5 concurrent workers.\n",
            "[Parallel(n_jobs=5)]: Done   1 tasks      | elapsed:    0.0s\n",
            "[Parallel(n_jobs=5)]: Batch computation too fast (0.0064s.) Setting batch_size=2.\n",
            "[Parallel(n_jobs=5)]: Batch computation too fast (0.0064s.) Setting batch_size=4.\n",
            "[Parallel(n_jobs=5)]: Done   4 tasks      | elapsed:    0.1s\n",
            "[Parallel(n_jobs=5)]: Done   9 tasks      | elapsed:    0.1s\n",
            "[Parallel(n_jobs=5)]: Batch computation too fast (0.0659s.) Setting batch_size=8.\n",
            "[Parallel(n_jobs=5)]: Done  34 tasks      | elapsed:    0.2s\n",
            "[Parallel(n_jobs=5)]: Batch computation too fast (0.0847s.) Setting batch_size=16.\n",
            "[Parallel(n_jobs=5)]: Done  74 tasks      | elapsed:    0.4s\n",
            "[Parallel(n_jobs=5)]: Done 111 tasks      | elapsed:    0.5s\n",
            "[Parallel(n_jobs=5)]: Done 134 tasks      | elapsed:    0.5s\n",
            "[Parallel(n_jobs=5)]: Done 152 tasks      | elapsed:    0.5s\n",
            "[Parallel(n_jobs=5)]: Done 163 tasks      | elapsed:    0.6s\n",
            "[Parallel(n_jobs=5)]: Done 180 out of 180 | elapsed:    0.6s finished\n",
            "[Parallel(n_jobs=5)]: Using backend LokyBackend with 5 concurrent workers.\n",
            "[Parallel(n_jobs=5)]: Batch computation too fast (0.0135s.) Setting batch_size=2.\n",
            "[Parallel(n_jobs=5)]: Done   3 tasks      | elapsed:    0.0s\n"
          ],
          "name": "stderr"
        },
        {
          "output_type": "stream",
          "text": [
            "it 8/10-Modelo 0/5\n",
            "[{'reg__fit_intercept': 0.5, 'rep__n_components': 2}, {'reg__alpha': 0.001, 'reg__fit_intercept': 0.5, 'rep__n_components': 2}, {'reg__alpha': 0.001, 'rep__n_components': 2}, {'reg__alpha': 0.001, 'reg__l1_ratio': 0.5, 'rep__n_components': 3}, {'reg__alpha': 0.001, 'reg__gamma': 0.1, 'rep__n_components': 2}, {'reg__fit_intercept': 0.5, 'rep__n_components': 3}, {'reg__alpha': 0.001, 'reg__fit_intercept': 0.5, 'rep__n_components': 3}, {'reg__alpha': 0.001, 'rep__n_components': 3}, {'reg__alpha': 0.001, 'reg__l1_ratio': 0.5, 'rep__n_components': 3}, {'reg__alpha': 0.001, 'reg__gamma': 0.1, 'rep__n_components': 0.5}, {'reg__fit_intercept': 0.5, 'rep__n_components': 3}, {'reg__alpha': 0.001, 'reg__fit_intercept': 0.5, 'rep__n_components': 3}, {'reg__alpha': 0.001, 'rep__n_components': 3}, {'reg__alpha': 0.001, 'reg__l1_ratio': 0.5, 'rep__n_components': 3}, {'reg__alpha': 0.001, 'reg__gamma': 0.1, 'rep__n_components': 3}, {'reg__fit_intercept': 0.5, 'rep__n_components': 3}, {'reg__alpha': 0.001, 'reg__fit_intercept': 0.5, 'rep__n_components': 3}, {'reg__alpha': 0.001, 'rep__n_components': 3}, {'reg__alpha': 0.001, 'reg__l1_ratio': 0.5, 'rep__n_components': 3}, {'reg__alpha': 0.001, 'reg__gamma': 0.1, 'rep__n_components': 0.5}, {'reg__fit_intercept': 0.5, 'rep__n_components': 3}, {'reg__alpha': 0.001, 'reg__fit_intercept': 0.5, 'rep__n_components': 3}, {'reg__alpha': 0.001, 'rep__n_components': 3}, {'reg__alpha': 0.001, 'reg__l1_ratio': 0.5, 'rep__n_components': 3}, {'reg__alpha': 0.001, 'reg__gamma': 0.1, 'rep__n_components': 2}, {'reg__fit_intercept': 0.5, 'rep__n_components': 2}, {'reg__alpha': 0.001, 'reg__fit_intercept': 0.5, 'rep__n_components': 2}, {'reg__alpha': 0.1, 'rep__n_components': 3}, {'reg__alpha': 0.001, 'reg__l1_ratio': 0.5, 'rep__n_components': 3}, {'reg__alpha': 0.001, 'reg__gamma': 0.01, 'rep__n_components': 2}, {'reg__fit_intercept': 0.5, 'rep__n_components': 3}, {'reg__alpha': 0.001, 'reg__fit_intercept': 0.5, 'rep__n_components': 3}, {'reg__alpha': 0.001, 'rep__n_components': 3}, {'reg__alpha': 0.001, 'reg__l1_ratio': 0.5, 'rep__n_components': 3}, {'reg__alpha': 0.001, 'reg__gamma': 0.1, 'rep__n_components': 2}, {'reg__fit_intercept': 0.5, 'rep__n_components': 3}]\n",
            "mae: 57.589689019098806\n",
            "Fitting 5 folds for each of 216 candidates, totalling 1080 fits\n"
          ],
          "name": "stdout"
        },
        {
          "output_type": "stream",
          "text": [
            "[Parallel(n_jobs=5)]: Done   8 tasks      | elapsed:    0.1s\n",
            "[Parallel(n_jobs=5)]: Batch computation too fast (0.0405s.) Setting batch_size=4.\n",
            "[Parallel(n_jobs=5)]: Done  20 tasks      | elapsed:    0.1s\n",
            "[Parallel(n_jobs=5)]: Batch computation too fast (0.0959s.) Setting batch_size=8.\n",
            "[Parallel(n_jobs=5)]: Done  38 tasks      | elapsed:    0.2s\n",
            "[Parallel(n_jobs=5)]: Done  78 tasks      | elapsed:    0.3s\n",
            "[Parallel(n_jobs=5)]: Batch computation too fast (0.0987s.) Setting batch_size=16.\n",
            "[Parallel(n_jobs=5)]: Done 150 tasks      | elapsed:    0.6s\n",
            "[Parallel(n_jobs=5)]: Batch computation too fast (0.1866s.) Setting batch_size=32.\n",
            "[Parallel(n_jobs=5)]: Done 342 tasks      | elapsed:    1.4s\n",
            "[Parallel(n_jobs=5)]: Done 694 tasks      | elapsed:    2.5s\n",
            "[Parallel(n_jobs=5)]: Done 900 tasks      | elapsed:    2.7s\n",
            "[Parallel(n_jobs=5)]: Done 956 tasks      | elapsed:    2.8s\n",
            "[Parallel(n_jobs=5)]: Done 1016 tasks      | elapsed:    2.9s\n",
            "[Parallel(n_jobs=5)]: Done 1046 tasks      | elapsed:    3.0s\n",
            "[Parallel(n_jobs=5)]: Done 1080 out of 1080 | elapsed:    3.1s finished\n",
            "[Parallel(n_jobs=5)]: Using backend LokyBackend with 5 concurrent workers.\n",
            "[Parallel(n_jobs=5)]: Batch computation too fast (0.0088s.) Setting batch_size=2.\n",
            "[Parallel(n_jobs=5)]: Done   3 tasks      | elapsed:    0.0s\n",
            "[Parallel(n_jobs=5)]: Done   8 tasks      | elapsed:    0.0s\n",
            "[Parallel(n_jobs=5)]: Batch computation too fast (0.0650s.) Setting batch_size=4.\n",
            "[Parallel(n_jobs=5)]: Done  20 tasks      | elapsed:    0.1s\n"
          ],
          "name": "stderr"
        },
        {
          "output_type": "stream",
          "text": [
            "it 8/10-Modelo 1/5\n",
            "[{'reg__fit_intercept': 0.5, 'rep__n_components': 2}, {'reg__alpha': 0.001, 'reg__fit_intercept': 0.5, 'rep__n_components': 2}, {'reg__alpha': 0.001, 'rep__n_components': 2}, {'reg__alpha': 0.001, 'reg__l1_ratio': 0.5, 'rep__n_components': 3}, {'reg__alpha': 0.001, 'reg__gamma': 0.1, 'rep__n_components': 2}, {'reg__fit_intercept': 0.5, 'rep__n_components': 3}, {'reg__alpha': 0.001, 'reg__fit_intercept': 0.5, 'rep__n_components': 3}, {'reg__alpha': 0.001, 'rep__n_components': 3}, {'reg__alpha': 0.001, 'reg__l1_ratio': 0.5, 'rep__n_components': 3}, {'reg__alpha': 0.001, 'reg__gamma': 0.1, 'rep__n_components': 0.5}, {'reg__fit_intercept': 0.5, 'rep__n_components': 3}, {'reg__alpha': 0.001, 'reg__fit_intercept': 0.5, 'rep__n_components': 3}, {'reg__alpha': 0.001, 'rep__n_components': 3}, {'reg__alpha': 0.001, 'reg__l1_ratio': 0.5, 'rep__n_components': 3}, {'reg__alpha': 0.001, 'reg__gamma': 0.1, 'rep__n_components': 3}, {'reg__fit_intercept': 0.5, 'rep__n_components': 3}, {'reg__alpha': 0.001, 'reg__fit_intercept': 0.5, 'rep__n_components': 3}, {'reg__alpha': 0.001, 'rep__n_components': 3}, {'reg__alpha': 0.001, 'reg__l1_ratio': 0.5, 'rep__n_components': 3}, {'reg__alpha': 0.001, 'reg__gamma': 0.1, 'rep__n_components': 0.5}, {'reg__fit_intercept': 0.5, 'rep__n_components': 3}, {'reg__alpha': 0.001, 'reg__fit_intercept': 0.5, 'rep__n_components': 3}, {'reg__alpha': 0.001, 'rep__n_components': 3}, {'reg__alpha': 0.001, 'reg__l1_ratio': 0.5, 'rep__n_components': 3}, {'reg__alpha': 0.001, 'reg__gamma': 0.1, 'rep__n_components': 2}, {'reg__fit_intercept': 0.5, 'rep__n_components': 2}, {'reg__alpha': 0.001, 'reg__fit_intercept': 0.5, 'rep__n_components': 2}, {'reg__alpha': 0.1, 'rep__n_components': 3}, {'reg__alpha': 0.001, 'reg__l1_ratio': 0.5, 'rep__n_components': 3}, {'reg__alpha': 0.001, 'reg__gamma': 0.01, 'rep__n_components': 2}, {'reg__fit_intercept': 0.5, 'rep__n_components': 3}, {'reg__alpha': 0.001, 'reg__fit_intercept': 0.5, 'rep__n_components': 3}, {'reg__alpha': 0.001, 'rep__n_components': 3}, {'reg__alpha': 0.001, 'reg__l1_ratio': 0.5, 'rep__n_components': 3}, {'reg__alpha': 0.001, 'reg__gamma': 0.1, 'rep__n_components': 2}, {'reg__fit_intercept': 0.5, 'rep__n_components': 3}, {'reg__alpha': 0.001, 'reg__fit_intercept': 0.5, 'rep__n_components': 3}]\n",
            "mae: 57.49953508611383\n",
            "Fitting 5 folds for each of 36 candidates, totalling 180 fits\n"
          ],
          "name": "stdout"
        },
        {
          "output_type": "stream",
          "text": [
            "[Parallel(n_jobs=5)]: Batch computation too fast (0.0672s.) Setting batch_size=8.\n",
            "[Parallel(n_jobs=5)]: Done  38 tasks      | elapsed:    0.2s\n",
            "[Parallel(n_jobs=5)]: Done  78 tasks      | elapsed:    0.4s\n",
            "[Parallel(n_jobs=5)]: Batch computation too fast (0.1216s.) Setting batch_size=16.\n",
            "[Parallel(n_jobs=5)]: Done 129 tasks      | elapsed:    0.5s\n",
            "[Parallel(n_jobs=5)]: Done 154 tasks      | elapsed:    0.6s\n",
            "[Parallel(n_jobs=5)]: Done 180 out of 180 | elapsed:    0.6s finished\n",
            "[Parallel(n_jobs=5)]: Using backend LokyBackend with 5 concurrent workers.\n",
            "[Parallel(n_jobs=5)]: Batch computation too fast (0.0147s.) Setting batch_size=2.\n",
            "[Parallel(n_jobs=5)]: Done   3 tasks      | elapsed:    0.0s\n"
          ],
          "name": "stderr"
        },
        {
          "output_type": "stream",
          "text": [
            "it 8/10-Modelo 2/5\n",
            "[{'reg__fit_intercept': 0.5, 'rep__n_components': 2}, {'reg__alpha': 0.001, 'reg__fit_intercept': 0.5, 'rep__n_components': 2}, {'reg__alpha': 0.001, 'rep__n_components': 2}, {'reg__alpha': 0.001, 'reg__l1_ratio': 0.5, 'rep__n_components': 3}, {'reg__alpha': 0.001, 'reg__gamma': 0.1, 'rep__n_components': 2}, {'reg__fit_intercept': 0.5, 'rep__n_components': 3}, {'reg__alpha': 0.001, 'reg__fit_intercept': 0.5, 'rep__n_components': 3}, {'reg__alpha': 0.001, 'rep__n_components': 3}, {'reg__alpha': 0.001, 'reg__l1_ratio': 0.5, 'rep__n_components': 3}, {'reg__alpha': 0.001, 'reg__gamma': 0.1, 'rep__n_components': 0.5}, {'reg__fit_intercept': 0.5, 'rep__n_components': 3}, {'reg__alpha': 0.001, 'reg__fit_intercept': 0.5, 'rep__n_components': 3}, {'reg__alpha': 0.001, 'rep__n_components': 3}, {'reg__alpha': 0.001, 'reg__l1_ratio': 0.5, 'rep__n_components': 3}, {'reg__alpha': 0.001, 'reg__gamma': 0.1, 'rep__n_components': 3}, {'reg__fit_intercept': 0.5, 'rep__n_components': 3}, {'reg__alpha': 0.001, 'reg__fit_intercept': 0.5, 'rep__n_components': 3}, {'reg__alpha': 0.001, 'rep__n_components': 3}, {'reg__alpha': 0.001, 'reg__l1_ratio': 0.5, 'rep__n_components': 3}, {'reg__alpha': 0.001, 'reg__gamma': 0.1, 'rep__n_components': 0.5}, {'reg__fit_intercept': 0.5, 'rep__n_components': 3}, {'reg__alpha': 0.001, 'reg__fit_intercept': 0.5, 'rep__n_components': 3}, {'reg__alpha': 0.001, 'rep__n_components': 3}, {'reg__alpha': 0.001, 'reg__l1_ratio': 0.5, 'rep__n_components': 3}, {'reg__alpha': 0.001, 'reg__gamma': 0.1, 'rep__n_components': 2}, {'reg__fit_intercept': 0.5, 'rep__n_components': 2}, {'reg__alpha': 0.001, 'reg__fit_intercept': 0.5, 'rep__n_components': 2}, {'reg__alpha': 0.1, 'rep__n_components': 3}, {'reg__alpha': 0.001, 'reg__l1_ratio': 0.5, 'rep__n_components': 3}, {'reg__alpha': 0.001, 'reg__gamma': 0.01, 'rep__n_components': 2}, {'reg__fit_intercept': 0.5, 'rep__n_components': 3}, {'reg__alpha': 0.001, 'reg__fit_intercept': 0.5, 'rep__n_components': 3}, {'reg__alpha': 0.001, 'rep__n_components': 3}, {'reg__alpha': 0.001, 'reg__l1_ratio': 0.5, 'rep__n_components': 3}, {'reg__alpha': 0.001, 'reg__gamma': 0.1, 'rep__n_components': 2}, {'reg__fit_intercept': 0.5, 'rep__n_components': 3}, {'reg__alpha': 0.001, 'reg__fit_intercept': 0.5, 'rep__n_components': 3}, {'reg__alpha': 0.001, 'rep__n_components': 3}]\n",
            "mae: 57.59020374206301\n",
            "Fitting 5 folds for each of 216 candidates, totalling 1080 fits\n"
          ],
          "name": "stdout"
        },
        {
          "output_type": "stream",
          "text": [
            "[Parallel(n_jobs=5)]: Done   8 tasks      | elapsed:    0.1s\n",
            "[Parallel(n_jobs=5)]: Batch computation too fast (0.0694s.) Setting batch_size=4.\n",
            "[Parallel(n_jobs=5)]: Done  20 tasks      | elapsed:    0.1s\n",
            "[Parallel(n_jobs=5)]: Batch computation too fast (0.0898s.) Setting batch_size=8.\n",
            "[Parallel(n_jobs=5)]: Done  38 tasks      | elapsed:    0.3s\n",
            "[Parallel(n_jobs=5)]: Done  78 tasks      | elapsed:    0.4s\n",
            "[Parallel(n_jobs=5)]: Batch computation too fast (0.1044s.) Setting batch_size=16.\n",
            "[Parallel(n_jobs=5)]: Done 150 tasks      | elapsed:    0.7s\n",
            "[Parallel(n_jobs=5)]: Done 326 tasks      | elapsed:    1.2s\n",
            "[Parallel(n_jobs=5)]: Done 502 tasks      | elapsed:    1.9s\n",
            "[Parallel(n_jobs=5)]: Done 710 tasks      | elapsed:    2.4s\n",
            "[Parallel(n_jobs=5)]: Done 918 tasks      | elapsed:    3.2s\n",
            "[Parallel(n_jobs=5)]: Done 1023 tasks      | elapsed:    3.4s\n",
            "[Parallel(n_jobs=5)]: Done 1053 tasks      | elapsed:    3.4s\n",
            "[Parallel(n_jobs=5)]: Done 1070 tasks      | elapsed:    3.5s\n",
            "[Parallel(n_jobs=5)]: Done 1080 out of 1080 | elapsed:    3.5s finished\n",
            "[Parallel(n_jobs=5)]: Using backend LokyBackend with 5 concurrent workers.\n",
            "[Parallel(n_jobs=5)]: Batch computation too fast (0.0132s.) Setting batch_size=2.\n",
            "[Parallel(n_jobs=5)]: Done   3 tasks      | elapsed:    0.0s\n",
            "[Parallel(n_jobs=5)]: Done   8 tasks      | elapsed:    0.1s\n",
            "[Parallel(n_jobs=5)]: Batch computation too fast (0.0422s.) Setting batch_size=4.\n"
          ],
          "name": "stderr"
        },
        {
          "output_type": "stream",
          "text": [
            "it 8/10-Modelo 3/5\n",
            "[{'reg__fit_intercept': 0.5, 'rep__n_components': 2}, {'reg__alpha': 0.001, 'reg__fit_intercept': 0.5, 'rep__n_components': 2}, {'reg__alpha': 0.001, 'rep__n_components': 2}, {'reg__alpha': 0.001, 'reg__l1_ratio': 0.5, 'rep__n_components': 3}, {'reg__alpha': 0.001, 'reg__gamma': 0.1, 'rep__n_components': 2}, {'reg__fit_intercept': 0.5, 'rep__n_components': 3}, {'reg__alpha': 0.001, 'reg__fit_intercept': 0.5, 'rep__n_components': 3}, {'reg__alpha': 0.001, 'rep__n_components': 3}, {'reg__alpha': 0.001, 'reg__l1_ratio': 0.5, 'rep__n_components': 3}, {'reg__alpha': 0.001, 'reg__gamma': 0.1, 'rep__n_components': 0.5}, {'reg__fit_intercept': 0.5, 'rep__n_components': 3}, {'reg__alpha': 0.001, 'reg__fit_intercept': 0.5, 'rep__n_components': 3}, {'reg__alpha': 0.001, 'rep__n_components': 3}, {'reg__alpha': 0.001, 'reg__l1_ratio': 0.5, 'rep__n_components': 3}, {'reg__alpha': 0.001, 'reg__gamma': 0.1, 'rep__n_components': 3}, {'reg__fit_intercept': 0.5, 'rep__n_components': 3}, {'reg__alpha': 0.001, 'reg__fit_intercept': 0.5, 'rep__n_components': 3}, {'reg__alpha': 0.001, 'rep__n_components': 3}, {'reg__alpha': 0.001, 'reg__l1_ratio': 0.5, 'rep__n_components': 3}, {'reg__alpha': 0.001, 'reg__gamma': 0.1, 'rep__n_components': 0.5}, {'reg__fit_intercept': 0.5, 'rep__n_components': 3}, {'reg__alpha': 0.001, 'reg__fit_intercept': 0.5, 'rep__n_components': 3}, {'reg__alpha': 0.001, 'rep__n_components': 3}, {'reg__alpha': 0.001, 'reg__l1_ratio': 0.5, 'rep__n_components': 3}, {'reg__alpha': 0.001, 'reg__gamma': 0.1, 'rep__n_components': 2}, {'reg__fit_intercept': 0.5, 'rep__n_components': 2}, {'reg__alpha': 0.001, 'reg__fit_intercept': 0.5, 'rep__n_components': 2}, {'reg__alpha': 0.1, 'rep__n_components': 3}, {'reg__alpha': 0.001, 'reg__l1_ratio': 0.5, 'rep__n_components': 3}, {'reg__alpha': 0.001, 'reg__gamma': 0.01, 'rep__n_components': 2}, {'reg__fit_intercept': 0.5, 'rep__n_components': 3}, {'reg__alpha': 0.001, 'reg__fit_intercept': 0.5, 'rep__n_components': 3}, {'reg__alpha': 0.001, 'rep__n_components': 3}, {'reg__alpha': 0.001, 'reg__l1_ratio': 0.5, 'rep__n_components': 3}, {'reg__alpha': 0.001, 'reg__gamma': 0.1, 'rep__n_components': 2}, {'reg__fit_intercept': 0.5, 'rep__n_components': 3}, {'reg__alpha': 0.001, 'reg__fit_intercept': 0.5, 'rep__n_components': 3}, {'reg__alpha': 0.001, 'rep__n_components': 3}, {'reg__alpha': 0.001, 'reg__l1_ratio': 0.5, 'rep__n_components': 3}]\n",
            "mae: 54.213739211491784\n",
            "Fitting 5 folds for each of 216 candidates, totalling 1080 fits\n"
          ],
          "name": "stdout"
        },
        {
          "output_type": "stream",
          "text": [
            "[Parallel(n_jobs=5)]: Done  20 tasks      | elapsed:    0.1s\n",
            "[Parallel(n_jobs=5)]: Batch computation too fast (0.0581s.) Setting batch_size=8.\n",
            "[Parallel(n_jobs=5)]: Done  38 tasks      | elapsed:    0.2s\n",
            "[Parallel(n_jobs=5)]: Done  78 tasks      | elapsed:    0.3s\n",
            "[Parallel(n_jobs=5)]: Batch computation too fast (0.1176s.) Setting batch_size=16.\n",
            "[Parallel(n_jobs=5)]: Done 150 tasks      | elapsed:    0.8s\n",
            "[Parallel(n_jobs=5)]: Done 326 tasks      | elapsed:    1.3s\n",
            "[Parallel(n_jobs=5)]: Done 502 tasks      | elapsed:    2.0s\n",
            "[Parallel(n_jobs=5)]: Done 710 tasks      | elapsed:    2.6s\n",
            "[Parallel(n_jobs=5)]: Done 918 tasks      | elapsed:    3.3s\n",
            "[Parallel(n_jobs=5)]: Done 1008 tasks      | elapsed:    3.5s\n",
            "[Parallel(n_jobs=5)]: Done 1053 tasks      | elapsed:    3.5s\n",
            "[Parallel(n_jobs=5)]: Done 1070 tasks      | elapsed:    3.6s\n",
            "[Parallel(n_jobs=5)]: Done 1080 out of 1080 | elapsed:    3.6s finished\n"
          ],
          "name": "stderr"
        },
        {
          "output_type": "stream",
          "text": [
            "it 8/10-Modelo 4/5\n",
            "[{'reg__fit_intercept': 0.5, 'rep__n_components': 2}, {'reg__alpha': 0.001, 'reg__fit_intercept': 0.5, 'rep__n_components': 2}, {'reg__alpha': 0.001, 'rep__n_components': 2}, {'reg__alpha': 0.001, 'reg__l1_ratio': 0.5, 'rep__n_components': 3}, {'reg__alpha': 0.001, 'reg__gamma': 0.1, 'rep__n_components': 2}, {'reg__fit_intercept': 0.5, 'rep__n_components': 3}, {'reg__alpha': 0.001, 'reg__fit_intercept': 0.5, 'rep__n_components': 3}, {'reg__alpha': 0.001, 'rep__n_components': 3}, {'reg__alpha': 0.001, 'reg__l1_ratio': 0.5, 'rep__n_components': 3}, {'reg__alpha': 0.001, 'reg__gamma': 0.1, 'rep__n_components': 0.5}, {'reg__fit_intercept': 0.5, 'rep__n_components': 3}, {'reg__alpha': 0.001, 'reg__fit_intercept': 0.5, 'rep__n_components': 3}, {'reg__alpha': 0.001, 'rep__n_components': 3}, {'reg__alpha': 0.001, 'reg__l1_ratio': 0.5, 'rep__n_components': 3}, {'reg__alpha': 0.001, 'reg__gamma': 0.1, 'rep__n_components': 3}, {'reg__fit_intercept': 0.5, 'rep__n_components': 3}, {'reg__alpha': 0.001, 'reg__fit_intercept': 0.5, 'rep__n_components': 3}, {'reg__alpha': 0.001, 'rep__n_components': 3}, {'reg__alpha': 0.001, 'reg__l1_ratio': 0.5, 'rep__n_components': 3}, {'reg__alpha': 0.001, 'reg__gamma': 0.1, 'rep__n_components': 0.5}, {'reg__fit_intercept': 0.5, 'rep__n_components': 3}, {'reg__alpha': 0.001, 'reg__fit_intercept': 0.5, 'rep__n_components': 3}, {'reg__alpha': 0.001, 'rep__n_components': 3}, {'reg__alpha': 0.001, 'reg__l1_ratio': 0.5, 'rep__n_components': 3}, {'reg__alpha': 0.001, 'reg__gamma': 0.1, 'rep__n_components': 2}, {'reg__fit_intercept': 0.5, 'rep__n_components': 2}, {'reg__alpha': 0.001, 'reg__fit_intercept': 0.5, 'rep__n_components': 2}, {'reg__alpha': 0.1, 'rep__n_components': 3}, {'reg__alpha': 0.001, 'reg__l1_ratio': 0.5, 'rep__n_components': 3}, {'reg__alpha': 0.001, 'reg__gamma': 0.01, 'rep__n_components': 2}, {'reg__fit_intercept': 0.5, 'rep__n_components': 3}, {'reg__alpha': 0.001, 'reg__fit_intercept': 0.5, 'rep__n_components': 3}, {'reg__alpha': 0.001, 'rep__n_components': 3}, {'reg__alpha': 0.001, 'reg__l1_ratio': 0.5, 'rep__n_components': 3}, {'reg__alpha': 0.001, 'reg__gamma': 0.1, 'rep__n_components': 2}, {'reg__fit_intercept': 0.5, 'rep__n_components': 3}, {'reg__alpha': 0.001, 'reg__fit_intercept': 0.5, 'rep__n_components': 3}, {'reg__alpha': 0.001, 'rep__n_components': 3}, {'reg__alpha': 0.001, 'reg__l1_ratio': 0.5, 'rep__n_components': 3}, {'reg__alpha': 0.001, 'reg__gamma': 0.01, 'rep__n_components': 3}]\n",
            "mae: 50.66649037219273\n",
            "it 9/10\n",
            "Fitting 5 folds for each of 36 candidates, totalling 180 fits\n"
          ],
          "name": "stdout"
        },
        {
          "output_type": "stream",
          "text": [
            "[Parallel(n_jobs=5)]: Using backend LokyBackend with 5 concurrent workers.\n",
            "[Parallel(n_jobs=5)]: Batch computation too fast (0.0103s.) Setting batch_size=2.\n",
            "[Parallel(n_jobs=5)]: Batch computation too fast (0.0103s.) Setting batch_size=4.\n",
            "[Parallel(n_jobs=5)]: Done   2 tasks      | elapsed:    0.0s\n",
            "[Parallel(n_jobs=5)]: Done   6 tasks      | elapsed:    0.1s\n",
            "[Parallel(n_jobs=5)]: Done  14 tasks      | elapsed:    0.1s\n",
            "[Parallel(n_jobs=5)]: Batch computation too fast (0.0550s.) Setting batch_size=8.\n",
            "[Parallel(n_jobs=5)]: Done  42 tasks      | elapsed:    0.2s\n",
            "[Parallel(n_jobs=5)]: Batch computation too fast (0.0948s.) Setting batch_size=16.\n",
            "[Parallel(n_jobs=5)]: Done  90 tasks      | elapsed:    0.4s\n",
            "[Parallel(n_jobs=5)]: Done 134 tasks      | elapsed:    0.5s\n",
            "[Parallel(n_jobs=5)]: Done 143 tasks      | elapsed:    0.5s\n",
            "[Parallel(n_jobs=5)]: Done 154 tasks      | elapsed:    0.5s\n",
            "[Parallel(n_jobs=5)]: Done 165 tasks      | elapsed:    0.6s\n",
            "[Parallel(n_jobs=5)]: Done 180 out of 180 | elapsed:    0.6s finished\n"
          ],
          "name": "stderr"
        },
        {
          "output_type": "stream",
          "text": [
            "it 9/10-Modelo 0/5\n",
            "[{'reg__fit_intercept': 0.5, 'rep__n_components': 2}, {'reg__alpha': 0.001, 'reg__fit_intercept': 0.5, 'rep__n_components': 2}, {'reg__alpha': 0.001, 'rep__n_components': 2}, {'reg__alpha': 0.001, 'reg__l1_ratio': 0.5, 'rep__n_components': 3}, {'reg__alpha': 0.001, 'reg__gamma': 0.1, 'rep__n_components': 2}, {'reg__fit_intercept': 0.5, 'rep__n_components': 3}, {'reg__alpha': 0.001, 'reg__fit_intercept': 0.5, 'rep__n_components': 3}, {'reg__alpha': 0.001, 'rep__n_components': 3}, {'reg__alpha': 0.001, 'reg__l1_ratio': 0.5, 'rep__n_components': 3}, {'reg__alpha': 0.001, 'reg__gamma': 0.1, 'rep__n_components': 0.5}, {'reg__fit_intercept': 0.5, 'rep__n_components': 3}, {'reg__alpha': 0.001, 'reg__fit_intercept': 0.5, 'rep__n_components': 3}, {'reg__alpha': 0.001, 'rep__n_components': 3}, {'reg__alpha': 0.001, 'reg__l1_ratio': 0.5, 'rep__n_components': 3}, {'reg__alpha': 0.001, 'reg__gamma': 0.1, 'rep__n_components': 3}, {'reg__fit_intercept': 0.5, 'rep__n_components': 3}, {'reg__alpha': 0.001, 'reg__fit_intercept': 0.5, 'rep__n_components': 3}, {'reg__alpha': 0.001, 'rep__n_components': 3}, {'reg__alpha': 0.001, 'reg__l1_ratio': 0.5, 'rep__n_components': 3}, {'reg__alpha': 0.001, 'reg__gamma': 0.1, 'rep__n_components': 0.5}, {'reg__fit_intercept': 0.5, 'rep__n_components': 3}, {'reg__alpha': 0.001, 'reg__fit_intercept': 0.5, 'rep__n_components': 3}, {'reg__alpha': 0.001, 'rep__n_components': 3}, {'reg__alpha': 0.001, 'reg__l1_ratio': 0.5, 'rep__n_components': 3}, {'reg__alpha': 0.001, 'reg__gamma': 0.1, 'rep__n_components': 2}, {'reg__fit_intercept': 0.5, 'rep__n_components': 2}, {'reg__alpha': 0.001, 'reg__fit_intercept': 0.5, 'rep__n_components': 2}, {'reg__alpha': 0.1, 'rep__n_components': 3}, {'reg__alpha': 0.001, 'reg__l1_ratio': 0.5, 'rep__n_components': 3}, {'reg__alpha': 0.001, 'reg__gamma': 0.01, 'rep__n_components': 2}, {'reg__fit_intercept': 0.5, 'rep__n_components': 3}, {'reg__alpha': 0.001, 'reg__fit_intercept': 0.5, 'rep__n_components': 3}, {'reg__alpha': 0.001, 'rep__n_components': 3}, {'reg__alpha': 0.001, 'reg__l1_ratio': 0.5, 'rep__n_components': 3}, {'reg__alpha': 0.001, 'reg__gamma': 0.1, 'rep__n_components': 2}, {'reg__fit_intercept': 0.5, 'rep__n_components': 3}, {'reg__alpha': 0.001, 'reg__fit_intercept': 0.5, 'rep__n_components': 3}, {'reg__alpha': 0.001, 'rep__n_components': 3}, {'reg__alpha': 0.001, 'reg__l1_ratio': 0.5, 'rep__n_components': 3}, {'reg__alpha': 0.001, 'reg__gamma': 0.01, 'rep__n_components': 3}, {'reg__fit_intercept': 0.5, 'rep__n_components': 3}]\n",
            "mae: 60.82756751296143\n",
            "Fitting 5 folds for each of 216 candidates, totalling 1080 fits\n"
          ],
          "name": "stdout"
        },
        {
          "output_type": "stream",
          "text": [
            "[Parallel(n_jobs=5)]: Using backend LokyBackend with 5 concurrent workers.\n",
            "[Parallel(n_jobs=5)]: Batch computation too fast (0.0121s.) Setting batch_size=2.\n",
            "[Parallel(n_jobs=5)]: Done   3 tasks      | elapsed:    0.0s\n",
            "[Parallel(n_jobs=5)]: Done   8 tasks      | elapsed:    0.0s\n",
            "[Parallel(n_jobs=5)]: Batch computation too fast (0.0495s.) Setting batch_size=4.\n",
            "[Parallel(n_jobs=5)]: Done  20 tasks      | elapsed:    0.1s\n",
            "[Parallel(n_jobs=5)]: Batch computation too fast (0.0729s.) Setting batch_size=8.\n",
            "[Parallel(n_jobs=5)]: Done  38 tasks      | elapsed:    0.2s\n",
            "[Parallel(n_jobs=5)]: Done  78 tasks      | elapsed:    0.4s\n",
            "[Parallel(n_jobs=5)]: Batch computation too fast (0.1058s.) Setting batch_size=16.\n",
            "[Parallel(n_jobs=5)]: Done 150 tasks      | elapsed:    0.7s\n",
            "[Parallel(n_jobs=5)]: Done 326 tasks      | elapsed:    1.2s\n",
            "[Parallel(n_jobs=5)]: Done 502 tasks      | elapsed:    1.8s\n",
            "[Parallel(n_jobs=5)]: Done 710 tasks      | elapsed:    2.3s\n",
            "[Parallel(n_jobs=5)]: Done 918 tasks      | elapsed:    2.9s\n",
            "[Parallel(n_jobs=5)]: Done 1008 tasks      | elapsed:    3.0s\n",
            "[Parallel(n_jobs=5)]: Done 1053 tasks      | elapsed:    3.1s\n",
            "[Parallel(n_jobs=5)]: Done 1070 tasks      | elapsed:    3.1s\n",
            "[Parallel(n_jobs=5)]: Done 1080 out of 1080 | elapsed:    3.2s finished\n",
            "[Parallel(n_jobs=5)]: Using backend LokyBackend with 5 concurrent workers.\n",
            "[Parallel(n_jobs=5)]: Batch computation too fast (0.0101s.) Setting batch_size=2.\n",
            "[Parallel(n_jobs=5)]: Done   3 tasks      | elapsed:    0.0s\n",
            "[Parallel(n_jobs=5)]: Done   8 tasks      | elapsed:    0.0s\n",
            "[Parallel(n_jobs=5)]: Batch computation too fast (0.0546s.) Setting batch_size=4.\n",
            "[Parallel(n_jobs=5)]: Done  20 tasks      | elapsed:    0.1s\n"
          ],
          "name": "stderr"
        },
        {
          "output_type": "stream",
          "text": [
            "it 9/10-Modelo 1/5\n",
            "[{'reg__fit_intercept': 0.5, 'rep__n_components': 2}, {'reg__alpha': 0.001, 'reg__fit_intercept': 0.5, 'rep__n_components': 2}, {'reg__alpha': 0.001, 'rep__n_components': 2}, {'reg__alpha': 0.001, 'reg__l1_ratio': 0.5, 'rep__n_components': 3}, {'reg__alpha': 0.001, 'reg__gamma': 0.1, 'rep__n_components': 2}, {'reg__fit_intercept': 0.5, 'rep__n_components': 3}, {'reg__alpha': 0.001, 'reg__fit_intercept': 0.5, 'rep__n_components': 3}, {'reg__alpha': 0.001, 'rep__n_components': 3}, {'reg__alpha': 0.001, 'reg__l1_ratio': 0.5, 'rep__n_components': 3}, {'reg__alpha': 0.001, 'reg__gamma': 0.1, 'rep__n_components': 0.5}, {'reg__fit_intercept': 0.5, 'rep__n_components': 3}, {'reg__alpha': 0.001, 'reg__fit_intercept': 0.5, 'rep__n_components': 3}, {'reg__alpha': 0.001, 'rep__n_components': 3}, {'reg__alpha': 0.001, 'reg__l1_ratio': 0.5, 'rep__n_components': 3}, {'reg__alpha': 0.001, 'reg__gamma': 0.1, 'rep__n_components': 3}, {'reg__fit_intercept': 0.5, 'rep__n_components': 3}, {'reg__alpha': 0.001, 'reg__fit_intercept': 0.5, 'rep__n_components': 3}, {'reg__alpha': 0.001, 'rep__n_components': 3}, {'reg__alpha': 0.001, 'reg__l1_ratio': 0.5, 'rep__n_components': 3}, {'reg__alpha': 0.001, 'reg__gamma': 0.1, 'rep__n_components': 0.5}, {'reg__fit_intercept': 0.5, 'rep__n_components': 3}, {'reg__alpha': 0.001, 'reg__fit_intercept': 0.5, 'rep__n_components': 3}, {'reg__alpha': 0.001, 'rep__n_components': 3}, {'reg__alpha': 0.001, 'reg__l1_ratio': 0.5, 'rep__n_components': 3}, {'reg__alpha': 0.001, 'reg__gamma': 0.1, 'rep__n_components': 2}, {'reg__fit_intercept': 0.5, 'rep__n_components': 2}, {'reg__alpha': 0.001, 'reg__fit_intercept': 0.5, 'rep__n_components': 2}, {'reg__alpha': 0.1, 'rep__n_components': 3}, {'reg__alpha': 0.001, 'reg__l1_ratio': 0.5, 'rep__n_components': 3}, {'reg__alpha': 0.001, 'reg__gamma': 0.01, 'rep__n_components': 2}, {'reg__fit_intercept': 0.5, 'rep__n_components': 3}, {'reg__alpha': 0.001, 'reg__fit_intercept': 0.5, 'rep__n_components': 3}, {'reg__alpha': 0.001, 'rep__n_components': 3}, {'reg__alpha': 0.001, 'reg__l1_ratio': 0.5, 'rep__n_components': 3}, {'reg__alpha': 0.001, 'reg__gamma': 0.1, 'rep__n_components': 2}, {'reg__fit_intercept': 0.5, 'rep__n_components': 3}, {'reg__alpha': 0.001, 'reg__fit_intercept': 0.5, 'rep__n_components': 3}, {'reg__alpha': 0.001, 'rep__n_components': 3}, {'reg__alpha': 0.001, 'reg__l1_ratio': 0.5, 'rep__n_components': 3}, {'reg__alpha': 0.001, 'reg__gamma': 0.01, 'rep__n_components': 3}, {'reg__fit_intercept': 0.5, 'rep__n_components': 3}, {'reg__alpha': 0.001, 'reg__fit_intercept': 0.5, 'rep__n_components': 3}]\n",
            "mae: 60.890121594868056\n",
            "Fitting 5 folds for each of 36 candidates, totalling 180 fits\n"
          ],
          "name": "stdout"
        },
        {
          "output_type": "stream",
          "text": [
            "[Parallel(n_jobs=5)]: Batch computation too fast (0.0629s.) Setting batch_size=8.\n",
            "[Parallel(n_jobs=5)]: Done  38 tasks      | elapsed:    0.2s\n",
            "[Parallel(n_jobs=5)]: Done  78 tasks      | elapsed:    0.4s\n",
            "[Parallel(n_jobs=5)]: Batch computation too fast (0.1195s.) Setting batch_size=16.\n",
            "[Parallel(n_jobs=5)]: Done 129 tasks      | elapsed:    0.5s\n",
            "[Parallel(n_jobs=5)]: Done 161 tasks      | elapsed:    0.6s\n",
            "[Parallel(n_jobs=5)]: Done 180 out of 180 | elapsed:    0.6s finished\n",
            "[Parallel(n_jobs=5)]: Using backend LokyBackend with 5 concurrent workers.\n",
            "[Parallel(n_jobs=5)]: Batch computation too fast (0.0106s.) Setting batch_size=2.\n",
            "[Parallel(n_jobs=5)]: Done   3 tasks      | elapsed:    0.0s\n"
          ],
          "name": "stderr"
        },
        {
          "output_type": "stream",
          "text": [
            "it 9/10-Modelo 2/5\n",
            "[{'reg__fit_intercept': 0.5, 'rep__n_components': 2}, {'reg__alpha': 0.001, 'reg__fit_intercept': 0.5, 'rep__n_components': 2}, {'reg__alpha': 0.001, 'rep__n_components': 2}, {'reg__alpha': 0.001, 'reg__l1_ratio': 0.5, 'rep__n_components': 3}, {'reg__alpha': 0.001, 'reg__gamma': 0.1, 'rep__n_components': 2}, {'reg__fit_intercept': 0.5, 'rep__n_components': 3}, {'reg__alpha': 0.001, 'reg__fit_intercept': 0.5, 'rep__n_components': 3}, {'reg__alpha': 0.001, 'rep__n_components': 3}, {'reg__alpha': 0.001, 'reg__l1_ratio': 0.5, 'rep__n_components': 3}, {'reg__alpha': 0.001, 'reg__gamma': 0.1, 'rep__n_components': 0.5}, {'reg__fit_intercept': 0.5, 'rep__n_components': 3}, {'reg__alpha': 0.001, 'reg__fit_intercept': 0.5, 'rep__n_components': 3}, {'reg__alpha': 0.001, 'rep__n_components': 3}, {'reg__alpha': 0.001, 'reg__l1_ratio': 0.5, 'rep__n_components': 3}, {'reg__alpha': 0.001, 'reg__gamma': 0.1, 'rep__n_components': 3}, {'reg__fit_intercept': 0.5, 'rep__n_components': 3}, {'reg__alpha': 0.001, 'reg__fit_intercept': 0.5, 'rep__n_components': 3}, {'reg__alpha': 0.001, 'rep__n_components': 3}, {'reg__alpha': 0.001, 'reg__l1_ratio': 0.5, 'rep__n_components': 3}, {'reg__alpha': 0.001, 'reg__gamma': 0.1, 'rep__n_components': 0.5}, {'reg__fit_intercept': 0.5, 'rep__n_components': 3}, {'reg__alpha': 0.001, 'reg__fit_intercept': 0.5, 'rep__n_components': 3}, {'reg__alpha': 0.001, 'rep__n_components': 3}, {'reg__alpha': 0.001, 'reg__l1_ratio': 0.5, 'rep__n_components': 3}, {'reg__alpha': 0.001, 'reg__gamma': 0.1, 'rep__n_components': 2}, {'reg__fit_intercept': 0.5, 'rep__n_components': 2}, {'reg__alpha': 0.001, 'reg__fit_intercept': 0.5, 'rep__n_components': 2}, {'reg__alpha': 0.1, 'rep__n_components': 3}, {'reg__alpha': 0.001, 'reg__l1_ratio': 0.5, 'rep__n_components': 3}, {'reg__alpha': 0.001, 'reg__gamma': 0.01, 'rep__n_components': 2}, {'reg__fit_intercept': 0.5, 'rep__n_components': 3}, {'reg__alpha': 0.001, 'reg__fit_intercept': 0.5, 'rep__n_components': 3}, {'reg__alpha': 0.001, 'rep__n_components': 3}, {'reg__alpha': 0.001, 'reg__l1_ratio': 0.5, 'rep__n_components': 3}, {'reg__alpha': 0.001, 'reg__gamma': 0.1, 'rep__n_components': 2}, {'reg__fit_intercept': 0.5, 'rep__n_components': 3}, {'reg__alpha': 0.001, 'reg__fit_intercept': 0.5, 'rep__n_components': 3}, {'reg__alpha': 0.001, 'rep__n_components': 3}, {'reg__alpha': 0.001, 'reg__l1_ratio': 0.5, 'rep__n_components': 3}, {'reg__alpha': 0.001, 'reg__gamma': 0.01, 'rep__n_components': 3}, {'reg__fit_intercept': 0.5, 'rep__n_components': 3}, {'reg__alpha': 0.001, 'reg__fit_intercept': 0.5, 'rep__n_components': 3}, {'reg__alpha': 0.001, 'rep__n_components': 3}]\n",
            "mae: 60.83114002789935\n",
            "Fitting 5 folds for each of 216 candidates, totalling 1080 fits\n"
          ],
          "name": "stdout"
        },
        {
          "output_type": "stream",
          "text": [
            "[Parallel(n_jobs=5)]: Done   8 tasks      | elapsed:    0.1s\n",
            "[Parallel(n_jobs=5)]: Batch computation too fast (0.0355s.) Setting batch_size=4.\n",
            "[Parallel(n_jobs=5)]: Done  20 tasks      | elapsed:    0.1s\n",
            "[Parallel(n_jobs=5)]: Batch computation too fast (0.0883s.) Setting batch_size=8.\n",
            "[Parallel(n_jobs=5)]: Done  38 tasks      | elapsed:    0.2s\n",
            "[Parallel(n_jobs=5)]: Done  78 tasks      | elapsed:    0.4s\n",
            "[Parallel(n_jobs=5)]: Batch computation too fast (0.1521s.) Setting batch_size=16.\n",
            "[Parallel(n_jobs=5)]: Done 150 tasks      | elapsed:    0.7s\n",
            "[Parallel(n_jobs=5)]: Batch computation too fast (0.1800s.) Setting batch_size=32.\n",
            "[Parallel(n_jobs=5)]: Done 342 tasks      | elapsed:    1.3s\n",
            "[Parallel(n_jobs=5)]: Done 694 tasks      | elapsed:    2.7s\n",
            "[Parallel(n_jobs=5)]: Done 900 tasks      | elapsed:    3.0s\n",
            "[Parallel(n_jobs=5)]: Done 956 tasks      | elapsed:    3.1s\n",
            "[Parallel(n_jobs=5)]: Done 1016 tasks      | elapsed:    3.2s\n",
            "[Parallel(n_jobs=5)]: Done 1046 tasks      | elapsed:    3.3s\n",
            "[Parallel(n_jobs=5)]: Done 1080 out of 1080 | elapsed:    3.4s finished\n",
            "[Parallel(n_jobs=5)]: Using backend LokyBackend with 5 concurrent workers.\n",
            "[Parallel(n_jobs=5)]: Batch computation too fast (0.0154s.) Setting batch_size=2.\n",
            "[Parallel(n_jobs=5)]: Done   3 tasks      | elapsed:    0.0s\n",
            "[Parallel(n_jobs=5)]: Done   8 tasks      | elapsed:    0.0s\n",
            "[Parallel(n_jobs=5)]: Batch computation too fast (0.0534s.) Setting batch_size=4.\n",
            "[Parallel(n_jobs=5)]: Done  20 tasks      | elapsed:    0.1s\n"
          ],
          "name": "stderr"
        },
        {
          "output_type": "stream",
          "text": [
            "it 9/10-Modelo 3/5\n",
            "[{'reg__fit_intercept': 0.5, 'rep__n_components': 2}, {'reg__alpha': 0.001, 'reg__fit_intercept': 0.5, 'rep__n_components': 2}, {'reg__alpha': 0.001, 'rep__n_components': 2}, {'reg__alpha': 0.001, 'reg__l1_ratio': 0.5, 'rep__n_components': 3}, {'reg__alpha': 0.001, 'reg__gamma': 0.1, 'rep__n_components': 2}, {'reg__fit_intercept': 0.5, 'rep__n_components': 3}, {'reg__alpha': 0.001, 'reg__fit_intercept': 0.5, 'rep__n_components': 3}, {'reg__alpha': 0.001, 'rep__n_components': 3}, {'reg__alpha': 0.001, 'reg__l1_ratio': 0.5, 'rep__n_components': 3}, {'reg__alpha': 0.001, 'reg__gamma': 0.1, 'rep__n_components': 0.5}, {'reg__fit_intercept': 0.5, 'rep__n_components': 3}, {'reg__alpha': 0.001, 'reg__fit_intercept': 0.5, 'rep__n_components': 3}, {'reg__alpha': 0.001, 'rep__n_components': 3}, {'reg__alpha': 0.001, 'reg__l1_ratio': 0.5, 'rep__n_components': 3}, {'reg__alpha': 0.001, 'reg__gamma': 0.1, 'rep__n_components': 3}, {'reg__fit_intercept': 0.5, 'rep__n_components': 3}, {'reg__alpha': 0.001, 'reg__fit_intercept': 0.5, 'rep__n_components': 3}, {'reg__alpha': 0.001, 'rep__n_components': 3}, {'reg__alpha': 0.001, 'reg__l1_ratio': 0.5, 'rep__n_components': 3}, {'reg__alpha': 0.001, 'reg__gamma': 0.1, 'rep__n_components': 0.5}, {'reg__fit_intercept': 0.5, 'rep__n_components': 3}, {'reg__alpha': 0.001, 'reg__fit_intercept': 0.5, 'rep__n_components': 3}, {'reg__alpha': 0.001, 'rep__n_components': 3}, {'reg__alpha': 0.001, 'reg__l1_ratio': 0.5, 'rep__n_components': 3}, {'reg__alpha': 0.001, 'reg__gamma': 0.1, 'rep__n_components': 2}, {'reg__fit_intercept': 0.5, 'rep__n_components': 2}, {'reg__alpha': 0.001, 'reg__fit_intercept': 0.5, 'rep__n_components': 2}, {'reg__alpha': 0.1, 'rep__n_components': 3}, {'reg__alpha': 0.001, 'reg__l1_ratio': 0.5, 'rep__n_components': 3}, {'reg__alpha': 0.001, 'reg__gamma': 0.01, 'rep__n_components': 2}, {'reg__fit_intercept': 0.5, 'rep__n_components': 3}, {'reg__alpha': 0.001, 'reg__fit_intercept': 0.5, 'rep__n_components': 3}, {'reg__alpha': 0.001, 'rep__n_components': 3}, {'reg__alpha': 0.001, 'reg__l1_ratio': 0.5, 'rep__n_components': 3}, {'reg__alpha': 0.001, 'reg__gamma': 0.1, 'rep__n_components': 2}, {'reg__fit_intercept': 0.5, 'rep__n_components': 3}, {'reg__alpha': 0.001, 'reg__fit_intercept': 0.5, 'rep__n_components': 3}, {'reg__alpha': 0.001, 'rep__n_components': 3}, {'reg__alpha': 0.001, 'reg__l1_ratio': 0.5, 'rep__n_components': 3}, {'reg__alpha': 0.001, 'reg__gamma': 0.01, 'rep__n_components': 3}, {'reg__fit_intercept': 0.5, 'rep__n_components': 3}, {'reg__alpha': 0.001, 'reg__fit_intercept': 0.5, 'rep__n_components': 3}, {'reg__alpha': 0.001, 'rep__n_components': 3}, {'reg__alpha': 0.001, 'reg__l1_ratio': 0.5, 'rep__n_components': 3}]\n",
            "mae: 63.0875208147485\n",
            "Fitting 5 folds for each of 216 candidates, totalling 1080 fits\n"
          ],
          "name": "stdout"
        },
        {
          "output_type": "stream",
          "text": [
            "[Parallel(n_jobs=5)]: Batch computation too fast (0.0813s.) Setting batch_size=8.\n",
            "[Parallel(n_jobs=5)]: Done  38 tasks      | elapsed:    0.2s\n",
            "[Parallel(n_jobs=5)]: Done  78 tasks      | elapsed:    0.3s\n",
            "[Parallel(n_jobs=5)]: Batch computation too fast (0.0984s.) Setting batch_size=16.\n",
            "[Parallel(n_jobs=5)]: Done 158 tasks      | elapsed:    0.6s\n",
            "[Parallel(n_jobs=5)]: Batch computation too fast (0.1502s.) Setting batch_size=32.\n",
            "[Parallel(n_jobs=5)]: Done 342 tasks      | elapsed:    1.3s\n",
            "[Parallel(n_jobs=5)]: Done 694 tasks      | elapsed:    2.7s\n",
            "[Parallel(n_jobs=5)]: Done 900 tasks      | elapsed:    3.0s\n",
            "[Parallel(n_jobs=5)]: Done 926 tasks      | elapsed:    3.1s\n",
            "[Parallel(n_jobs=5)]: Done 1016 tasks      | elapsed:    3.2s\n",
            "[Parallel(n_jobs=5)]: Done 1046 tasks      | elapsed:    3.3s\n",
            "[Parallel(n_jobs=5)]: Done 1080 out of 1080 | elapsed:    3.4s finished\n"
          ],
          "name": "stderr"
        },
        {
          "output_type": "stream",
          "text": [
            "it 9/10-Modelo 4/5\n",
            "[{'reg__fit_intercept': 0.5, 'rep__n_components': 2}, {'reg__alpha': 0.001, 'reg__fit_intercept': 0.5, 'rep__n_components': 2}, {'reg__alpha': 0.001, 'rep__n_components': 2}, {'reg__alpha': 0.001, 'reg__l1_ratio': 0.5, 'rep__n_components': 3}, {'reg__alpha': 0.001, 'reg__gamma': 0.1, 'rep__n_components': 2}, {'reg__fit_intercept': 0.5, 'rep__n_components': 3}, {'reg__alpha': 0.001, 'reg__fit_intercept': 0.5, 'rep__n_components': 3}, {'reg__alpha': 0.001, 'rep__n_components': 3}, {'reg__alpha': 0.001, 'reg__l1_ratio': 0.5, 'rep__n_components': 3}, {'reg__alpha': 0.001, 'reg__gamma': 0.1, 'rep__n_components': 0.5}, {'reg__fit_intercept': 0.5, 'rep__n_components': 3}, {'reg__alpha': 0.001, 'reg__fit_intercept': 0.5, 'rep__n_components': 3}, {'reg__alpha': 0.001, 'rep__n_components': 3}, {'reg__alpha': 0.001, 'reg__l1_ratio': 0.5, 'rep__n_components': 3}, {'reg__alpha': 0.001, 'reg__gamma': 0.1, 'rep__n_components': 3}, {'reg__fit_intercept': 0.5, 'rep__n_components': 3}, {'reg__alpha': 0.001, 'reg__fit_intercept': 0.5, 'rep__n_components': 3}, {'reg__alpha': 0.001, 'rep__n_components': 3}, {'reg__alpha': 0.001, 'reg__l1_ratio': 0.5, 'rep__n_components': 3}, {'reg__alpha': 0.001, 'reg__gamma': 0.1, 'rep__n_components': 0.5}, {'reg__fit_intercept': 0.5, 'rep__n_components': 3}, {'reg__alpha': 0.001, 'reg__fit_intercept': 0.5, 'rep__n_components': 3}, {'reg__alpha': 0.001, 'rep__n_components': 3}, {'reg__alpha': 0.001, 'reg__l1_ratio': 0.5, 'rep__n_components': 3}, {'reg__alpha': 0.001, 'reg__gamma': 0.1, 'rep__n_components': 2}, {'reg__fit_intercept': 0.5, 'rep__n_components': 2}, {'reg__alpha': 0.001, 'reg__fit_intercept': 0.5, 'rep__n_components': 2}, {'reg__alpha': 0.1, 'rep__n_components': 3}, {'reg__alpha': 0.001, 'reg__l1_ratio': 0.5, 'rep__n_components': 3}, {'reg__alpha': 0.001, 'reg__gamma': 0.01, 'rep__n_components': 2}, {'reg__fit_intercept': 0.5, 'rep__n_components': 3}, {'reg__alpha': 0.001, 'reg__fit_intercept': 0.5, 'rep__n_components': 3}, {'reg__alpha': 0.001, 'rep__n_components': 3}, {'reg__alpha': 0.001, 'reg__l1_ratio': 0.5, 'rep__n_components': 3}, {'reg__alpha': 0.001, 'reg__gamma': 0.1, 'rep__n_components': 2}, {'reg__fit_intercept': 0.5, 'rep__n_components': 3}, {'reg__alpha': 0.001, 'reg__fit_intercept': 0.5, 'rep__n_components': 3}, {'reg__alpha': 0.001, 'rep__n_components': 3}, {'reg__alpha': 0.001, 'reg__l1_ratio': 0.5, 'rep__n_components': 3}, {'reg__alpha': 0.001, 'reg__gamma': 0.01, 'rep__n_components': 3}, {'reg__fit_intercept': 0.5, 'rep__n_components': 3}, {'reg__alpha': 0.001, 'reg__fit_intercept': 0.5, 'rep__n_components': 3}, {'reg__alpha': 0.001, 'rep__n_components': 3}, {'reg__alpha': 0.001, 'reg__l1_ratio': 0.5, 'rep__n_components': 3}, {'reg__alpha': 0.001, 'reg__gamma': 0.01, 'rep__n_components': 2}]\n",
            "mae: 49.432865981460594\n",
            "it 10/10\n",
            "Fitting 5 folds for each of 36 candidates, totalling 180 fits\n"
          ],
          "name": "stdout"
        },
        {
          "output_type": "stream",
          "text": [
            "[Parallel(n_jobs=5)]: Using backend LokyBackend with 5 concurrent workers.\n",
            "[Parallel(n_jobs=5)]: Batch computation too fast (0.0211s.) Setting batch_size=2.\n",
            "[Parallel(n_jobs=5)]: Done   3 tasks      | elapsed:    0.0s\n",
            "[Parallel(n_jobs=5)]: Done   8 tasks      | elapsed:    0.1s\n",
            "[Parallel(n_jobs=5)]: Batch computation too fast (0.0434s.) Setting batch_size=4.\n",
            "[Parallel(n_jobs=5)]: Done  20 tasks      | elapsed:    0.1s\n",
            "[Parallel(n_jobs=5)]: Batch computation too fast (0.0762s.) Setting batch_size=8.\n",
            "[Parallel(n_jobs=5)]: Done  38 tasks      | elapsed:    0.2s\n",
            "[Parallel(n_jobs=5)]: Done  78 tasks      | elapsed:    0.3s\n",
            "[Parallel(n_jobs=5)]: Batch computation too fast (0.1194s.) Setting batch_size=16.\n",
            "[Parallel(n_jobs=5)]: Done 136 tasks      | elapsed:    0.5s\n",
            "[Parallel(n_jobs=5)]: Done 161 tasks      | elapsed:    0.5s\n",
            "[Parallel(n_jobs=5)]: Done 180 out of 180 | elapsed:    0.6s finished\n",
            "[Parallel(n_jobs=5)]: Using backend LokyBackend with 5 concurrent workers.\n",
            "[Parallel(n_jobs=5)]: Batch computation too fast (0.0213s.) Setting batch_size=2.\n",
            "[Parallel(n_jobs=5)]: Done   3 tasks      | elapsed:    0.0s\n",
            "[Parallel(n_jobs=5)]: Done   8 tasks      | elapsed:    0.1s\n",
            "[Parallel(n_jobs=5)]: Batch computation too fast (0.0304s.) Setting batch_size=4.\n"
          ],
          "name": "stderr"
        },
        {
          "output_type": "stream",
          "text": [
            "it 10/10-Modelo 0/5\n",
            "[{'reg__fit_intercept': 0.5, 'rep__n_components': 2}, {'reg__alpha': 0.001, 'reg__fit_intercept': 0.5, 'rep__n_components': 2}, {'reg__alpha': 0.001, 'rep__n_components': 2}, {'reg__alpha': 0.001, 'reg__l1_ratio': 0.5, 'rep__n_components': 3}, {'reg__alpha': 0.001, 'reg__gamma': 0.1, 'rep__n_components': 2}, {'reg__fit_intercept': 0.5, 'rep__n_components': 3}, {'reg__alpha': 0.001, 'reg__fit_intercept': 0.5, 'rep__n_components': 3}, {'reg__alpha': 0.001, 'rep__n_components': 3}, {'reg__alpha': 0.001, 'reg__l1_ratio': 0.5, 'rep__n_components': 3}, {'reg__alpha': 0.001, 'reg__gamma': 0.1, 'rep__n_components': 0.5}, {'reg__fit_intercept': 0.5, 'rep__n_components': 3}, {'reg__alpha': 0.001, 'reg__fit_intercept': 0.5, 'rep__n_components': 3}, {'reg__alpha': 0.001, 'rep__n_components': 3}, {'reg__alpha': 0.001, 'reg__l1_ratio': 0.5, 'rep__n_components': 3}, {'reg__alpha': 0.001, 'reg__gamma': 0.1, 'rep__n_components': 3}, {'reg__fit_intercept': 0.5, 'rep__n_components': 3}, {'reg__alpha': 0.001, 'reg__fit_intercept': 0.5, 'rep__n_components': 3}, {'reg__alpha': 0.001, 'rep__n_components': 3}, {'reg__alpha': 0.001, 'reg__l1_ratio': 0.5, 'rep__n_components': 3}, {'reg__alpha': 0.001, 'reg__gamma': 0.1, 'rep__n_components': 0.5}, {'reg__fit_intercept': 0.5, 'rep__n_components': 3}, {'reg__alpha': 0.001, 'reg__fit_intercept': 0.5, 'rep__n_components': 3}, {'reg__alpha': 0.001, 'rep__n_components': 3}, {'reg__alpha': 0.001, 'reg__l1_ratio': 0.5, 'rep__n_components': 3}, {'reg__alpha': 0.001, 'reg__gamma': 0.1, 'rep__n_components': 2}, {'reg__fit_intercept': 0.5, 'rep__n_components': 2}, {'reg__alpha': 0.001, 'reg__fit_intercept': 0.5, 'rep__n_components': 2}, {'reg__alpha': 0.1, 'rep__n_components': 3}, {'reg__alpha': 0.001, 'reg__l1_ratio': 0.5, 'rep__n_components': 3}, {'reg__alpha': 0.001, 'reg__gamma': 0.01, 'rep__n_components': 2}, {'reg__fit_intercept': 0.5, 'rep__n_components': 3}, {'reg__alpha': 0.001, 'reg__fit_intercept': 0.5, 'rep__n_components': 3}, {'reg__alpha': 0.001, 'rep__n_components': 3}, {'reg__alpha': 0.001, 'reg__l1_ratio': 0.5, 'rep__n_components': 3}, {'reg__alpha': 0.001, 'reg__gamma': 0.1, 'rep__n_components': 2}, {'reg__fit_intercept': 0.5, 'rep__n_components': 3}, {'reg__alpha': 0.001, 'reg__fit_intercept': 0.5, 'rep__n_components': 3}, {'reg__alpha': 0.001, 'rep__n_components': 3}, {'reg__alpha': 0.001, 'reg__l1_ratio': 0.5, 'rep__n_components': 3}, {'reg__alpha': 0.001, 'reg__gamma': 0.01, 'rep__n_components': 3}, {'reg__fit_intercept': 0.5, 'rep__n_components': 3}, {'reg__alpha': 0.001, 'reg__fit_intercept': 0.5, 'rep__n_components': 3}, {'reg__alpha': 0.001, 'rep__n_components': 3}, {'reg__alpha': 0.001, 'reg__l1_ratio': 0.5, 'rep__n_components': 3}, {'reg__alpha': 0.001, 'reg__gamma': 0.01, 'rep__n_components': 2}, {'reg__fit_intercept': 0.5, 'rep__n_components': 3}]\n",
            "mae: 46.84162152233576\n",
            "Fitting 5 folds for each of 216 candidates, totalling 1080 fits\n"
          ],
          "name": "stdout"
        },
        {
          "output_type": "stream",
          "text": [
            "[Parallel(n_jobs=5)]: Done  20 tasks      | elapsed:    0.1s\n",
            "[Parallel(n_jobs=5)]: Batch computation too fast (0.1051s.) Setting batch_size=8.\n",
            "[Parallel(n_jobs=5)]: Done  38 tasks      | elapsed:    0.2s\n",
            "[Parallel(n_jobs=5)]: Done  78 tasks      | elapsed:    0.3s\n",
            "[Parallel(n_jobs=5)]: Batch computation too fast (0.0854s.) Setting batch_size=16.\n",
            "[Parallel(n_jobs=5)]: Done 150 tasks      | elapsed:    0.7s\n",
            "[Parallel(n_jobs=5)]: Done 326 tasks      | elapsed:    1.1s\n",
            "[Parallel(n_jobs=5)]: Done 502 tasks      | elapsed:    1.9s\n",
            "[Parallel(n_jobs=5)]: Done 710 tasks      | elapsed:    2.3s\n",
            "[Parallel(n_jobs=5)]: Done 918 tasks      | elapsed:    2.9s\n",
            "[Parallel(n_jobs=5)]: Done 1023 tasks      | elapsed:    3.1s\n",
            "[Parallel(n_jobs=5)]: Done 1053 tasks      | elapsed:    3.2s\n",
            "[Parallel(n_jobs=5)]: Done 1070 tasks      | elapsed:    3.2s\n",
            "[Parallel(n_jobs=5)]: Done 1080 out of 1080 | elapsed:    3.2s finished\n",
            "[Parallel(n_jobs=5)]: Using backend LokyBackend with 5 concurrent workers.\n",
            "[Parallel(n_jobs=5)]: Batch computation too fast (0.0162s.) Setting batch_size=2.\n",
            "[Parallel(n_jobs=5)]: Batch computation too fast (0.0162s.) Setting batch_size=4.\n"
          ],
          "name": "stderr"
        },
        {
          "output_type": "stream",
          "text": [
            "it 10/10-Modelo 1/5\n",
            "[{'reg__fit_intercept': 0.5, 'rep__n_components': 2}, {'reg__alpha': 0.001, 'reg__fit_intercept': 0.5, 'rep__n_components': 2}, {'reg__alpha': 0.001, 'rep__n_components': 2}, {'reg__alpha': 0.001, 'reg__l1_ratio': 0.5, 'rep__n_components': 3}, {'reg__alpha': 0.001, 'reg__gamma': 0.1, 'rep__n_components': 2}, {'reg__fit_intercept': 0.5, 'rep__n_components': 3}, {'reg__alpha': 0.001, 'reg__fit_intercept': 0.5, 'rep__n_components': 3}, {'reg__alpha': 0.001, 'rep__n_components': 3}, {'reg__alpha': 0.001, 'reg__l1_ratio': 0.5, 'rep__n_components': 3}, {'reg__alpha': 0.001, 'reg__gamma': 0.1, 'rep__n_components': 0.5}, {'reg__fit_intercept': 0.5, 'rep__n_components': 3}, {'reg__alpha': 0.001, 'reg__fit_intercept': 0.5, 'rep__n_components': 3}, {'reg__alpha': 0.001, 'rep__n_components': 3}, {'reg__alpha': 0.001, 'reg__l1_ratio': 0.5, 'rep__n_components': 3}, {'reg__alpha': 0.001, 'reg__gamma': 0.1, 'rep__n_components': 3}, {'reg__fit_intercept': 0.5, 'rep__n_components': 3}, {'reg__alpha': 0.001, 'reg__fit_intercept': 0.5, 'rep__n_components': 3}, {'reg__alpha': 0.001, 'rep__n_components': 3}, {'reg__alpha': 0.001, 'reg__l1_ratio': 0.5, 'rep__n_components': 3}, {'reg__alpha': 0.001, 'reg__gamma': 0.1, 'rep__n_components': 0.5}, {'reg__fit_intercept': 0.5, 'rep__n_components': 3}, {'reg__alpha': 0.001, 'reg__fit_intercept': 0.5, 'rep__n_components': 3}, {'reg__alpha': 0.001, 'rep__n_components': 3}, {'reg__alpha': 0.001, 'reg__l1_ratio': 0.5, 'rep__n_components': 3}, {'reg__alpha': 0.001, 'reg__gamma': 0.1, 'rep__n_components': 2}, {'reg__fit_intercept': 0.5, 'rep__n_components': 2}, {'reg__alpha': 0.001, 'reg__fit_intercept': 0.5, 'rep__n_components': 2}, {'reg__alpha': 0.1, 'rep__n_components': 3}, {'reg__alpha': 0.001, 'reg__l1_ratio': 0.5, 'rep__n_components': 3}, {'reg__alpha': 0.001, 'reg__gamma': 0.01, 'rep__n_components': 2}, {'reg__fit_intercept': 0.5, 'rep__n_components': 3}, {'reg__alpha': 0.001, 'reg__fit_intercept': 0.5, 'rep__n_components': 3}, {'reg__alpha': 0.001, 'rep__n_components': 3}, {'reg__alpha': 0.001, 'reg__l1_ratio': 0.5, 'rep__n_components': 3}, {'reg__alpha': 0.001, 'reg__gamma': 0.1, 'rep__n_components': 2}, {'reg__fit_intercept': 0.5, 'rep__n_components': 3}, {'reg__alpha': 0.001, 'reg__fit_intercept': 0.5, 'rep__n_components': 3}, {'reg__alpha': 0.001, 'rep__n_components': 3}, {'reg__alpha': 0.001, 'reg__l1_ratio': 0.5, 'rep__n_components': 3}, {'reg__alpha': 0.001, 'reg__gamma': 0.01, 'rep__n_components': 3}, {'reg__fit_intercept': 0.5, 'rep__n_components': 3}, {'reg__alpha': 0.001, 'reg__fit_intercept': 0.5, 'rep__n_components': 3}, {'reg__alpha': 0.001, 'rep__n_components': 3}, {'reg__alpha': 0.001, 'reg__l1_ratio': 0.5, 'rep__n_components': 3}, {'reg__alpha': 0.001, 'reg__gamma': 0.01, 'rep__n_components': 2}, {'reg__fit_intercept': 0.5, 'rep__n_components': 3}, {'reg__alpha': 0.001, 'reg__fit_intercept': 0.5, 'rep__n_components': 3}]\n",
            "mae: 46.75753646359843\n",
            "Fitting 5 folds for each of 36 candidates, totalling 180 fits\n"
          ],
          "name": "stdout"
        },
        {
          "output_type": "stream",
          "text": [
            "[Parallel(n_jobs=5)]: Done   4 tasks      | elapsed:    0.1s\n",
            "[Parallel(n_jobs=5)]: Done   9 tasks      | elapsed:    0.1s\n",
            "[Parallel(n_jobs=5)]: Batch computation too fast (0.0685s.) Setting batch_size=8.\n",
            "[Parallel(n_jobs=5)]: Done  34 tasks      | elapsed:    0.2s\n",
            "[Parallel(n_jobs=5)]: Batch computation too fast (0.1501s.) Setting batch_size=16.\n",
            "[Parallel(n_jobs=5)]: Done  74 tasks      | elapsed:    0.5s\n",
            "[Parallel(n_jobs=5)]: Done 125 tasks      | elapsed:    0.5s\n",
            "[Parallel(n_jobs=5)]: Done 141 tasks      | elapsed:    0.5s\n",
            "[Parallel(n_jobs=5)]: Done 152 tasks      | elapsed:    0.6s\n",
            "[Parallel(n_jobs=5)]: Done 163 tasks      | elapsed:    0.6s\n",
            "[Parallel(n_jobs=5)]: Done 180 out of 180 | elapsed:    0.7s finished\n",
            "[Parallel(n_jobs=5)]: Using backend LokyBackend with 5 concurrent workers.\n",
            "[Parallel(n_jobs=5)]: Batch computation too fast (0.0149s.) Setting batch_size=2.\n",
            "[Parallel(n_jobs=5)]: Done   3 tasks      | elapsed:    0.0s\n"
          ],
          "name": "stderr"
        },
        {
          "output_type": "stream",
          "text": [
            "it 10/10-Modelo 2/5\n",
            "[{'reg__fit_intercept': 0.5, 'rep__n_components': 2}, {'reg__alpha': 0.001, 'reg__fit_intercept': 0.5, 'rep__n_components': 2}, {'reg__alpha': 0.001, 'rep__n_components': 2}, {'reg__alpha': 0.001, 'reg__l1_ratio': 0.5, 'rep__n_components': 3}, {'reg__alpha': 0.001, 'reg__gamma': 0.1, 'rep__n_components': 2}, {'reg__fit_intercept': 0.5, 'rep__n_components': 3}, {'reg__alpha': 0.001, 'reg__fit_intercept': 0.5, 'rep__n_components': 3}, {'reg__alpha': 0.001, 'rep__n_components': 3}, {'reg__alpha': 0.001, 'reg__l1_ratio': 0.5, 'rep__n_components': 3}, {'reg__alpha': 0.001, 'reg__gamma': 0.1, 'rep__n_components': 0.5}, {'reg__fit_intercept': 0.5, 'rep__n_components': 3}, {'reg__alpha': 0.001, 'reg__fit_intercept': 0.5, 'rep__n_components': 3}, {'reg__alpha': 0.001, 'rep__n_components': 3}, {'reg__alpha': 0.001, 'reg__l1_ratio': 0.5, 'rep__n_components': 3}, {'reg__alpha': 0.001, 'reg__gamma': 0.1, 'rep__n_components': 3}, {'reg__fit_intercept': 0.5, 'rep__n_components': 3}, {'reg__alpha': 0.001, 'reg__fit_intercept': 0.5, 'rep__n_components': 3}, {'reg__alpha': 0.001, 'rep__n_components': 3}, {'reg__alpha': 0.001, 'reg__l1_ratio': 0.5, 'rep__n_components': 3}, {'reg__alpha': 0.001, 'reg__gamma': 0.1, 'rep__n_components': 0.5}, {'reg__fit_intercept': 0.5, 'rep__n_components': 3}, {'reg__alpha': 0.001, 'reg__fit_intercept': 0.5, 'rep__n_components': 3}, {'reg__alpha': 0.001, 'rep__n_components': 3}, {'reg__alpha': 0.001, 'reg__l1_ratio': 0.5, 'rep__n_components': 3}, {'reg__alpha': 0.001, 'reg__gamma': 0.1, 'rep__n_components': 2}, {'reg__fit_intercept': 0.5, 'rep__n_components': 2}, {'reg__alpha': 0.001, 'reg__fit_intercept': 0.5, 'rep__n_components': 2}, {'reg__alpha': 0.1, 'rep__n_components': 3}, {'reg__alpha': 0.001, 'reg__l1_ratio': 0.5, 'rep__n_components': 3}, {'reg__alpha': 0.001, 'reg__gamma': 0.01, 'rep__n_components': 2}, {'reg__fit_intercept': 0.5, 'rep__n_components': 3}, {'reg__alpha': 0.001, 'reg__fit_intercept': 0.5, 'rep__n_components': 3}, {'reg__alpha': 0.001, 'rep__n_components': 3}, {'reg__alpha': 0.001, 'reg__l1_ratio': 0.5, 'rep__n_components': 3}, {'reg__alpha': 0.001, 'reg__gamma': 0.1, 'rep__n_components': 2}, {'reg__fit_intercept': 0.5, 'rep__n_components': 3}, {'reg__alpha': 0.001, 'reg__fit_intercept': 0.5, 'rep__n_components': 3}, {'reg__alpha': 0.001, 'rep__n_components': 3}, {'reg__alpha': 0.001, 'reg__l1_ratio': 0.5, 'rep__n_components': 3}, {'reg__alpha': 0.001, 'reg__gamma': 0.01, 'rep__n_components': 3}, {'reg__fit_intercept': 0.5, 'rep__n_components': 3}, {'reg__alpha': 0.001, 'reg__fit_intercept': 0.5, 'rep__n_components': 3}, {'reg__alpha': 0.001, 'rep__n_components': 3}, {'reg__alpha': 0.001, 'reg__l1_ratio': 0.5, 'rep__n_components': 3}, {'reg__alpha': 0.001, 'reg__gamma': 0.01, 'rep__n_components': 2}, {'reg__fit_intercept': 0.5, 'rep__n_components': 3}, {'reg__alpha': 0.001, 'reg__fit_intercept': 0.5, 'rep__n_components': 3}, {'reg__alpha': 0.001, 'rep__n_components': 3}]\n",
            "mae: 46.8380810557644\n",
            "Fitting 5 folds for each of 216 candidates, totalling 1080 fits\n"
          ],
          "name": "stdout"
        },
        {
          "output_type": "stream",
          "text": [
            "[Parallel(n_jobs=5)]: Done   8 tasks      | elapsed:    0.1s\n",
            "[Parallel(n_jobs=5)]: Batch computation too fast (0.0534s.) Setting batch_size=4.\n",
            "[Parallel(n_jobs=5)]: Done  20 tasks      | elapsed:    0.1s\n",
            "[Parallel(n_jobs=5)]: Batch computation too fast (0.1201s.) Setting batch_size=8.\n",
            "[Parallel(n_jobs=5)]: Done  38 tasks      | elapsed:    0.3s\n",
            "[Parallel(n_jobs=5)]: Done  78 tasks      | elapsed:    0.4s\n",
            "[Parallel(n_jobs=5)]: Batch computation too fast (0.1410s.) Setting batch_size=16.\n",
            "[Parallel(n_jobs=5)]: Done 150 tasks      | elapsed:    0.7s\n",
            "[Parallel(n_jobs=5)]: Done 326 tasks      | elapsed:    1.2s\n",
            "[Parallel(n_jobs=5)]: Done 502 tasks      | elapsed:    1.9s\n",
            "[Parallel(n_jobs=5)]: Done 710 tasks      | elapsed:    2.4s\n",
            "[Parallel(n_jobs=5)]: Done 918 tasks      | elapsed:    3.1s\n",
            "[Parallel(n_jobs=5)]: Done 1023 tasks      | elapsed:    3.4s\n",
            "[Parallel(n_jobs=5)]: Done 1038 tasks      | elapsed:    3.4s\n",
            "[Parallel(n_jobs=5)]: Done 1055 tasks      | elapsed:    3.5s\n",
            "[Parallel(n_jobs=5)]: Done 1080 out of 1080 | elapsed:    3.5s finished\n"
          ],
          "name": "stderr"
        },
        {
          "output_type": "stream",
          "text": [
            "it 10/10-Modelo 3/5\n",
            "[{'reg__fit_intercept': 0.5, 'rep__n_components': 2}, {'reg__alpha': 0.001, 'reg__fit_intercept': 0.5, 'rep__n_components': 2}, {'reg__alpha': 0.001, 'rep__n_components': 2}, {'reg__alpha': 0.001, 'reg__l1_ratio': 0.5, 'rep__n_components': 3}, {'reg__alpha': 0.001, 'reg__gamma': 0.1, 'rep__n_components': 2}, {'reg__fit_intercept': 0.5, 'rep__n_components': 3}, {'reg__alpha': 0.001, 'reg__fit_intercept': 0.5, 'rep__n_components': 3}, {'reg__alpha': 0.001, 'rep__n_components': 3}, {'reg__alpha': 0.001, 'reg__l1_ratio': 0.5, 'rep__n_components': 3}, {'reg__alpha': 0.001, 'reg__gamma': 0.1, 'rep__n_components': 0.5}, {'reg__fit_intercept': 0.5, 'rep__n_components': 3}, {'reg__alpha': 0.001, 'reg__fit_intercept': 0.5, 'rep__n_components': 3}, {'reg__alpha': 0.001, 'rep__n_components': 3}, {'reg__alpha': 0.001, 'reg__l1_ratio': 0.5, 'rep__n_components': 3}, {'reg__alpha': 0.001, 'reg__gamma': 0.1, 'rep__n_components': 3}, {'reg__fit_intercept': 0.5, 'rep__n_components': 3}, {'reg__alpha': 0.001, 'reg__fit_intercept': 0.5, 'rep__n_components': 3}, {'reg__alpha': 0.001, 'rep__n_components': 3}, {'reg__alpha': 0.001, 'reg__l1_ratio': 0.5, 'rep__n_components': 3}, {'reg__alpha': 0.001, 'reg__gamma': 0.1, 'rep__n_components': 0.5}, {'reg__fit_intercept': 0.5, 'rep__n_components': 3}, {'reg__alpha': 0.001, 'reg__fit_intercept': 0.5, 'rep__n_components': 3}, {'reg__alpha': 0.001, 'rep__n_components': 3}, {'reg__alpha': 0.001, 'reg__l1_ratio': 0.5, 'rep__n_components': 3}, {'reg__alpha': 0.001, 'reg__gamma': 0.1, 'rep__n_components': 2}, {'reg__fit_intercept': 0.5, 'rep__n_components': 2}, {'reg__alpha': 0.001, 'reg__fit_intercept': 0.5, 'rep__n_components': 2}, {'reg__alpha': 0.1, 'rep__n_components': 3}, {'reg__alpha': 0.001, 'reg__l1_ratio': 0.5, 'rep__n_components': 3}, {'reg__alpha': 0.001, 'reg__gamma': 0.01, 'rep__n_components': 2}, {'reg__fit_intercept': 0.5, 'rep__n_components': 3}, {'reg__alpha': 0.001, 'reg__fit_intercept': 0.5, 'rep__n_components': 3}, {'reg__alpha': 0.001, 'rep__n_components': 3}, {'reg__alpha': 0.001, 'reg__l1_ratio': 0.5, 'rep__n_components': 3}, {'reg__alpha': 0.001, 'reg__gamma': 0.1, 'rep__n_components': 2}, {'reg__fit_intercept': 0.5, 'rep__n_components': 3}, {'reg__alpha': 0.001, 'reg__fit_intercept': 0.5, 'rep__n_components': 3}, {'reg__alpha': 0.001, 'rep__n_components': 3}, {'reg__alpha': 0.001, 'reg__l1_ratio': 0.5, 'rep__n_components': 3}, {'reg__alpha': 0.001, 'reg__gamma': 0.01, 'rep__n_components': 3}, {'reg__fit_intercept': 0.5, 'rep__n_components': 3}, {'reg__alpha': 0.001, 'reg__fit_intercept': 0.5, 'rep__n_components': 3}, {'reg__alpha': 0.001, 'rep__n_components': 3}, {'reg__alpha': 0.001, 'reg__l1_ratio': 0.5, 'rep__n_components': 3}, {'reg__alpha': 0.001, 'reg__gamma': 0.01, 'rep__n_components': 2}, {'reg__fit_intercept': 0.5, 'rep__n_components': 3}, {'reg__alpha': 0.001, 'reg__fit_intercept': 0.5, 'rep__n_components': 3}, {'reg__alpha': 0.001, 'rep__n_components': 3}, {'reg__alpha': 0.001, 'reg__l1_ratio': 0.5, 'rep__n_components': 3}]\n",
            "mae: 45.76626723824044\n",
            "Fitting 5 folds for each of 216 candidates, totalling 1080 fits\n"
          ],
          "name": "stdout"
        },
        {
          "output_type": "stream",
          "text": [
            "[Parallel(n_jobs=5)]: Using backend LokyBackend with 5 concurrent workers.\n",
            "[Parallel(n_jobs=5)]: Batch computation too fast (0.0180s.) Setting batch_size=2.\n",
            "[Parallel(n_jobs=5)]: Done   3 tasks      | elapsed:    0.0s\n",
            "[Parallel(n_jobs=5)]: Done   8 tasks      | elapsed:    0.0s\n",
            "[Parallel(n_jobs=5)]: Batch computation too fast (0.0373s.) Setting batch_size=4.\n",
            "[Parallel(n_jobs=5)]: Done  20 tasks      | elapsed:    0.1s\n",
            "[Parallel(n_jobs=5)]: Batch computation too fast (0.0864s.) Setting batch_size=8.\n",
            "[Parallel(n_jobs=5)]: Done  38 tasks      | elapsed:    0.2s\n",
            "[Parallel(n_jobs=5)]: Done  78 tasks      | elapsed:    0.4s\n",
            "[Parallel(n_jobs=5)]: Batch computation too fast (0.1502s.) Setting batch_size=16.\n",
            "[Parallel(n_jobs=5)]: Done 150 tasks      | elapsed:    0.7s\n",
            "[Parallel(n_jobs=5)]: Done 326 tasks      | elapsed:    1.4s\n",
            "[Parallel(n_jobs=5)]: Done 502 tasks      | elapsed:    2.1s\n",
            "[Parallel(n_jobs=5)]: Done 710 tasks      | elapsed:    2.6s\n",
            "[Parallel(n_jobs=5)]: Done 918 tasks      | elapsed:    3.3s\n",
            "[Parallel(n_jobs=5)]: Done 993 tasks      | elapsed:    3.5s\n"
          ],
          "name": "stderr"
        },
        {
          "output_type": "stream",
          "text": [
            "it 10/10-Modelo 4/5\n",
            "[{'reg__fit_intercept': 0.5, 'rep__n_components': 2}, {'reg__alpha': 0.001, 'reg__fit_intercept': 0.5, 'rep__n_components': 2}, {'reg__alpha': 0.001, 'rep__n_components': 2}, {'reg__alpha': 0.001, 'reg__l1_ratio': 0.5, 'rep__n_components': 3}, {'reg__alpha': 0.001, 'reg__gamma': 0.1, 'rep__n_components': 2}, {'reg__fit_intercept': 0.5, 'rep__n_components': 3}, {'reg__alpha': 0.001, 'reg__fit_intercept': 0.5, 'rep__n_components': 3}, {'reg__alpha': 0.001, 'rep__n_components': 3}, {'reg__alpha': 0.001, 'reg__l1_ratio': 0.5, 'rep__n_components': 3}, {'reg__alpha': 0.001, 'reg__gamma': 0.1, 'rep__n_components': 0.5}, {'reg__fit_intercept': 0.5, 'rep__n_components': 3}, {'reg__alpha': 0.001, 'reg__fit_intercept': 0.5, 'rep__n_components': 3}, {'reg__alpha': 0.001, 'rep__n_components': 3}, {'reg__alpha': 0.001, 'reg__l1_ratio': 0.5, 'rep__n_components': 3}, {'reg__alpha': 0.001, 'reg__gamma': 0.1, 'rep__n_components': 3}, {'reg__fit_intercept': 0.5, 'rep__n_components': 3}, {'reg__alpha': 0.001, 'reg__fit_intercept': 0.5, 'rep__n_components': 3}, {'reg__alpha': 0.001, 'rep__n_components': 3}, {'reg__alpha': 0.001, 'reg__l1_ratio': 0.5, 'rep__n_components': 3}, {'reg__alpha': 0.001, 'reg__gamma': 0.1, 'rep__n_components': 0.5}, {'reg__fit_intercept': 0.5, 'rep__n_components': 3}, {'reg__alpha': 0.001, 'reg__fit_intercept': 0.5, 'rep__n_components': 3}, {'reg__alpha': 0.001, 'rep__n_components': 3}, {'reg__alpha': 0.001, 'reg__l1_ratio': 0.5, 'rep__n_components': 3}, {'reg__alpha': 0.001, 'reg__gamma': 0.1, 'rep__n_components': 2}, {'reg__fit_intercept': 0.5, 'rep__n_components': 2}, {'reg__alpha': 0.001, 'reg__fit_intercept': 0.5, 'rep__n_components': 2}, {'reg__alpha': 0.1, 'rep__n_components': 3}, {'reg__alpha': 0.001, 'reg__l1_ratio': 0.5, 'rep__n_components': 3}, {'reg__alpha': 0.001, 'reg__gamma': 0.01, 'rep__n_components': 2}, {'reg__fit_intercept': 0.5, 'rep__n_components': 3}, {'reg__alpha': 0.001, 'reg__fit_intercept': 0.5, 'rep__n_components': 3}, {'reg__alpha': 0.001, 'rep__n_components': 3}, {'reg__alpha': 0.001, 'reg__l1_ratio': 0.5, 'rep__n_components': 3}, {'reg__alpha': 0.001, 'reg__gamma': 0.1, 'rep__n_components': 2}, {'reg__fit_intercept': 0.5, 'rep__n_components': 3}, {'reg__alpha': 0.001, 'reg__fit_intercept': 0.5, 'rep__n_components': 3}, {'reg__alpha': 0.001, 'rep__n_components': 3}, {'reg__alpha': 0.001, 'reg__l1_ratio': 0.5, 'rep__n_components': 3}, {'reg__alpha': 0.001, 'reg__gamma': 0.01, 'rep__n_components': 3}, {'reg__fit_intercept': 0.5, 'rep__n_components': 3}, {'reg__alpha': 0.001, 'reg__fit_intercept': 0.5, 'rep__n_components': 3}, {'reg__alpha': 0.001, 'rep__n_components': 3}, {'reg__alpha': 0.001, 'reg__l1_ratio': 0.5, 'rep__n_components': 3}, {'reg__alpha': 0.001, 'reg__gamma': 0.01, 'rep__n_components': 2}, {'reg__fit_intercept': 0.5, 'rep__n_components': 3}, {'reg__alpha': 0.001, 'reg__fit_intercept': 0.5, 'rep__n_components': 3}, {'reg__alpha': 0.001, 'rep__n_components': 3}, {'reg__alpha': 0.001, 'reg__l1_ratio': 0.5, 'rep__n_components': 3}, {'reg__alpha': 0.001, 'reg__gamma': 0.1, 'rep__n_components': 3}]\n",
            "mae: 25.623296450546384\n",
            "\n",
            "Mejor Modelo:\n",
            "\n",
            "Pipeline(memory=None,\n",
            "         steps=[('scaler',\n",
            "                 StandardScaler(copy=True, with_mean=True, with_std=True)),\n",
            "                ('rep',\n",
            "                 PCA(copy=True, iterated_power='auto', n_components=3,\n",
            "                     random_state=None, svd_solver='auto', tol=0.0,\n",
            "                     whiten=False)),\n",
            "                ('reg',\n",
            "                 KernelRidge(alpha=0.001, coef0=1, degree=3, gamma=0.1,\n",
            "                             kernel='rbf', kernel_params=None))],\n",
            "         verbose=False)\n",
            "\n",
            "Mejores parámetros:\n",
            "\n",
            "{'reg__alpha': 0.001, 'reg__gamma': 0.1, 'rep__n_components': 3}\n"
          ],
          "name": "stdout"
        },
        {
          "output_type": "stream",
          "text": [
            "[Parallel(n_jobs=5)]: Done 1053 tasks      | elapsed:    3.5s\n",
            "[Parallel(n_jobs=5)]: Done 1070 tasks      | elapsed:    3.6s\n",
            "[Parallel(n_jobs=5)]: Done 1080 out of 1080 | elapsed:    3.6s finished\n"
          ],
          "name": "stderr"
        }
      ]
    },
    {
      "cell_type": "markdown",
      "metadata": {
        "id": "XLf4zd8okr6Y",
        "colab_type": "text"
      },
      "source": [
        "Por Niter de outter loop tengo valores de los hyperparameters\n",
        "\n",
        "$$\\gamma = [0.01,0.1,10,1000,10000,0.01]$$\n",
        "\n",
        "$$\\gamma = [0.01,0.01,0.01,0.1,1,0.01]$$\n",
        "\n",
        "$$\\gamma^* = moda/mediana(\\gamma_i) = 0.01$$\n",
        "\n",
        "Toma todos los datos los N = 85, entreno sobre todo el conjunto con los parametros encontrados utilizando validación cruzada anidad\n",
        "\n",
        "$$\\theta^*/w^* =f(X|\\gamma^*)$$\n",
        "\n",
        "$$ y_{new} = f(x_{new}|\\gamma^*,\\theta^*/w^*)$$"
      ]
    },
    {
      "cell_type": "markdown",
      "metadata": {
        "id": "03dDdmR7puTb",
        "colab_type": "text"
      },
      "source": [
        "Despues de la validacion cruzada anidada, vemos que el GridSerch nos da la seleccion de el mejor modelo y los mejores parametros para este modelo que son capaces de seguir nuestros datos de manera mas optima.\n",
        "\n",
        "En este caso el Mejor modelo queda guardado en \"grid_search.best_estimator_\" y los mejores parametros para este en \"grid_search.best_params_\". \n",
        "\n",
        "El modelo seleccionado por GridSearch fue un Kernel Ridge con mapeo rbf y los mejores parametros son:\n",
        "\n",
        "#### Para el regresor KernelRidge-rbf: \n",
        "\n",
        "* alpha= 0.001 \n",
        "* gamma = 0.1 \n",
        "\n",
        "#### Para el proceso de PCA: \n",
        "* n_components = 3\n",
        "\n"
      ]
    },
    {
      "cell_type": "code",
      "metadata": {
        "id": "Lulnf-mPlucS",
        "colab_type": "code",
        "colab": {
          "base_uri": "https://localhost:8080/",
          "height": 621
        },
        "outputId": "1169d7ef-37e0-4cb7-f894-3241c1a1c7f9"
      },
      "source": [
        "#Comparacion de los errores medios absolutos de todos los clasificadores\n",
        "import matplotlib.pyplot as plt\n",
        "\n",
        "plt.rcParams[\"figure.figsize\"] = (15,10)\n",
        "plt.boxplot(maev)\n",
        "plt.xticks(ticks=np.arange(len(steps))+1,labels=label_model)\n",
        "plt.xlabel(\"Clasificador\")\n",
        "plt.ylabel(\"MAE\")\n",
        "plt.title(\"Boxplot comparativo de los errores absolutos medios de todos los clasificadores\")\n",
        "plt.grid()\n",
        "plt.show()"
      ],
      "execution_count": 8,
      "outputs": [
        {
          "output_type": "display_data",
          "data": {
            "image/png": "[encoded data removed]",
            "text/plain": [
              "<Figure size 1080x720 with 1 Axes>"
            ]
          },
          "metadata": {
            "tags": [],
            "needs_background": "light"
          }
        }
      ]
    },
    {
      "cell_type": "markdown",
      "metadata": {
        "id": "qzyFNH7X249N",
        "colab_type": "text"
      },
      "source": [
        "En el grafico anterior se presenta la comparacion del error absoluto medio de todos los modelos probados en un diagrama de caja y bigotes (BoxPlot). Los modelos que fueron probados son los siguientes:\n",
        "  * NorSC-PCA-LM: Modelo de regresion lineal simple con normalizado y PCA.\n",
        "\n",
        "  * NorSC-PCA-LMRidge: Modelo de regresion lineal rigido con normalizado y PCA.\n",
        "\n",
        "  * NorSC-PCA-LMLasso: Modelo de regresion lineal tipo Lasso con normalizado y PCA.\n",
        "\n",
        "  * NorSC-PCA-LMEN: Modelo de regresion lineal ElasticNet con normalizado y PCA.\n",
        "\n",
        "  * NorSC-KRRBF: Modelo de regresion KernelRidge de mapeo rbf con normalizado y PCA.\n",
        "\n",
        "\n",
        "Del grafico podemos concluir que lo que GridSerch nos ha dicho anteriormente es cierto, el mejor modelo (con error medio absoluto mas bajo) para seguir nuestros datos es el KernelRigde-rbf.\n",
        "\n",
        "  \n",
        "\n"
      ]
    },
    {
      "cell_type": "markdown",
      "metadata": {
        "id": "d-uRVMoYs_Ch",
        "colab_type": "text"
      },
      "source": [
        "Extrayendo el mejor modelo podriamos predecir los contagiados de el dia siguiente de la siguiente forma"
      ]
    },
    {
      "cell_type": "code",
      "metadata": {
        "id": "nBygI3vyfo6l",
        "colab_type": "code",
        "colab": {
          "base_uri": "https://localhost:8080/",
          "height": 34
        },
        "outputId": "b70a4d5b-8465-4497-f143-d7d8fe683e01"
      },
      "source": [
        "# Predicion de contagiados al dia siguiente con el mejor modelo\n",
        "best_model = grid_search.best_estimator_\n",
        "\n",
        "y25abr = best_model.predict(np.array(X[-1]).reshape(1,-1))\n",
        "y25abr"
      ],
      "execution_count": 9,
      "outputs": [
        {
          "output_type": "execute_result",
          "data": {
            "text/plain": [
              "array([[5336.75568015]])"
            ]
          },
          "metadata": {
            "tags": []
          },
          "execution_count": 9
        }
      ]
    },
    {
      "cell_type": "markdown",
      "metadata": {
        "id": "QjhgPssbtMaP",
        "colab_type": "text"
      },
      "source": [
        "y podriamos compararlo con los datos de contagiados que tenemos de los ultimos 5 dias"
      ]
    },
    {
      "cell_type": "code",
      "metadata": {
        "id": "XXmuCGGsfra6",
        "colab_type": "code",
        "colab": {
          "base_uri": "https://localhost:8080/",
          "height": 34
        },
        "outputId": "80560c69-18e9-4d83-bc8d-0c3a87ad6317"
      },
      "source": [
        "#Contagiados de los ultimos 5 dias\n",
        "X[-1]"
      ],
      "execution_count": 13,
      "outputs": [
        {
          "output_type": "execute_result",
          "data": {
            "text/plain": [
              "array([3977, 4149, 4356, 4561, 4881], dtype=object)"
            ]
          },
          "metadata": {
            "tags": []
          },
          "execution_count": 13
        }
      ]
    },
    {
      "cell_type": "markdown",
      "metadata": {
        "id": "nPr64CxzuWMF",
        "colab_type": "text"
      },
      "source": [
        "#### Tambien podemos ver de manera grafica que tanto se ajustan las predicciones del modelo a los datos originales"
      ]
    },
    {
      "cell_type": "code",
      "metadata": {
        "id": "bH1sd8p3qFei",
        "colab_type": "code",
        "colab": {}
      },
      "source": [
        "#Evalualndo el ajuste de los datos\n",
        "y_pred = best_model.predict(X)"
      ],
      "execution_count": 0,
      "outputs": []
    },
    {
      "cell_type": "code",
      "metadata": {
        "id": "3gVdCAxzmkVe",
        "colab_type": "code",
        "colab": {
          "base_uri": "https://localhost:8080/",
          "height": 621
        },
        "outputId": "7bf78f6c-56a7-40d7-88e4-812d6abd1f3c"
      },
      "source": [
        "lab=[\"Datos Originales\", \"Predicciones del modelo\"]\n",
        "plt.plot(y,'r')\n",
        "plt.plot(y_pred,'b')\n",
        "plt.legend(labels=lab)\n",
        "plt.xlabel(\"Numero de dias\")\n",
        "plt.ylabel(\"Numero de contagiados totales\")\n",
        "plt.title(\"Contagiados totales VS Dias en Colombia\")\n",
        "plt.grid()"
      ],
      "execution_count": 12,
      "outputs": [
        {
          "output_type": "display_data",
          "data": {
            "image/png": "[encoded data removed]",
            "text/plain": [
              "<Figure size 1080x720 with 1 Axes>"
            ]
          },
          "metadata": {
            "tags": [],
            "needs_background": "light"
          }
        }
      ]
    },
    {
      "cell_type": "code",
      "metadata": {
        "id": "dTZp9Q37qPAw",
        "colab_type": "code",
        "colab": {}
      },
      "source": [
        ""
      ],
      "execution_count": 0,
      "outputs": []
    },
    {
      "cell_type": "code",
      "metadata": {
        "id": "j-ZDeqVgrBm8",
        "colab_type": "code",
        "colab": {}
      },
      "source": [
        ""
      ],
      "execution_count": 0,
      "outputs": []
    }
  ]
}
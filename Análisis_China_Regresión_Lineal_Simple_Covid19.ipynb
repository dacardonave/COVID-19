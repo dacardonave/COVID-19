{
  "nbformat": 4,
  "nbformat_minor": 0,
  "metadata": {
    "kernelspec": {
      "display_name": "Python 3",
      "language": "python",
      "name": "python3"
    },
    "language_info": {
      "codemirror_mode": {
        "name": "ipython",
        "version": 3
      },
      "file_extension": ".py",
      "mimetype": "text/x-python",
      "name": "python",
      "nbconvert_exporter": "python",
      "pygments_lexer": "ipython3",
      "version": "3.7.3"
    },
    "colab": {
      "name": "Análisis China - Regresión Lineal Simple - Covid19.ipynb",
      "provenance": [],
      "collapsed_sections": [],
      "toc_visible": true,
      "include_colab_link": true
    }
  },
  "cells": [
    {
      "cell_type": "markdown",
      "metadata": {
        "id": "view-in-github",
        "colab_type": "text"
      },
      "source": [
        "<a href=\"https://colab.research.google.com/github/dacardonave/COVID-19/blob/master/An%C3%A1lisis_China_Regresi%C3%B3n_Lineal_Simple_Covid19.ipynb\" target=\"_parent\"><img src=\"https://colab.research.google.com/assets/colab-badge.svg\" alt=\"Open In Colab\"/></a>"
      ]
    },
    {
      "cell_type": "markdown",
      "metadata": {
        "id": "6lxO44gjqhyq",
        "colab_type": "text"
      },
      "source": [
        "# Regresion Lineal Simple"
      ]
    },
    {
      "cell_type": "markdown",
      "metadata": {
        "id": "vDSl1JfIqhyr",
        "colab_type": "text"
      },
      "source": [
        "## Analitica de datos\n",
        "#### Daniel Cardona Velasquez\n",
        "#### Universidad Nacional De Colombia"
      ]
    },
    {
      "cell_type": "markdown",
      "metadata": {
        "id": "Bfb94R4Vqhys",
        "colab_type": "text"
      },
      "source": [
        "A continuacion se presenta el analisis y diseño de un modelo de regresion simple ya implementados por algunas librerias de python para el entrenamiento de un modelo predictivo. En este caso en particualar, trabajaremos en una base de datos sobre el Covd-19 en china, previamente filtrada y depurada para su entrenamiento. \n",
        "\n",
        "El modelo predictivo sera entrenado con los datos que se tienen de contagiados en china hasta el 18 de marzo de 2020 y bucara predecir el numero de los contagiados futuros.\n"
      ]
    },
    {
      "cell_type": "code",
      "metadata": {
        "id": "6a1PD3drqhyt",
        "colab_type": "code",
        "colab": {}
      },
      "source": [
        "#Importando algunas librerias de tratamiento y representacion\n",
        "import pandas as pd\n",
        "import numpy as np\n",
        "import matplotlib.pyplot as plt\n"
      ],
      "execution_count": 0,
      "outputs": []
    },
    {
      "cell_type": "code",
      "metadata": {
        "id": "EaDq4kd0qhy0",
        "colab_type": "code",
        "outputId": "1b7bbcf5-df87-4da2-ded1-01784a58e854",
        "colab": {
          "base_uri": "https://localhost:8080/",
          "height": 204
        }
      },
      "source": [
        "#Cargando el dataset sobre el que vamos a trabajar\n",
        "data=pd.read_csv(\"china.csv\")\n",
        "data.tail()"
      ],
      "execution_count": 0,
      "outputs": [
        {
          "output_type": "execute_result",
          "data": {
            "text/html": [
              "<div>\n",
              "<style scoped>\n",
              "    .dataframe tbody tr th:only-of-type {\n",
              "        vertical-align: middle;\n",
              "    }\n",
              "\n",
              "    .dataframe tbody tr th {\n",
              "        vertical-align: top;\n",
              "    }\n",
              "\n",
              "    .dataframe thead th {\n",
              "        text-align: right;\n",
              "    }\n",
              "</style>\n",
              "<table border=\"1\" class=\"dataframe\">\n",
              "  <thead>\n",
              "    <tr style=\"text-align: right;\">\n",
              "      <th></th>\n",
              "      <th>Country</th>\n",
              "      <th>Date</th>\n",
              "      <th>Confirmed</th>\n",
              "      <th>Deaths</th>\n",
              "      <th>Recovered</th>\n",
              "    </tr>\n",
              "  </thead>\n",
              "  <tbody>\n",
              "    <tr>\n",
              "      <th>52</th>\n",
              "      <td>Mainland China</td>\n",
              "      <td>2020-03-14</td>\n",
              "      <td>80827.0</td>\n",
              "      <td>3189.0</td>\n",
              "      <td>65572.0</td>\n",
              "    </tr>\n",
              "    <tr>\n",
              "      <th>53</th>\n",
              "      <td>Mainland China</td>\n",
              "      <td>2020-03-15</td>\n",
              "      <td>80848.0</td>\n",
              "      <td>3199.0</td>\n",
              "      <td>66926.0</td>\n",
              "    </tr>\n",
              "    <tr>\n",
              "      <th>54</th>\n",
              "      <td>Mainland China</td>\n",
              "      <td>2020-03-16</td>\n",
              "      <td>80867.0</td>\n",
              "      <td>3213.0</td>\n",
              "      <td>67816.0</td>\n",
              "    </tr>\n",
              "    <tr>\n",
              "      <th>55</th>\n",
              "      <td>Mainland China</td>\n",
              "      <td>2020-03-17</td>\n",
              "      <td>80884.0</td>\n",
              "      <td>3226.0</td>\n",
              "      <td>68700.0</td>\n",
              "    </tr>\n",
              "    <tr>\n",
              "      <th>56</th>\n",
              "      <td>Mainland China</td>\n",
              "      <td>2020-03-18</td>\n",
              "      <td>80906.0</td>\n",
              "      <td>3237.0</td>\n",
              "      <td>69653.0</td>\n",
              "    </tr>\n",
              "  </tbody>\n",
              "</table>\n",
              "</div>"
            ],
            "text/plain": [
              "           Country        Date  Confirmed  Deaths  Recovered\n",
              "52  Mainland China  2020-03-14    80827.0  3189.0    65572.0\n",
              "53  Mainland China  2020-03-15    80848.0  3199.0    66926.0\n",
              "54  Mainland China  2020-03-16    80867.0  3213.0    67816.0\n",
              "55  Mainland China  2020-03-17    80884.0  3226.0    68700.0\n",
              "56  Mainland China  2020-03-18    80906.0  3237.0    69653.0"
            ]
          },
          "metadata": {
            "tags": []
          },
          "execution_count": 56
        }
      ]
    },
    {
      "cell_type": "code",
      "metadata": {
        "id": "jhWf6h_0qhy4",
        "colab_type": "code",
        "colab": {}
      },
      "source": [
        "# Convirtiendo algunos datos para su manipulacion\n",
        "data[\"Confirmed\"] = data['Confirmed'].astype(np.int64)\n",
        "data[\"Deaths\"] = data['Deaths'].astype(np.int64)\n",
        "data[\"Recovered\"] = data['Recovered'].astype(np.int64)\n",
        "data = data.drop(['Country'], axis=1)\n"
      ],
      "execution_count": 0,
      "outputs": []
    },
    {
      "cell_type": "code",
      "metadata": {
        "id": "cF3AuvrPqhy8",
        "colab_type": "code",
        "outputId": "2a41d5b3-9e4f-4392-968a-c0c5804c139d",
        "colab": {
          "base_uri": "https://localhost:8080/",
          "height": 204
        }
      },
      "source": [
        "data.head()\n"
      ],
      "execution_count": 0,
      "outputs": [
        {
          "output_type": "execute_result",
          "data": {
            "text/html": [
              "<div>\n",
              "<style scoped>\n",
              "    .dataframe tbody tr th:only-of-type {\n",
              "        vertical-align: middle;\n",
              "    }\n",
              "\n",
              "    .dataframe tbody tr th {\n",
              "        vertical-align: top;\n",
              "    }\n",
              "\n",
              "    .dataframe thead th {\n",
              "        text-align: right;\n",
              "    }\n",
              "</style>\n",
              "<table border=\"1\" class=\"dataframe\">\n",
              "  <thead>\n",
              "    <tr style=\"text-align: right;\">\n",
              "      <th></th>\n",
              "      <th>Date</th>\n",
              "      <th>Confirmed</th>\n",
              "      <th>Deaths</th>\n",
              "      <th>Recovered</th>\n",
              "    </tr>\n",
              "  </thead>\n",
              "  <tbody>\n",
              "    <tr>\n",
              "      <th>0</th>\n",
              "      <td>2020-01-22</td>\n",
              "      <td>547</td>\n",
              "      <td>17</td>\n",
              "      <td>28</td>\n",
              "    </tr>\n",
              "    <tr>\n",
              "      <th>1</th>\n",
              "      <td>2020-01-23</td>\n",
              "      <td>639</td>\n",
              "      <td>18</td>\n",
              "      <td>30</td>\n",
              "    </tr>\n",
              "    <tr>\n",
              "      <th>2</th>\n",
              "      <td>2020-01-24</td>\n",
              "      <td>916</td>\n",
              "      <td>26</td>\n",
              "      <td>36</td>\n",
              "    </tr>\n",
              "    <tr>\n",
              "      <th>3</th>\n",
              "      <td>2020-01-25</td>\n",
              "      <td>1399</td>\n",
              "      <td>42</td>\n",
              "      <td>39</td>\n",
              "    </tr>\n",
              "    <tr>\n",
              "      <th>4</th>\n",
              "      <td>2020-01-26</td>\n",
              "      <td>2062</td>\n",
              "      <td>56</td>\n",
              "      <td>49</td>\n",
              "    </tr>\n",
              "  </tbody>\n",
              "</table>\n",
              "</div>"
            ],
            "text/plain": [
              "         Date  Confirmed  Deaths  Recovered\n",
              "0  2020-01-22        547      17         28\n",
              "1  2020-01-23        639      18         30\n",
              "2  2020-01-24        916      26         36\n",
              "3  2020-01-25       1399      42         39\n",
              "4  2020-01-26       2062      56         49"
            ]
          },
          "metadata": {
            "tags": []
          },
          "execution_count": 58
        }
      ]
    },
    {
      "cell_type": "code",
      "metadata": {
        "id": "WdGCTbKIqhzC",
        "colab_type": "code",
        "outputId": "3b59022c-cc2c-4a99-dbd9-65e4dc5b29ce",
        "colab": {
          "base_uri": "https://localhost:8080/",
          "height": 312
        }
      },
      "source": [
        "%matplotlib inline\n",
        "plt.scatter(data[\"Date\"], data[\"Confirmed\"], color='r' )\n",
        "plt.xlabel('Fecha')\n",
        "plt.ylabel('Casos Confirmados')\n",
        "plt.title('Evolucion de los casos confirmados en el tiempo')\n"
      ],
      "execution_count": 0,
      "outputs": [
        {
          "output_type": "execute_result",
          "data": {
            "text/plain": [
              "Text(0.5, 1.0, 'Evolucion de los casos confirmados en el tiempo')"
            ]
          },
          "metadata": {
            "tags": []
          },
          "execution_count": 59
        },
        {
          "output_type": "display_data",
          "data": {
            "image/png": "[encoded data removed]",
            "text/plain": [
              "<Figure size 432x288 with 1 Axes>"
            ]
          },
          "metadata": {
            "tags": [],
            "needs_background": "light"
          }
        }
      ]
    },
    {
      "cell_type": "markdown",
      "metadata": {
        "id": "26Y-ElLnqhzG",
        "colab_type": "text"
      },
      "source": [
        "En la grafica anterior podemos ver el comportamiento de los casos confirmados en china en el el transcurso del 2020. se puede apreciar un comportamiento exponencial que al final termina aplanandose y volviendose logaritmico"
      ]
    },
    {
      "cell_type": "code",
      "metadata": {
        "id": "-YL1uy8rqhzG",
        "colab_type": "code",
        "outputId": "0ba78f33-8b2c-4acb-9ed2-d00a0f92449e",
        "colab": {
          "base_uri": "https://localhost:8080/",
          "height": 34
        }
      },
      "source": [
        "# Codificando los datos tipo fecha\n",
        "from sklearn.preprocessing import LabelEncoder\n",
        "for c in data.columns:\n",
        "    if data[c].dtype == 'object':\n",
        "        print(c)\n",
        "        lbl = LabelEncoder()\n",
        "        lbl.fit(list(data[c].values)) \n",
        "        data[c] = lbl.transform(list(data[c].values))\n",
        "        "
      ],
      "execution_count": 0,
      "outputs": [
        {
          "output_type": "stream",
          "text": [
            "Date\n"
          ],
          "name": "stdout"
        }
      ]
    },
    {
      "cell_type": "code",
      "metadata": {
        "id": "KhBhlJg2qhzK",
        "colab_type": "code",
        "outputId": "7f753882-f149-49d7-fb14-3f9dcf22f9ee",
        "colab": {
          "base_uri": "https://localhost:8080/",
          "height": 204
        }
      },
      "source": [
        "data.head()\n"
      ],
      "execution_count": 0,
      "outputs": [
        {
          "output_type": "execute_result",
          "data": {
            "text/html": [
              "<div>\n",
              "<style scoped>\n",
              "    .dataframe tbody tr th:only-of-type {\n",
              "        vertical-align: middle;\n",
              "    }\n",
              "\n",
              "    .dataframe tbody tr th {\n",
              "        vertical-align: top;\n",
              "    }\n",
              "\n",
              "    .dataframe thead th {\n",
              "        text-align: right;\n",
              "    }\n",
              "</style>\n",
              "<table border=\"1\" class=\"dataframe\">\n",
              "  <thead>\n",
              "    <tr style=\"text-align: right;\">\n",
              "      <th></th>\n",
              "      <th>Date</th>\n",
              "      <th>Confirmed</th>\n",
              "      <th>Deaths</th>\n",
              "      <th>Recovered</th>\n",
              "    </tr>\n",
              "  </thead>\n",
              "  <tbody>\n",
              "    <tr>\n",
              "      <th>0</th>\n",
              "      <td>0</td>\n",
              "      <td>547</td>\n",
              "      <td>17</td>\n",
              "      <td>28</td>\n",
              "    </tr>\n",
              "    <tr>\n",
              "      <th>1</th>\n",
              "      <td>1</td>\n",
              "      <td>639</td>\n",
              "      <td>18</td>\n",
              "      <td>30</td>\n",
              "    </tr>\n",
              "    <tr>\n",
              "      <th>2</th>\n",
              "      <td>2</td>\n",
              "      <td>916</td>\n",
              "      <td>26</td>\n",
              "      <td>36</td>\n",
              "    </tr>\n",
              "    <tr>\n",
              "      <th>3</th>\n",
              "      <td>3</td>\n",
              "      <td>1399</td>\n",
              "      <td>42</td>\n",
              "      <td>39</td>\n",
              "    </tr>\n",
              "    <tr>\n",
              "      <th>4</th>\n",
              "      <td>4</td>\n",
              "      <td>2062</td>\n",
              "      <td>56</td>\n",
              "      <td>49</td>\n",
              "    </tr>\n",
              "  </tbody>\n",
              "</table>\n",
              "</div>"
            ],
            "text/plain": [
              "   Date  Confirmed  Deaths  Recovered\n",
              "0     0        547      17         28\n",
              "1     1        639      18         30\n",
              "2     2        916      26         36\n",
              "3     3       1399      42         39\n",
              "4     4       2062      56         49"
            ]
          },
          "metadata": {
            "tags": []
          },
          "execution_count": 61
        }
      ]
    },
    {
      "cell_type": "code",
      "metadata": {
        "id": "qdhzB9bcqhzN",
        "colab_type": "code",
        "outputId": "a9be659b-3a7f-488b-aa19-e8e3146798f5",
        "colab": {
          "base_uri": "https://localhost:8080/",
          "height": 156
        }
      },
      "source": [
        "from sklearn.model_selection import train_test_split\n",
        "\n",
        "#conjunto de testing y validacion\n",
        "X_train, X_test = train_test_split(data,test_size=0.2)\n",
        "col_sal = \"Confirmed\"\n",
        "y_train = X_train[col_sal]\n",
        "y_test = X_test[col_sal]\n",
        "X_train.drop(columns=col_sal,inplace=True)\n",
        "X_test.drop(columns=col_sal,inplace=True)\n",
        "print(X_train.shape)\n",
        "print(X_test.shape)\n"
      ],
      "execution_count": 0,
      "outputs": [
        {
          "output_type": "stream",
          "text": [
            "(45, 3)\n",
            "(12, 3)\n"
          ],
          "name": "stdout"
        },
        {
          "output_type": "stream",
          "text": [
            "/usr/local/lib/python3.6/dist-packages/pandas/core/frame.py:3997: SettingWithCopyWarning: \n",
            "A value is trying to be set on a copy of a slice from a DataFrame\n",
            "\n",
            "See the caveats in the documentation: https://pandas.pydata.org/pandas-docs/stable/user_guide/indexing.html#returning-a-view-versus-a-copy\n",
            "  errors=errors,\n"
          ],
          "name": "stderr"
        }
      ]
    },
    {
      "cell_type": "code",
      "metadata": {
        "id": "syvuSDaEqhzR",
        "colab_type": "code",
        "outputId": "9d1d29e2-13ea-4a36-d830-1c0c8acd1131",
        "colab": {
          "base_uri": "https://localhost:8080/",
          "height": 204
        }
      },
      "source": [
        "X_train.head()"
      ],
      "execution_count": 0,
      "outputs": [
        {
          "output_type": "execute_result",
          "data": {
            "text/html": [
              "<div>\n",
              "<style scoped>\n",
              "    .dataframe tbody tr th:only-of-type {\n",
              "        vertical-align: middle;\n",
              "    }\n",
              "\n",
              "    .dataframe tbody tr th {\n",
              "        vertical-align: top;\n",
              "    }\n",
              "\n",
              "    .dataframe thead th {\n",
              "        text-align: right;\n",
              "    }\n",
              "</style>\n",
              "<table border=\"1\" class=\"dataframe\">\n",
              "  <thead>\n",
              "    <tr style=\"text-align: right;\">\n",
              "      <th></th>\n",
              "      <th>Date</th>\n",
              "      <th>Deaths</th>\n",
              "      <th>Recovered</th>\n",
              "    </tr>\n",
              "  </thead>\n",
              "  <tbody>\n",
              "    <tr>\n",
              "      <th>11</th>\n",
              "      <td>11</td>\n",
              "      <td>361</td>\n",
              "      <td>463</td>\n",
              "    </tr>\n",
              "    <tr>\n",
              "      <th>42</th>\n",
              "      <td>42</td>\n",
              "      <td>2981</td>\n",
              "      <td>49955</td>\n",
              "    </tr>\n",
              "    <tr>\n",
              "      <th>31</th>\n",
              "      <td>31</td>\n",
              "      <td>2441</td>\n",
              "      <td>22687</td>\n",
              "    </tr>\n",
              "    <tr>\n",
              "      <th>56</th>\n",
              "      <td>56</td>\n",
              "      <td>3237</td>\n",
              "      <td>69653</td>\n",
              "    </tr>\n",
              "    <tr>\n",
              "      <th>22</th>\n",
              "      <td>22</td>\n",
              "      <td>1368</td>\n",
              "      <td>6213</td>\n",
              "    </tr>\n",
              "  </tbody>\n",
              "</table>\n",
              "</div>"
            ],
            "text/plain": [
              "    Date  Deaths  Recovered\n",
              "11    11     361        463\n",
              "42    42    2981      49955\n",
              "31    31    2441      22687\n",
              "56    56    3237      69653\n",
              "22    22    1368       6213"
            ]
          },
          "metadata": {
            "tags": []
          },
          "execution_count": 63
        }
      ]
    },
    {
      "cell_type": "markdown",
      "metadata": {
        "id": "1w3lRmbfqhzW",
        "colab_type": "text"
      },
      "source": [
        "### Linear Regression de scikit learn\n",
        "\n",
        "EL modelo que analizaremos sera la regresion lieal de scikit learn.\n",
        "\n",
        "LinearRegression ajusta un modelo lineal con coeficientes w = (w1, ..., wp) para minimizar la suma residual de cuadrados entre los objetivos observados en el conjunto de datos y los objetivos predichos por la aproximación lineal."
      ]
    },
    {
      "cell_type": "code",
      "metadata": {
        "id": "-l_K6Lb1qhzX",
        "colab_type": "code",
        "colab": {}
      },
      "source": [
        "from sklearn.linear_model import LinearRegression\n"
      ],
      "execution_count": 0,
      "outputs": []
    },
    {
      "cell_type": "markdown",
      "metadata": {
        "id": "ibamS63oqhza",
        "colab_type": "text"
      },
      "source": [
        "A continuacion se incorporaran dos funciones adicionales de la libreria Sklearn que hacen un mapeo al dataset y ayudan a seleccionar las mejores variables predictoras para el modelo"
      ]
    },
    {
      "cell_type": "code",
      "metadata": {
        "id": "2pOGU3rIqhzc",
        "colab_type": "code",
        "colab": {}
      },
      "source": [
        "from sklearn.feature_selection import RFE\n",
        "from sklearn.svm import SVR\n"
      ],
      "execution_count": 0,
      "outputs": []
    },
    {
      "cell_type": "code",
      "metadata": {
        "id": "nJg7e1Giqhzf",
        "colab_type": "code",
        "colab": {}
      },
      "source": [
        "# Seleccionando las variables predictoras\n",
        "estimator = SVR(kernel=\"linear\")\n",
        "selector = RFE(estimator, 2, step=1)\n",
        "selector = selector.fit(X_train,y_train)\n"
      ],
      "execution_count": 0,
      "outputs": []
    },
    {
      "cell_type": "code",
      "metadata": {
        "id": "OTMRDMFlqhzl",
        "colab_type": "code",
        "outputId": "0bdc6220-df07-45f6-e291-ebb921b99c91",
        "colab": {
          "base_uri": "https://localhost:8080/",
          "height": 34
        }
      },
      "source": [
        "# Con que variables se ha quedado el modelo?\n",
        "selector.support_ \n"
      ],
      "execution_count": 0,
      "outputs": [
        {
          "output_type": "execute_result",
          "data": {
            "text/plain": [
              "array([ True,  True, False])"
            ]
          },
          "metadata": {
            "tags": []
          },
          "execution_count": 67
        }
      ]
    },
    {
      "cell_type": "code",
      "metadata": {
        "id": "cEy3FbJKqhzo",
        "colab_type": "code",
        "outputId": "7812c219-f141-4370-b5ea-1fb066b59732",
        "colab": {
          "base_uri": "https://localhost:8080/",
          "height": 34
        }
      },
      "source": [
        "# Las variables seleccionadas siempre aparecen con un 1, las demas van numerandose en orden de significancia\n",
        "selector.ranking_ \n"
      ],
      "execution_count": 0,
      "outputs": [
        {
          "output_type": "execute_result",
          "data": {
            "text/plain": [
              "array([1, 1, 2])"
            ]
          },
          "metadata": {
            "tags": []
          },
          "execution_count": 68
        }
      ]
    },
    {
      "cell_type": "markdown",
      "metadata": {
        "id": "6p91PIRoqhzq",
        "colab_type": "text"
      },
      "source": [
        "Las variables seleccionadas por el selector y el estimador fueron (\"Date\" y \"Deaths\")"
      ]
    },
    {
      "cell_type": "code",
      "metadata": {
        "id": "wqJze3zXqhzr",
        "colab_type": "code",
        "outputId": "6706f3ce-20ea-4064-be34-1d48072350a9",
        "colab": {
          "base_uri": "https://localhost:8080/",
          "height": 34
        }
      },
      "source": [
        "#Entrenando el modelo\n",
        "lm = LinearRegression()\n",
        "lm.fit(X_train, y_train)"
      ],
      "execution_count": 0,
      "outputs": [
        {
          "output_type": "execute_result",
          "data": {
            "text/plain": [
              "LinearRegression(copy_X=True, fit_intercept=True, n_jobs=None, normalize=False)"
            ]
          },
          "metadata": {
            "tags": []
          },
          "execution_count": 69
        }
      ]
    },
    {
      "cell_type": "code",
      "metadata": {
        "id": "ZfyH4V9lqhzu",
        "colab_type": "code",
        "outputId": "81ac2425-63ce-4145-c5fb-debb3927fb86",
        "colab": {
          "base_uri": "https://localhost:8080/",
          "height": 34
        }
      },
      "source": [
        "#Coeficiente de intercepto de la ecuacion \n",
        "lm.intercept_"
      ],
      "execution_count": 0,
      "outputs": [
        {
          "output_type": "execute_result",
          "data": {
            "text/plain": [
              "-4399.108917208527"
            ]
          },
          "metadata": {
            "tags": []
          },
          "execution_count": 70
        }
      ]
    },
    {
      "cell_type": "code",
      "metadata": {
        "id": "nFJCEtrvqhz1",
        "colab_type": "code",
        "outputId": "7f6015c6-cbdb-4e80-8f87-34caef2da0ec",
        "colab": {
          "base_uri": "https://localhost:8080/",
          "height": 34
        }
      },
      "source": [
        "#Coeficientes que acompañan a Date y Deaths y Recovered en la ecuacion\n",
        "lm.coef_ "
      ],
      "execution_count": 0,
      "outputs": [
        {
          "output_type": "execute_result",
          "data": {
            "text/plain": [
              "array([ 1.26314658e+03,  2.80660633e+01, -1.07045979e+00])"
            ]
          },
          "metadata": {
            "tags": []
          },
          "execution_count": 71
        }
      ]
    },
    {
      "cell_type": "code",
      "metadata": {
        "id": "CmcQoEAXqhz5",
        "colab_type": "code",
        "outputId": "38da962f-e27c-401e-dd43-36797cb54e7c",
        "colab": {
          "base_uri": "https://localhost:8080/",
          "height": 34
        }
      },
      "source": [
        "#Valor de R2 ajustado\n",
        "lm.score(X_train, y_train)"
      ],
      "execution_count": 0,
      "outputs": [
        {
          "output_type": "execute_result",
          "data": {
            "text/plain": [
              "0.9911100562866088"
            ]
          },
          "metadata": {
            "tags": []
          },
          "execution_count": 72
        }
      ]
    },
    {
      "cell_type": "code",
      "metadata": {
        "id": "GkdLwhyyqhz8",
        "colab_type": "code",
        "outputId": "71116fad-7f48-4b46-cd2c-d99d39eb6695",
        "colab": {
          "base_uri": "https://localhost:8080/",
          "height": 68
        }
      },
      "source": [
        "# Testeo del modelo\n",
        "confirmed_pred = lm.predict(X_test)\n",
        "confirmed_pred"
      ],
      "execution_count": 0,
      "outputs": [
        {
          "output_type": "execute_result",
          "data": {
            "text/plain": [
              "array([ 2172.72441107, 79784.42109043, 83689.58834289, 30705.84313784,\n",
              "       -3951.95871433, 80449.00914466,  6748.30840834, 15207.0908243 ,\n",
              "       47083.63790611, 24871.77003177, 82074.4859442 , 67397.20148538])"
            ]
          },
          "metadata": {
            "tags": []
          },
          "execution_count": 73
        }
      ]
    },
    {
      "cell_type": "code",
      "metadata": {
        "id": "1eK3lyV9qhz-",
        "colab_type": "code",
        "outputId": "5eb0bb7c-014d-4ffa-f89b-90abe5943829",
        "colab": {
          "base_uri": "https://localhost:8080/",
          "height": 34
        }
      },
      "source": [
        "# Diferencia entre los datos originales y las predicciones del modelo\n",
        "SSD = sum((y_test- confirmed_pred)**2)\n",
        "SSD"
      ],
      "execution_count": 0,
      "outputs": [
        {
          "output_type": "execute_result",
          "data": {
            "text/plain": [
              "112661132.94408484"
            ]
          },
          "metadata": {
            "tags": []
          },
          "execution_count": 74
        }
      ]
    },
    {
      "cell_type": "code",
      "metadata": {
        "id": "l5bwj1lZqh0B",
        "colab_type": "code",
        "outputId": "f99eb07c-7358-493a-f9ca-facd6e05a116",
        "colab": {
          "base_uri": "https://localhost:8080/",
          "height": 34
        }
      },
      "source": [
        "# Error estandar de los residuos\n",
        "RSE = np.sqrt(SSD/(len(y_test)-2-1))\n",
        "RSE"
      ],
      "execution_count": 0,
      "outputs": [
        {
          "output_type": "execute_result",
          "data": {
            "text/plain": [
              "3538.0649598974114"
            ]
          },
          "metadata": {
            "tags": []
          },
          "execution_count": 75
        }
      ]
    },
    {
      "cell_type": "code",
      "metadata": {
        "id": "efHKXOhoqh0H",
        "colab_type": "code",
        "outputId": "ed15f8bd-a088-41ca-b8e4-38812edde738",
        "colab": {
          "base_uri": "https://localhost:8080/",
          "height": 34
        }
      },
      "source": [
        "#Calculando el error del modelo\n",
        "confirmed_mean = np.mean(y_test)\n",
        "error = RSE/confirmed_mean\n",
        "print(\"El error del modelo es del\", error*100, \"% aproximadamente\")"
      ],
      "execution_count": 0,
      "outputs": [
        {
          "output_type": "stream",
          "text": [
            "El error del modelo es del 8.371261782225973 % aproximadamente\n"
          ],
          "name": "stdout"
        }
      ]
    },
    {
      "cell_type": "code",
      "metadata": {
        "id": "jIrCH_YVqh0K",
        "colab_type": "code",
        "outputId": "2f316d0a-7b7b-4719-85d9-147393ad9f2f",
        "colab": {
          "base_uri": "https://localhost:8080/",
          "height": 34
        }
      },
      "source": [
        "X = data.drop(columns=\"Confirmed\")\n",
        "Y = data[\"Confirmed\"]\n",
        "X.shape, Y.shape"
      ],
      "execution_count": 0,
      "outputs": [
        {
          "output_type": "execute_result",
          "data": {
            "text/plain": [
              "((57, 3), (57,))"
            ]
          },
          "metadata": {
            "tags": []
          },
          "execution_count": 77
        }
      ]
    },
    {
      "cell_type": "code",
      "metadata": {
        "id": "kxE_CTudqh0M",
        "colab_type": "code",
        "outputId": "73a659ab-4306-401c-f746-c73832c64e4f",
        "colab": {
          "base_uri": "https://localhost:8080/",
          "height": 295
        }
      },
      "source": [
        "%matplotlib inline\n",
        "lab=[\"Datos Originales\", \"Predicciones del modelo\"]\n",
        "plt.plot(Y,'ro')\n",
        "plt.plot(lm.predict(X),color = 'blue')\n",
        "plt.title(\"CONTAGIADOS VS DIAS EN CHINA\")\n",
        "plt.xlabel(\"Numero de Dias\")\n",
        "plt.ylabel(\"Numero de contagiados\")\n",
        "plt.legend(labels=lab)\n",
        "plt.grid()\n"
      ],
      "execution_count": 0,
      "outputs": [
        {
          "output_type": "display_data",
          "data": {
            "image/png": "[encoded data removed]",
            "text/plain": [
              "<Figure size 432x288 with 1 Axes>"
            ]
          },
          "metadata": {
            "tags": [],
            "needs_background": "light"
          }
        }
      ]
    },
    {
      "cell_type": "markdown",
      "metadata": {
        "id": "EUQi2ZgVqh0P",
        "colab_type": "text"
      },
      "source": [
        "La linea azul representa el modelo y los puntos rojos son los datos originales que el modelo intenta seguir. Vemos que un modelo lineal intenta seguirlo pero puede no ser el mas eficiente para predecir el comportamiento del COVID-19"
      ]
    }
  ]
}